{
 "cells": [
  {
   "cell_type": "code",
   "execution_count": 1,
   "id": "557ab4a5",
   "metadata": {},
   "outputs": [],
   "source": [
    "import os\n",
    "import sys"
   ]
  },
  {
   "cell_type": "code",
   "execution_count": 2,
   "id": "32664cd3",
   "metadata": {},
   "outputs": [],
   "source": [
    "import numpy as np\n",
    "import pandas as pd\n",
    "import matplotlib.pyplot as plt\n",
    "from mpl_toolkits.mplot3d import Axes3D\n",
    "import pickle\n",
    "from skimage.filters import threshold_otsu\n",
    "from scipy.ndimage import distance_transform_edt\n",
    "from scipy.spatial import distance\n",
    "import gudhi, gudhi.hera, gudhi.wasserstein, persim\n",
    "import json"
   ]
  },
  {
   "cell_type": "code",
   "execution_count": 3,
   "id": "b7fa42d9",
   "metadata": {},
   "outputs": [
    {
     "data": {
      "text/html": [
       "        <script type=\"text/javascript\">\n",
       "        window.PlotlyConfig = {MathJaxConfig: 'local'};\n",
       "        if (window.MathJax && window.MathJax.Hub && window.MathJax.Hub.Config) {window.MathJax.Hub.Config({SVG: {font: \"STIX-Web\"}});}\n",
       "        if (typeof require !== 'undefined') {\n",
       "        require.undef(\"plotly\");\n",
       "        requirejs.config({\n",
       "            paths: {\n",
       "                'plotly': ['https://cdn.plot.ly/plotly-2.14.0.min']\n",
       "            }\n",
       "        });\n",
       "        require(['plotly'], function(Plotly) {\n",
       "            window._Plotly = Plotly;\n",
       "        });\n",
       "        }\n",
       "        </script>\n",
       "        "
      ]
     },
     "metadata": {},
     "output_type": "display_data"
    }
   ],
   "source": [
    "import plotly\n",
    "from plotly.graph_objs import graph_objs as go\n",
    "import ipywidgets as widgets\n",
    "plotly.offline.init_notebook_mode(connected=True)\n",
    "from plotly.offline import iplot"
   ]
  },
  {
   "cell_type": "code",
   "execution_count": 4,
   "id": "99cbeb33",
   "metadata": {},
   "outputs": [],
   "source": [
    "import mdtraj\n",
    "from mdtraj import load"
   ]
  },
  {
   "cell_type": "code",
   "execution_count": null,
   "id": "db2986ba",
   "metadata": {},
   "outputs": [],
   "source": []
  },
  {
   "cell_type": "code",
   "execution_count": 27,
   "id": "db9be045",
   "metadata": {},
   "outputs": [],
   "source": [
    "#os.chdir(r\"C:\\code\\data\\Micelles_identification\")\n",
    "#os.chdir(\"/mnt/c/code/data/Micelles_identification\")\n",
    "os.chdir(r\"Z:\\data\\micelles\\Micelles_identification\")"
   ]
  },
  {
   "cell_type": "code",
   "execution_count": 8,
   "id": "f78ab724",
   "metadata": {},
   "outputs": [
    {
     "data": {
      "text/plain": [
       "['L64', 'P104', 'P123', 'P65', 'P84', 'P85']"
      ]
     },
     "execution_count": 8,
     "metadata": {},
     "output_type": "execute_result"
    }
   ],
   "source": [
    "polyComp=os.listdir()\n",
    "polyComp=[i for i in polyComp if i.find(\".\")==-1 and i!=\"High_conc\"] #get rid of actionList if present -> do High_conc separately\n",
    "polyComp"
   ]
  },
  {
   "cell_type": "code",
   "execution_count": 7,
   "id": "3ee8acc0",
   "metadata": {},
   "outputs": [
    {
     "data": {
      "text/plain": [
       "[10, 20, 30, 40, 50]"
      ]
     },
     "execution_count": 7,
     "metadata": {},
     "output_type": "execute_result"
    }
   ],
   "source": [
    "temps=[int(i)*10 for i in range(1,6)]\n",
    "temps"
   ]
  },
  {
   "cell_type": "code",
   "execution_count": null,
   "id": "eea711cd",
   "metadata": {},
   "outputs": [],
   "source": []
  },
  {
   "cell_type": "markdown",
   "id": "7131fdf3",
   "metadata": {},
   "source": [
    "# animSliderCode"
   ]
  },
  {
   "cell_type": "code",
   "execution_count": 9,
   "id": "91c2eef7",
   "metadata": {},
   "outputs": [],
   "source": [
    "def genAlphaSlider(dat,initial=.05,step=.25,maximum=20): #assume 3D for now\n",
    "    ac = gudhi.AlphaComplex(dat)\n",
    "    st = ac.create_simplex_tree()\n",
    "    skel=list(st.get_skeleton(2))\n",
    "    skel.sort(key=lambda s: s[1])\n",
    "    points = np.array([ac.get_point(i) for i in range(st.num_vertices())])\n",
    "    lims=[[np.floor(np.min(dat[:,i])),np.ceil(np.max(dat[:,i]))] for i in range(3)]\n",
    "    alpha = widgets.FloatSlider(\n",
    "        value = initial,\n",
    "        min = 0.0,\n",
    "        max = maximum,\n",
    "        step = step,\n",
    "        description = 'Alpha:',\n",
    "        readout_format = '.4f'\n",
    "    )\n",
    "\n",
    "\n",
    "\n",
    "    b1s=np.array([s[0] for s in skel if len(s[0]) == 2 and s[1] <= alpha.value])\n",
    "    triangles = np.array([s[0] for s in skel if len(s[0]) == 3 and s[1] <= alpha.value])\n",
    "\n",
    "\n",
    "    pts=go.Scatter3d(\n",
    "        x = points[:, 0],\n",
    "        y = points[:, 1],\n",
    "        z = points[:, 2],\n",
    "        mode='markers',\n",
    "        marker=dict(\n",
    "            size=2,\n",
    "            color=\"cornflowerblue\",                # set color to an array/list of desired values\n",
    "            #colorscale='Viridis',   # choose a colorscale\n",
    "            opacity=.9\n",
    "        ),\n",
    "        name='H0'\n",
    "\n",
    "    )\n",
    "\n",
    "    sfig=[pts]\n",
    "\n",
    "    linepts={0:[],1:[],2:[]}\n",
    "    for i in b1s:\n",
    "        linepts[0].append(points[i[0],0])\n",
    "        linepts[1].append(points[i[0],1])\n",
    "        linepts[2].append(points[i[0],2])\n",
    "        linepts[0].append(points[i[1],0])\n",
    "        linepts[1].append(points[i[1],1])\n",
    "        linepts[2].append(points[i[1],2])\n",
    "\n",
    "        linepts[0].append(None)\n",
    "        linepts[1].append(None)\n",
    "        linepts[2].append(None)\n",
    "\n",
    "    if len(linepts[0])>0:\n",
    "        lins=go.Scatter3d(\n",
    "            x=linepts[0],\n",
    "            y=linepts[1],\n",
    "            z=linepts[2],\n",
    "            mode='lines',\n",
    "            name='H1',\n",
    "            marker=dict(\n",
    "                size=3,\n",
    "                color=\"#d55e00\",                # set color to an array/list of desired values\n",
    "                #colorscale='Viridis',   # choose a colorscale\n",
    "                opacity=.9\n",
    "            )\n",
    "        )\n",
    "        sfig.append(lins)\n",
    "        if len(triangles)>0:\n",
    "            mesh = go.Mesh3d(\n",
    "                x = points[:, 0],\n",
    "                y = points[:, 1],\n",
    "                z = points[:, 2],\n",
    "                i = triangles[:, 0],\n",
    "                j = triangles[:, 1],\n",
    "                k = triangles[:, 2],\n",
    "                color=\"#009e73\",\n",
    "                opacity=.75,\n",
    "                name='H2'\n",
    "            )\n",
    "\n",
    "\n",
    "            sfig.append(mesh)\n",
    "    fig=go.Figure(sfig)\n",
    "    fig.update_layout(width=800,height=800)\n",
    "    #fig.show()\n",
    "\n",
    "\n",
    "\n",
    "\n",
    "    def view_SC(alpha):\n",
    "        if alpha==0:\n",
    "            fig=go.Figure(sfig[0])\n",
    "            fig.show()\n",
    "        else:\n",
    "            b1s=np.array([s[0] for s in skel if len(s[0]) == 2 and s[1] <= alpha])\n",
    "\n",
    "            linepts={0:[],1:[],2:[]}\n",
    "            for i in b1s:\n",
    "                linepts[0].append(points[i[0],0])\n",
    "                linepts[1].append(points[i[0],1])\n",
    "                linepts[2].append(points[i[0],2])\n",
    "                linepts[0].append(points[i[1],0])\n",
    "                linepts[1].append(points[i[1],1])\n",
    "                linepts[2].append(points[i[1],2])\n",
    "\n",
    "                linepts[0].append(None)\n",
    "                linepts[1].append(None)\n",
    "                linepts[2].append(None)\n",
    "\n",
    "            if len(linepts[0])>0:\n",
    "                lins=go.Scatter3d(\n",
    "                    x=linepts[0],\n",
    "                    y=linepts[1],\n",
    "                    z=linepts[2],\n",
    "                    mode='lines',\n",
    "                    name='H1',\n",
    "                    marker=dict(\n",
    "                        size=3,\n",
    "                        color=\"#d55e00\",                # set color to an array/list of desired values\n",
    "                        #colorscale='Viridis',   # choose a colorscale\n",
    "                        opacity=.85\n",
    "                    )\n",
    "                )\n",
    "                if len(sfig)>1:\n",
    "                    sfig[1]=lins\n",
    "                else:\n",
    "                    sfig.append(lins)\n",
    "                triangles = np.array([s[0] for s in skel if len(s[0]) == 3 and s[1] <= alpha])\n",
    "                if len(triangles)>0:\n",
    "                    mesh = go.Mesh3d(\n",
    "                        x = points[:, 0],\n",
    "                        y = points[:, 1],\n",
    "                        z = points[:, 2],\n",
    "                        i = triangles[:, 0],\n",
    "                        j = triangles[:, 1],\n",
    "                        k = triangles[:, 2],\n",
    "                        color=\"#009e73\",\n",
    "                        opacity=.5,\n",
    "                        name='H2'\n",
    "                    )\n",
    "\n",
    "                    if len(sfig)>1:\n",
    "                        sfig[2]=mesh\n",
    "                    else:\n",
    "                        sfig.append(mesh)\n",
    "\n",
    "\n",
    "            fig=go.Figure(data=sfig,layout=go.Layout(width=800,height=800,\n",
    "                                                     title=f\"Simplicial complex with radius <= {round(float(alpha),5)}\",\n",
    "                                                    ))\n",
    "\n",
    "            #fig.show()\n",
    "            iplot(fig)\n",
    "\n",
    "\n",
    "    widgets.interact(view_SC, alpha = alpha);\n",
    "    return st"
   ]
  },
  {
   "cell_type": "code",
   "execution_count": null,
   "id": "2aeb659e",
   "metadata": {},
   "outputs": [],
   "source": []
  },
  {
   "cell_type": "code",
   "execution_count": null,
   "id": "a39cf5e4",
   "metadata": {},
   "outputs": [],
   "source": [
    "#Load a testdat\n",
    "comp=polyComp[0]\n",
    "temp=temps[0]\n",
    "\n",
    "groFile=mdtraj.load(f\"{comp}/{comp}_{temp}.gro\")"
   ]
  },
  {
   "cell_type": "code",
   "execution_count": 30,
   "id": "7943bc76",
   "metadata": {},
   "outputs": [],
   "source": [
    "groFile=mdtraj.load(f\"High_conc/P103/P103_35.gro\")"
   ]
  },
  {
   "cell_type": "code",
   "execution_count": 31,
   "id": "6b2a0c84",
   "metadata": {},
   "outputs": [],
   "source": [
    "p0Index=[a.index for a in groFile.topology.atoms if a.name.find('PO')!=-1]\n",
    "p0Gro=groFile.restrict_atoms(p0Index)"
   ]
  },
  {
   "cell_type": "code",
   "execution_count": 32,
   "id": "d67b8906",
   "metadata": {},
   "outputs": [],
   "source": [
    "dat=p0Gro.xyz[0,:] #time 0"
   ]
  },
  {
   "cell_type": "code",
   "execution_count": null,
   "id": "37b32c66",
   "metadata": {},
   "outputs": [],
   "source": []
  },
  {
   "cell_type": "code",
   "execution_count": null,
   "id": "d27dceae",
   "metadata": {},
   "outputs": [],
   "source": []
  },
  {
   "cell_type": "code",
   "execution_count": 13,
   "id": "4184ac1e",
   "metadata": {},
   "outputs": [
    {
     "data": {
      "application/vnd.jupyter.widget-view+json": {
       "model_id": "607e889ab9134f988ad6e87422f6a186",
       "version_major": 2,
       "version_minor": 0
      },
      "text/plain": [
       "interactive(children=(FloatSlider(value=0.05, description='Alpha:', max=30.0, readout_format='.4f', step=0.5),…"
      ]
     },
     "metadata": {},
     "output_type": "display_data"
    }
   ],
   "source": [
    "st=genAlphaSlider(dat,initial=.05,step=.5,maximum=30)"
   ]
  },
  {
   "cell_type": "code",
   "execution_count": 14,
   "id": "5316b2e9",
   "metadata": {},
   "outputs": [
    {
     "name": "stderr",
     "output_type": "stream",
     "text": [
      "usetex mode requires TeX.\n"
     ]
    },
    {
     "data": {
      "image/png": "[encoded data removed]",
      "text/plain": [
       "<Figure size 432x288 with 1 Axes>"
      ]
     },
     "metadata": {
      "needs_background": "light"
     },
     "output_type": "display_data"
    }
   ],
   "source": [
    "dgm=st.persistence()\n",
    "gudhi.plot_persistence_diagram(dgm, legend = True)\n",
    "plt.show()"
   ]
  },
  {
   "cell_type": "code",
   "execution_count": null,
   "id": "34d068af",
   "metadata": {},
   "outputs": [],
   "source": []
  },
  {
   "cell_type": "code",
   "execution_count": 33,
   "id": "407dc1e6",
   "metadata": {},
   "outputs": [
    {
     "data": {
      "application/vnd.jupyter.widget-view+json": {
       "model_id": "ce73a165ebf747328276844842fb1a38",
       "version_major": 2,
       "version_minor": 0
      },
      "text/plain": [
       "interactive(children=(FloatSlider(value=0.05, description='Alpha:', max=30.0, readout_format='.4f', step=0.5),…"
      ]
     },
     "metadata": {},
     "output_type": "display_data"
    }
   ],
   "source": [
    "dat=p0Gro.xyz[1,:] #time 1\n",
    "st=genAlphaSlider(dat,initial=.05,step=.5,maximum=30)"
   ]
  },
  {
   "cell_type": "code",
   "execution_count": 34,
   "id": "4b1da541",
   "metadata": {},
   "outputs": [
    {
     "data": {
      "image/png": "[encoded data removed]",
      "text/plain": [
       "<Figure size 432x288 with 1 Axes>"
      ]
     },
     "metadata": {
      "needs_background": "light"
     },
     "output_type": "display_data"
    }
   ],
   "source": [
    "dgm=st.persistence()\n",
    "gudhi.plot_persistence_diagram(dgm, legend = True)\n",
    "plt.show()"
   ]
  },
  {
   "cell_type": "code",
   "execution_count": 20,
   "id": "cb328116",
   "metadata": {},
   "outputs": [
    {
     "data": {
      "application/vnd.jupyter.widget-view+json": {
       "model_id": "73e2510501d94e2daf6fbdbe2f6513c3",
       "version_major": 2,
       "version_minor": 0
      },
      "text/plain": [
       "interactive(children=(FloatSlider(value=0.05, description='Alpha:', max=30.0, readout_format='.4f', step=0.5),…"
      ]
     },
     "metadata": {},
     "output_type": "display_data"
    }
   ],
   "source": [
    "groFile=mdtraj.load(f\"High_conc/P103/P103_25.gro\")\n",
    "p0Index=[a.index for a in groFile.topology.atoms if a.name.find('PO')!=-1]\n",
    "p0Gro=groFile.restrict_atoms(p0Index)\n",
    "st=genAlphaSlider(dat=p0Gro.xyz[0,:],initial=.05,step=.5,maximum=30)"
   ]
  },
  {
   "cell_type": "code",
   "execution_count": 21,
   "id": "81acb109",
   "metadata": {},
   "outputs": [
    {
     "data": {
      "image/png": "[encoded data removed]",
      "text/plain": [
       "<Figure size 432x288 with 1 Axes>"
      ]
     },
     "metadata": {
      "needs_background": "light"
     },
     "output_type": "display_data"
    }
   ],
   "source": [
    "dgm=st.persistence()\n",
    "gudhi.plot_persistence_diagram(dgm, legend = True)\n",
    "plt.show()"
   ]
  },
  {
   "cell_type": "code",
   "execution_count": null,
   "id": "bc283e65",
   "metadata": {},
   "outputs": [],
   "source": [
    "b=0\n",
    "minim=.05 #how might we autodetermine this param in future data?\n",
    "bsub=[i[1][1] for i in dgm if i[0]==b and i[1][1]>minim and not np.isinf(i[1][1])]\n",
    "bsub.sort(key=lambda s: s)\n",
    "\n",
    "plt.hist(bsub,bins=100)"
   ]
  },
  {
   "cell_type": "code",
   "execution_count": null,
   "id": "1136a961",
   "metadata": {},
   "outputs": [],
   "source": []
  },
  {
   "cell_type": "code",
   "execution_count": null,
   "id": "00146b0d",
   "metadata": {},
   "outputs": [],
   "source": [
    "len(bsub)"
   ]
  },
  {
   "cell_type": "code",
   "execution_count": null,
   "id": "65108e9c",
   "metadata": {},
   "outputs": [],
   "source": [
    "bsub[:5]"
   ]
  },
  {
   "cell_type": "markdown",
   "id": "440ad7df",
   "metadata": {},
   "source": [
    "# Over a given polymer distribution\n",
    "- track time dep for given alpha (eg, .05)\n"
   ]
  },
  {
   "cell_type": "code",
   "execution_count": null,
   "id": "22bbcc74",
   "metadata": {},
   "outputs": [],
   "source": [
    "p0Gro.xyz[0].shape"
   ]
  },
  {
   "cell_type": "code",
   "execution_count": null,
   "id": "228f7578",
   "metadata": {},
   "outputs": [],
   "source": []
  },
  {
   "cell_type": "code",
   "execution_count": 15,
   "id": "4a1efa6a",
   "metadata": {},
   "outputs": [],
   "source": [
    "def dgmGrabP0(comptemp,maxH=2,thresh=0,roundDig=5,saveDir=None,retDgms=False): #assume 3D for now\n",
    "    groFile=load(f\"{comptemp[0]}/{comptemp[0]}_{comptemp[1]}.gro\")#comptemp=(comp,temp)\n",
    "    p0Index=[a.index for a in groFile.topology.atoms if a.name.find('PO')!=-1]\n",
    "    p0Gro=groFile.restrict_atoms(p0Index)\n",
    "    \n",
    "    #dat=p0Gro.xyz[0,:] #time 0\n",
    "    timedgms={t:dict() for t in range(len(p0Gro.xyz))}\n",
    "    t=-1\n",
    "    for dat in p0Gro.xyz:\n",
    "        t+=1\n",
    "        ac = gudhi.AlphaComplex(dat)\n",
    "        st = ac.create_simplex_tree()\n",
    "        dgm=st.persistence()\n",
    "        dgms={b:[] for b in range(maxH+1)}\n",
    "        if thresh!=0:\n",
    "            for i in dgm:\n",
    "                lifetime=round(i[1][1]-i[1][0],roundDig)\n",
    "                if lifetime>=thresh:\n",
    "                    dgms[i[0]].append(i[1])\n",
    "        else:\n",
    "            for i in dgm:\n",
    "                dgms[i[0]].append(i[1])\n",
    "        timedgms[t]=dgms\n",
    "    \n",
    "    ### timedgms will need to be converted back to {b:[(),...]} -> [(b0,()),(b0,()),...]\n",
    "    ### to plot using gudhi\n",
    "    \n",
    "    if saveDir and type(saveDir)==str:\n",
    "        f=open(saveDir,\"w\")\n",
    "        json.dump(timedgms,f)\n",
    "    elif saveDir !=0:\n",
    "        saveDir=f\"Z:/data/micelles/topDat/{comptemp[0]}_{comptemp[1]}_t{t+1}PH.json\"\n",
    "        f=open(saveDir,\"w\")\n",
    "        json.dump(timedgms,f)\n",
    "        f.close()\n",
    "    if retDgms:\n",
    "        return timedgms\n",
    "            \n",
    "        \n",
    " "
   ]
  },
  {
   "cell_type": "code",
   "execution_count": null,
   "id": "9be5bfa2",
   "metadata": {},
   "outputs": [],
   "source": []
  },
  {
   "cell_type": "code",
   "execution_count": 16,
   "id": "8798bff5",
   "metadata": {},
   "outputs": [],
   "source": [
    "def dgmGrabGro(gro,maxH=2,thresh=0,roundDig=5,saveDir=None,retDgms=False): #assume 3D for now\n",
    "    #dat=p0Gro.xyz[0,:] #time 0\n",
    "    timedgms={t:dict() for t in range(len(gro.xyz))}\n",
    "    t=-1\n",
    "    for dat in p0Gro.xyz:\n",
    "        t+=1\n",
    "        ac = gudhi.AlphaComplex(dat)\n",
    "        st = ac.create_simplex_tree()\n",
    "        dgm=st.persistence()\n",
    "        dgms={b:[] for b in range(maxH+1)}\n",
    "        if thresh!=0:\n",
    "            for i in dgm:\n",
    "                lifetime=round(i[1][1]-i[1][0],roundDig)\n",
    "                if lifetime>=thresh:\n",
    "                    dgms[i[0]].append(i[1])\n",
    "        else:\n",
    "            for i in dgm:\n",
    "                dgms[i[0]].append(i[1])\n",
    "        timedgms[t]=dgms\n",
    "    \n",
    "    ### timedgms will need to be converted back to {b:[(),...]} -> [(b0,()),(b0,()),...]\n",
    "    ### to plot using gudhi\n",
    "    \n",
    "    if saveDir and type(saveDir)==str:\n",
    "        f=open(saveDir+f\"_t{t+1}PH.json\",\"w\")\n",
    "        json.dump(timedgms,f)\n",
    "    elif saveDir !=0:\n",
    "        saveDir=f\"Z:/data/micelles/topDat/{comptemp[0]}_{comptemp[1]}_t{t+1}PH.json\"\n",
    "        f=open(saveDir,\"w\")\n",
    "        json.dump(timedgms,f)\n",
    "        f.close()\n",
    "    if retDgms:\n",
    "        return timedgms\n",
    "            \n",
    "        \n",
    " "
   ]
  },
  {
   "cell_type": "code",
   "execution_count": null,
   "id": "8daa03cf",
   "metadata": {},
   "outputs": [],
   "source": [
    "polyComp"
   ]
  },
  {
   "cell_type": "code",
   "execution_count": null,
   "id": "10e860a9",
   "metadata": {},
   "outputs": [],
   "source": [
    "#Load a testdat\n",
    "comp=polyComp[0]\n",
    "temp=temps[0]\n",
    "\n",
    "\n",
    "dgmGrabP0((comp,temp),thresh=.05)"
   ]
  },
  {
   "cell_type": "code",
   "execution_count": null,
   "id": "01144dd3",
   "metadata": {},
   "outputs": [],
   "source": [
    "for comp in polyComp:\n",
    "    try:\n",
    "        os.mkdir(f\"Z:/data/micelles/topDat/{comp}\")\n",
    "    except:\n",
    "        pass"
   ]
  },
  {
   "cell_type": "code",
   "execution_count": null,
   "id": "128a434b",
   "metadata": {},
   "outputs": [],
   "source": []
  },
  {
   "cell_type": "code",
   "execution_count": 17,
   "id": "45a4a058",
   "metadata": {},
   "outputs": [],
   "source": [
    "for comp in polyComp:\n",
    "    for temp in temps:\n",
    "        #dgmGrabP0((comp,temp),thresh=.05)\n",
    "        groFile=load(f\"{comp}/{comp}_{temp}.gro\")\n",
    "        dgmGrabGro(groFile,thresh=.05,saveDir=f\"Z:/data/micelles/topDat/{comp}/{comp}_{temp}\")\n",
    "        \n",
    "        groFile=load(f\"{comp}/{comp}_ini_{temp}.gro\")\n",
    "        dgmGrabGro(groFile,thresh=.05,saveDir=f\"Z:/data/micelles/topDat/{comp}/{comp}_ini_{temp}\")"
   ]
  },
  {
   "cell_type": "code",
   "execution_count": 19,
   "id": "9d40b503",
   "metadata": {},
   "outputs": [],
   "source": [
    "groFile=mdtraj.load(f\"High_conc/P103/P103_25.gro\")\n",
    "dgmGrabGro(groFile,thresh=.05,saveDir=f\"Z:/data/micelles/topDat/P103_HC_25\")"
   ]
  },
  {
   "cell_type": "markdown",
   "id": "af1d434d",
   "metadata": {},
   "source": [
    "# Dynamics of Simplicial Complex"
   ]
  },
  {
   "cell_type": "code",
   "execution_count": null,
   "id": "4a8d68ab",
   "metadata": {},
   "outputs": [],
   "source": []
  },
  {
   "cell_type": "code",
   "execution_count": 22,
   "id": "f91a824c",
   "metadata": {},
   "outputs": [],
   "source": [
    "res=[1200,1200]\n",
    "def genTimeCluster(groFile,alpha=.05,saveName=None,cam=dict(eye=dict(x=.75, y=2, z=.25))): #assume 3D for now\n",
    "    if len(groFile.xyz.shape)==3:\n",
    "        t=0\n",
    "        for dat in groFile.xyz:\n",
    "            ac = gudhi.AlphaComplex(dat)\n",
    "            st = ac.create_simplex_tree()\n",
    "            skel=list(st.get_skeleton(2))\n",
    "            skel.sort(key=lambda s: s[1])\n",
    "            points = np.array([ac.get_point(i) for i in range(st.num_vertices())])\n",
    "            lims=[[np.floor(np.min(dat[:,i])),np.ceil(np.max(dat[:,i]))] for i in range(3)]\n",
    "            \n",
    "            sfig=[\n",
    "                    go.Scatter3d(\n",
    "                        x = points[:, 0],\n",
    "                        y = points[:, 1],\n",
    "                        z = points[:, 2],\n",
    "                        mode='markers',\n",
    "                        marker=dict(\n",
    "                            size=2,\n",
    "                            color=\"cornflowerblue\",                # set color to an array/list of desired values\n",
    "                            #colorscale='Viridis',   # choose a colorscale\n",
    "                            opacity=.9\n",
    "                        ),\n",
    "                        name='H0'\n",
    "                        )\n",
    "            ]\n",
    "            \n",
    "            b1s=np.array([s[0] for s in skel if len(s[0]) == 2 and s[1] <= alpha])\n",
    "\n",
    "            linepts={0:[],1:[],2:[]}\n",
    "            for i in b1s:\n",
    "                linepts[0].append(points[i[0],0])\n",
    "                linepts[1].append(points[i[0],1])\n",
    "                linepts[2].append(points[i[0],2])\n",
    "                linepts[0].append(points[i[1],0])\n",
    "                linepts[1].append(points[i[1],1])\n",
    "                linepts[2].append(points[i[1],2])\n",
    "\n",
    "                linepts[0].append(None)\n",
    "                linepts[1].append(None)\n",
    "                linepts[2].append(None)\n",
    "\n",
    "            if len(linepts[0])>0:\n",
    "                lins=go.Scatter3d(\n",
    "                    x=linepts[0],\n",
    "                    y=linepts[1],\n",
    "                    z=linepts[2],\n",
    "                    mode='lines',\n",
    "                    name='H1',\n",
    "                    marker=dict(\n",
    "                        size=3,\n",
    "                        color=\"#d55e00\",                # set color to an array/list of desired values\n",
    "                        #colorscale='Viridis',   # choose a colorscale\n",
    "                        opacity=.85\n",
    "                    )\n",
    "                )\n",
    "                sfig.append(lins)\n",
    "                triangles = np.array([s[0] for s in skel if len(s[0]) == 3 and s[1] <= alpha])\n",
    "                if len(triangles)>0:\n",
    "                    mesh = go.Mesh3d(\n",
    "                        x = points[:, 0],\n",
    "                        y = points[:, 1],\n",
    "                        z = points[:, 2],\n",
    "                        i = triangles[:, 0],\n",
    "                        j = triangles[:, 1],\n",
    "                        k = triangles[:, 2],\n",
    "                        color=\"#009e73\",\n",
    "                        opacity=.75,\n",
    "                        name='H2'\n",
    "                    )\n",
    "                    sfig.append(mesh)\n",
    "            fig=go.Figure(data=sfig,layout=go.Layout(width=res[0],height=res[1],\n",
    "                                                     title=f\"Simplicial complex with radius <= {round(float(alpha),5)} \\t\\t\\tFrame: {t}\",\n",
    "                                                     scene_camera=cam\n",
    "                                                    ))\n",
    "            if type(saveName)==str:\n",
    "                fig.write_json(file=saveName+f\"t{t}.json\",engine=\"auto\")\n",
    "                fig.write_image(file=saveName+f\"t{t}.png\")\n",
    "            t+=1\n",
    "    else:\n",
    "        print(\"err in .xyz grab on input\")\n",
    "        return"
   ]
  },
  {
   "cell_type": "code",
   "execution_count": null,
   "id": "5e4dba09",
   "metadata": {},
   "outputs": [],
   "source": [
    "comp=polyComp[-1]\n",
    "temp=temps[1]\n",
    "groFile=load(f\"{polyComp[-1]}/{polyComp[-1]}_{temps[1]}.gro\")#comptemp=(comp,temp)\n",
    "p0Index=[a.index for a in groFile.topology.atoms if a.name.find('PO')!=-1]\n",
    "p0Gro=groFile.restrict_atoms(p0Index)\n",
    "\n",
    "alp=.05\n",
    "saveDir=r\"C:\\code\\git\\topML\\frames\\\\\"\n",
    "\n",
    "try:\n",
    "    os.mkdir(saveDir+f\"{comp}_{temp}\")\n",
    "except:\n",
    "    pass\n",
    "\n",
    "saveName=saveDir+\"/\"+f\"{comp}_{temp}/{comp}_{temp}_{alp}\"\n"
   ]
  },
  {
   "cell_type": "code",
   "execution_count": null,
   "id": "2099951a",
   "metadata": {},
   "outputs": [],
   "source": [
    "\n",
    "genTimeCluster(p0Gro,saveName=saveName)"
   ]
  },
  {
   "cell_type": "code",
   "execution_count": null,
   "id": "ca4348e9",
   "metadata": {},
   "outputs": [],
   "source": [
    "os.system(f\"ffmpeg -r 5 -f image2 -s 1000x1000 -i /mnt/c/code/git/topML/frames/P85_20_0.05t%d.png -vcodec libx264 -crf 18 /mnt/c/code/git/topML/frames/test.mp4\")"
   ]
  },
  {
   "cell_type": "code",
   "execution_count": null,
   "id": "95daeef7",
   "metadata": {},
   "outputs": [],
   "source": []
  },
  {
   "cell_type": "code",
   "execution_count": 24,
   "id": "23fab419",
   "metadata": {},
   "outputs": [],
   "source": [
    "groFile=mdtraj.load(f\"High_conc/P103/P103_25.gro\")\n",
    "p0Index=[a.index for a in groFile.topology.atoms if a.name.find('PO')!=-1]\n",
    "p0Gro=groFile.restrict_atoms(p0Index)\n",
    "\n",
    "saveDir=r\"C:\\code\\git\\topML\\frames\\\\\"\n",
    "try:\n",
    "    os.mkdir(saveDir+f\"High_conc\")\n",
    "except:\n",
    "    pass\n",
    "\n",
    "alp=.05\n",
    "saveName=saveDir+\"/High_conc/\"+f\"P103_25_{alp}\"\n",
    "genTimeCluster(p0Gro,alpha=alp,saveName=saveName)"
   ]
  },
  {
   "cell_type": "code",
   "execution_count": null,
   "id": "1f15d37b",
   "metadata": {},
   "outputs": [],
   "source": [
    "os.system(f\"ffmpeg -r 5 -f image2 -s 1000x1000 -i /mnt/c/code/git/topML/frames/High_conc/P103_25_0.05t%d.png -vcodec libx264 -crf 18 /mnt/c/code/git/topML/frames/High_conc/P103_25_a05.mp4\")"
   ]
  },
  {
   "cell_type": "code",
   "execution_count": 29,
   "id": "9dbf3a3b",
   "metadata": {},
   "outputs": [],
   "source": [
    "groFile=mdtraj.load(f\"P85/P85_ini_20.gro\")\n",
    "p0Index=[a.index for a in groFile.topology.atoms if a.name.find('PO')!=-1]\n",
    "p0Gro=groFile.restrict_atoms(p0Index)\n",
    "\n",
    "saveDir=r\"C:\\code\\git\\topML\\frames\\\\\"\n",
    "try:\n",
    "    os.mkdir(saveDir+f\"init\")\n",
    "except:\n",
    "    pass\n",
    "\n",
    "alp=.05\n",
    "saveName=saveDir+\"/init/\"+f\"P85_ini_20_{alp}\"\n",
    "genTimeCluster(p0Gro,alpha=alp,saveName=saveName)"
   ]
  },
  {
   "cell_type": "code",
   "execution_count": null,
   "id": "dc9ee70c",
   "metadata": {},
   "outputs": [],
   "source": [
    "os.system(f\"ffmpeg -r 5 -f image2 -s 1000x1000 -i /mnt/c/code/git/topML/frames/init/P85_ini_20_0.05t%d.png -vcodec libx264 -crf 18 /mnt/c/code/git/topML/frames/init/P85_ini_20_a05.mp4\")"
   ]
  },
  {
   "cell_type": "code",
   "execution_count": null,
   "id": "fec56cfd",
   "metadata": {},
   "outputs": [],
   "source": [
    "from parallelTools import *"
   ]
  },
  {
   "cell_type": "code",
   "execution_count": null,
   "id": "b3d16e48",
   "metadata": {},
   "outputs": [],
   "source": [
    "import os\n",
    "import sys\n",
    "import multiprocessing\n",
    "from multiprocessing import Process\n",
    "\n",
    "\n",
    "cpus=multiprocessing.cpu_count() - 1\n",
    "ident=lambda x: x\n",
    "funcType=type(ident)\n",
    "\n",
    "def datDistribute(func,dat,cpus=cpus,filterFunc=None):\n",
    "    \"\"\"\n",
    "    parallelize func(obj) call for all obj in dat\n",
    "    \n",
    "    \"\"\"\n",
    "    semaphore = multiprocessing.Semaphore(cpus)\n",
    "    def task(semaphore=semaphore,f=func,fil=\"test.txt\"):\n",
    "        with semaphore:\n",
    "            f(fil)\n",
    "    if type(filterFunc)==funcType:\n",
    "        processes=[Process(target=task,args=(semaphore,func,fil)) for fil in dat if filterFunc(fil)]\n",
    "    else:\n",
    "        processes=[Process(target=task,args=(semaphore,func,fil)) for fil in dat]\n",
    "\n",
    "    for proc in processes:\n",
    "        proc.start()\n",
    "    for proc in processes:\n",
    "        proc.join()"
   ]
  },
  {
   "cell_type": "code",
   "execution_count": null,
   "id": "4c764a5d",
   "metadata": {},
   "outputs": [],
   "source": [
    "datDistribute(dgmGrabP0,[(comp,temp) for comp in polyComp for temp in temps],cpus=4)"
   ]
  },
  {
   "cell_type": "code",
   "execution_count": null,
   "id": "b27b93a0",
   "metadata": {},
   "outputs": [],
   "source": []
  }
 ],
 "metadata": {
  "kernelspec": {
   "display_name": "Python 3 (ipykernel)",
   "language": "python",
   "name": "python3"
  },
  "language_info": {
   "codemirror_mode": {
    "name": "ipython",
    "version": 3
   },
   "file_extension": ".py",
   "mimetype": "text/x-python",
   "name": "python",
   "nbconvert_exporter": "python",
   "pygments_lexer": "ipython3",
   "version": "3.9.12"
  }
 },
 "nbformat": 4,
 "nbformat_minor": 5
}
