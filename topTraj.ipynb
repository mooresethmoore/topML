{
 "cells": [
  {
   "cell_type": "code",
   "execution_count": 1,
   "id": "557ab4a5",
   "metadata": {},
   "outputs": [],
   "source": [
    "import os\n",
    "import sys"
   ]
  },
  {
   "cell_type": "code",
   "execution_count": 2,
   "id": "32664cd3",
   "metadata": {},
   "outputs": [],
   "source": [
    "import numpy as np\n",
    "import pandas as pd\n",
    "import matplotlib.pyplot as plt\n",
    "from mpl_toolkits.mplot3d import Axes3D\n",
    "import pickle\n",
    "from skimage.filters import threshold_otsu\n",
    "from scipy.ndimage import distance_transform_edt\n",
    "from scipy.spatial import distance\n",
    "from scipy.spatial import distance_matrix\n",
    "import gudhi, gudhi.hera, gudhi.wasserstein, persim\n",
    "import json"
   ]
  },
  {
   "cell_type": "code",
   "execution_count": null,
   "id": "7c7810a4",
   "metadata": {},
   "outputs": [],
   "source": [
    "#import ripserplusplus as rpp"
   ]
  },
  {
   "cell_type": "code",
   "execution_count": 3,
   "id": "b7fa42d9",
   "metadata": {},
   "outputs": [
    {
     "data": {
      "text/html": [
       "        <script type=\"text/javascript\">\n",
       "        window.PlotlyConfig = {MathJaxConfig: 'local'};\n",
       "        if (window.MathJax && window.MathJax.Hub && window.MathJax.Hub.Config) {window.MathJax.Hub.Config({SVG: {font: \"STIX-Web\"}});}\n",
       "        if (typeof require !== 'undefined') {\n",
       "        require.undef(\"plotly\");\n",
       "        requirejs.config({\n",
       "            paths: {\n",
       "                'plotly': ['https://cdn.plot.ly/plotly-2.14.0.min']\n",
       "            }\n",
       "        });\n",
       "        require(['plotly'], function(Plotly) {\n",
       "            window._Plotly = Plotly;\n",
       "        });\n",
       "        }\n",
       "        </script>\n",
       "        "
      ]
     },
     "metadata": {},
     "output_type": "display_data"
    }
   ],
   "source": [
    "import plotly\n",
    "from plotly.graph_objs import graph_objs as go\n",
    "import ipywidgets as widgets\n",
    "plotly.offline.init_notebook_mode(connected=True)\n",
    "from plotly.offline import iplot"
   ]
  },
  {
   "cell_type": "code",
   "execution_count": 4,
   "id": "99cbeb33",
   "metadata": {},
   "outputs": [],
   "source": [
    "import mdtraj\n",
    "from mdtraj import load"
   ]
  },
  {
   "cell_type": "code",
   "execution_count": 5,
   "id": "db9be045",
   "metadata": {},
   "outputs": [],
   "source": [
    "#os.chdir(r\"C:\\code\\data\\Micelles_identification\")\n",
    "#os.chdir(\"/mnt/c/code/data/Micelles_identification\")\n",
    "os.chdir(r\"Z:\\data\\micelles\\Micelles_identification\")\n",
    "#os.chdir(\"/mnt/z/data/micelles/Micelles_identification\")"
   ]
  },
  {
   "cell_type": "code",
   "execution_count": 8,
   "id": "f78ab724",
   "metadata": {},
   "outputs": [
    {
     "data": {
      "text/plain": [
       "['L64', 'P104', 'P123', 'P65', 'P84', 'P85']"
      ]
     },
     "execution_count": 8,
     "metadata": {},
     "output_type": "execute_result"
    }
   ],
   "source": [
    "polyComp=os.listdir()\n",
    "polyComp=[i for i in polyComp if i.find(\".\")==-1 and i!=\"High_conc\"] #get rid of actionList if present -> do High_conc separately\n",
    "polyComp"
   ]
  },
  {
   "cell_type": "code",
   "execution_count": 9,
   "id": "3ee8acc0",
   "metadata": {},
   "outputs": [
    {
     "data": {
      "text/plain": [
       "[10, 20, 30, 40, 50]"
      ]
     },
     "execution_count": 9,
     "metadata": {},
     "output_type": "execute_result"
    }
   ],
   "source": [
    "temps=[int(i)*10 for i in range(1,6)]\n",
    "temps"
   ]
  },
  {
   "cell_type": "code",
   "execution_count": null,
   "id": "eea711cd",
   "metadata": {},
   "outputs": [],
   "source": []
  },
  {
   "cell_type": "markdown",
   "id": "7131fdf3",
   "metadata": {},
   "source": [
    "# animSliderCode"
   ]
  },
  {
   "cell_type": "code",
   "execution_count": 10,
   "id": "91c2eef7",
   "metadata": {},
   "outputs": [],
   "source": [
    "def genAlphaSlider(dat,initial=.05,step=.25,maximum=20): #assume 3D for now\n",
    "    ac = gudhi.AlphaComplex(dat)\n",
    "    st = ac.create_simplex_tree()\n",
    "    skel=list(st.get_skeleton(2))\n",
    "    skel.sort(key=lambda s: s[1])\n",
    "    points = np.array([ac.get_point(i) for i in range(st.num_vertices())])\n",
    "    #lims=[[np.floor(np.min(dat[:,i])),np.ceil(np.max(dat[:,i]))] for i in range(3)]\n",
    "    alpha = widgets.FloatSlider(\n",
    "        value = initial,\n",
    "        min = 0.0,\n",
    "        max = maximum,\n",
    "        step = step,\n",
    "        description = 'Alpha:',\n",
    "        readout_format = '.4f'\n",
    "    )\n",
    "\n",
    "\n",
    "\n",
    "    b1s=np.array([s[0] for s in skel if len(s[0]) == 2 and s[1] <= alpha.value])\n",
    "    triangles = np.array([s[0] for s in skel if len(s[0]) == 3 and s[1] <= alpha.value])\n",
    "\n",
    "\n",
    "    pts=go.Scatter3d(\n",
    "        x = points[:, 0],\n",
    "        y = points[:, 1],\n",
    "        z = points[:, 2],\n",
    "        mode='markers',\n",
    "        marker=dict(\n",
    "            size=2,\n",
    "            color=\"cornflowerblue\",                # set color to an array/list of desired values\n",
    "            #colorscale='Viridis',   # choose a colorscale\n",
    "            opacity=.9\n",
    "        ),\n",
    "        name='H0'\n",
    "\n",
    "    )\n",
    "\n",
    "    sfig=[pts]\n",
    "\n",
    "    linepts={0:[],1:[],2:[]}\n",
    "    for i in b1s:\n",
    "        linepts[0].append(points[i[0],0])\n",
    "        linepts[1].append(points[i[0],1])\n",
    "        linepts[2].append(points[i[0],2])\n",
    "        linepts[0].append(points[i[1],0])\n",
    "        linepts[1].append(points[i[1],1])\n",
    "        linepts[2].append(points[i[1],2])\n",
    "\n",
    "        linepts[0].append(None)\n",
    "        linepts[1].append(None)\n",
    "        linepts[2].append(None)\n",
    "\n",
    "    if len(linepts[0])>0:\n",
    "        lins=go.Scatter3d(\n",
    "            x=linepts[0],\n",
    "            y=linepts[1],\n",
    "            z=linepts[2],\n",
    "            mode='lines',\n",
    "            name='H1',\n",
    "            marker=dict(\n",
    "                size=3,\n",
    "                color=\"#d55e00\",                # set color to an array/list of desired values\n",
    "                #colorscale='Viridis',   # choose a colorscale\n",
    "                opacity=.9\n",
    "            )\n",
    "        )\n",
    "        sfig.append(lins)\n",
    "        if len(triangles)>0:\n",
    "            mesh = go.Mesh3d(\n",
    "                x = points[:, 0],\n",
    "                y = points[:, 1],\n",
    "                z = points[:, 2],\n",
    "                i = triangles[:, 0],\n",
    "                j = triangles[:, 1],\n",
    "                k = triangles[:, 2],\n",
    "                color=\"#009e73\",\n",
    "                opacity=.75,\n",
    "                name='H2'\n",
    "            )\n",
    "\n",
    "\n",
    "            sfig.append(mesh)\n",
    "    fig=go.Figure(sfig)\n",
    "    fig.update_layout(width=800,height=800)\n",
    "    #fig.show()\n",
    "\n",
    "\n",
    "\n",
    "\n",
    "    def view_SC(alpha):\n",
    "        if alpha==0:\n",
    "            fig=go.Figure(sfig[0])\n",
    "            fig.show()\n",
    "        else:\n",
    "            b1s=np.array([s[0] for s in skel if len(s[0]) == 2 and s[1] <= alpha])\n",
    "\n",
    "            linepts={0:[],1:[],2:[]}\n",
    "            for i in b1s:\n",
    "                linepts[0].append(points[i[0],0])\n",
    "                linepts[1].append(points[i[0],1])\n",
    "                linepts[2].append(points[i[0],2])\n",
    "                linepts[0].append(points[i[1],0])\n",
    "                linepts[1].append(points[i[1],1])\n",
    "                linepts[2].append(points[i[1],2])\n",
    "\n",
    "                linepts[0].append(None)\n",
    "                linepts[1].append(None)\n",
    "                linepts[2].append(None)\n",
    "\n",
    "            if len(linepts[0])>0:\n",
    "                lins=go.Scatter3d(\n",
    "                    x=linepts[0],\n",
    "                    y=linepts[1],\n",
    "                    z=linepts[2],\n",
    "                    mode='lines',\n",
    "                    name='H1',\n",
    "                    marker=dict(\n",
    "                        size=3,\n",
    "                        color=\"#d55e00\",                # set color to an array/list of desired values\n",
    "                        #colorscale='Viridis',   # choose a colorscale\n",
    "                        opacity=.85\n",
    "                    )\n",
    "                )\n",
    "                if len(sfig)>1:\n",
    "                    sfig[1]=lins\n",
    "                else:\n",
    "                    sfig.append(lins)\n",
    "                triangles = np.array([s[0] for s in skel if len(s[0]) == 3 and s[1] <= alpha])\n",
    "                if len(triangles)>0:\n",
    "                    mesh = go.Mesh3d(\n",
    "                        x = points[:, 0],\n",
    "                        y = points[:, 1],\n",
    "                        z = points[:, 2],\n",
    "                        i = triangles[:, 0],\n",
    "                        j = triangles[:, 1],\n",
    "                        k = triangles[:, 2],\n",
    "                        color=\"#009e73\",\n",
    "                        opacity=.5,\n",
    "                        name='H2'\n",
    "                    )\n",
    "\n",
    "                    if len(sfig)>1:\n",
    "                        sfig[2]=mesh\n",
    "                    else:\n",
    "                        sfig.append(mesh)\n",
    "\n",
    "\n",
    "            fig=go.Figure(data=sfig,layout=go.Layout(width=800,height=800,\n",
    "                                                     title=f\"Simplicial complex with radius <= {round(float(alpha),5)}\",\n",
    "                                                    ))\n",
    "\n",
    "            #fig.show()\n",
    "            iplot(fig)\n",
    "\n",
    "\n",
    "    widgets.interact(view_SC, alpha = alpha);\n",
    "    return st"
   ]
  },
  {
   "cell_type": "code",
   "execution_count": 11,
   "id": "8c75669e",
   "metadata": {},
   "outputs": [],
   "source": [
    "\n",
    "comp=\"P104\"\n",
    "temp=temps[0]\n",
    "temp=30\n",
    "\n",
    "groFile=mdtraj.load(f\"{comp}/{comp}_{temp}.gro\")\n",
    "p0Index=[a.index for a in groFile.topology.atoms if a.name.find('PO')!=-1]\n",
    "p0Gro=groFile.restrict_atoms(p0Index)\n",
    "\n",
    "\n",
    "dat=p0Gro.xyz[0,:] ##time 0\n",
    "\n"
   ]
  },
  {
   "cell_type": "code",
   "execution_count": null,
   "id": "2aeb659e",
   "metadata": {},
   "outputs": [],
   "source": [
    "polyComp"
   ]
  },
  {
   "cell_type": "code",
   "execution_count": null,
   "id": "a39cf5e4",
   "metadata": {},
   "outputs": [],
   "source": [
    "#Load a testdat\n",
    "\n",
    "#comp=polyComp[0]\n",
    "comp=\"P85\"\n",
    "temp=temps[0]\n",
    "temp=30\n",
    "\n",
    "groFile=mdtraj.load(f\"{comp}/{comp}_{temp}.gro\")\n",
    "\n",
    "p0Index=[a.index for a in groFile.topology.atoms if a.name.find('PO')!=-1]\n",
    "p0Gro=groFile.restrict_atoms(p0Index)\n",
    "\n",
    "\n",
    "dat=p0Gro.xyz[0,:]\n",
    "nD=dat.shape[1]\n",
    "ac = gudhi.AlphaComplex(dat)\n",
    "\n",
    "st = ac.create_simplex_tree(max_alpha_square=np.sum([(np.max(dat)-np.min(dat))**2 for i in range(nD)]))\n",
    "dgm = st.persistence()\n",
    "skel=list(st.get_skeleton(2))\n",
    "skel.sort(key=lambda s: s[1])\n",
    "points = np.array([ac.get_point(i) for i in range(st.num_vertices())])\n"
   ]
  },
  {
   "cell_type": "code",
   "execution_count": null,
   "id": "35bd1466",
   "metadata": {},
   "outputs": [],
   "source": [
    "skel[len(points):len(points)+5] # why is this showing the second value as much higher than box params??"
   ]
  },
  {
   "cell_type": "code",
   "execution_count": null,
   "id": "76419bd2",
   "metadata": {},
   "outputs": [],
   "source": [
    "np.linalg.norm(points[443]-points[444])"
   ]
  },
  {
   "cell_type": "code",
   "execution_count": null,
   "id": "eab90a2d",
   "metadata": {},
   "outputs": [],
   "source": [
    "ac = gudhi.AlphaComplex(dat,precision=\"exact\")\n",
    "st = ac.create_simplex_tree()#max_alpha_square=np.sum([(np.max(dat)-np.min(dat))**2 for i in range(nD)]))\n",
    "dgm = st.persistence()\n",
    "skel=list(st.get_skeleton(2))\n",
    "skel.sort(key=lambda s: s[1])\n",
    "points = np.array([ac.get_point(i) for i in range(st.num_vertices())])\n",
    "\n",
    "alpha=20\n",
    "\n",
    "notInc=False\n",
    "sub=[i for i in skel if 0<i[1]<alpha]\n",
    "for j in range(1,len(sub)):\n",
    "    prevNorm=np.linalg.norm(points[sub[j-1][0][1]]-points[sub[j-1][0][0]])\n",
    "    if len(sub[j][0])==2: # just work with edges\n",
    "        if np.linalg.norm(points[sub[j][0][1]]-points[sub[j][0][0]])<prevNorm:\n",
    "            print(f\"bad: {j} \\t {sub[j][1]} \\n{np.linalg.norm(points[sub[j][0][1]]-points[sub[j][0][0]])} \\n{np.linalg.norm(points[sub[j][0][1]]-points[sub[j][0][0]])-prevNorm}\\n\\n\")\n",
    "            "
   ]
  },
  {
   "cell_type": "code",
   "execution_count": null,
   "id": "1700cc93",
   "metadata": {},
   "outputs": [],
   "source": [
    "b0=[i[1] for i in dgm if i[0]==0]\n",
    "b0.sort(key=lambda x: x[1]-x[0])\n",
    "b0"
   ]
  },
  {
   "cell_type": "code",
   "execution_count": null,
   "id": "04c9caab",
   "metadata": {},
   "outputs": [],
   "source": []
  },
  {
   "cell_type": "markdown",
   "id": "990dc1d0",
   "metadata": {},
   "source": [
    "Okay.. I don't know why the precision is so weird for the alpha complex, but we are shown equivalent monotonic behavior between the distances and the persistence numeric shown in the skeleton.  "
   ]
  },
  {
   "cell_type": "markdown",
   "id": "929f1220",
   "metadata": {},
   "source": [
    "## however, the error from th"
   ]
  },
  {
   "cell_type": "code",
   "execution_count": null,
   "id": "38f32219",
   "metadata": {},
   "outputs": [],
   "source": [
    "skelD[0][1]**2"
   ]
  },
  {
   "cell_type": "code",
   "execution_count": null,
   "id": "c353d416",
   "metadata": {},
   "outputs": [],
   "source": [
    "# with that in mind, let's just remap the sorted skeleton values to the ones we expect\n",
    "# with meshes being generalized to max(dist(i,j))\n",
    "\n",
    "\n",
    "#for Visual applications we want the regular distance matrix to make intuition,\n",
    "    # except if we can color/show OutOfBound Simplices differently #todo\n",
    "#however for numerical applications (ML) we want to probably show/use the\n",
    "#periodic boundary distance matrix\n",
    "\n",
    "def pDistIndex(pdist,i: int, j: int,length: int):\n",
    "    if j<i:\n",
    "        i,j = j,i\n",
    "    if i==j:\n",
    "        return 0\n",
    "    \n",
    "    return length*i+j-((i+2)*(i+1)) //2\n",
    "\n",
    "dm=distance.pdist(points)\n",
    "skelD=[(i[0],dm[pDistIndex(dm,i[0][0],i[0][1],dat.shape[0])]) if len(i[0])==2 else (i[0],max({dm[pDistIndex(dm,i[0][k],i[0][j],dat.shape[0])] for k in range(len(i[0])) for j in range(k) })) for i in skel[len(points):]] # not true for 3simplices  \n",
    "skelD.sort(key=lambda s: s[1])"
   ]
  },
  {
   "cell_type": "code",
   "execution_count": null,
   "id": "4fae4d12",
   "metadata": {},
   "outputs": [],
   "source": [
    "len(skelD)"
   ]
  },
  {
   "cell_type": "code",
   "execution_count": null,
   "id": "56aaf65a",
   "metadata": {},
   "outputs": [],
   "source": [
    "a=0\n",
    "for i in range(10):\n",
    "    a+=i*.05"
   ]
  },
  {
   "cell_type": "code",
   "execution_count": null,
   "id": "8c3f56c4",
   "metadata": {},
   "outputs": [],
   "source": [
    "skel[len(dat):]"
   ]
  },
  {
   "cell_type": "code",
   "execution_count": null,
   "id": "55ba0927",
   "metadata": {},
   "outputs": [],
   "source": [
    "i=1491\n",
    "j=1602\n",
    "print(np.linalg.norm(points[i]-points[j])) #### AHHHH! do NOT TRUST THAT dat==points!\n",
    "# so annoying"
   ]
  },
  {
   "cell_type": "code",
   "execution_count": null,
   "id": "1e40b7ee",
   "metadata": {},
   "outputs": [],
   "source": [
    "skelD"
   ]
  },
  {
   "cell_type": "code",
   "execution_count": null,
   "id": "9c4bba8d",
   "metadata": {},
   "outputs": [],
   "source": [
    "for i in skel[len(points):10000]:\n",
    "    print(i[0])"
   ]
  },
  {
   "cell_type": "code",
   "execution_count": null,
   "id": "5e554e35",
   "metadata": {},
   "outputs": [],
   "source": [
    "dm=distance.pdist(dat)"
   ]
  },
  {
   "cell_type": "code",
   "execution_count": null,
   "id": "9043b748",
   "metadata": {},
   "outputs": [],
   "source": [
    "dm.shape[0]"
   ]
  },
  {
   "cell_type": "code",
   "execution_count": null,
   "id": "c671a4f4",
   "metadata": {},
   "outputs": [],
   "source": [
    "dat.shape[0]**2//2-len(dat)//2"
   ]
  },
  {
   "cell_type": "code",
   "execution_count": null,
   "id": "402d8685",
   "metadata": {},
   "outputs": [],
   "source": [
    "dm=distance_matrix(dat)"
   ]
  },
  {
   "cell_type": "code",
   "execution_count": null,
   "id": "fc0ff1f5",
   "metadata": {},
   "outputs": [],
   "source": [
    "np.linalg.norm(points[83]-points[979])"
   ]
  },
  {
   "cell_type": "code",
   "execution_count": null,
   "id": "d601c9a8",
   "metadata": {},
   "outputs": [],
   "source": [
    "\n",
    "stree = ac.create_simplex_tree()\n",
    "print('Alpha complex is of dimension ', stree.dimension(), ' - ',\n",
    "  stree.num_simplices(), ' simplices - ', stree.num_vertices(), ' vertices.')\n",
    "\n",
    "fmt = '%s -> %.2f'\n",
    "for filtered_value in stree.get_filtration():\n",
    "    print(fmt % tuple(filtered_value))"
   ]
  },
  {
   "cell_type": "code",
   "execution_count": null,
   "id": "cc34e512",
   "metadata": {},
   "outputs": [],
   "source": []
  },
  {
   "cell_type": "code",
   "execution_count": null,
   "id": "a3ac59f3",
   "metadata": {},
   "outputs": [],
   "source": [
    "dgm = stree.persistence()\n",
    "gudhi.plot_persistence_diagram(dgm, legend = True)\n",
    "plt.show()"
   ]
  },
  {
   "cell_type": "code",
   "execution_count": 19,
   "id": "4d8d59cd",
   "metadata": {},
   "outputs": [],
   "source": [
    "groFile=mdtraj.load(f\"P65/P65_30.gro\")"
   ]
  },
  {
   "cell_type": "code",
   "execution_count": 23,
   "id": "a4aabd99",
   "metadata": {},
   "outputs": [],
   "source": [
    "P0Index=[a.index for a in groFile.topology.atoms if a.name.find('PO')!=-1]\n",
    "p0Gro=groFile.restrict_atoms(P0Index)"
   ]
  },
  {
   "cell_type": "code",
   "execution_count": 21,
   "id": "26b6b28e",
   "metadata": {},
   "outputs": [
    {
     "data": {
      "text/plain": [
       "101"
      ]
     },
     "execution_count": 21,
     "metadata": {},
     "output_type": "execute_result"
    }
   ],
   "source": [
    "len(p0Gro.xyz)"
   ]
  },
  {
   "cell_type": "code",
   "execution_count": 22,
   "id": "7943bc76",
   "metadata": {},
   "outputs": [],
   "source": [
    "groFile2=mdtraj.load(f\"P104/P104_ini_10.gro\")"
   ]
  },
  {
   "cell_type": "code",
   "execution_count": 15,
   "id": "6b2a0c84",
   "metadata": {},
   "outputs": [],
   "source": [
    "E0Index=[a.index for a in groFile2.topology.atoms if a.name.find('EO')!=-1]\n",
    "E0Gro=groFile2.restrict_atoms(E0Index)"
   ]
  },
  {
   "cell_type": "code",
   "execution_count": 16,
   "id": "d21f01d5",
   "metadata": {},
   "outputs": [],
   "source": [
    "dat=E0Gro.xyz[0,:]"
   ]
  },
  {
   "cell_type": "code",
   "execution_count": null,
   "id": "d67b8906",
   "metadata": {},
   "outputs": [],
   "source": [
    "dat=p0Gro.xyz[0,:] #time 0"
   ]
  },
  {
   "cell_type": "code",
   "execution_count": 28,
   "id": "37b32c66",
   "metadata": {},
   "outputs": [],
   "source": [
    "dat=p0Gro.xyz[22,:]"
   ]
  },
  {
   "cell_type": "code",
   "execution_count": 30,
   "id": "d27dceae",
   "metadata": {},
   "outputs": [],
   "source": [
    "dat=p0Gro.xyz[-1,:]"
   ]
  },
  {
   "cell_type": "code",
   "execution_count": 31,
   "id": "4184ac1e",
   "metadata": {
    "pycharm": {
     "is_executing": true
    }
   },
   "outputs": [
    {
     "data": {
      "application/vnd.jupyter.widget-view+json": {
       "model_id": "3d79cdbb80c54c489bdb2e134bc5ae7f",
       "version_major": 2,
       "version_minor": 0
      },
      "text/plain": [
       "interactive(children=(FloatSlider(value=0.05, description='Alpha:', max=30.0, readout_format='.4f', step=0.5),…"
      ]
     },
     "metadata": {},
     "output_type": "display_data"
    }
   ],
   "source": [
    "st=genAlphaSlider(dat,initial=.05,step=.5,maximum=30)"
   ]
  },
  {
   "cell_type": "code",
   "execution_count": null,
   "id": "0f9c9b72",
   "metadata": {},
   "outputs": [],
   "source": [
    "dgm=st.persistence()\n",
    "gudhi.plot_persistence_diagram(dgm, legend = True)\n",
    "plt.show()"
   ]
  },
  {
   "cell_type": "code",
   "execution_count": null,
   "id": "dcca899f",
   "metadata": {},
   "outputs": [],
   "source": [
    "st=genAlphaSlider(dat,initial=.05,step=.5,maximum=40)"
   ]
  },
  {
   "cell_type": "code",
   "execution_count": null,
   "id": "5316b2e9",
   "metadata": {},
   "outputs": [],
   "source": [
    "dgm=st.persistence()\n",
    "gudhi.plot_persistence_diagram(dgm, legend = True)\n",
    "plt.show()"
   ]
  },
  {
   "cell_type": "code",
   "execution_count": null,
   "id": "34d068af",
   "metadata": {},
   "outputs": [],
   "source": [
    "dat=p0Gro.xyz[1,:] #time 1\n",
    "st=genAlphaSlider(dat,initial=.05,step=.5,maximum=30)"
   ]
  },
  {
   "cell_type": "code",
   "execution_count": null,
   "id": "77e9b6c2",
   "metadata": {},
   "outputs": [],
   "source": []
  },
  {
   "cell_type": "code",
   "execution_count": null,
   "id": "095d7b06",
   "metadata": {},
   "outputs": [],
   "source": [
    "dgm=st.persistence()\n",
    "gudhi.plot_persistence_diagram(dgm, legend = True)\n",
    "plt.show()"
   ]
  },
  {
   "cell_type": "code",
   "execution_count": null,
   "id": "e87b9e3a",
   "metadata": {},
   "outputs": [],
   "source": []
  },
  {
   "cell_type": "code",
   "execution_count": null,
   "id": "407dc1e6",
   "metadata": {},
   "outputs": [],
   "source": [
    "dat=p0Gro.xyz[2,:] #time 1\n",
    "st=genAlphaSlider(dat,initial=.05,step=.5,maximum=30)"
   ]
  },
  {
   "cell_type": "code",
   "execution_count": null,
   "id": "4b1da541",
   "metadata": {},
   "outputs": [],
   "source": [
    "dgm=st.persistence()\n",
    "gudhi.plot_persistence_diagram(dgm, legend = True)\n",
    "plt.show()"
   ]
  },
  {
   "cell_type": "code",
   "execution_count": null,
   "id": "c0ecbfe9",
   "metadata": {},
   "outputs": [],
   "source": []
  },
  {
   "cell_type": "code",
   "execution_count": null,
   "id": "1dfa79ab",
   "metadata": {},
   "outputs": [],
   "source": [
    "dat=p0Gro.xyz[2,:] #time 2\n",
    "st=genAlphaSlider(dat,initial=.05,step=.5,maximum=30)"
   ]
  },
  {
   "cell_type": "code",
   "execution_count": null,
   "id": "a9ac74ae",
   "metadata": {},
   "outputs": [],
   "source": [
    "dgm=st.persistence()\n",
    "gudhi.plot_persistence_diagram(dgm, legend = True)\n",
    "plt.show()"
   ]
  },
  {
   "cell_type": "code",
   "execution_count": null,
   "id": "479235df",
   "metadata": {},
   "outputs": [],
   "source": [
    "dat=p0Gro.xyz[3,:] #time 3\n",
    "st=genAlphaSlider(dat,initial=.05,step=.5,maximum=30)"
   ]
  },
  {
   "cell_type": "code",
   "execution_count": null,
   "id": "72f6404f",
   "metadata": {},
   "outputs": [],
   "source": [
    "dgm=st.persistence()\n",
    "gudhi.plot_persistence_diagram(dgm, legend = True)\n",
    "plt.show()"
   ]
  },
  {
   "cell_type": "code",
   "execution_count": null,
   "id": "c54f1a53",
   "metadata": {},
   "outputs": [],
   "source": []
  },
  {
   "cell_type": "code",
   "execution_count": null,
   "id": "cb328116",
   "metadata": {},
   "outputs": [],
   "source": [
    "groFile=mdtraj.load(f\"High_conc/P103/P103_25.gro\")\n",
    "p0Index=[a.index for a in groFile.topology.atoms if a.name.find('PO')!=-1]\n",
    "p0Gro=groFile.restrict_atoms(p0Index)\n",
    "st=genAlphaSlider(dat=p0Gro.xyz[0,:],initial=.05,step=.5,maximum=30)"
   ]
  },
  {
   "cell_type": "code",
   "execution_count": null,
   "id": "81acb109",
   "metadata": {},
   "outputs": [],
   "source": [
    "dgm=st.persistence()\n",
    "gudhi.plot_persistence_diagram(dgm, legend = True)\n",
    "plt.show()"
   ]
  },
  {
   "cell_type": "code",
   "execution_count": null,
   "id": "3ac0d5d9",
   "metadata": {},
   "outputs": [],
   "source": [
    "groFile=mdtraj.load(f\"High_conc/P103/P103_25.gro\")\n",
    "p0Index=[a.index for a in groFile.topology.atoms if a.name.find('PO')!=-1]\n",
    "p0Gro=groFile.restrict_atoms(p0Index)\n",
    "st=genAlphaSlider(dat=p0Gro.xyz[10,:],initial=.05,step=.5,maximum=30)"
   ]
  },
  {
   "cell_type": "code",
   "execution_count": null,
   "id": "375ad4e5",
   "metadata": {},
   "outputs": [],
   "source": [
    "dgm=st.persistence()\n",
    "gudhi.plot_persistence_diagram(dgm, legend = True)\n",
    "plt.show()"
   ]
  },
  {
   "cell_type": "code",
   "execution_count": null,
   "id": "400667f3",
   "metadata": {},
   "outputs": [],
   "source": [
    "minim=.05\n",
    "sum([1 for i in dgm if i[0]==0])-sum([1 for i in dgm if i[0]==0 and i[1][1]-i[1][0]>minim])"
   ]
  },
  {
   "cell_type": "code",
   "execution_count": null,
   "id": "bc283e65",
   "metadata": {},
   "outputs": [],
   "source": [
    "b=0\n",
    "minim=.05 #how might we autodetermine this param in future data?\n",
    "bsub=[i[1][1] for i in dgm if i[0]==b and i[1][1]>minim and not np.isinf(i[1][1])]\n",
    "bsub.sort(key=lambda s: s)\n",
    "\n",
    "plt.hist(bsub,bins=100)"
   ]
  },
  {
   "cell_type": "code",
   "execution_count": null,
   "id": "1136a961",
   "metadata": {},
   "outputs": [],
   "source": []
  },
  {
   "cell_type": "code",
   "execution_count": null,
   "id": "173d0fdb",
   "metadata": {},
   "outputs": [],
   "source": []
  },
  {
   "cell_type": "markdown",
   "id": "17ccc5bc",
   "metadata": {},
   "source": [
    "## Spherical to Cyllindrical? Can we see on PD"
   ]
  },
  {
   "cell_type": "markdown",
   "id": "1162995d",
   "metadata": {},
   "source": [
    "## Yes!! Think about b1 distribution about the major and minor axis (discrepancy between adjacent B1 points that belong to same points should relate to k^2 "
   ]
  },
  {
   "cell_type": "code",
   "execution_count": null,
   "id": "bf6fe62c",
   "metadata": {},
   "outputs": [],
   "source": [
    "inDir=\"/mnt/z/data/micelles/Micelles_identification\"\n",
    "comp=\"P104\"\n",
    "temp=temps[0]\n",
    "temp=40\n",
    "\n",
    "groFile=mdtraj.load(f\"{inDir}/{comp}/{comp}_{temp}.gro\")\n",
    "\n",
    "p0Index=[a.index for a in groFile.topology.atoms if a.name.find('PO')!=-1]\n",
    "p0Gro=groFile.restrict_atoms(p0Index)\n",
    "\n",
    "\n",
    "dat=p0Gro.xyz[0,:]"
   ]
  },
  {
   "cell_type": "code",
   "execution_count": null,
   "id": "6154ecd7",
   "metadata": {},
   "outputs": [],
   "source": [
    "dat=p0Gro.xyz[3,:] #time 3 -- pretty spherical\n",
    "st=genAlphaSlider(dat,initial=.05,step=.5,maximum=30)"
   ]
  },
  {
   "cell_type": "code",
   "execution_count": null,
   "id": "133d7f4a",
   "metadata": {},
   "outputs": [],
   "source": []
  },
  {
   "cell_type": "code",
   "execution_count": null,
   "id": "01aa52d1",
   "metadata": {},
   "outputs": [],
   "source": [
    "dgm=st.persistence()\n",
    "gudhi.plot_persistence_diagram(dgm, legend = True)\n",
    "plt.show()"
   ]
  },
  {
   "cell_type": "code",
   "execution_count": null,
   "id": "065f0116",
   "metadata": {},
   "outputs": [],
   "source": [
    "dgm"
   ]
  },
  {
   "cell_type": "code",
   "execution_count": null,
   "id": "77ff1322",
   "metadata": {},
   "outputs": [],
   "source": [
    "eps=.05\n",
    "countClusts=len([i[1][1] for i in dgm if i[0]==0 and i[1][1]>eps])\n",
    "countClusts"
   ]
  },
  {
   "cell_type": "code",
   "execution_count": null,
   "id": "7072c7c2",
   "metadata": {},
   "outputs": [],
   "source": [
    "dat=p0Gro.xyz[10,:] #time 10 -- cyllindrical component\n",
    "st=genAlphaSlider(dat,initial=.05,step=.5,maximum=30)"
   ]
  },
  {
   "cell_type": "code",
   "execution_count": null,
   "id": "2de66fe9",
   "metadata": {},
   "outputs": [],
   "source": [
    "dgm=st.persistence()\n",
    "gudhi.plot_persistence_diagram(dgm, legend = True)\n",
    "plt.show()"
   ]
  },
  {
   "cell_type": "markdown",
   "id": "440ad7df",
   "metadata": {},
   "source": [
    "# Over a given polymer distribution\n",
    "- track time dep for given alpha (eg, .05)\n"
   ]
  },
  {
   "cell_type": "code",
   "execution_count": null,
   "id": "22bbcc74",
   "metadata": {},
   "outputs": [],
   "source": [
    "p0Gro.xyz[0].shape"
   ]
  },
  {
   "cell_type": "code",
   "execution_count": null,
   "id": "228f7578",
   "metadata": {},
   "outputs": [],
   "source": []
  },
  {
   "cell_type": "code",
   "execution_count": null,
   "id": "4a1efa6a",
   "metadata": {},
   "outputs": [],
   "source": [
    "def dgmGrabP0(comptemp,maxH=2,thresh=0,roundDig=5,saveDir=None,retDgms=False): #assume 3D for now\n",
    "    groFile=load(f\"{comptemp[0]}/{comptemp[0]}_{comptemp[1]}.gro\")#comptemp=(comp,temp)\n",
    "    p0Index=[a.index for a in groFile.topology.atoms if a.name.find('PO')!=-1]\n",
    "    p0Gro=groFile.restrict_atoms(p0Index)\n",
    "    \n",
    "    #dat=p0Gro.xyz[0,:] #time 0\n",
    "    timedgms={t:dict() for t in range(len(p0Gro.xyz))}\n",
    "    t=-1\n",
    "    for dat in p0Gro.xyz:\n",
    "        t+=1\n",
    "        ac = gudhi.AlphaComplex(dat)\n",
    "        st = ac.create_simplex_tree()\n",
    "        dgm=st.persistence()\n",
    "        dgms={b:[] for b in range(maxH+1)}\n",
    "        if thresh!=0:\n",
    "            for i in dgm:\n",
    "                lifetime=round(i[1][1]-i[1][0],roundDig)\n",
    "                if lifetime>=thresh:\n",
    "                    dgms[i[0]].append(i[1])\n",
    "        else:\n",
    "            for i in dgm:\n",
    "                dgms[i[0]].append(i[1])\n",
    "        timedgms[t]=dgms\n",
    "    \n",
    "    ### timedgms will need to be converted back to {b:[(),...]} -> [(b0,()),(b0,()),...]\n",
    "    ### to plot using gudhi\n",
    "    \n",
    "    if saveDir and type(saveDir)==str:\n",
    "        f=open(saveDir,\"w\")\n",
    "        json.dump(timedgms,f)\n",
    "    elif saveDir !=0:\n",
    "        saveDir=f\"Z:/data/micelles/topDat/{comptemp[0]}_{comptemp[1]}_t{t+1}PH.json\"\n",
    "        f=open(saveDir,\"w\")\n",
    "        json.dump(timedgms,f)\n",
    "        f.close()\n",
    "    if retDgms:\n",
    "        return timedgms\n",
    "            \n",
    "        \n",
    " "
   ]
  },
  {
   "cell_type": "code",
   "execution_count": null,
   "id": "9be5bfa2",
   "metadata": {},
   "outputs": [],
   "source": []
  },
  {
   "cell_type": "code",
   "execution_count": null,
   "id": "8798bff5",
   "metadata": {},
   "outputs": [],
   "source": [
    "def dgmGrabGro(gro,maxH=2,thresh=0,roundDig=5,saveDir=None,retDgms=False): #assume 3D for now\n",
    "    #dat=p0Gro.xyz[0,:] #time 0\n",
    "    timedgms={t:dict() for t in range(len(gro.xyz))}\n",
    "    t=-1\n",
    "    for dat in gro.xyz:\n",
    "        t+=1\n",
    "        ac = gudhi.AlphaComplex(dat)\n",
    "        st = ac.create_simplex_tree()\n",
    "        dgm=st.persistence()\n",
    "        dgms={b:[] for b in range(maxH+1)}\n",
    "        if thresh!=0:\n",
    "            for i in dgm:\n",
    "                lifetime=round(i[1][1]-i[1][0],roundDig)\n",
    "                if lifetime>=thresh:\n",
    "                    dgms[i[0]].append(i[1])\n",
    "        else:\n",
    "            for i in dgm:\n",
    "                dgms[i[0]].append(i[1])\n",
    "        timedgms[t]=dgms\n",
    "    \n",
    "    ### timedgms will need to be converted back to {b:[(),...]} -> [(b0,()),(b0,()),...]\n",
    "    ### to plot using gudhi\n",
    "    \n",
    "    if saveDir and type(saveDir)==str:\n",
    "        f=open(saveDir+f\"_t{t+1}PH.json\",\"w\")\n",
    "        json.dump(timedgms,f)\n",
    "    elif saveDir !=0:\n",
    "        saveDir=f\"Z:/data/micelles/topDat/{comptemp[0]}_{comptemp[1]}_t{t+1}PH.json\"\n",
    "        f=open(saveDir,\"w\")\n",
    "        json.dump(timedgms,f)\n",
    "        f.close()\n",
    "    if retDgms:\n",
    "        return timedgms\n",
    "            \n",
    "        \n",
    " "
   ]
  },
  {
   "cell_type": "code",
   "execution_count": null,
   "id": "8daa03cf",
   "metadata": {},
   "outputs": [],
   "source": [
    "polyComp=['L64', 'P104', 'P123', 'P65', 'P84', 'P85']"
   ]
  },
  {
   "cell_type": "code",
   "execution_count": null,
   "id": "10e860a9",
   "metadata": {},
   "outputs": [],
   "source": [
    "#Load a testdat\n",
    "comp=polyComp[0]\n",
    "temp=temps[0]\n",
    "\n",
    "\n",
    "dgmGrabP0((comp,temp),thresh=.05)"
   ]
  },
  {
   "cell_type": "code",
   "execution_count": null,
   "id": "01144dd3",
   "metadata": {},
   "outputs": [],
   "source": []
  },
  {
   "cell_type": "code",
   "execution_count": null,
   "id": "128a434b",
   "metadata": {},
   "outputs": [],
   "source": []
  },
  {
   "cell_type": "code",
   "execution_count": null,
   "id": "45a4a058",
   "metadata": {},
   "outputs": [],
   "source": [
    "inDir=\"Z:/data/micelles\"\n",
    "try:\n",
    "    os.mkdir(f\"{inDir}/topDat_eps05/\")\n",
    "except:\n",
    "    pass\n",
    "\n",
    "for comp in polyComp:\n",
    "    try:\n",
    "        os.mkdir(f\"{inDir}/topDat_eps05/{comp}\")\n",
    "    except:\n",
    "        pass\n",
    "\n",
    "\n",
    "for comp in polyComp:\n",
    "    for temp in temps:\n",
    "        #dgmGrabP0((comp,temp),thresh=.05)\n",
    "        outDir=f\"{comp}/{comp}_{temp}\"\n",
    "        groFile=load(f\"{inDir}/Micelles_identification/{outDir}.gro\")\n",
    "        p0Index=[a.index for a in groFile.topology.atoms if a.name.find('PO')!=-1]\n",
    "        groFile=groFile.restrict_atoms(p0Index)\n",
    "\n",
    "        dgmGrabGro(groFile,thresh=0.05,saveDir=f\"{inDir}/topDat_eps05/{outDir}\")\n",
    "        \n",
    "        groFile=load(f\"{inDir}/Micelles_identification/{comp}/{comp}_ini_{temp}.gro\")\n",
    "        p0Index=[a.index for a in groFile.topology.atoms if a.name.find('PO')!=-1]\n",
    "        groFile=groFile.restrict_atoms(p0Index)\n",
    "        dgmGrabGro(groFile,thresh=0.05,saveDir=f\"{inDir}/topDat_eps05/{comp}/{comp}_ini_{temp}\")"
   ]
  },
  {
   "cell_type": "code",
   "execution_count": null,
   "id": "dcd56dba",
   "metadata": {},
   "outputs": [],
   "source": [
    "for comp in ['High_conc']:\n",
    "    try:\n",
    "        os.mkdir(f\"{inDir}/topDat_eps05/{comp}\")\n",
    "        os.mkdir(f\"{inDir}/topDat_eps05/{comp}/P103\")\n",
    "    except:\n",
    "        pass\n",
    "\n",
    "groFile=mdtraj.load(f\"{inDir}/Micelles_identification/High_conc/P103/P103_25.gro\")\n",
    "p0Index=[a.index for a in groFile.topology.atoms if a.name.find('PO')!=-1]\n",
    "groFile=groFile.restrict_atoms(p0Index)\n",
    "dgmGrabGro(groFile,thresh=.05,saveDir=f\"{inDir}/topDat_eps05/High_conc/P103/P103_HC_25\")\n",
    "groFile=mdtraj.load(f\"{inDir}/Micelles_identification/High_conc/P103/P103_35.gro\")\n",
    "p0Index=[a.index for a in groFile.topology.atoms if a.name.find('PO')!=-1]\n",
    "groFile=groFile.restrict_atoms(p0Index)\n",
    "dgmGrabGro(groFile,thresh=.05,saveDir=f\"{inDir}/topDat_eps05/High_conc/P103/P103_HC_35\")"
   ]
  },
  {
   "cell_type": "code",
   "execution_count": null,
   "id": "9d40b503",
   "metadata": {},
   "outputs": [],
   "source": []
  },
  {
   "cell_type": "markdown",
   "id": "af1d434d",
   "metadata": {},
   "source": [
    "# Dynamics of Simplicial Complex"
   ]
  },
  {
   "cell_type": "code",
   "execution_count": null,
   "id": "4a8d68ab",
   "metadata": {},
   "outputs": [],
   "source": []
  },
  {
   "cell_type": "code",
   "execution_count": null,
   "id": "f91a824c",
   "metadata": {},
   "outputs": [],
   "source": [
    "res=[1200,1200]\n",
    "def genTimeCluster(groFile,alpha=.05,saveName=None,cam=dict(eye=dict(x=.75, y=2, z=.25)),titPref=\"\",clustCount=True,dt=1): #assume 3D for now\n",
    "    if len(groFile.xyz.shape)==3:\n",
    "        t=0\n",
    "        for dat in groFile.xyz:\n",
    "            ac = gudhi.AlphaComplex(dat)\n",
    "            st = ac.create_simplex_tree()\n",
    "            skel=list(st.get_skeleton(2))\n",
    "            skel.sort(key=lambda s: s[1])\n",
    "            points = np.array([ac.get_point(i) for i in range(st.num_vertices())])\n",
    "            lims=[[np.floor(np.min(dat[:,i])),np.ceil(np.max(dat[:,i]))] for i in range(3)]\n",
    "            \n",
    "            sfig=[\n",
    "                    go.Scatter3d(\n",
    "                        x = points[:, 0],\n",
    "                        y = points[:, 1],\n",
    "                        z = points[:, 2],\n",
    "                        mode='markers',\n",
    "                        marker=dict(\n",
    "                            size=1,\n",
    "                            color=\"cornflowerblue\",                # set color to an array/list of desired values\n",
    "                            #colorscale='Viridis',   # choose a colorscale\n",
    "                            opacity=.9\n",
    "                        ),\n",
    "                        name='H0'\n",
    "                        )\n",
    "            ]\n",
    "            \n",
    "            b1s=np.array([s[0] for s in skel if len(s[0]) == 2 and s[1] <= alpha])\n",
    "\n",
    "            linepts={0:[],1:[],2:[]}\n",
    "            for i in b1s:\n",
    "                linepts[0].append(points[i[0],0])\n",
    "                linepts[1].append(points[i[0],1])\n",
    "                linepts[2].append(points[i[0],2])\n",
    "                linepts[0].append(points[i[1],0])\n",
    "                linepts[1].append(points[i[1],1])\n",
    "                linepts[2].append(points[i[1],2])\n",
    "\n",
    "                linepts[0].append(None)\n",
    "                linepts[1].append(None)\n",
    "                linepts[2].append(None)\n",
    "\n",
    "            if len(linepts[0])>0:\n",
    "                lins=go.Scatter3d(\n",
    "                    x=linepts[0],\n",
    "                    y=linepts[1],\n",
    "                    z=linepts[2],\n",
    "                    mode='lines',\n",
    "                    name='H1',\n",
    "                    marker=dict(\n",
    "                        size=3,\n",
    "                        color=\"#d55e00\",                # set color to an array/list of desired values\n",
    "                        #colorscale='Viridis',   # choose a colorscale\n",
    "                        opacity=.85\n",
    "                    )\n",
    "                )\n",
    "                sfig.append(lins)\n",
    "                triangles = np.array([s[0] for s in skel if len(s[0]) == 3 and s[1] <= alpha])\n",
    "                if len(triangles)>0:\n",
    "                    mesh = go.Mesh3d(\n",
    "                        x = points[:, 0],\n",
    "                        y = points[:, 1],\n",
    "                        z = points[:, 2],\n",
    "                        i = triangles[:, 0],\n",
    "                        j = triangles[:, 1],\n",
    "                        k = triangles[:, 2],\n",
    "                        color=\"#009e73\",\n",
    "                        opacity=.75,\n",
    "                        name='H2'\n",
    "                    )\n",
    "                    sfig.append(mesh)\n",
    "            tit=f\"{titPref}       :       Simplicial complex with radius <= {round(float(alpha),5)}       \\t\\t\\tFrame:  {t*dt} ns\"\n",
    "            if clustCount:\n",
    "                dgm=st.persistence()\n",
    "                clustCount=len([i[1][1] for i in dgm if i[0]==0 and i[1][1]>alpha])\n",
    "                tit+=f\"       :       Cluster Count  =  {clustCount}\"\n",
    "            fig=go.Figure(data=sfig,layout=go.Layout(width=res[0],height=res[1],\n",
    "                                                     title=tit,\n",
    "                                                     scene_camera=cam\n",
    "                                                    ))\n",
    "            if type(saveName)==str:\n",
    "                fig.write_json(file=saveName+f\"t{t}.json\",engine=\"auto\")\n",
    "                fig.write_image(file=saveName+f\"t{t}.png\")\n",
    "            t+=1\n",
    "    else:\n",
    "        print(\"err in .xyz grab on input\")\n",
    "        return"
   ]
  },
  {
   "cell_type": "code",
   "execution_count": null,
   "id": "5e4dba09",
   "metadata": {},
   "outputs": [],
   "source": [
    "comp=polyComp[-1]\n",
    "temp=temps[1]\n",
    "groFile=load(f\"{polyComp[-1]}/{polyComp[-1]}_{temps[1]}.gro\")#comptemp=(comp,temp)\n",
    "p0Index=[a.index for a in groFile.topology.atoms if a.name.find('PO')!=-1]\n",
    "p0Gro=groFile.restrict_atoms(p0Index)\n",
    "\n",
    "alp=.05\n",
    "saveDir=r\"C:\\code\\git\\topML\\frames\\\\\"\n",
    "\n",
    "try:\n",
    "    os.mkdir(saveDir+f\"{comp}_{temp}\")\n",
    "except:\n",
    "    pass\n",
    "\n",
    "saveName=saveDir+\"/\"+f\"{comp}_{temp}/{comp}_{temp}_{alp}\"\n"
   ]
  },
  {
   "cell_type": "code",
   "execution_count": null,
   "id": "2099951a",
   "metadata": {},
   "outputs": [],
   "source": [
    "\n",
    "genTimeCluster(p0Gro,saveName=saveName)"
   ]
  },
  {
   "cell_type": "code",
   "execution_count": null,
   "id": "ca4348e9",
   "metadata": {},
   "outputs": [],
   "source": [
    "osout=os.system(f\"ffmpeg -r 5 -f image2 -s 1000x1000 -i /mnt/c/code/git/topML/frames/P85_20_0.05t%d.png -vcodec libx264 -crf 18 /mnt/c/code/git/topML/frames/test2.mp4\")"
   ]
  },
  {
   "cell_type": "code",
   "execution_count": null,
   "id": "95daeef7",
   "metadata": {},
   "outputs": [],
   "source": [
    "osout"
   ]
  },
  {
   "cell_type": "code",
   "execution_count": null,
   "id": "7f18f853",
   "metadata": {},
   "outputs": [],
   "source": []
  },
  {
   "cell_type": "code",
   "execution_count": null,
   "id": "23fab419",
   "metadata": {},
   "outputs": [],
   "source": [
    "groFile=mdtraj.load(f\"High_conc/P103/P103_25.gro\")\n",
    "p0Index=[a.index for a in groFile.topology.atoms if a.name.find('PO')!=-1]\n",
    "p0Gro=groFile.restrict_atoms(p0Index)\n",
    "\n",
    "saveDir=r\"C:\\code\\git\\topML\\frames\\\\\"\n",
    "try:\n",
    "    os.mkdir(saveDir+f\"High_conc\")\n",
    "except:\n",
    "    pass\n",
    "\n",
    "alp=.05\n",
    "saveName=saveDir+\"/High_conc/\"+f\"P103_25_{alp}\"\n",
    "genTimeCluster(p0Gro,alpha=alp,saveName=saveName)"
   ]
  },
  {
   "cell_type": "code",
   "execution_count": null,
   "id": "1f15d37b",
   "metadata": {},
   "outputs": [],
   "source": [
    "os.system(f\"ffmpeg -r 5 -f image2 -s 1000x1000 -i /mnt/c/code/git/topML/frames/High_conc/P103_25_0.05t%d.png -vcodec libx264 -crf 18 /mnt/c/code/git/topML/frames/High_conc/P103_25_a05.mp4\")"
   ]
  },
  {
   "cell_type": "code",
   "execution_count": null,
   "id": "9dbf3a3b",
   "metadata": {},
   "outputs": [],
   "source": [
    "\n",
    "groFile=mdtraj.load(f\"P85/P85_ini_20.gro\")\n",
    "p0Index=[a.index for a in groFile.topology.atoms if a.name.find('PO')!=-1]\n",
    "p0Gro=groFile.restrict_atoms(p0Index)\n",
    "\n",
    "#saveDir=r\"C:\\code\\git\\topML\\frames\\\\\"\n",
    "saveName=f\"/mnt/c/code/git/topML/frames/\"\n",
    "try:\n",
    "    os.mkdir(saveDir+f\"init\")\n",
    "except:\n",
    "    pass\n",
    "\n",
    "alp=.05\n",
    "saveName=saveDir+\"/init/\"+f\"P85_ini_20_{alp}\"\n",
    "genTimeCluster(p0Gro,alpha=alp,saveName=saveName)"
   ]
  },
  {
   "cell_type": "code",
   "execution_count": null,
   "id": "dc9ee70c",
   "metadata": {},
   "outputs": [],
   "source": [
    "os.system(f\"ffmpeg -r 5 -f image2 -s 1000x1000 -i /mnt/c/code/git/topML/frames/init/P85_ini_20_0.05t%d.png -vcodec libx264 -crf 18 /mnt/c/code/git/topML/frames/init/P85_ini_20_a05.mp4\")"
   ]
  },
  {
   "cell_type": "code",
   "execution_count": null,
   "id": "913ed2e0",
   "metadata": {},
   "outputs": [],
   "source": []
  },
  {
   "cell_type": "code",
   "execution_count": null,
   "id": "a1fd92a0",
   "metadata": {},
   "outputs": [],
   "source": [
    "groName=\"P85_ini_20\"\n",
    "titPref=f\"{groName[:-3]} @ {groName[-2:]}\" + \" \\u00B0 C\" # title prefix\n",
    "groFile=mdtraj.load(f\"{groName[:groName.find('_')]}/{groName}.gro\")\n",
    "p0Index=[a.index for a in groFile.topology.atoms if a.name.find('PO')!=-1]\n",
    "p0Gro=groFile.restrict_atoms(p0Index)\n",
    "\n",
    "#saveDir=r\"C:\\code\\git\\topML\\frames\\\\\"\n",
    "saveDir=f\"/mnt/c/code/git/topML/frames/\"\n",
    "try:\n",
    "    os.mkdir(saveDir+f\"init\")\n",
    "except:\n",
    "    pass\n",
    "\n",
    "\n",
    "dt=4 #4 ns between frame I believe \n",
    "alp=.05\n",
    "saveName=saveDir+\"/init/\"+f\"{groName}_{alp}\"\n",
    "counter=True\n",
    "genTimeCluster(p0Gro,alpha=alp,saveName=saveName,titPref=titPref,dt=dt,clustCount=counter)"
   ]
  },
  {
   "cell_type": "code",
   "execution_count": null,
   "id": "4da7a4e6",
   "metadata": {},
   "outputs": [],
   "source": [
    "print(\"\\u00B0\")"
   ]
  },
  {
   "cell_type": "code",
   "execution_count": null,
   "id": "bffcc6cf",
   "metadata": {},
   "outputs": [],
   "source": [
    "def saveMov(saveNameBase,res,fps,outName,tryRm=True, delFileCheck = lambda f: f.find(\".png\")!=-1 or f.find(\".jpg\")!=-1 or f.find(\".json\")!=-1):\n",
    "    osout=os.system(f\"ffmpeg -r {fps} -f image2 -s {res[0]}x{res[1]} -i {saveNameBase}t%d.png -vcodec libx264 -crf 18 {outName}.mp4\")\n",
    "    if osout==0 and tryRm:\n",
    "        rootDir=saveNameBase[:-1* saveNameBase[::-1].find(\"/\")]\n",
    "        for f in os.listdir(rootDir):\n",
    "            if delFileCheck(f):\n",
    "                try:\n",
    "                    os.remove(f\"{rootDir}{f}\")\n",
    "                except:\n",
    "                    print(f\"del error! \\t {rootDir}{f}\\n\\n\")\n",
    "                    break"
   ]
  },
  {
   "cell_type": "code",
   "execution_count": null,
   "id": "0448c917",
   "metadata": {},
   "outputs": [],
   "source": [
    "saveName=f\"/mnt/c/code/git/topML/frames/init/P85_ini_20_{alp}\"\n",
    "fps=5\n",
    "tryRm=True\n",
    "res=[1200,1200]\n",
    "outName=f\"/mnt/c/code/git/topML/frames/{groName}_{alp}\"\n",
    "saveMov(saveName,res,fps,outName,tryRm=tryRm)"
   ]
  },
  {
   "cell_type": "code",
   "execution_count": null,
   "id": "098847a1",
   "metadata": {},
   "outputs": [],
   "source": [
    "for groName in [\"P123_ini_20\",\"P123_ini_40\",\"P85_ini_40\",\"P85_ini_20\"]:\n",
    "    titPref=f\"{groName[:-3]} @ {groName[-2:]}\" + \" \\u00B0 C\"\n",
    "    groFile=mdtraj.load(f\"{groName[:groName.find('_')]}/{groName}.gro\")\n",
    "    p0Index=[a.index for a in groFile.topology.atoms if a.name.find('PO')!=-1]\n",
    "    p0Gro=groFile.restrict_atoms(p0Index)\n",
    "\n",
    "    #saveDir=r\"C:\\code\\git\\topML\\frames\\\\\"\n",
    "    saveDir=f\"/mnt/c/code/git/topML/frames/\"\n",
    "\n",
    "\n",
    "    dt=10 #10 ns between frame I believe \n",
    "    alp=.05\n",
    "    saveName=saveDir+\"/init/\"+f\"{groName}_{alp}\"\n",
    "    counter=True\n",
    "    genTimeCluster(p0Gro,alpha=alp,saveName=saveName,titPref=titPref,dt=dt,clustCount=counter)\n",
    "    \n",
    "    \n",
    "    fps=5\n",
    "    tryRm=True\n",
    "    res=[1200,1200]\n",
    "    outName=f\"/mnt/c/code/git/topML/frames/{groName}_{alp}\"\n",
    "    saveMov(saveName,res,fps,outName,tryRm=tryRm)"
   ]
  },
  {
   "cell_type": "code",
   "execution_count": null,
   "id": "fc0e2e44",
   "metadata": {},
   "outputs": [],
   "source": [
    "#finally just save the persistence diagrams from these bois to show in the paper"
   ]
  }
 ],
 "metadata": {
  "kernelspec": {
   "display_name": "Python 3 (ipykernel)",
   "language": "python",
   "name": "python3"
  },
  "language_info": {
   "codemirror_mode": {
    "name": "ipython",
    "version": 3
   },
   "file_extension": ".py",
   "mimetype": "text/x-python",
   "name": "python",
   "nbconvert_exporter": "python",
   "pygments_lexer": "ipython3",
   "version": "3.9.12"
  }
 },
 "nbformat": 4,
 "nbformat_minor": 5
}
