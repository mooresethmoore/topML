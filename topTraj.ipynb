{
 "cells": [
  {
   "cell_type": "code",
   "execution_count": 1,
   "id": "557ab4a5",
   "metadata": {},
   "outputs": [],
   "source": [
    "import os\n",
    "import sys"
   ]
  },
  {
   "cell_type": "code",
   "execution_count": 2,
   "id": "32664cd3",
   "metadata": {},
   "outputs": [],
   "source": [
    "import numpy as np\n",
    "import pandas as pd\n",
    "import matplotlib.pyplot as plt\n",
    "from mpl_toolkits.mplot3d import Axes3D\n",
    "import pickle\n",
    "from skimage.filters import threshold_otsu\n",
    "from scipy.ndimage import distance_transform_edt\n",
    "from scipy.spatial import distance\n",
    "import gudhi, gudhi.hera, gudhi.wasserstein, persim\n",
    "import json"
   ]
  },
  {
   "cell_type": "code",
   "execution_count": 3,
   "id": "b7fa42d9",
   "metadata": {},
   "outputs": [
    {
     "data": {
      "text/html": [
       "        <script type=\"text/javascript\">\n",
       "        window.PlotlyConfig = {MathJaxConfig: 'local'};\n",
       "        if (window.MathJax && window.MathJax.Hub && window.MathJax.Hub.Config) {window.MathJax.Hub.Config({SVG: {font: \"STIX-Web\"}});}\n",
       "        if (typeof require !== 'undefined') {\n",
       "        require.undef(\"plotly\");\n",
       "        requirejs.config({\n",
       "            paths: {\n",
       "                'plotly': ['https://cdn.plot.ly/plotly-2.14.0.min']\n",
       "            }\n",
       "        });\n",
       "        require(['plotly'], function(Plotly) {\n",
       "            window._Plotly = Plotly;\n",
       "        });\n",
       "        }\n",
       "        </script>\n",
       "        "
      ]
     },
     "metadata": {},
     "output_type": "display_data"
    }
   ],
   "source": [
    "import plotly\n",
    "from plotly.graph_objs import graph_objs as go\n",
    "import ipywidgets as widgets\n",
    "plotly.offline.init_notebook_mode(connected=True)\n",
    "from plotly.offline import iplot"
   ]
  },
  {
   "cell_type": "code",
   "execution_count": 4,
   "id": "99cbeb33",
   "metadata": {},
   "outputs": [],
   "source": [
    "import mdtraj\n",
    "from mdtraj import load"
   ]
  },
  {
   "cell_type": "code",
   "execution_count": null,
   "id": "db2986ba",
   "metadata": {},
   "outputs": [],
   "source": []
  },
  {
   "cell_type": "code",
   "execution_count": 5,
   "id": "db9be045",
   "metadata": {},
   "outputs": [],
   "source": [
    "#os.chdir(r\"C:\\code\\data\\Micelles_identification\")\n",
    "#os.chdir(\"/mnt/c/code/data/Micelles_identification\")\n",
    "os.chdir(r\"Z:\\data\\micelles\\Micelles_identification\")"
   ]
  },
  {
   "cell_type": "code",
   "execution_count": 6,
   "id": "f78ab724",
   "metadata": {},
   "outputs": [
    {
     "data": {
      "text/plain": [
       "['L64', 'P104', 'P123', 'P65', 'P84', 'P85']"
      ]
     },
     "execution_count": 6,
     "metadata": {},
     "output_type": "execute_result"
    }
   ],
   "source": [
    "polyComp=os.listdir()\n",
    "polyComp=[i for i in polyComp if i.find(\".\")==-1 and i!=\"High_conc\"] #get rid of actionList if present -> do High_conc separately\n",
    "polyComp"
   ]
  },
  {
   "cell_type": "code",
   "execution_count": 7,
   "id": "3ee8acc0",
   "metadata": {},
   "outputs": [
    {
     "data": {
      "text/plain": [
       "[10, 20, 30, 40, 50]"
      ]
     },
     "execution_count": 7,
     "metadata": {},
     "output_type": "execute_result"
    }
   ],
   "source": [
    "temps=[int(i)*10 for i in range(1,6)]\n",
    "temps"
   ]
  },
  {
   "cell_type": "code",
   "execution_count": null,
   "id": "eea711cd",
   "metadata": {},
   "outputs": [],
   "source": []
  },
  {
   "cell_type": "markdown",
   "id": "7131fdf3",
   "metadata": {},
   "source": [
    "# animSliderCode"
   ]
  },
  {
   "cell_type": "code",
   "execution_count": 12,
   "id": "91c2eef7",
   "metadata": {},
   "outputs": [],
   "source": [
    "def genAlphaSlider(dat,initial=.05,step=.25,maximum=20): #assume 3D for now\n",
    "    ac = gudhi.AlphaComplex(dat)\n",
    "    st = ac.create_simplex_tree()\n",
    "    skel=list(st.get_skeleton(2))\n",
    "    skel.sort(key=lambda s: s[1])\n",
    "    points = np.array([ac.get_point(i) for i in range(st.num_vertices())])\n",
    "    lims=[[np.floor(np.min(dat[:,i])),np.ceil(np.max(dat[:,i]))] for i in range(3)]\n",
    "    alpha = widgets.FloatSlider(\n",
    "        value = initial,\n",
    "        min = 0.0,\n",
    "        max = maximum,\n",
    "        step = step,\n",
    "        description = 'Alpha:',\n",
    "        readout_format = '.4f'\n",
    "    )\n",
    "\n",
    "\n",
    "\n",
    "    b1s=np.array([s[0] for s in skel if len(s[0]) == 2 and s[1] <= alpha.value])\n",
    "    triangles = np.array([s[0] for s in skel if len(s[0]) == 3 and s[1] <= alpha.value])\n",
    "\n",
    "\n",
    "    pts=go.Scatter3d(\n",
    "        x = points[:, 0],\n",
    "        y = points[:, 1],\n",
    "        z = points[:, 2],\n",
    "        mode='markers',\n",
    "        marker=dict(\n",
    "            size=2,\n",
    "            color=\"cornflowerblue\",                # set color to an array/list of desired values\n",
    "            #colorscale='Viridis',   # choose a colorscale\n",
    "            opacity=.9\n",
    "        ),\n",
    "        name='H0'\n",
    "\n",
    "    )\n",
    "\n",
    "    sfig=[pts]\n",
    "\n",
    "    linepts={0:[],1:[],2:[]}\n",
    "    for i in b1s:\n",
    "        linepts[0].append(points[i[0],0])\n",
    "        linepts[1].append(points[i[0],1])\n",
    "        linepts[2].append(points[i[0],2])\n",
    "        linepts[0].append(points[i[1],0])\n",
    "        linepts[1].append(points[i[1],1])\n",
    "        linepts[2].append(points[i[1],2])\n",
    "\n",
    "        linepts[0].append(None)\n",
    "        linepts[1].append(None)\n",
    "        linepts[2].append(None)\n",
    "\n",
    "    if len(linepts[0])>0:\n",
    "        lins=go.Scatter3d(\n",
    "            x=linepts[0],\n",
    "            y=linepts[1],\n",
    "            z=linepts[2],\n",
    "            mode='lines',\n",
    "            name='H1',\n",
    "            marker=dict(\n",
    "                size=3,\n",
    "                color=\"#d55e00\",                # set color to an array/list of desired values\n",
    "                #colorscale='Viridis',   # choose a colorscale\n",
    "                opacity=.9\n",
    "            )\n",
    "        )\n",
    "        sfig.append(lins)\n",
    "        if len(triangles)>0:\n",
    "            mesh = go.Mesh3d(\n",
    "                x = points[:, 0],\n",
    "                y = points[:, 1],\n",
    "                z = points[:, 2],\n",
    "                i = triangles[:, 0],\n",
    "                j = triangles[:, 1],\n",
    "                k = triangles[:, 2],\n",
    "                color=\"#009e73\",\n",
    "                opacity=.75,\n",
    "                name='H2'\n",
    "            )\n",
    "\n",
    "\n",
    "            sfig.append(mesh)\n",
    "    fig=go.Figure(sfig)\n",
    "    fig.update_layout(width=800,height=800)\n",
    "    #fig.show()\n",
    "\n",
    "\n",
    "\n",
    "\n",
    "    def view_SC(alpha):\n",
    "        if alpha==0:\n",
    "            fig=go.Figure(sfig[0])\n",
    "            fig.show()\n",
    "        else:\n",
    "            b1s=np.array([s[0] for s in skel if len(s[0]) == 2 and s[1] <= alpha])\n",
    "\n",
    "            linepts={0:[],1:[],2:[]}\n",
    "            for i in b1s:\n",
    "                linepts[0].append(points[i[0],0])\n",
    "                linepts[1].append(points[i[0],1])\n",
    "                linepts[2].append(points[i[0],2])\n",
    "                linepts[0].append(points[i[1],0])\n",
    "                linepts[1].append(points[i[1],1])\n",
    "                linepts[2].append(points[i[1],2])\n",
    "\n",
    "                linepts[0].append(None)\n",
    "                linepts[1].append(None)\n",
    "                linepts[2].append(None)\n",
    "\n",
    "            if len(linepts[0])>0:\n",
    "                lins=go.Scatter3d(\n",
    "                    x=linepts[0],\n",
    "                    y=linepts[1],\n",
    "                    z=linepts[2],\n",
    "                    mode='lines',\n",
    "                    name='H1',\n",
    "                    marker=dict(\n",
    "                        size=3,\n",
    "                        color=\"#d55e00\",                # set color to an array/list of desired values\n",
    "                        #colorscale='Viridis',   # choose a colorscale\n",
    "                        opacity=.85\n",
    "                    )\n",
    "                )\n",
    "                if len(sfig)>1:\n",
    "                    sfig[1]=lins\n",
    "                else:\n",
    "                    sfig.append(lins)\n",
    "                triangles = np.array([s[0] for s in skel if len(s[0]) == 3 and s[1] <= alpha])\n",
    "                if len(triangles)>0:\n",
    "                    mesh = go.Mesh3d(\n",
    "                        x = points[:, 0],\n",
    "                        y = points[:, 1],\n",
    "                        z = points[:, 2],\n",
    "                        i = triangles[:, 0],\n",
    "                        j = triangles[:, 1],\n",
    "                        k = triangles[:, 2],\n",
    "                        color=\"#009e73\",\n",
    "                        opacity=.5,\n",
    "                        name='H2'\n",
    "                    )\n",
    "\n",
    "                    if len(sfig)>1:\n",
    "                        sfig[2]=mesh\n",
    "                    else:\n",
    "                        sfig.append(mesh)\n",
    "\n",
    "\n",
    "            fig=go.Figure(data=sfig,layout=go.Layout(width=800,height=800,\n",
    "                                                     title=f\"Simplicial complex with radius <= {round(float(alpha),5)}\",\n",
    "                                                    ))\n",
    "\n",
    "            #fig.show()\n",
    "            iplot(fig)\n",
    "\n",
    "\n",
    "    widgets.interact(view_SC, alpha = alpha);\n",
    "    return st"
   ]
  },
  {
   "cell_type": "code",
   "execution_count": 9,
   "id": "2aeb659e",
   "metadata": {},
   "outputs": [
    {
     "data": {
      "text/plain": [
       "['L64', 'P104', 'P123', 'P65', 'P84', 'P85']"
      ]
     },
     "execution_count": 9,
     "metadata": {},
     "output_type": "execute_result"
    }
   ],
   "source": [
    "polyComp"
   ]
  },
  {
   "cell_type": "code",
   "execution_count": 10,
   "id": "a39cf5e4",
   "metadata": {},
   "outputs": [],
   "source": [
    "#Load a testdat\n",
    "\n",
    "#comp=polyComp[0]\n",
    "comp=\"P85\"\n",
    "temp=temps[0]\n",
    "temp=30\n",
    "\n",
    "groFile=mdtraj.load(f\"{comp}/{comp}_{temp}.gro\")"
   ]
  },
  {
   "cell_type": "code",
   "execution_count": 10,
   "id": "7943bc76",
   "metadata": {},
   "outputs": [],
   "source": [
    "groFile=mdtraj.load(f\"High_conc/P103/P103_35.gro\")"
   ]
  },
  {
   "cell_type": "code",
   "execution_count": 15,
   "id": "6b2a0c84",
   "metadata": {},
   "outputs": [],
   "source": [
    "p0Index=[a.index for a in groFile.topology.atoms if a.name.find('PO')!=-1]\n",
    "p0Gro=groFile.restrict_atoms(p0Index)"
   ]
  },
  {
   "cell_type": "code",
   "execution_count": 16,
   "id": "d67b8906",
   "metadata": {},
   "outputs": [],
   "source": [
    "dat=p0Gro.xyz[0,:] #time 0"
   ]
  },
  {
   "cell_type": "code",
   "execution_count": 19,
   "id": "37b32c66",
   "metadata": {},
   "outputs": [],
   "source": [
    "dat=p0Gro.xyz[22,:]"
   ]
  },
  {
   "cell_type": "code",
   "execution_count": null,
   "id": "d27dceae",
   "metadata": {},
   "outputs": [],
   "source": []
  },
  {
   "cell_type": "code",
   "execution_count": 20,
   "id": "4184ac1e",
   "metadata": {
    "pycharm": {
     "is_executing": true
    }
   },
   "outputs": [
    {
     "data": {
      "application/vnd.jupyter.widget-view+json": {
       "model_id": "0d5ef518d51f4be29c232cef493ba9c4",
       "version_major": 2,
       "version_minor": 0
      },
      "text/plain": [
       "interactive(children=(FloatSlider(value=0.05, description='Alpha:', max=30.0, readout_format='.4f', step=0.5),…"
      ]
     },
     "metadata": {},
     "output_type": "display_data"
    }
   ],
   "source": [
    "st=genAlphaSlider(dat,initial=.05,step=.5,maximum=30)"
   ]
  },
  {
   "cell_type": "code",
   "execution_count": 23,
   "id": "dcca899f",
   "metadata": {},
   "outputs": [
    {
     "data": {
      "application/vnd.jupyter.widget-view+json": {
       "model_id": "4348c29234934db883eaf5ab63a0d5c5",
       "version_major": 2,
       "version_minor": 0
      },
      "text/plain": [
       "interactive(children=(FloatSlider(value=33.0, description='Alpha:', max=40.0, readout_format='.4f', step=0.5),…"
      ]
     },
     "metadata": {},
     "output_type": "display_data"
    }
   ],
   "source": [
    "st=genAlphaSlider(dat,initial=33,step=.5,maximum=40)"
   ]
  },
  {
   "cell_type": "code",
   "execution_count": 21,
   "id": "5316b2e9",
   "metadata": {},
   "outputs": [
    {
     "data": {
      "image/png": "[encoded data removed]",
      "text/plain": [
       "<Figure size 432x288 with 1 Axes>"
      ]
     },
     "metadata": {
      "needs_background": "light"
     },
     "output_type": "display_data"
    }
   ],
   "source": [
    "dgm=st.persistence()\n",
    "gudhi.plot_persistence_diagram(dgm, legend = True)\n",
    "plt.show()"
   ]
  },
  {
   "cell_type": "code",
   "execution_count": 8,
   "id": "34d068af",
   "metadata": {},
   "outputs": [
    {
     "ename": "NameError",
     "evalue": "name 'p0Gro' is not defined",
     "output_type": "error",
     "traceback": [
      "\u001B[1;31m---------------------------------------------------------------------------\u001B[0m",
      "\u001B[1;31mNameError\u001B[0m                                 Traceback (most recent call last)",
      "Input \u001B[1;32mIn [8]\u001B[0m, in \u001B[0;36m<cell line: 1>\u001B[1;34m()\u001B[0m\n\u001B[1;32m----> 1\u001B[0m dat\u001B[38;5;241m=\u001B[39m\u001B[43mp0Gro\u001B[49m\u001B[38;5;241m.\u001B[39mxyz[\u001B[38;5;241m0\u001B[39m,:] \u001B[38;5;66;03m#time 1\u001B[39;00m\n\u001B[0;32m      2\u001B[0m st\u001B[38;5;241m=\u001B[39mgenAlphaSlider(dat,initial\u001B[38;5;241m=\u001B[39m\u001B[38;5;241m.05\u001B[39m,step\u001B[38;5;241m=\u001B[39m\u001B[38;5;241m.5\u001B[39m,maximum\u001B[38;5;241m=\u001B[39m\u001B[38;5;241m30\u001B[39m)\n",
      "\u001B[1;31mNameError\u001B[0m: name 'p0Gro' is not defined"
     ]
    }
   ],
   "source": [
    "dat=p0Gro.xyz[0,:] #time 1\n",
    "st=genAlphaSlider(dat,initial=.05,step=.5,maximum=30)"
   ]
  },
  {
   "cell_type": "code",
   "execution_count": null,
   "id": "095d7b06",
   "metadata": {},
   "outputs": [],
   "source": [
    "dgm=st.persistence()\n",
    "gudhi.plot_persistence_diagram(dgm, legend = True)\n",
    "plt.show()"
   ]
  },
  {
   "cell_type": "code",
   "execution_count": null,
   "id": "e87b9e3a",
   "metadata": {},
   "outputs": [],
   "source": []
  },
  {
   "cell_type": "code",
   "execution_count": 11,
   "id": "407dc1e6",
   "metadata": {},
   "outputs": [
    {
     "data": {
      "application/vnd.jupyter.widget-view+json": {
       "model_id": "1a89840f9ebf46f6a808bd40e4d7fbd7",
       "version_major": 2,
       "version_minor": 0
      },
      "text/plain": [
       "interactive(children=(FloatSlider(value=0.05, description='Alpha:', max=30.0, readout_format='.4f', step=0.5),…"
      ]
     },
     "metadata": {},
     "output_type": "display_data"
    }
   ],
   "source": [
    "dat=p0Gro.xyz[1,:] #time 1\n",
    "st=genAlphaSlider(dat,initial=.05,step=.5,maximum=30)"
   ]
  },
  {
   "cell_type": "code",
   "execution_count": 12,
   "id": "4b1da541",
   "metadata": {},
   "outputs": [
    {
     "name": "stderr",
     "output_type": "stream",
     "text": [
      "usetex mode requires TeX.\n"
     ]
    },
    {
     "data": {
      "image/png": "[encoded data removed]",
      "text/plain": [
       "<Figure size 432x288 with 1 Axes>"
      ]
     },
     "metadata": {
      "needs_background": "light"
     },
     "output_type": "display_data"
    }
   ],
   "source": [
    "dgm=st.persistence()\n",
    "gudhi.plot_persistence_diagram(dgm, legend = True)\n",
    "plt.show()"
   ]
  },
  {
   "cell_type": "code",
   "execution_count": null,
   "id": "c0ecbfe9",
   "metadata": {},
   "outputs": [],
   "source": []
  },
  {
   "cell_type": "code",
   "execution_count": 13,
   "id": "1dfa79ab",
   "metadata": {},
   "outputs": [
    {
     "data": {
      "application/vnd.jupyter.widget-view+json": {
       "model_id": "e01994fd77d243c19a7bcf3a87f9083f",
       "version_major": 2,
       "version_minor": 0
      },
      "text/plain": [
       "interactive(children=(FloatSlider(value=0.05, description='Alpha:', max=30.0, readout_format='.4f', step=0.5),…"
      ]
     },
     "metadata": {},
     "output_type": "display_data"
    }
   ],
   "source": [
    "dat=p0Gro.xyz[2,:] #time 2\n",
    "st=genAlphaSlider(dat,initial=.05,step=.5,maximum=30)"
   ]
  },
  {
   "cell_type": "code",
   "execution_count": 14,
   "id": "a9ac74ae",
   "metadata": {},
   "outputs": [
    {
     "data": {
      "image/png": "[encoded data removed]",
      "text/plain": [
       "<Figure size 432x288 with 1 Axes>"
      ]
     },
     "metadata": {
      "needs_background": "light"
     },
     "output_type": "display_data"
    }
   ],
   "source": [
    "dgm=st.persistence()\n",
    "gudhi.plot_persistence_diagram(dgm, legend = True)\n",
    "plt.show()"
   ]
  },
  {
   "cell_type": "code",
   "execution_count": 15,
   "id": "479235df",
   "metadata": {},
   "outputs": [
    {
     "data": {
      "application/vnd.jupyter.widget-view+json": {
       "model_id": "9ccde5f4e1e34922b60b5383bb19e2ac",
       "version_major": 2,
       "version_minor": 0
      },
      "text/plain": [
       "interactive(children=(FloatSlider(value=0.05, description='Alpha:', max=30.0, readout_format='.4f', step=0.5),…"
      ]
     },
     "metadata": {},
     "output_type": "display_data"
    }
   ],
   "source": [
    "dat=p0Gro.xyz[3,:] #time 3\n",
    "st=genAlphaSlider(dat,initial=.05,step=.5,maximum=30)"
   ]
  },
  {
   "cell_type": "code",
   "execution_count": 16,
   "id": "72f6404f",
   "metadata": {},
   "outputs": [
    {
     "data": {
      "image/png": "[encoded data removed]",
      "text/plain": [
       "<Figure size 432x288 with 1 Axes>"
      ]
     },
     "metadata": {
      "needs_background": "light"
     },
     "output_type": "display_data"
    }
   ],
   "source": [
    "dgm=st.persistence()\n",
    "gudhi.plot_persistence_diagram(dgm, legend = True)\n",
    "plt.show()"
   ]
  },
  {
   "cell_type": "code",
   "execution_count": null,
   "id": "c54f1a53",
   "metadata": {},
   "outputs": [],
   "source": []
  },
  {
   "cell_type": "code",
   "execution_count": 8,
   "id": "cb328116",
   "metadata": {},
   "outputs": [
    {
     "ename": "NameError",
     "evalue": "name 'genAlphaSlider' is not defined",
     "output_type": "error",
     "traceback": [
      "\u001B[1;31m---------------------------------------------------------------------------\u001B[0m",
      "\u001B[1;31mNameError\u001B[0m                                 Traceback (most recent call last)",
      "Input \u001B[1;32mIn [8]\u001B[0m, in \u001B[0;36m<cell line: 4>\u001B[1;34m()\u001B[0m\n\u001B[0;32m      2\u001B[0m p0Index\u001B[38;5;241m=\u001B[39m[a\u001B[38;5;241m.\u001B[39mindex \u001B[38;5;28;01mfor\u001B[39;00m a \u001B[38;5;129;01min\u001B[39;00m groFile\u001B[38;5;241m.\u001B[39mtopology\u001B[38;5;241m.\u001B[39matoms \u001B[38;5;28;01mif\u001B[39;00m a\u001B[38;5;241m.\u001B[39mname\u001B[38;5;241m.\u001B[39mfind(\u001B[38;5;124m'\u001B[39m\u001B[38;5;124mPO\u001B[39m\u001B[38;5;124m'\u001B[39m)\u001B[38;5;241m!=\u001B[39m\u001B[38;5;241m-\u001B[39m\u001B[38;5;241m1\u001B[39m]\n\u001B[0;32m      3\u001B[0m p0Gro\u001B[38;5;241m=\u001B[39mgroFile\u001B[38;5;241m.\u001B[39mrestrict_atoms(p0Index)\n\u001B[1;32m----> 4\u001B[0m st\u001B[38;5;241m=\u001B[39m\u001B[43mgenAlphaSlider\u001B[49m(dat\u001B[38;5;241m=\u001B[39mp0Gro\u001B[38;5;241m.\u001B[39mxyz[\u001B[38;5;241m0\u001B[39m,:],initial\u001B[38;5;241m=\u001B[39m\u001B[38;5;241m.05\u001B[39m,step\u001B[38;5;241m=\u001B[39m\u001B[38;5;241m.5\u001B[39m,maximum\u001B[38;5;241m=\u001B[39m\u001B[38;5;241m30\u001B[39m)\n",
      "\u001B[1;31mNameError\u001B[0m: name 'genAlphaSlider' is not defined"
     ]
    }
   ],
   "source": [
    "groFile=mdtraj.load(f\"High_conc/P103/P103_25.gro\")\n",
    "p0Index=[a.index for a in groFile.topology.atoms if a.name.find('PO')!=-1]\n",
    "p0Gro=groFile.restrict_atoms(p0Index)\n",
    "st=genAlphaSlider(dat=p0Gro.xyz[0,:],initial=.05,step=.5,maximum=30)"
   ]
  },
  {
   "cell_type": "code",
   "execution_count": 20,
   "id": "81acb109",
   "metadata": {},
   "outputs": [
    {
     "data": {
      "image/png": "[encoded data removed]",
      "text/plain": [
       "<Figure size 432x288 with 1 Axes>"
      ]
     },
     "metadata": {
      "needs_background": "light"
     },
     "output_type": "display_data"
    }
   ],
   "source": [
    "dgm=st.persistence()\n",
    "gudhi.plot_persistence_diagram(dgm, legend = True)\n",
    "plt.show()"
   ]
  },
  {
   "cell_type": "code",
   "execution_count": 25,
   "id": "400667f3",
   "metadata": {},
   "outputs": [
    {
     "data": {
      "text/plain": [
       "17994"
      ]
     },
     "execution_count": 25,
     "metadata": {},
     "output_type": "execute_result"
    }
   ],
   "source": [
    "minim=.05\n",
    "sum([1 for i in dgm if i[0]==0])-sum([1 for i in dgm if i[0]==0 and i[1][1]-i[1][0]>minim])"
   ]
  },
  {
   "cell_type": "code",
   "execution_count": null,
   "id": "bc283e65",
   "metadata": {},
   "outputs": [],
   "source": [
    "b=0\n",
    "minim=.05 #how might we autodetermine this param in future data?\n",
    "bsub=[i[1][1] for i in dgm if i[0]==b and i[1][1]>minim and not np.isinf(i[1][1])]\n",
    "bsub.sort(key=lambda s: s)\n",
    "\n",
    "plt.hist(bsub,bins=100)"
   ]
  },
  {
   "cell_type": "code",
   "execution_count": null,
   "id": "1136a961",
   "metadata": {},
   "outputs": [],
   "source": []
  },
  {
   "cell_type": "code",
   "execution_count": null,
   "id": "00146b0d",
   "metadata": {},
   "outputs": [],
   "source": [
    "len(bsub)"
   ]
  },
  {
   "cell_type": "code",
   "execution_count": null,
   "id": "65108e9c",
   "metadata": {},
   "outputs": [],
   "source": [
    "bsub[:5]"
   ]
  },
  {
   "cell_type": "markdown",
   "id": "440ad7df",
   "metadata": {},
   "source": [
    "# Over a given polymer distribution\n",
    "- track time dep for given alpha (eg, .05)\n"
   ]
  },
  {
   "cell_type": "code",
   "execution_count": null,
   "id": "22bbcc74",
   "metadata": {},
   "outputs": [],
   "source": [
    "p0Gro.xyz[0].shape"
   ]
  },
  {
   "cell_type": "code",
   "execution_count": null,
   "id": "228f7578",
   "metadata": {},
   "outputs": [],
   "source": []
  },
  {
   "cell_type": "code",
   "execution_count": 27,
   "id": "4a1efa6a",
   "metadata": {},
   "outputs": [],
   "source": [
    "def dgmGrabP0(comptemp,maxH=2,thresh=0,roundDig=5,saveDir=None,retDgms=False): #assume 3D for now\n",
    "    groFile=load(f\"{comptemp[0]}/{comptemp[0]}_{comptemp[1]}.gro\")#comptemp=(comp,temp)\n",
    "    p0Index=[a.index for a in groFile.topology.atoms if a.name.find('PO')!=-1]\n",
    "    p0Gro=groFile.restrict_atoms(p0Index)\n",
    "    \n",
    "    #dat=p0Gro.xyz[0,:] #time 0\n",
    "    timedgms={t:dict() for t in range(len(p0Gro.xyz))}\n",
    "    t=-1\n",
    "    for dat in p0Gro.xyz:\n",
    "        t+=1\n",
    "        ac = gudhi.AlphaComplex(dat)\n",
    "        st = ac.create_simplex_tree()\n",
    "        dgm=st.persistence()\n",
    "        dgms={b:[] for b in range(maxH+1)}\n",
    "        if thresh!=0:\n",
    "            for i in dgm:\n",
    "                lifetime=round(i[1][1]-i[1][0],roundDig)\n",
    "                if lifetime>=thresh:\n",
    "                    dgms[i[0]].append(i[1])\n",
    "        else:\n",
    "            for i in dgm:\n",
    "                dgms[i[0]].append(i[1])\n",
    "        timedgms[t]=dgms\n",
    "    \n",
    "    ### timedgms will need to be converted back to {b:[(),...]} -> [(b0,()),(b0,()),...]\n",
    "    ### to plot using gudhi\n",
    "    \n",
    "    if saveDir and type(saveDir)==str:\n",
    "        f=open(saveDir,\"w\")\n",
    "        json.dump(timedgms,f)\n",
    "    elif saveDir !=0:\n",
    "        saveDir=f\"Z:/data/micelles/topDat/{comptemp[0]}_{comptemp[1]}_t{t+1}PH.json\"\n",
    "        f=open(saveDir,\"w\")\n",
    "        json.dump(timedgms,f)\n",
    "        f.close()\n",
    "    if retDgms:\n",
    "        return timedgms\n",
    "            \n",
    "        \n",
    " "
   ]
  },
  {
   "cell_type": "code",
   "execution_count": null,
   "id": "9be5bfa2",
   "metadata": {},
   "outputs": [],
   "source": []
  },
  {
   "cell_type": "code",
   "execution_count": 28,
   "id": "8798bff5",
   "metadata": {},
   "outputs": [],
   "source": [
    "def dgmGrabGro(gro,maxH=2,thresh=0,roundDig=5,saveDir=None,retDgms=False): #assume 3D for now\n",
    "    #dat=p0Gro.xyz[0,:] #time 0\n",
    "    timedgms={t:dict() for t in range(len(gro.xyz))}\n",
    "    t=-1\n",
    "    for dat in gro.xyz:\n",
    "        t+=1\n",
    "        ac = gudhi.AlphaComplex(dat)\n",
    "        st = ac.create_simplex_tree()\n",
    "        dgm=st.persistence()\n",
    "        dgms={b:[] for b in range(maxH+1)}\n",
    "        if thresh!=0:\n",
    "            for i in dgm:\n",
    "                lifetime=round(i[1][1]-i[1][0],roundDig)\n",
    "                if lifetime>=thresh:\n",
    "                    dgms[i[0]].append(i[1])\n",
    "        else:\n",
    "            for i in dgm:\n",
    "                dgms[i[0]].append(i[1])\n",
    "        timedgms[t]=dgms\n",
    "    \n",
    "    ### timedgms will need to be converted back to {b:[(),...]} -> [(b0,()),(b0,()),...]\n",
    "    ### to plot using gudhi\n",
    "    \n",
    "    if saveDir and type(saveDir)==str:\n",
    "        f=open(saveDir+f\"_t{t+1}PH.json\",\"w\")\n",
    "        json.dump(timedgms,f)\n",
    "    elif saveDir !=0:\n",
    "        saveDir=f\"Z:/data/micelles/topDat/{comptemp[0]}_{comptemp[1]}_t{t+1}PH.json\"\n",
    "        f=open(saveDir,\"w\")\n",
    "        json.dump(timedgms,f)\n",
    "        f.close()\n",
    "    if retDgms:\n",
    "        return timedgms\n",
    "            \n",
    "        \n",
    " "
   ]
  },
  {
   "cell_type": "code",
   "execution_count": 1,
   "id": "8daa03cf",
   "metadata": {},
   "outputs": [
    {
     "ename": "NameError",
     "evalue": "name 'polyComp' is not defined",
     "output_type": "error",
     "traceback": [
      "\u001B[0;31m---------------------------------------------------------------------------\u001B[0m",
      "\u001B[0;31mNameError\u001B[0m                                 Traceback (most recent call last)",
      "Input \u001B[0;32mIn [1]\u001B[0m, in \u001B[0;36m<cell line: 1>\u001B[0;34m()\u001B[0m\n\u001B[0;32m----> 1\u001B[0m \u001B[43mpolyComp\u001B[49m\n",
      "\u001B[0;31mNameError\u001B[0m: name 'polyComp' is not defined"
     ]
    }
   ],
   "source": [
    "polyComp=['L64', 'P104', 'P123', 'P65', 'P84', 'P85']"
   ]
  },
  {
   "cell_type": "code",
   "execution_count": null,
   "id": "10e860a9",
   "metadata": {},
   "outputs": [],
   "source": [
    "#Load a testdat\n",
    "comp=polyComp[0]\n",
    "temp=temps[0]\n",
    "\n",
    "\n",
    "dgmGrabP0((comp,temp),thresh=.05)"
   ]
  },
  {
   "cell_type": "code",
   "execution_count": 29,
   "id": "01144dd3",
   "metadata": {},
   "outputs": [],
   "source": []
  },
  {
   "cell_type": "code",
   "execution_count": null,
   "id": "128a434b",
   "metadata": {},
   "outputs": [],
   "source": []
  },
  {
   "cell_type": "code",
   "execution_count": 35,
   "id": "45a4a058",
   "metadata": {},
   "outputs": [],
   "source": [
    "inDir=\"Z:/data/micelles\"\n",
    "try:\n",
    "    os.mkdir(f\"{inDir}/topDat_eps05/\")\n",
    "except:\n",
    "    pass\n",
    "\n",
    "for comp in polyComp:\n",
    "    try:\n",
    "        os.mkdir(f\"{inDir}/topDat_eps05/{comp}\")\n",
    "    except:\n",
    "        pass\n",
    "\n",
    "\n",
    "for comp in polyComp:\n",
    "    for temp in temps:\n",
    "        #dgmGrabP0((comp,temp),thresh=.05)\n",
    "        outDir=f\"{comp}/{comp}_{temp}\"\n",
    "        groFile=load(f\"{inDir}/Micelles_identification/{outDir}.gro\")\n",
    "        p0Index=[a.index for a in groFile.topology.atoms if a.name.find('PO')!=-1]\n",
    "        groFile=groFile.restrict_atoms(p0Index)\n",
    "\n",
    "        dgmGrabGro(groFile,thresh=0.05,saveDir=f\"{inDir}/topDat_eps05/{outDir}\")\n",
    "        \n",
    "        groFile=load(f\"{inDir}/Micelles_identification/{comp}/{comp}_ini_{temp}.gro\")\n",
    "        p0Index=[a.index for a in groFile.topology.atoms if a.name.find('PO')!=-1]\n",
    "        groFile=groFile.restrict_atoms(p0Index)\n",
    "        dgmGrabGro(groFile,thresh=0.05,saveDir=f\"{inDir}/topDat_eps05/{comp}/{comp}_ini_{temp}\")"
   ]
  },
  {
   "cell_type": "code",
   "execution_count": 34,
   "id": "dcd56dba",
   "metadata": {},
   "outputs": [],
   "source": [
    "for comp in ['High_conc']:\n",
    "    try:\n",
    "        os.mkdir(f\"{inDir}/topDat_eps05/{comp}\")\n",
    "        os.mkdir(f\"{inDir}/topDat_eps05/{comp}/P103\")\n",
    "    except:\n",
    "        pass\n",
    "\n",
    "groFile=mdtraj.load(f\"{inDir}/Micelles_identification/High_conc/P103/P103_25.gro\")\n",
    "p0Index=[a.index for a in groFile.topology.atoms if a.name.find('PO')!=-1]\n",
    "groFile=groFile.restrict_atoms(p0Index)\n",
    "dgmGrabGro(groFile,thresh=.05,saveDir=f\"{inDir}/topDat_eps05/High_conc/P103/P103_HC_25\")\n",
    "groFile=mdtraj.load(f\"{inDir}/Micelles_identification/High_conc/P103/P103_35.gro\")\n",
    "p0Index=[a.index for a in groFile.topology.atoms if a.name.find('PO')!=-1]\n",
    "groFile=groFile.restrict_atoms(p0Index)\n",
    "dgmGrabGro(groFile,thresh=.05,saveDir=f\"{inDir}/topDat_eps05/High_conc/P103/P103_HC_35\")"
   ]
  },
  {
   "cell_type": "code",
   "execution_count": 19,
   "id": "9d40b503",
   "metadata": {},
   "outputs": [],
   "source": []
  },
  {
   "cell_type": "markdown",
   "id": "af1d434d",
   "metadata": {},
   "source": [
    "# Dynamics of Simplicial Complex"
   ]
  },
  {
   "cell_type": "code",
   "execution_count": null,
   "id": "4a8d68ab",
   "metadata": {},
   "outputs": [],
   "source": []
  },
  {
   "cell_type": "code",
   "execution_count": 22,
   "id": "f91a824c",
   "metadata": {},
   "outputs": [],
   "source": [
    "res=[1200,1200]\n",
    "def genTimeCluster(groFile,alpha=.05,saveName=None,cam=dict(eye=dict(x=.75, y=2, z=.25))): #assume 3D for now\n",
    "    if len(groFile.xyz.shape)==3:\n",
    "        t=0\n",
    "        for dat in groFile.xyz:\n",
    "            ac = gudhi.AlphaComplex(dat)\n",
    "            st = ac.create_simplex_tree()\n",
    "            skel=list(st.get_skeleton(2))\n",
    "            skel.sort(key=lambda s: s[1])\n",
    "            points = np.array([ac.get_point(i) for i in range(st.num_vertices())])\n",
    "            lims=[[np.floor(np.min(dat[:,i])),np.ceil(np.max(dat[:,i]))] for i in range(3)]\n",
    "            \n",
    "            sfig=[\n",
    "                    go.Scatter3d(\n",
    "                        x = points[:, 0],\n",
    "                        y = points[:, 1],\n",
    "                        z = points[:, 2],\n",
    "                        mode='markers',\n",
    "                        marker=dict(\n",
    "                            size=2,\n",
    "                            color=\"cornflowerblue\",                # set color to an array/list of desired values\n",
    "                            #colorscale='Viridis',   # choose a colorscale\n",
    "                            opacity=.9\n",
    "                        ),\n",
    "                        name='H0'\n",
    "                        )\n",
    "            ]\n",
    "            \n",
    "            b1s=np.array([s[0] for s in skel if len(s[0]) == 2 and s[1] <= alpha])\n",
    "\n",
    "            linepts={0:[],1:[],2:[]}\n",
    "            for i in b1s:\n",
    "                linepts[0].append(points[i[0],0])\n",
    "                linepts[1].append(points[i[0],1])\n",
    "                linepts[2].append(points[i[0],2])\n",
    "                linepts[0].append(points[i[1],0])\n",
    "                linepts[1].append(points[i[1],1])\n",
    "                linepts[2].append(points[i[1],2])\n",
    "\n",
    "                linepts[0].append(None)\n",
    "                linepts[1].append(None)\n",
    "                linepts[2].append(None)\n",
    "\n",
    "            if len(linepts[0])>0:\n",
    "                lins=go.Scatter3d(\n",
    "                    x=linepts[0],\n",
    "                    y=linepts[1],\n",
    "                    z=linepts[2],\n",
    "                    mode='lines',\n",
    "                    name='H1',\n",
    "                    marker=dict(\n",
    "                        size=3,\n",
    "                        color=\"#d55e00\",                # set color to an array/list of desired values\n",
    "                        #colorscale='Viridis',   # choose a colorscale\n",
    "                        opacity=.85\n",
    "                    )\n",
    "                )\n",
    "                sfig.append(lins)\n",
    "                triangles = np.array([s[0] for s in skel if len(s[0]) == 3 and s[1] <= alpha])\n",
    "                if len(triangles)>0:\n",
    "                    mesh = go.Mesh3d(\n",
    "                        x = points[:, 0],\n",
    "                        y = points[:, 1],\n",
    "                        z = points[:, 2],\n",
    "                        i = triangles[:, 0],\n",
    "                        j = triangles[:, 1],\n",
    "                        k = triangles[:, 2],\n",
    "                        color=\"#009e73\",\n",
    "                        opacity=.75,\n",
    "                        name='H2'\n",
    "                    )\n",
    "                    sfig.append(mesh)\n",
    "            fig=go.Figure(data=sfig,layout=go.Layout(width=res[0],height=res[1],\n",
    "                                                     title=f\"Simplicial complex with radius <= {round(float(alpha),5)} \\t\\t\\tFrame: {t}\",\n",
    "                                                     scene_camera=cam\n",
    "                                                    ))\n",
    "            if type(saveName)==str:\n",
    "                fig.write_json(file=saveName+f\"t{t}.json\",engine=\"auto\")\n",
    "                fig.write_image(file=saveName+f\"t{t}.png\")\n",
    "            t+=1\n",
    "    else:\n",
    "        print(\"err in .xyz grab on input\")\n",
    "        return"
   ]
  },
  {
   "cell_type": "code",
   "execution_count": null,
   "id": "5e4dba09",
   "metadata": {},
   "outputs": [],
   "source": [
    "comp=polyComp[-1]\n",
    "temp=temps[1]\n",
    "groFile=load(f\"{polyComp[-1]}/{polyComp[-1]}_{temps[1]}.gro\")#comptemp=(comp,temp)\n",
    "p0Index=[a.index for a in groFile.topology.atoms if a.name.find('PO')!=-1]\n",
    "p0Gro=groFile.restrict_atoms(p0Index)\n",
    "\n",
    "alp=.05\n",
    "saveDir=r\"C:\\code\\git\\topML\\frames\\\\\"\n",
    "\n",
    "try:\n",
    "    os.mkdir(saveDir+f\"{comp}_{temp}\")\n",
    "except:\n",
    "    pass\n",
    "\n",
    "saveName=saveDir+\"/\"+f\"{comp}_{temp}/{comp}_{temp}_{alp}\"\n"
   ]
  },
  {
   "cell_type": "code",
   "execution_count": null,
   "id": "2099951a",
   "metadata": {},
   "outputs": [],
   "source": [
    "\n",
    "genTimeCluster(p0Gro,saveName=saveName)"
   ]
  },
  {
   "cell_type": "code",
   "execution_count": null,
   "id": "ca4348e9",
   "metadata": {},
   "outputs": [],
   "source": [
    "os.system(f\"ffmpeg -r 5 -f image2 -s 1000x1000 -i /mnt/c/code/git/topML/frames/P85_20_0.05t%d.png -vcodec libx264 -crf 18 /mnt/c/code/git/topML/frames/test.mp4\")"
   ]
  },
  {
   "cell_type": "code",
   "execution_count": null,
   "id": "95daeef7",
   "metadata": {},
   "outputs": [],
   "source": []
  },
  {
   "cell_type": "code",
   "execution_count": 24,
   "id": "23fab419",
   "metadata": {},
   "outputs": [],
   "source": [
    "groFile=mdtraj.load(f\"High_conc/P103/P103_25.gro\")\n",
    "p0Index=[a.index for a in groFile.topology.atoms if a.name.find('PO')!=-1]\n",
    "p0Gro=groFile.restrict_atoms(p0Index)\n",
    "\n",
    "saveDir=r\"C:\\code\\git\\topML\\frames\\\\\"\n",
    "try:\n",
    "    os.mkdir(saveDir+f\"High_conc\")\n",
    "except:\n",
    "    pass\n",
    "\n",
    "alp=.05\n",
    "saveName=saveDir+\"/High_conc/\"+f\"P103_25_{alp}\"\n",
    "genTimeCluster(p0Gro,alpha=alp,saveName=saveName)"
   ]
  },
  {
   "cell_type": "code",
   "execution_count": null,
   "id": "1f15d37b",
   "metadata": {},
   "outputs": [],
   "source": [
    "os.system(f\"ffmpeg -r 5 -f image2 -s 1000x1000 -i /mnt/c/code/git/topML/frames/High_conc/P103_25_0.05t%d.png -vcodec libx264 -crf 18 /mnt/c/code/git/topML/frames/High_conc/P103_25_a05.mp4\")"
   ]
  },
  {
   "cell_type": "code",
   "execution_count": 29,
   "id": "9dbf3a3b",
   "metadata": {},
   "outputs": [],
   "source": [
    "groFile=mdtraj.load(f\"P85/P85_ini_20.gro\")\n",
    "p0Index=[a.index for a in groFile.topology.atoms if a.name.find('PO')!=-1]\n",
    "p0Gro=groFile.restrict_atoms(p0Index)\n",
    "\n",
    "saveDir=r\"C:\\code\\git\\topML\\frames\\\\\"\n",
    "try:\n",
    "    os.mkdir(saveDir+f\"init\")\n",
    "except:\n",
    "    pass\n",
    "\n",
    "alp=.05\n",
    "saveName=saveDir+\"/init/\"+f\"P85_ini_20_{alp}\"\n",
    "genTimeCluster(p0Gro,alpha=alp,saveName=saveName)"
   ]
  },
  {
   "cell_type": "code",
   "execution_count": null,
   "id": "dc9ee70c",
   "metadata": {},
   "outputs": [],
   "source": [
    "os.system(f\"ffmpeg -r 5 -f image2 -s 1000x1000 -i /mnt/c/code/git/topML/frames/init/P85_ini_20_0.05t%d.png -vcodec libx264 -crf 18 /mnt/c/code/git/topML/frames/init/P85_ini_20_a05.mp4\")"
   ]
  },
  {
   "cell_type": "code",
   "execution_count": null,
   "id": "b27b93a0",
   "metadata": {},
   "outputs": [],
   "source": []
  },
  {
   "cell_type": "code",
   "execution_count": null,
   "id": "59826e73",
   "metadata": {},
   "outputs": [],
   "source": []
  }
 ],
 "metadata": {
  "kernelspec": {
   "display_name": "Python 3 (ipykernel)",
   "language": "python",
   "name": "python3"
  },
  "language_info": {
   "codemirror_mode": {
    "name": "ipython",
    "version": 3
   },
   "file_extension": ".py",
   "mimetype": "text/x-python",
   "name": "python",
   "nbconvert_exporter": "python",
   "pygments_lexer": "ipython3",
   "version": "3.9.12"
  }
 },
 "nbformat": 4,
 "nbformat_minor": 5
}
