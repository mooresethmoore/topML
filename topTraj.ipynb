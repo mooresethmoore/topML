{
 "cells": [
  {
   "cell_type": "code",
   "execution_count": 2,
   "id": "557ab4a5",
   "metadata": {},
   "outputs": [],
   "source": [
    "import os\n",
    "import sys"
   ]
  },
  {
   "cell_type": "code",
   "execution_count": 3,
   "id": "32664cd3",
   "metadata": {},
   "outputs": [],
   "source": [
    "import numpy as np\n",
    "import pandas as pd\n",
    "import matplotlib.pyplot as plt\n",
    "from mpl_toolkits.mplot3d import Axes3D\n",
    "import pickle\n",
    "from skimage.filters import threshold_otsu\n",
    "from scipy.ndimage import distance_transform_edt\n",
    "from scipy.spatial import distance\n",
    "import gudhi, gudhi.hera, gudhi.wasserstein, persim\n",
    "import json"
   ]
  },
  {
   "cell_type": "code",
   "execution_count": 4,
   "id": "b7fa42d9",
   "metadata": {},
   "outputs": [
    {
     "data": {
      "text/html": [
       "        <script type=\"text/javascript\">\n",
       "        window.PlotlyConfig = {MathJaxConfig: 'local'};\n",
       "        if (window.MathJax && window.MathJax.Hub && window.MathJax.Hub.Config) {window.MathJax.Hub.Config({SVG: {font: \"STIX-Web\"}});}\n",
       "        if (typeof require !== 'undefined') {\n",
       "        require.undef(\"plotly\");\n",
       "        requirejs.config({\n",
       "            paths: {\n",
       "                'plotly': ['https://cdn.plot.ly/plotly-2.14.0.min']\n",
       "            }\n",
       "        });\n",
       "        require(['plotly'], function(Plotly) {\n",
       "            window._Plotly = Plotly;\n",
       "        });\n",
       "        }\n",
       "        </script>\n",
       "        "
      ]
     },
     "metadata": {},
     "output_type": "display_data"
    }
   ],
   "source": [
    "import plotly\n",
    "from plotly.graph_objs import graph_objs as go\n",
    "import ipywidgets as widgets\n",
    "plotly.offline.init_notebook_mode(connected=True)\n",
    "from plotly.offline import iplot"
   ]
  },
  {
   "cell_type": "code",
   "execution_count": 5,
   "id": "99cbeb33",
   "metadata": {},
   "outputs": [],
   "source": [
    "import mdtraj\n",
    "from mdtraj import load"
   ]
  },
  {
   "cell_type": "code",
   "execution_count": 37,
   "id": "db9be045",
   "metadata": {},
   "outputs": [],
   "source": [
    "#os.chdir(r\"C:\\code\\data\\Micelles_identification\")\n",
    "#os.chdir(\"/mnt/c/code/data/Micelles_identification\")\n",
    "os.chdir(r\"Z:\\data\\micelles\\Micelles_identification\")"
   ]
  },
  {
   "cell_type": "code",
   "execution_count": 7,
   "id": "f78ab724",
   "metadata": {},
   "outputs": [
    {
     "data": {
      "text/plain": [
       "['P104', 'P123', 'P84', 'P85']"
      ]
     },
     "execution_count": 7,
     "metadata": {},
     "output_type": "execute_result"
    }
   ],
   "source": [
    "polyComp=os.listdir()\n",
    "polyComp"
   ]
  },
  {
   "cell_type": "code",
   "execution_count": 8,
   "id": "3ee8acc0",
   "metadata": {},
   "outputs": [
    {
     "data": {
      "text/plain": [
       "[10, 20, 30, 40, 50]"
      ]
     },
     "execution_count": 8,
     "metadata": {},
     "output_type": "execute_result"
    }
   ],
   "source": [
    "temps=[int(i)*10 for i in range(1,6)]\n",
    "temps"
   ]
  },
  {
   "cell_type": "code",
   "execution_count": null,
   "id": "eea711cd",
   "metadata": {},
   "outputs": [],
   "source": []
  },
  {
   "cell_type": "markdown",
   "id": "7131fdf3",
   "metadata": {},
   "source": [
    "# animSliderCode"
   ]
  },
  {
   "cell_type": "code",
   "execution_count": 9,
   "id": "91c2eef7",
   "metadata": {},
   "outputs": [],
   "source": [
    "def genAlphaSlider(dat,initial=.05,step=.25,maximum=20): #assume 3D for now\n",
    "    ac = gudhi.AlphaComplex(dat)\n",
    "    st = ac.create_simplex_tree()\n",
    "    skel=list(st.get_skeleton(2))\n",
    "    skel.sort(key=lambda s: s[1])\n",
    "    points = np.array([ac.get_point(i) for i in range(st.num_vertices())])\n",
    "    lims=[[np.floor(np.min(dat[:,i])),np.ceil(np.max(dat[:,i]))] for i in range(3)]\n",
    "    alpha = widgets.FloatSlider(\n",
    "        value = initial,\n",
    "        min = 0.0,\n",
    "        max = maximum,\n",
    "        step = step,\n",
    "        description = 'Alpha:',\n",
    "        readout_format = '.4f'\n",
    "    )\n",
    "\n",
    "\n",
    "\n",
    "    b1s=np.array([s[0] for s in skel if len(s[0]) == 2 and s[1] <= alpha.value])\n",
    "    triangles = np.array([s[0] for s in skel if len(s[0]) == 3 and s[1] <= alpha.value])\n",
    "\n",
    "\n",
    "    pts=go.Scatter3d(\n",
    "        x = points[:, 0],\n",
    "        y = points[:, 1],\n",
    "        z = points[:, 2],\n",
    "        mode='markers',\n",
    "        marker=dict(\n",
    "            size=2,\n",
    "            color=\"cornflowerblue\",                # set color to an array/list of desired values\n",
    "            #colorscale='Viridis',   # choose a colorscale\n",
    "            opacity=.9\n",
    "        ),\n",
    "        name='H0'\n",
    "\n",
    "    )\n",
    "\n",
    "    sfig=[pts]\n",
    "\n",
    "    linepts={0:[],1:[],2:[]}\n",
    "    for i in b1s:\n",
    "        linepts[0].append(points[i[0],0])\n",
    "        linepts[1].append(points[i[0],1])\n",
    "        linepts[2].append(points[i[0],2])\n",
    "        linepts[0].append(points[i[1],0])\n",
    "        linepts[1].append(points[i[1],1])\n",
    "        linepts[2].append(points[i[1],2])\n",
    "\n",
    "        linepts[0].append(None)\n",
    "        linepts[1].append(None)\n",
    "        linepts[2].append(None)\n",
    "\n",
    "    if len(linepts[0])>0:\n",
    "        lins=go.Scatter3d(\n",
    "            x=linepts[0],\n",
    "            y=linepts[1],\n",
    "            z=linepts[2],\n",
    "            mode='lines',\n",
    "            name='H1',\n",
    "            marker=dict(\n",
    "                size=3,\n",
    "                color=\"#d55e00\",                # set color to an array/list of desired values\n",
    "                #colorscale='Viridis',   # choose a colorscale\n",
    "                opacity=.9\n",
    "            )\n",
    "        )\n",
    "        sfig.append(lins)\n",
    "        if len(triangles)>0:\n",
    "            mesh = go.Mesh3d(\n",
    "                x = points[:, 0],\n",
    "                y = points[:, 1],\n",
    "                z = points[:, 2],\n",
    "                i = triangles[:, 0],\n",
    "                j = triangles[:, 1],\n",
    "                k = triangles[:, 2],\n",
    "                color=\"#009e73\",\n",
    "                opacity=.75,\n",
    "                name='H2'\n",
    "            )\n",
    "\n",
    "\n",
    "            sfig.append(mesh)\n",
    "    fig=go.Figure(sfig)\n",
    "    fig.update_layout(width=800,height=800)\n",
    "    #fig.show()\n",
    "\n",
    "\n",
    "\n",
    "\n",
    "    def view_SC(alpha):\n",
    "        if alpha==0:\n",
    "            fig=go.Figure(sfig[0])\n",
    "            fig.show()\n",
    "        else:\n",
    "            b1s=np.array([s[0] for s in skel if len(s[0]) == 2 and s[1] <= alpha])\n",
    "\n",
    "            linepts={0:[],1:[],2:[]}\n",
    "            for i in b1s:\n",
    "                linepts[0].append(points[i[0],0])\n",
    "                linepts[1].append(points[i[0],1])\n",
    "                linepts[2].append(points[i[0],2])\n",
    "                linepts[0].append(points[i[1],0])\n",
    "                linepts[1].append(points[i[1],1])\n",
    "                linepts[2].append(points[i[1],2])\n",
    "\n",
    "                linepts[0].append(None)\n",
    "                linepts[1].append(None)\n",
    "                linepts[2].append(None)\n",
    "\n",
    "            if len(linepts[0])>0:\n",
    "                lins=go.Scatter3d(\n",
    "                    x=linepts[0],\n",
    "                    y=linepts[1],\n",
    "                    z=linepts[2],\n",
    "                    mode='lines',\n",
    "                    name='H1',\n",
    "                    marker=dict(\n",
    "                        size=3,\n",
    "                        color=\"#d55e00\",                # set color to an array/list of desired values\n",
    "                        #colorscale='Viridis',   # choose a colorscale\n",
    "                        opacity=.85\n",
    "                    )\n",
    "                )\n",
    "                if len(sfig)>1:\n",
    "                    sfig[1]=lins\n",
    "                else:\n",
    "                    sfig.append(lins)\n",
    "                triangles = np.array([s[0] for s in skel if len(s[0]) == 3 and s[1] <= alpha])\n",
    "                if len(triangles)>0:\n",
    "                    mesh = go.Mesh3d(\n",
    "                        x = points[:, 0],\n",
    "                        y = points[:, 1],\n",
    "                        z = points[:, 2],\n",
    "                        i = triangles[:, 0],\n",
    "                        j = triangles[:, 1],\n",
    "                        k = triangles[:, 2],\n",
    "                        color=\"#009e73\",\n",
    "                        opacity=.5,\n",
    "                        name='H2'\n",
    "                    )\n",
    "\n",
    "                    if len(sfig)>1:\n",
    "                        sfig[2]=mesh\n",
    "                    else:\n",
    "                        sfig.append(mesh)\n",
    "\n",
    "\n",
    "            fig=go.Figure(data=sfig,layout=go.Layout(width=800,height=800,\n",
    "                                                     title=f\"Simplicial complex with radius <= {round(float(alpha),5)}\",\n",
    "                                                    ))\n",
    "\n",
    "            #fig.show()\n",
    "            iplot(fig)\n",
    "\n",
    "\n",
    "    widgets.interact(view_SC, alpha = alpha);\n",
    "    return st"
   ]
  },
  {
   "cell_type": "code",
   "execution_count": null,
   "id": "2aeb659e",
   "metadata": {},
   "outputs": [],
   "source": []
  },
  {
   "cell_type": "code",
   "execution_count": 10,
   "id": "a39cf5e4",
   "metadata": {},
   "outputs": [],
   "source": [
    "#Load a testdat\n",
    "comp=polyComp[0]\n",
    "temp=temps[0]\n",
    "\n",
    "groFile=mdtraj.load(f\"{comp}/{comp}_{temp}.gro\")"
   ]
  },
  {
   "cell_type": "code",
   "execution_count": 11,
   "id": "6b2a0c84",
   "metadata": {},
   "outputs": [],
   "source": [
    "p0Index=[a.index for a in groFile.topology.atoms if a.name.find('PO')!=-1]\n",
    "p0Gro=groFile.restrict_atoms(p0Index)"
   ]
  },
  {
   "cell_type": "code",
   "execution_count": 12,
   "id": "d67b8906",
   "metadata": {},
   "outputs": [],
   "source": [
    "dat=p0Gro.xyz[0,:] #time 0"
   ]
  },
  {
   "cell_type": "code",
   "execution_count": null,
   "id": "37b32c66",
   "metadata": {},
   "outputs": [],
   "source": []
  },
  {
   "cell_type": "code",
   "execution_count": null,
   "id": "d27dceae",
   "metadata": {},
   "outputs": [],
   "source": []
  },
  {
   "cell_type": "code",
   "execution_count": 13,
   "id": "4184ac1e",
   "metadata": {},
   "outputs": [
    {
     "data": {
      "application/vnd.jupyter.widget-view+json": {
       "model_id": "662dc71793334e5e91f26e2aa7ac58e3",
       "version_major": 2,
       "version_minor": 0
      },
      "text/plain": [
       "interactive(children=(FloatSlider(value=0.05, description='Alpha:', max=30.0, readout_format='.4f', step=0.5),…"
      ]
     },
     "metadata": {},
     "output_type": "display_data"
    }
   ],
   "source": [
    "st=genAlphaSlider(dat,initial=.05,step=.5,maximum=30)"
   ]
  },
  {
   "cell_type": "code",
   "execution_count": 38,
   "id": "5316b2e9",
   "metadata": {},
   "outputs": [
    {
     "data": {
      "image/png": "[encoded data removed]",
      "text/plain": [
       "<Figure size 432x288 with 1 Axes>"
      ]
     },
     "metadata": {
      "needs_background": "light"
     },
     "output_type": "display_data"
    }
   ],
   "source": [
    "dgm=st.persistence()\n",
    "gudhi.plot_persistence_diagram(dgm, legend = True)\n",
    "plt.show()"
   ]
  },
  {
   "cell_type": "code",
   "execution_count": null,
   "id": "34d068af",
   "metadata": {},
   "outputs": [],
   "source": []
  },
  {
   "cell_type": "code",
   "execution_count": 39,
   "id": "407dc1e6",
   "metadata": {},
   "outputs": [
    {
     "data": {
      "application/vnd.jupyter.widget-view+json": {
       "model_id": "b7c2467136af463d98605f5619d802ef",
       "version_major": 2,
       "version_minor": 0
      },
      "text/plain": [
       "interactive(children=(FloatSlider(value=0.05, description='Alpha:', max=30.0, readout_format='.4f', step=0.5),…"
      ]
     },
     "metadata": {},
     "output_type": "display_data"
    }
   ],
   "source": [
    "dat=p0Gro.xyz[1,:] #time 1\n",
    "st=genAlphaSlider(dat,initial=.05,step=.5,maximum=30)"
   ]
  },
  {
   "cell_type": "code",
   "execution_count": 40,
   "id": "4b1da541",
   "metadata": {},
   "outputs": [
    {
     "data": {
      "image/png": "[encoded data removed]",
      "text/plain": [
       "<Figure size 432x288 with 1 Axes>"
      ]
     },
     "metadata": {
      "needs_background": "light"
     },
     "output_type": "display_data"
    }
   ],
   "source": [
    "dgm=st.persistence()\n",
    "gudhi.plot_persistence_diagram(dgm, legend = True)\n",
    "plt.show()"
   ]
  },
  {
   "cell_type": "code",
   "execution_count": 15,
   "id": "bc283e65",
   "metadata": {},
   "outputs": [
    {
     "data": {
      "text/plain": [
       "(array([3., 0., 1., 0., 1., 0., 0., 0., 0., 0., 1., 0., 0., 0., 0., 0., 0.,\n",
       "        0., 0., 0., 0., 1., 1., 0., 1., 0., 0., 0., 0., 0., 0., 0., 0., 1.,\n",
       "        0., 0., 0., 0., 0., 0., 0., 1., 0., 0., 1., 0., 0., 1., 0., 0., 0.,\n",
       "        0., 0., 1., 0., 1., 0., 0., 0., 0., 0., 0., 0., 0., 0., 0., 0., 0.,\n",
       "        0., 0., 0., 0., 0., 0., 0., 0., 0., 0., 0., 1., 0., 0., 0., 0., 0.,\n",
       "        0., 0., 0., 0., 0., 0., 0., 0., 0., 0., 0., 0., 1., 0., 1.]),\n",
       " array([0.05260675, 0.09316988, 0.13373302, 0.17429615, 0.21485929,\n",
       "        0.25542243, 0.29598556, 0.3365487 , 0.37711183, 0.41767497,\n",
       "        0.45823811, 0.49880124, 0.53936438, 0.57992751, 0.62049065,\n",
       "        0.66105379, 0.70161692, 0.74218006, 0.78274319, 0.82330633,\n",
       "        0.86386946, 0.9044326 , 0.94499574, 0.98555887, 1.02612201,\n",
       "        1.06668514, 1.10724828, 1.14781142, 1.18837455, 1.22893769,\n",
       "        1.26950082, 1.31006396, 1.35062709, 1.39119023, 1.43175337,\n",
       "        1.4723165 , 1.51287964, 1.55344277, 1.59400591, 1.63456905,\n",
       "        1.67513218, 1.71569532, 1.75625845, 1.79682159, 1.83738473,\n",
       "        1.87794786, 1.918511  , 1.95907413, 1.99963727, 2.0402004 ,\n",
       "        2.08076354, 2.12132668, 2.16188981, 2.20245295, 2.24301608,\n",
       "        2.28357922, 2.32414236, 2.36470549, 2.40526863, 2.44583176,\n",
       "        2.4863949 , 2.52695803, 2.56752117, 2.60808431, 2.64864744,\n",
       "        2.68921058, 2.72977371, 2.77033685, 2.81089999, 2.85146312,\n",
       "        2.89202626, 2.93258939, 2.97315253, 3.01371566, 3.0542788 ,\n",
       "        3.09484194, 3.13540507, 3.17596821, 3.21653134, 3.25709448,\n",
       "        3.29765762, 3.33822075, 3.37878389, 3.41934702, 3.45991016,\n",
       "        3.5004733 , 3.54103643, 3.58159957, 3.6221627 , 3.66272584,\n",
       "        3.70328897, 3.74385211, 3.78441525, 3.82497838, 3.86554152,\n",
       "        3.90610465, 3.94666779, 3.98723093, 4.02779406, 4.0683572 ,\n",
       "        4.10892033]),\n",
       " <BarContainer object of 100 artists>)"
      ]
     },
     "execution_count": 15,
     "metadata": {},
     "output_type": "execute_result"
    },
    {
     "data": {
      "image/png": "[encoded data removed]",
      "text/plain": [
       "<Figure size 432x288 with 1 Axes>"
      ]
     },
     "metadata": {
      "needs_background": "light"
     },
     "output_type": "display_data"
    }
   ],
   "source": [
    "b=0\n",
    "minim=.05 #how might we autodetermine this param in future data?\n",
    "bsub=[i[1][1] for i in dgm if i[0]==b and i[1][1]>minim and not np.isinf(i[1][1])]\n",
    "bsub.sort(key=lambda s: s)\n",
    "\n",
    "plt.hist(bsub,bins=100)"
   ]
  },
  {
   "cell_type": "code",
   "execution_count": 16,
   "id": "00146b0d",
   "metadata": {},
   "outputs": [
    {
     "data": {
      "text/plain": [
       "18"
      ]
     },
     "execution_count": 16,
     "metadata": {},
     "output_type": "execute_result"
    }
   ],
   "source": [
    "len(bsub)"
   ]
  },
  {
   "cell_type": "code",
   "execution_count": 17,
   "id": "65108e9c",
   "metadata": {},
   "outputs": [
    {
     "data": {
      "text/plain": [
       "[0.05260674719168268,\n",
       " 0.059731518417493135,\n",
       " 0.061851497207726425,\n",
       " 0.1664067035733865,\n",
       " 0.2237580434246098]"
      ]
     },
     "execution_count": 17,
     "metadata": {},
     "output_type": "execute_result"
    }
   ],
   "source": [
    "bsub[:5]"
   ]
  },
  {
   "cell_type": "markdown",
   "id": "440ad7df",
   "metadata": {},
   "source": [
    "# Over a given polymer distribution\n",
    "- track time dep for given alpha (eg, .05)\n"
   ]
  },
  {
   "cell_type": "code",
   "execution_count": 18,
   "id": "22bbcc74",
   "metadata": {},
   "outputs": [
    {
     "data": {
      "text/plain": [
       "(3660, 3)"
      ]
     },
     "execution_count": 18,
     "metadata": {},
     "output_type": "execute_result"
    }
   ],
   "source": [
    "p0Gro.xyz[0].shape"
   ]
  },
  {
   "cell_type": "code",
   "execution_count": null,
   "id": "228f7578",
   "metadata": {},
   "outputs": [],
   "source": []
  },
  {
   "cell_type": "code",
   "execution_count": 19,
   "id": "4a1efa6a",
   "metadata": {},
   "outputs": [],
   "source": [
    "def dgmGrabP0(comptemp,maxH=2,thresh=0,roundDig=5,saveDir=None,retDgms=False): #assume 3D for now\n",
    "    groFile=load(f\"{comptemp[0]}/{comptemp[0]}_{comptemp[1]}.gro\")#comptemp=(comp,temp)\n",
    "    p0Index=[a.index for a in groFile.topology.atoms if a.name.find('PO')!=-1]\n",
    "    p0Gro=groFile.restrict_atoms(p0Index)\n",
    "    \n",
    "    #dat=p0Gro.xyz[0,:] #time 0\n",
    "    timedgms={t:dict() for t in range(len(p0Gro.xyz))}\n",
    "    t=-1\n",
    "    for dat in p0Gro.xyz:\n",
    "        t+=1\n",
    "        ac = gudhi.AlphaComplex(dat)\n",
    "        st = ac.create_simplex_tree()\n",
    "        dgm=st.persistence()\n",
    "        dgms={b:[] for b in range(maxH+1)}\n",
    "        if thresh!=0:\n",
    "            for i in dgm:\n",
    "                lifetime=round(i[1][1]-i[1][0],roundDig)\n",
    "                if lifetime>=thresh:\n",
    "                    dgms[i[0]].append(i[1])\n",
    "        else:\n",
    "            for i in dgm:\n",
    "                dgms[i[0]].append(i[1])\n",
    "        timedgms[t]=dgms\n",
    "    \n",
    "    ### timedgms will need to be converted back to {b:[(),...]} -> [(b0,()),(b0,()),...]\n",
    "    ### to plot using gudhi\n",
    "    \n",
    "    if saveDir and type(saveDir)==str:\n",
    "        f=open(saveDir,\"w\")\n",
    "        json.dump(timedgms,f)\n",
    "    elif saveDir !=0:\n",
    "        saveDir=f\"Z:/data/micelles/topDat/{comptemp[0]}_{comptemp[1]}_t{t+1}PH.json\"\n",
    "        f=open(saveDir,\"w\")\n",
    "        json.dump(timedgms,f)\n",
    "        f.close()\n",
    "    if retDgms:\n",
    "        return timedgms\n",
    "            \n",
    "        \n",
    " "
   ]
  },
  {
   "cell_type": "code",
   "execution_count": 20,
   "id": "10e860a9",
   "metadata": {},
   "outputs": [
    {
     "ename": "FileNotFoundError",
     "evalue": "[Errno 2] No such file or directory: 'Z:/data/micelles/topDat/P104_10_t51PH.json'",
     "output_type": "error",
     "traceback": [
      "\u001b[1;31m---------------------------------------------------------------------------\u001b[0m",
      "\u001b[1;31mFileNotFoundError\u001b[0m                         Traceback (most recent call last)",
      "Input \u001b[1;32mIn [20]\u001b[0m, in \u001b[0;36m<cell line: 6>\u001b[1;34m()\u001b[0m\n\u001b[0;32m      2\u001b[0m comp\u001b[38;5;241m=\u001b[39mpolyComp[\u001b[38;5;241m0\u001b[39m]\n\u001b[0;32m      3\u001b[0m temp\u001b[38;5;241m=\u001b[39mtemps[\u001b[38;5;241m0\u001b[39m]\n\u001b[1;32m----> 6\u001b[0m \u001b[43mdgmGrabP0\u001b[49m\u001b[43m(\u001b[49m\u001b[43m(\u001b[49m\u001b[43mcomp\u001b[49m\u001b[43m,\u001b[49m\u001b[43mtemp\u001b[49m\u001b[43m)\u001b[49m\u001b[43m,\u001b[49m\u001b[43mthresh\u001b[49m\u001b[38;5;241;43m=\u001b[39;49m\u001b[38;5;241;43m.05\u001b[39;49m\u001b[43m)\u001b[49m\n",
      "Input \u001b[1;32mIn [19]\u001b[0m, in \u001b[0;36mdgmGrabP0\u001b[1;34m(comptemp, maxH, thresh, roundDig, saveDir, retDgms)\u001b[0m\n\u001b[0;32m     31\u001b[0m \u001b[38;5;28;01melif\u001b[39;00m saveDir \u001b[38;5;241m!=\u001b[39m\u001b[38;5;241m0\u001b[39m:\n\u001b[0;32m     32\u001b[0m     saveDir\u001b[38;5;241m=\u001b[39m\u001b[38;5;124mf\u001b[39m\u001b[38;5;124m\"\u001b[39m\u001b[38;5;124mZ:/data/micelles/topDat/\u001b[39m\u001b[38;5;132;01m{\u001b[39;00mcomptemp[\u001b[38;5;241m0\u001b[39m]\u001b[38;5;132;01m}\u001b[39;00m\u001b[38;5;124m_\u001b[39m\u001b[38;5;132;01m{\u001b[39;00mcomptemp[\u001b[38;5;241m1\u001b[39m]\u001b[38;5;132;01m}\u001b[39;00m\u001b[38;5;124m_t\u001b[39m\u001b[38;5;132;01m{\u001b[39;00mt\u001b[38;5;241m+\u001b[39m\u001b[38;5;241m1\u001b[39m\u001b[38;5;132;01m}\u001b[39;00m\u001b[38;5;124mPH.json\u001b[39m\u001b[38;5;124m\"\u001b[39m\n\u001b[1;32m---> 33\u001b[0m     f\u001b[38;5;241m=\u001b[39m\u001b[38;5;28;43mopen\u001b[39;49m\u001b[43m(\u001b[49m\u001b[43msaveDir\u001b[49m\u001b[43m,\u001b[49m\u001b[38;5;124;43m\"\u001b[39;49m\u001b[38;5;124;43mw\u001b[39;49m\u001b[38;5;124;43m\"\u001b[39;49m\u001b[43m)\u001b[49m\n\u001b[0;32m     34\u001b[0m     json\u001b[38;5;241m.\u001b[39mdump(timedgms,f)\n\u001b[0;32m     35\u001b[0m     f\u001b[38;5;241m.\u001b[39mclose()\n",
      "\u001b[1;31mFileNotFoundError\u001b[0m: [Errno 2] No such file or directory: 'Z:/data/micelles/topDat/P104_10_t51PH.json'"
     ]
    }
   ],
   "source": [
    "#Load a testdat\n",
    "comp=polyComp[0]\n",
    "temp=temps[0]\n",
    "\n",
    "\n",
    "dgmGrabP0((comp,temp),thresh=.05)"
   ]
  },
  {
   "cell_type": "code",
   "execution_count": null,
   "id": "128a434b",
   "metadata": {},
   "outputs": [],
   "source": []
  },
  {
   "cell_type": "code",
   "execution_count": null,
   "id": "45a4a058",
   "metadata": {},
   "outputs": [],
   "source": [
    "for comp in polyComp:\n",
    "    for temp in temps:\n",
    "        dgmGrabP0((comp,temp),thresh=.05)"
   ]
  },
  {
   "cell_type": "code",
   "execution_count": null,
   "id": "9d40b503",
   "metadata": {},
   "outputs": [],
   "source": []
  },
  {
   "cell_type": "markdown",
   "id": "af1d434d",
   "metadata": {},
   "source": [
    "# Dynamics of Simplicial Complex"
   ]
  },
  {
   "cell_type": "code",
   "execution_count": null,
   "id": "4a8d68ab",
   "metadata": {},
   "outputs": [],
   "source": []
  },
  {
   "cell_type": "code",
   "execution_count": 34,
   "id": "f91a824c",
   "metadata": {},
   "outputs": [],
   "source": [
    "def genTimeCluster(groFile,alpha=.05,saveName=None): #assume 3D for now\n",
    "    if len(groFile.xyz.shape)==3:\n",
    "        t=0\n",
    "        for dat in groFile.xyz:\n",
    "            ac = gudhi.AlphaComplex(dat)\n",
    "            st = ac.create_simplex_tree()\n",
    "            skel=list(st.get_skeleton(2))\n",
    "            skel.sort(key=lambda s: s[1])\n",
    "            points = np.array([ac.get_point(i) for i in range(st.num_vertices())])\n",
    "            lims=[[np.floor(np.min(dat[:,i])),np.ceil(np.max(dat[:,i]))] for i in range(3)]\n",
    "            \n",
    "            sfig=[\n",
    "                    go.Scatter3d(\n",
    "                        x = points[:, 0],\n",
    "                        y = points[:, 1],\n",
    "                        z = points[:, 2],\n",
    "                        mode='markers',\n",
    "                        marker=dict(\n",
    "                            size=2,\n",
    "                            color=\"cornflowerblue\",                # set color to an array/list of desired values\n",
    "                            #colorscale='Viridis',   # choose a colorscale\n",
    "                            opacity=.9\n",
    "                        ),\n",
    "                        name='H0'\n",
    "                        )\n",
    "            ]\n",
    "            \n",
    "            b1s=np.array([s[0] for s in skel if len(s[0]) == 2 and s[1] <= alpha])\n",
    "\n",
    "            linepts={0:[],1:[],2:[]}\n",
    "            for i in b1s:\n",
    "                linepts[0].append(points[i[0],0])\n",
    "                linepts[1].append(points[i[0],1])\n",
    "                linepts[2].append(points[i[0],2])\n",
    "                linepts[0].append(points[i[1],0])\n",
    "                linepts[1].append(points[i[1],1])\n",
    "                linepts[2].append(points[i[1],2])\n",
    "\n",
    "                linepts[0].append(None)\n",
    "                linepts[1].append(None)\n",
    "                linepts[2].append(None)\n",
    "\n",
    "            if len(linepts[0])>0:\n",
    "                lins=go.Scatter3d(\n",
    "                    x=linepts[0],\n",
    "                    y=linepts[1],\n",
    "                    z=linepts[2],\n",
    "                    mode='lines',\n",
    "                    name='H1',\n",
    "                    marker=dict(\n",
    "                        size=3,\n",
    "                        color=\"#d55e00\",                # set color to an array/list of desired values\n",
    "                        #colorscale='Viridis',   # choose a colorscale\n",
    "                        opacity=.85\n",
    "                    )\n",
    "                )\n",
    "                sfig.append(lins)\n",
    "                triangles = np.array([s[0] for s in skel if len(s[0]) == 3 and s[1] <= alpha])\n",
    "                if len(triangles)>0:\n",
    "                    mesh = go.Mesh3d(\n",
    "                        x = points[:, 0],\n",
    "                        y = points[:, 1],\n",
    "                        z = points[:, 2],\n",
    "                        i = triangles[:, 0],\n",
    "                        j = triangles[:, 1],\n",
    "                        k = triangles[:, 2],\n",
    "                        color=\"#009e73\",\n",
    "                        opacity=.75,\n",
    "                        name='H2'\n",
    "                    )\n",
    "                    sfig.append(mesh)\n",
    "            fig=go.Figure(data=sfig,layout=go.Layout(width=800,height=800,\n",
    "                                                     title=f\"Simplicial complex with radius <= {round(float(alpha),5)}\",\n",
    "                                                    ))\n",
    "            if type(saveName)==str:\n",
    "                fig.write_json(file=saveName+f\"t{t}.json\",engine=\"auto\")\n",
    "                fig.write_image(file=saveName+f\"t{t}.png\")\n",
    "            t+=1\n",
    "    else:\n",
    "        print(\"err in .xyz grab on input\")\n",
    "        return"
   ]
  },
  {
   "cell_type": "code",
   "execution_count": 35,
   "id": "5e4dba09",
   "metadata": {},
   "outputs": [],
   "source": [
    "comp=polyComp[-1]\n",
    "temp=temps[1]\n",
    "groFile=load(f\"{polyComp[-1]}/{polyComp[-1]}_{temps[1]}.gro\")#comptemp=(comp,temp)\n",
    "p0Index=[a.index for a in groFile.topology.atoms if a.name.find('PO')!=-1]\n",
    "p0Gro=groFile.restrict_atoms(p0Index)\n",
    "\n",
    "alp=.05\n",
    "saveDir=\"frames/\"\n",
    "saveName=saveDir+f\"{comp}_{temp}_{alp}\"\n"
   ]
  },
  {
   "cell_type": "code",
   "execution_count": 36,
   "id": "2099951a",
   "metadata": {},
   "outputs": [
    {
     "ename": "FileNotFoundError",
     "evalue": "[Errno 2] No such file or directory: 'frames\\\\P85_20_0.05t0.json'",
     "output_type": "error",
     "traceback": [
      "\u001b[1;31m---------------------------------------------------------------------------\u001b[0m",
      "\u001b[1;31mFileNotFoundError\u001b[0m                         Traceback (most recent call last)",
      "Input \u001b[1;32mIn [36]\u001b[0m, in \u001b[0;36m<cell line: 1>\u001b[1;34m()\u001b[0m\n\u001b[1;32m----> 1\u001b[0m \u001b[43mgenTimeCluster\u001b[49m\u001b[43m(\u001b[49m\u001b[43mp0Gro\u001b[49m\u001b[43m,\u001b[49m\u001b[43msaveName\u001b[49m\u001b[38;5;241;43m=\u001b[39;49m\u001b[43msaveName\u001b[49m\u001b[43m)\u001b[49m\n",
      "Input \u001b[1;32mIn [34]\u001b[0m, in \u001b[0;36mgenTimeCluster\u001b[1;34m(groFile, alpha, saveName)\u001b[0m\n\u001b[0;32m     72\u001b[0m fig\u001b[38;5;241m=\u001b[39mgo\u001b[38;5;241m.\u001b[39mFigure(data\u001b[38;5;241m=\u001b[39msfig,layout\u001b[38;5;241m=\u001b[39mgo\u001b[38;5;241m.\u001b[39mLayout(width\u001b[38;5;241m=\u001b[39m\u001b[38;5;241m800\u001b[39m,height\u001b[38;5;241m=\u001b[39m\u001b[38;5;241m800\u001b[39m,\n\u001b[0;32m     73\u001b[0m                                          title\u001b[38;5;241m=\u001b[39m\u001b[38;5;124mf\u001b[39m\u001b[38;5;124m\"\u001b[39m\u001b[38;5;124mSimplicial complex with radius <= \u001b[39m\u001b[38;5;132;01m{\u001b[39;00m\u001b[38;5;28mround\u001b[39m(\u001b[38;5;28mfloat\u001b[39m(alpha),\u001b[38;5;241m5\u001b[39m)\u001b[38;5;132;01m}\u001b[39;00m\u001b[38;5;124m\"\u001b[39m,\n\u001b[0;32m     74\u001b[0m                                         ))\n\u001b[0;32m     75\u001b[0m \u001b[38;5;28;01mif\u001b[39;00m \u001b[38;5;28mtype\u001b[39m(saveName)\u001b[38;5;241m==\u001b[39m\u001b[38;5;28mstr\u001b[39m:\n\u001b[1;32m---> 76\u001b[0m     \u001b[43mfig\u001b[49m\u001b[38;5;241;43m.\u001b[39;49m\u001b[43mwrite_json\u001b[49m\u001b[43m(\u001b[49m\u001b[43mfile\u001b[49m\u001b[38;5;241;43m=\u001b[39;49m\u001b[43msaveName\u001b[49m\u001b[38;5;241;43m+\u001b[39;49m\u001b[38;5;124;43mf\u001b[39;49m\u001b[38;5;124;43m\"\u001b[39;49m\u001b[38;5;124;43mt\u001b[39;49m\u001b[38;5;132;43;01m{\u001b[39;49;00m\u001b[43mt\u001b[49m\u001b[38;5;132;43;01m}\u001b[39;49;00m\u001b[38;5;124;43m.json\u001b[39;49m\u001b[38;5;124;43m\"\u001b[39;49m\u001b[43m,\u001b[49m\u001b[43mengine\u001b[49m\u001b[38;5;241;43m=\u001b[39;49m\u001b[38;5;124;43m\"\u001b[39;49m\u001b[38;5;124;43mauto\u001b[39;49m\u001b[38;5;124;43m\"\u001b[39;49m\u001b[43m)\u001b[49m\n\u001b[0;32m     77\u001b[0m     fig\u001b[38;5;241m.\u001b[39mwrite_image(file\u001b[38;5;241m=\u001b[39msaveName\u001b[38;5;241m+\u001b[39m\u001b[38;5;124mf\u001b[39m\u001b[38;5;124m\"\u001b[39m\u001b[38;5;124mt\u001b[39m\u001b[38;5;132;01m{\u001b[39;00mt\u001b[38;5;132;01m}\u001b[39;00m\u001b[38;5;124m.png\u001b[39m\u001b[38;5;124m\"\u001b[39m)\n\u001b[0;32m     78\u001b[0m t\u001b[38;5;241m+\u001b[39m\u001b[38;5;241m=\u001b[39m\u001b[38;5;241m1\u001b[39m\n",
      "File \u001b[1;32m~\\anaconda3\\lib\\site-packages\\plotly\\basedatatypes.py:3493\u001b[0m, in \u001b[0;36mBaseFigure.write_json\u001b[1;34m(self, *args, **kwargs)\u001b[0m\n\u001b[0;32m   3463\u001b[0m \u001b[38;5;124;03m\"\"\"\u001b[39;00m\n\u001b[0;32m   3464\u001b[0m \u001b[38;5;124;03mConvert a figure to JSON and write it to a file or writeable\u001b[39;00m\n\u001b[0;32m   3465\u001b[0m \u001b[38;5;124;03mobject\u001b[39;00m\n\u001b[1;32m   (...)\u001b[0m\n\u001b[0;32m   3489\u001b[0m \u001b[38;5;124;03mNone\u001b[39;00m\n\u001b[0;32m   3490\u001b[0m \u001b[38;5;124;03m\"\"\"\u001b[39;00m\n\u001b[0;32m   3491\u001b[0m \u001b[38;5;28;01mimport\u001b[39;00m \u001b[38;5;21;01mplotly\u001b[39;00m\u001b[38;5;21;01m.\u001b[39;00m\u001b[38;5;21;01mio\u001b[39;00m \u001b[38;5;28;01mas\u001b[39;00m \u001b[38;5;21;01mpio\u001b[39;00m\n\u001b[1;32m-> 3493\u001b[0m \u001b[38;5;28;01mreturn\u001b[39;00m pio\u001b[38;5;241m.\u001b[39mwrite_json(\u001b[38;5;28mself\u001b[39m, \u001b[38;5;241m*\u001b[39margs, \u001b[38;5;241m*\u001b[39m\u001b[38;5;241m*\u001b[39mkwargs)\n",
      "File \u001b[1;32m~\\anaconda3\\lib\\site-packages\\plotly\\io\\_json.py:275\u001b[0m, in \u001b[0;36mwrite_json\u001b[1;34m(fig, file, validate, pretty, remove_uids, engine)\u001b[0m\n\u001b[0;32m    265\u001b[0m         \u001b[38;5;28;01mraise\u001b[39;00m \u001b[38;5;167;01mValueError\u001b[39;00m(\n\u001b[0;32m    266\u001b[0m             \u001b[38;5;124;03m\"\"\"\u001b[39;00m\n\u001b[0;32m    267\u001b[0m \u001b[38;5;124;03mThe 'file' argument '{file}' is not a string, pathlib.Path object, or file descriptor.\u001b[39;00m\n\u001b[1;32m   (...)\u001b[0m\n\u001b[0;32m    270\u001b[0m             )\n\u001b[0;32m    271\u001b[0m         )\n\u001b[0;32m    272\u001b[0m     \u001b[38;5;28;01melse\u001b[39;00m:\n\u001b[0;32m    273\u001b[0m         \u001b[38;5;66;03m# We previously succeeded in interpreting `file` as a pathlib object.\u001b[39;00m\n\u001b[0;32m    274\u001b[0m         \u001b[38;5;66;03m# Now we can use `write_bytes()`.\u001b[39;00m\n\u001b[1;32m--> 275\u001b[0m         \u001b[43mpath\u001b[49m\u001b[38;5;241;43m.\u001b[39;49m\u001b[43mwrite_text\u001b[49m\u001b[43m(\u001b[49m\u001b[43mjson_str\u001b[49m\u001b[43m)\u001b[49m\n",
      "File \u001b[1;32m~\\anaconda3\\Lib\\pathlib.py:1285\u001b[0m, in \u001b[0;36mPath.write_text\u001b[1;34m(self, data, encoding, errors)\u001b[0m\n\u001b[0;32m   1282\u001b[0m \u001b[38;5;28;01mif\u001b[39;00m \u001b[38;5;129;01mnot\u001b[39;00m \u001b[38;5;28misinstance\u001b[39m(data, \u001b[38;5;28mstr\u001b[39m):\n\u001b[0;32m   1283\u001b[0m     \u001b[38;5;28;01mraise\u001b[39;00m \u001b[38;5;167;01mTypeError\u001b[39;00m(\u001b[38;5;124m'\u001b[39m\u001b[38;5;124mdata must be str, not \u001b[39m\u001b[38;5;132;01m%s\u001b[39;00m\u001b[38;5;124m'\u001b[39m \u001b[38;5;241m%\u001b[39m\n\u001b[0;32m   1284\u001b[0m                     data\u001b[38;5;241m.\u001b[39m\u001b[38;5;18m__class__\u001b[39m\u001b[38;5;241m.\u001b[39m\u001b[38;5;18m__name__\u001b[39m)\n\u001b[1;32m-> 1285\u001b[0m \u001b[38;5;28;01mwith\u001b[39;00m \u001b[38;5;28;43mself\u001b[39;49m\u001b[38;5;241;43m.\u001b[39;49m\u001b[43mopen\u001b[49m\u001b[43m(\u001b[49m\u001b[43mmode\u001b[49m\u001b[38;5;241;43m=\u001b[39;49m\u001b[38;5;124;43m'\u001b[39;49m\u001b[38;5;124;43mw\u001b[39;49m\u001b[38;5;124;43m'\u001b[39;49m\u001b[43m,\u001b[49m\u001b[43m \u001b[49m\u001b[43mencoding\u001b[49m\u001b[38;5;241;43m=\u001b[39;49m\u001b[43mencoding\u001b[49m\u001b[43m,\u001b[49m\u001b[43m \u001b[49m\u001b[43merrors\u001b[49m\u001b[38;5;241;43m=\u001b[39;49m\u001b[43merrors\u001b[49m\u001b[43m)\u001b[49m \u001b[38;5;28;01mas\u001b[39;00m f:\n\u001b[0;32m   1286\u001b[0m     \u001b[38;5;28;01mreturn\u001b[39;00m f\u001b[38;5;241m.\u001b[39mwrite(data)\n",
      "File \u001b[1;32m~\\anaconda3\\Lib\\pathlib.py:1252\u001b[0m, in \u001b[0;36mPath.open\u001b[1;34m(self, mode, buffering, encoding, errors, newline)\u001b[0m\n\u001b[0;32m   1246\u001b[0m \u001b[38;5;28;01mdef\u001b[39;00m \u001b[38;5;21mopen\u001b[39m(\u001b[38;5;28mself\u001b[39m, mode\u001b[38;5;241m=\u001b[39m\u001b[38;5;124m'\u001b[39m\u001b[38;5;124mr\u001b[39m\u001b[38;5;124m'\u001b[39m, buffering\u001b[38;5;241m=\u001b[39m\u001b[38;5;241m-\u001b[39m\u001b[38;5;241m1\u001b[39m, encoding\u001b[38;5;241m=\u001b[39m\u001b[38;5;28;01mNone\u001b[39;00m,\n\u001b[0;32m   1247\u001b[0m          errors\u001b[38;5;241m=\u001b[39m\u001b[38;5;28;01mNone\u001b[39;00m, newline\u001b[38;5;241m=\u001b[39m\u001b[38;5;28;01mNone\u001b[39;00m):\n\u001b[0;32m   1248\u001b[0m     \u001b[38;5;124;03m\"\"\"\u001b[39;00m\n\u001b[0;32m   1249\u001b[0m \u001b[38;5;124;03m    Open the file pointed by this path and return a file object, as\u001b[39;00m\n\u001b[0;32m   1250\u001b[0m \u001b[38;5;124;03m    the built-in open() function does.\u001b[39;00m\n\u001b[0;32m   1251\u001b[0m \u001b[38;5;124;03m    \"\"\"\u001b[39;00m\n\u001b[1;32m-> 1252\u001b[0m     \u001b[38;5;28;01mreturn\u001b[39;00m \u001b[43mio\u001b[49m\u001b[38;5;241;43m.\u001b[39;49m\u001b[43mopen\u001b[49m\u001b[43m(\u001b[49m\u001b[38;5;28;43mself\u001b[39;49m\u001b[43m,\u001b[49m\u001b[43m \u001b[49m\u001b[43mmode\u001b[49m\u001b[43m,\u001b[49m\u001b[43m \u001b[49m\u001b[43mbuffering\u001b[49m\u001b[43m,\u001b[49m\u001b[43m \u001b[49m\u001b[43mencoding\u001b[49m\u001b[43m,\u001b[49m\u001b[43m \u001b[49m\u001b[43merrors\u001b[49m\u001b[43m,\u001b[49m\u001b[43m \u001b[49m\u001b[43mnewline\u001b[49m\u001b[43m,\u001b[49m\n\u001b[0;32m   1253\u001b[0m \u001b[43m                   \u001b[49m\u001b[43mopener\u001b[49m\u001b[38;5;241;43m=\u001b[39;49m\u001b[38;5;28;43mself\u001b[39;49m\u001b[38;5;241;43m.\u001b[39;49m\u001b[43m_opener\u001b[49m\u001b[43m)\u001b[49m\n",
      "File \u001b[1;32m~\\anaconda3\\Lib\\pathlib.py:1120\u001b[0m, in \u001b[0;36mPath._opener\u001b[1;34m(self, name, flags, mode)\u001b[0m\n\u001b[0;32m   1118\u001b[0m \u001b[38;5;28;01mdef\u001b[39;00m \u001b[38;5;21m_opener\u001b[39m(\u001b[38;5;28mself\u001b[39m, name, flags, mode\u001b[38;5;241m=\u001b[39m\u001b[38;5;241m0o666\u001b[39m):\n\u001b[0;32m   1119\u001b[0m     \u001b[38;5;66;03m# A stub for the opener argument to built-in open()\u001b[39;00m\n\u001b[1;32m-> 1120\u001b[0m     \u001b[38;5;28;01mreturn\u001b[39;00m \u001b[38;5;28;43mself\u001b[39;49m\u001b[38;5;241;43m.\u001b[39;49m\u001b[43m_accessor\u001b[49m\u001b[38;5;241;43m.\u001b[39;49m\u001b[43mopen\u001b[49m\u001b[43m(\u001b[49m\u001b[38;5;28;43mself\u001b[39;49m\u001b[43m,\u001b[49m\u001b[43m \u001b[49m\u001b[43mflags\u001b[49m\u001b[43m,\u001b[49m\u001b[43m \u001b[49m\u001b[43mmode\u001b[49m\u001b[43m)\u001b[49m\n",
      "\u001b[1;31mFileNotFoundError\u001b[0m: [Errno 2] No such file or directory: 'frames\\\\P85_20_0.05t0.json'"
     ]
    }
   ],
   "source": [
    "\n",
    "genTimeCluster(p0Gro,saveName=saveName)"
   ]
  },
  {
   "cell_type": "code",
   "execution_count": 27,
   "id": "47770ea5",
   "metadata": {},
   "outputs": [
    {
     "data": {
      "text/plain": [
       "(51, 2400, 3)"
      ]
     },
     "execution_count": 27,
     "metadata": {},
     "output_type": "execute_result"
    }
   ],
   "source": [
    "p0Gro.xyz.shape"
   ]
  },
  {
   "cell_type": "code",
   "execution_count": 20,
   "id": "fec56cfd",
   "metadata": {},
   "outputs": [],
   "source": [
    "from parallelTools import *"
   ]
  },
  {
   "cell_type": "code",
   "execution_count": 32,
   "id": "b3d16e48",
   "metadata": {},
   "outputs": [],
   "source": [
    "import os\n",
    "import sys\n",
    "import multiprocessing\n",
    "from multiprocessing import Process\n",
    "\n",
    "\n",
    "cpus=multiprocessing.cpu_count() - 1\n",
    "ident=lambda x: x\n",
    "funcType=type(ident)\n",
    "\n",
    "def datDistribute(func,dat,cpus=cpus,filterFunc=None):\n",
    "    \"\"\"\n",
    "    parallelize func(obj) call for all obj in dat\n",
    "    \n",
    "    \"\"\"\n",
    "    semaphore = multiprocessing.Semaphore(cpus)\n",
    "    def task(semaphore=semaphore,f=func,fil=\"test.txt\"):\n",
    "        with semaphore:\n",
    "            f(fil)\n",
    "    if type(filterFunc)==funcType:\n",
    "        processes=[Process(target=task,args=(semaphore,func,fil)) for fil in dat if filterFunc(fil)]\n",
    "    else:\n",
    "        processes=[Process(target=task,args=(semaphore,func,fil)) for fil in dat]\n",
    "\n",
    "    for proc in processes:\n",
    "        proc.start()\n",
    "    for proc in processes:\n",
    "        proc.join()"
   ]
  },
  {
   "cell_type": "code",
   "execution_count": 29,
   "id": "4c764a5d",
   "metadata": {},
   "outputs": [
    {
     "ename": "AttributeError",
     "evalue": "Can't pickle local object 'datDistribute.<locals>.task'",
     "output_type": "error",
     "traceback": [
      "\u001b[1;31m---------------------------------------------------------------------------\u001b[0m",
      "\u001b[1;31mAttributeError\u001b[0m                            Traceback (most recent call last)",
      "Input \u001b[1;32mIn [29]\u001b[0m, in \u001b[0;36m<cell line: 1>\u001b[1;34m()\u001b[0m\n\u001b[1;32m----> 1\u001b[0m \u001b[43mdatDistribute\u001b[49m\u001b[43m(\u001b[49m\u001b[43mdgmGrabP0\u001b[49m\u001b[43m,\u001b[49m\u001b[43m[\u001b[49m\u001b[43m(\u001b[49m\u001b[43mcomp\u001b[49m\u001b[43m,\u001b[49m\u001b[43mtemp\u001b[49m\u001b[43m)\u001b[49m\u001b[43m \u001b[49m\u001b[38;5;28;43;01mfor\u001b[39;49;00m\u001b[43m \u001b[49m\u001b[43mcomp\u001b[49m\u001b[43m \u001b[49m\u001b[38;5;129;43;01min\u001b[39;49;00m\u001b[43m \u001b[49m\u001b[43mpolyComp\u001b[49m\u001b[43m \u001b[49m\u001b[38;5;28;43;01mfor\u001b[39;49;00m\u001b[43m \u001b[49m\u001b[43mtemp\u001b[49m\u001b[43m \u001b[49m\u001b[38;5;129;43;01min\u001b[39;49;00m\u001b[43m \u001b[49m\u001b[43mtemps\u001b[49m\u001b[43m]\u001b[49m\u001b[43m,\u001b[49m\u001b[43mcpus\u001b[49m\u001b[38;5;241;43m=\u001b[39;49m\u001b[38;5;241;43m4\u001b[39;49m\u001b[43m)\u001b[49m\n",
      "Input \u001b[1;32mIn [28]\u001b[0m, in \u001b[0;36mdatDistribute\u001b[1;34m(func, dat, cpus, filterFunc)\u001b[0m\n\u001b[0;32m     23\u001b[0m     processes\u001b[38;5;241m=\u001b[39m[Process(target\u001b[38;5;241m=\u001b[39mtask,args\u001b[38;5;241m=\u001b[39m(semaphore,func,fil)) \u001b[38;5;28;01mfor\u001b[39;00m fil \u001b[38;5;129;01min\u001b[39;00m dat]\n\u001b[0;32m     25\u001b[0m \u001b[38;5;28;01mfor\u001b[39;00m proc \u001b[38;5;129;01min\u001b[39;00m processes:\n\u001b[1;32m---> 26\u001b[0m     \u001b[43mproc\u001b[49m\u001b[38;5;241;43m.\u001b[39;49m\u001b[43mstart\u001b[49m\u001b[43m(\u001b[49m\u001b[43m)\u001b[49m\n\u001b[0;32m     27\u001b[0m \u001b[38;5;28;01mfor\u001b[39;00m proc \u001b[38;5;129;01min\u001b[39;00m processes:\n\u001b[0;32m     28\u001b[0m     proc\u001b[38;5;241m.\u001b[39mjoin()\n",
      "File \u001b[1;32m~\\anaconda3\\Lib\\multiprocessing\\process.py:121\u001b[0m, in \u001b[0;36mBaseProcess.start\u001b[1;34m(self)\u001b[0m\n\u001b[0;32m    118\u001b[0m \u001b[38;5;28;01massert\u001b[39;00m \u001b[38;5;129;01mnot\u001b[39;00m _current_process\u001b[38;5;241m.\u001b[39m_config\u001b[38;5;241m.\u001b[39mget(\u001b[38;5;124m'\u001b[39m\u001b[38;5;124mdaemon\u001b[39m\u001b[38;5;124m'\u001b[39m), \\\n\u001b[0;32m    119\u001b[0m        \u001b[38;5;124m'\u001b[39m\u001b[38;5;124mdaemonic processes are not allowed to have children\u001b[39m\u001b[38;5;124m'\u001b[39m\n\u001b[0;32m    120\u001b[0m _cleanup()\n\u001b[1;32m--> 121\u001b[0m \u001b[38;5;28mself\u001b[39m\u001b[38;5;241m.\u001b[39m_popen \u001b[38;5;241m=\u001b[39m \u001b[38;5;28;43mself\u001b[39;49m\u001b[38;5;241;43m.\u001b[39;49m\u001b[43m_Popen\u001b[49m\u001b[43m(\u001b[49m\u001b[38;5;28;43mself\u001b[39;49m\u001b[43m)\u001b[49m\n\u001b[0;32m    122\u001b[0m \u001b[38;5;28mself\u001b[39m\u001b[38;5;241m.\u001b[39m_sentinel \u001b[38;5;241m=\u001b[39m \u001b[38;5;28mself\u001b[39m\u001b[38;5;241m.\u001b[39m_popen\u001b[38;5;241m.\u001b[39msentinel\n\u001b[0;32m    123\u001b[0m \u001b[38;5;66;03m# Avoid a refcycle if the target function holds an indirect\u001b[39;00m\n\u001b[0;32m    124\u001b[0m \u001b[38;5;66;03m# reference to the process object (see bpo-30775)\u001b[39;00m\n",
      "File \u001b[1;32m~\\anaconda3\\Lib\\multiprocessing\\context.py:224\u001b[0m, in \u001b[0;36mProcess._Popen\u001b[1;34m(process_obj)\u001b[0m\n\u001b[0;32m    222\u001b[0m \u001b[38;5;129m@staticmethod\u001b[39m\n\u001b[0;32m    223\u001b[0m \u001b[38;5;28;01mdef\u001b[39;00m \u001b[38;5;21m_Popen\u001b[39m(process_obj):\n\u001b[1;32m--> 224\u001b[0m     \u001b[38;5;28;01mreturn\u001b[39;00m \u001b[43m_default_context\u001b[49m\u001b[38;5;241;43m.\u001b[39;49m\u001b[43mget_context\u001b[49m\u001b[43m(\u001b[49m\u001b[43m)\u001b[49m\u001b[38;5;241;43m.\u001b[39;49m\u001b[43mProcess\u001b[49m\u001b[38;5;241;43m.\u001b[39;49m\u001b[43m_Popen\u001b[49m\u001b[43m(\u001b[49m\u001b[43mprocess_obj\u001b[49m\u001b[43m)\u001b[49m\n",
      "File \u001b[1;32m~\\anaconda3\\Lib\\multiprocessing\\context.py:327\u001b[0m, in \u001b[0;36mSpawnProcess._Popen\u001b[1;34m(process_obj)\u001b[0m\n\u001b[0;32m    324\u001b[0m \u001b[38;5;129m@staticmethod\u001b[39m\n\u001b[0;32m    325\u001b[0m \u001b[38;5;28;01mdef\u001b[39;00m \u001b[38;5;21m_Popen\u001b[39m(process_obj):\n\u001b[0;32m    326\u001b[0m     \u001b[38;5;28;01mfrom\u001b[39;00m \u001b[38;5;21;01m.\u001b[39;00m\u001b[38;5;21;01mpopen_spawn_win32\u001b[39;00m \u001b[38;5;28;01mimport\u001b[39;00m Popen\n\u001b[1;32m--> 327\u001b[0m     \u001b[38;5;28;01mreturn\u001b[39;00m \u001b[43mPopen\u001b[49m\u001b[43m(\u001b[49m\u001b[43mprocess_obj\u001b[49m\u001b[43m)\u001b[49m\n",
      "File \u001b[1;32m~\\anaconda3\\Lib\\multiprocessing\\popen_spawn_win32.py:93\u001b[0m, in \u001b[0;36mPopen.__init__\u001b[1;34m(self, process_obj)\u001b[0m\n\u001b[0;32m     91\u001b[0m \u001b[38;5;28;01mtry\u001b[39;00m:\n\u001b[0;32m     92\u001b[0m     reduction\u001b[38;5;241m.\u001b[39mdump(prep_data, to_child)\n\u001b[1;32m---> 93\u001b[0m     \u001b[43mreduction\u001b[49m\u001b[38;5;241;43m.\u001b[39;49m\u001b[43mdump\u001b[49m\u001b[43m(\u001b[49m\u001b[43mprocess_obj\u001b[49m\u001b[43m,\u001b[49m\u001b[43m \u001b[49m\u001b[43mto_child\u001b[49m\u001b[43m)\u001b[49m\n\u001b[0;32m     94\u001b[0m \u001b[38;5;28;01mfinally\u001b[39;00m:\n\u001b[0;32m     95\u001b[0m     set_spawning_popen(\u001b[38;5;28;01mNone\u001b[39;00m)\n",
      "File \u001b[1;32m~\\anaconda3\\Lib\\multiprocessing\\reduction.py:60\u001b[0m, in \u001b[0;36mdump\u001b[1;34m(obj, file, protocol)\u001b[0m\n\u001b[0;32m     58\u001b[0m \u001b[38;5;28;01mdef\u001b[39;00m \u001b[38;5;21mdump\u001b[39m(obj, file, protocol\u001b[38;5;241m=\u001b[39m\u001b[38;5;28;01mNone\u001b[39;00m):\n\u001b[0;32m     59\u001b[0m     \u001b[38;5;124;03m'''Replacement for pickle.dump() using ForkingPickler.'''\u001b[39;00m\n\u001b[1;32m---> 60\u001b[0m     \u001b[43mForkingPickler\u001b[49m\u001b[43m(\u001b[49m\u001b[43mfile\u001b[49m\u001b[43m,\u001b[49m\u001b[43m \u001b[49m\u001b[43mprotocol\u001b[49m\u001b[43m)\u001b[49m\u001b[38;5;241;43m.\u001b[39;49m\u001b[43mdump\u001b[49m\u001b[43m(\u001b[49m\u001b[43mobj\u001b[49m\u001b[43m)\u001b[49m\n",
      "\u001b[1;31mAttributeError\u001b[0m: Can't pickle local object 'datDistribute.<locals>.task'"
     ]
    }
   ],
   "source": [
    "datDistribute(dgmGrabP0,[(comp,temp) for comp in polyComp for temp in temps],cpus=4)"
   ]
  },
  {
   "cell_type": "code",
   "execution_count": null,
   "id": "b27b93a0",
   "metadata": {},
   "outputs": [],
   "source": []
  }
 ],
 "metadata": {
  "kernelspec": {
   "display_name": "Python 3 (ipykernel)",
   "language": "python",
   "name": "python3"
  },
  "language_info": {
   "codemirror_mode": {
    "name": "ipython",
    "version": 3
   },
   "file_extension": ".py",
   "mimetype": "text/x-python",
   "name": "python",
   "nbconvert_exporter": "python",
   "pygments_lexer": "ipython3",
   "version": "3.9.12"
  }
 },
 "nbformat": 4,
 "nbformat_minor": 5
}
