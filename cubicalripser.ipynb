{
 "cells": [
  {
   "cell_type": "code",
   "execution_count": null,
   "metadata": {
    "id": "3eJkuQ55SYrs",
    "outputId": "caf5c4bc-000b-4de1-a1fb-e6b06326cbc8",
    "pycharm": {
     "name": "#%%\n"
    }
   },
   "outputs": [
    {
     "name": "stdout",
     "output_type": "stream",
     "text": [
      "Requirement already satisfied: persim in /home/skaji/anaconda3/lib/python3.7/site-packages (0.1.3)\n",
      "Requirement already satisfied: hopcroftkarp in /home/skaji/anaconda3/lib/python3.7/site-packages (from persim) (1.2.5)\n",
      "Requirement already satisfied: numpy in /home/skaji/anaconda3/lib/python3.7/site-packages (from persim) (1.19.2)\n",
      "Requirement already satisfied: scikit-learn in /home/skaji/anaconda3/lib/python3.7/site-packages (from persim) (0.23.2)\n",
      "Requirement already satisfied: matplotlib in /home/skaji/anaconda3/lib/python3.7/site-packages (from persim) (3.3.2)\n",
      "Requirement already satisfied: scipy in /home/skaji/anaconda3/lib/python3.7/site-packages (from persim) (1.5.2)\n",
      "Requirement already satisfied: joblib>=0.11 in /home/skaji/anaconda3/lib/python3.7/site-packages (from scikit-learn->persim) (0.17.0)\n",
      "Requirement already satisfied: threadpoolctl>=2.0.0 in /home/skaji/anaconda3/lib/python3.7/site-packages (from scikit-learn->persim) (2.1.0)\n",
      "Requirement already satisfied: kiwisolver>=1.0.1 in /home/skaji/anaconda3/lib/python3.7/site-packages (from matplotlib->persim) (1.3.0)\n",
      "Requirement already satisfied: python-dateutil>=2.1 in /home/skaji/anaconda3/lib/python3.7/site-packages (from matplotlib->persim) (2.8.1)\n",
      "Requirement already satisfied: certifi>=2020.06.20 in /home/skaji/anaconda3/lib/python3.7/site-packages (from matplotlib->persim) (2020.6.20)\n",
      "Requirement already satisfied: pillow>=6.2.0 in /home/skaji/anaconda3/lib/python3.7/site-packages (from matplotlib->persim) (8.0.1)\n",
      "Requirement already satisfied: cycler>=0.10 in /home/skaji/anaconda3/lib/python3.7/site-packages (from matplotlib->persim) (0.10.0)\n",
      "Requirement already satisfied: pyparsing!=2.0.4,!=2.1.2,!=2.1.6,>=2.0.3 in /home/skaji/anaconda3/lib/python3.7/site-packages (from matplotlib->persim) (2.4.7)\n",
      "Requirement already satisfied: six>=1.5 in /home/skaji/anaconda3/lib/python3.7/site-packages (from python-dateutil>=2.1->matplotlib->persim) (1.15.0)\n",
      "Collecting git+https://github.com/shizuo-kaji/CubicalRipser_3dim\n",
      "  Cloning https://github.com/shizuo-kaji/CubicalRipser_3dim to /tmp/pip-req-build-i2awdmbs\n",
      "  Installing build dependencies ... \u001b[?25ldone\n",
      "\u001b[?25h  Getting requirements to build wheel ... \u001b[?25ldone\n",
      "\u001b[?25h    Preparing wheel metadata ... \u001b[?25ldone\n",
      "\u001b[?25hRequirement already satisfied (use --upgrade to upgrade): cripser==0.0.6 from git+https://github.com/shizuo-kaji/CubicalRipser_3dim in /home/skaji/anaconda3/lib/python3.7/site-packages\n",
      "Building wheels for collected packages: cripser\n",
      "  Building wheel for cripser (PEP 517) ... \u001b[?25ldone\n",
      "\u001b[?25h  Created wheel for cripser: filename=cripser-0.0.6-cp37-cp37m-linux_x86_64.whl size=294267 sha256=0e5e694c884fac0b3f10c4b8464b4c2267975b9dfbd9acab4e058f7f5e34b1f1\n",
      "  Stored in directory: /tmp/pip-ephem-wheel-cache-t9fe68g_/wheels/7b/8e/b1/bf858a2c6c9b80f3f55e1840fc7752c8dd982ab48f6b337df7\n",
      "Successfully built cripser\n"
     ]
    }
   ],
   "source": [
    "## If you do not have the necessary libraries installed, run this cell (only for once)\n",
    "## Be patient! It takes time.\n",
    "# for standard libraries such as numpy, scipy, scikit-learn\n",
    "# I recommend to use the package manager \"conda\". e.g.,  \"conda install scikit-learn\"\n",
    "!pip install persim\n",
    "!pip install git+https://github.com/shizuo-kaji/CubicalRipser_3dim"
   ]
  },
  {
   "cell_type": "code",
   "execution_count": 1,
   "metadata": {
    "id": "LRf3kQ4ySU0h",
    "pycharm": {
     "is_executing": true,
     "name": "#%%\n"
    }
   },
   "outputs": [],
   "source": [
    "## load necessary libraries\n",
    "%matplotlib inline\n",
    "#%matplotlib widget\n",
    "import numpy as np\n",
    "import matplotlib.pyplot as plt\n",
    "from mpl_toolkits.mplot3d import Axes3D\n",
    "from matplotlib.widgets import Slider, Button, RadioButtons\n",
    "import os,time,subprocess,glob\n",
    "from PIL import Image\n",
    "import cripser as cr\n",
    "import tcripser as tcr"
   ]
  },
  {
   "cell_type": "code",
   "execution_count": null,
   "metadata": {
    "id": "s11O3IgISpkA",
    "pycharm": {
     "name": "#%%\n"
    }
   },
   "outputs": [],
   "source": [
    "## set the following appropriately\n",
    "PH_PROG = \"../mac/cubicalripser\"     ## executable for Mac/Linux\n",
    "PH_PROG_T = \"../mac/tcubicalripser\"     ## executable for Mac/Linux for T-construction\n",
    "#PH_PROG = \"CubicalRipser.exe\"   ## executable for Windows\n",
    "IMG_DIR = \"./lena/\"  ## dir containing images; they must be of the same dimension\n",
    "volfile = \"img.npy\"  ## the image files will be combined and saved in this numpy file\n",
    "ph_out = \"PH.npy\"    ## the computed persistent homology will be saved in this numpy file"
   ]
  },
  {
   "cell_type": "code",
   "execution_count": null,
   "metadata": {
    "id": "A9Yvz0zASU0o",
    "outputId": "5733c7ed-255f-4873-c8b4-8978caa94f1c",
    "pycharm": {
     "name": "#%%\n"
    }
   },
   "outputs": [
    {
     "name": "stdout",
     "output_type": "stream",
     "text": [
      "(512, 512, 9) float64 0.0 255.0\n"
     ]
    }
   ],
   "source": [
    "## 3D example (local jupyter-notebook only, for Google Colab goto the next cell)\n",
    "# load image files from a dir and stack into a 3D array of type float64\n",
    "input_files = IMG_DIR+\"*.jpg\"\n",
    "files = sorted([f for f in glob.glob(input_files)])\n",
    "img = np.dstack([Image.open(f).convert('L') for f in files]).astype('f8')\n",
    "print(img.shape, img.dtype, np.min(img),np.max(img))"
   ]
  },
  {
   "cell_type": "code",
   "execution_count": null,
   "metadata": {
    "id": "H5jV4Zc2S4zI",
    "outputId": "591731e0-1c51-4029-effc-50c0cb419fbb",
    "pycharm": {
     "name": "#%%\n"
    }
   },
   "outputs": [
    {
     "name": "stdout",
     "output_type": "stream",
     "text": [
      "(512, 512, 8) float64 0.0 1.0\n"
     ]
    }
   ],
   "source": [
    "# create a dummy volume from scikit-learn\n",
    "import skimage\n",
    "from skimage import io\n",
    "from skimage.transform import rotate\n",
    "im = skimage.data.camera()\n",
    "io.imsave('img.bmp', im)\n",
    "np.save('img.npy',im)\n",
    "img = np.dstack([rotate(im, 10*i) for i in range(8)])\n",
    "np.save(volfile,img.astype(np.float64))\n",
    "print(img.shape, img.dtype, np.min(img),np.max(img))"
   ]
  },
  {
   "cell_type": "code",
   "execution_count": null,
   "metadata": {
    "id": "kgDQ_VrOSU0t",
    "pycharm": {
     "name": "#%%\n"
    }
   },
   "outputs": [],
   "source": [
    "# make binary and apply distance transform\n",
    "def dt(img,radius=15):\n",
    "    from scipy.ndimage.morphology import distance_transform_edt\n",
    "    from skimage.filters import threshold_otsu\n",
    "#    bw_img = (img >= rank.otsu(img, disk(radius)))\n",
    "    bw_img = (img >= threshold_otsu(img))\n",
    "    dt_img = distance_transform_edt(bw_img)\n",
    "    return(dt_img)"
   ]
  },
  {
   "cell_type": "code",
   "execution_count": null,
   "metadata": {
    "id": "Hr4k9697SU0x",
    "pycharm": {
     "name": "#%%\n"
    }
   },
   "outputs": [],
   "source": [
    "# apply distance transform, if you want\n",
    "#img = dt(img)"
   ]
  },
  {
   "cell_type": "code",
   "execution_count": null,
   "metadata": {
    "id": "sqeYhrjGSU01",
    "outputId": "819d87f5-7079-4376-a30b-59f3b7eda1b1",
    "pycharm": {
     "name": "#%%\n"
    }
   },
   "outputs": [
    {
     "name": "stdout",
     "output_type": "stream",
     "text": [
      "elapsed_time:5.067887306213379 sec\n",
      "Betti numbers:  [48836, 61957, 16699]\n"
     ]
    }
   ],
   "source": [
    "# compute PH for the V-construction with the python wrapper (takes time)\n",
    "start = time.time()\n",
    "pd = cr.computePH(img)\n",
    "print (\"elapsed_time:{} sec\".format(time.time() - start))\n",
    "print(\"Betti numbers: \",[np.sum(pd[:,0] == i) for i in range(3)])\n"
   ]
  },
  {
   "cell_type": "code",
   "execution_count": null,
   "metadata": {
    "id": "n-5EW6tHSU05",
    "outputId": "64d3edc9-1bca-43fc-e549-2badf9299bb6",
    "pycharm": {
     "name": "#%%\n"
    }
   },
   "outputs": [
    {
     "data": {
      "image/png": "[encoded data removed]",
      "text/plain": [
       "<Figure size 432x288 with 1 Axes>"
      ]
     },
     "metadata": {
      "needs_background": "light"
     },
     "output_type": "display_data"
    }
   ],
   "source": [
    "## plot persistent diagram using persim\n",
    "%matplotlib inline\n",
    "import persim\n",
    "pds = [pd[pd[:,0] == i] for i in range(3)]\n",
    "persim.plot_diagrams([p[:,1:3] for p in pds])"
   ]
  },
  {
   "cell_type": "code",
   "execution_count": null,
   "metadata": {
    "id": "0cLXnU72nRVN",
    "outputId": "cecf91f0-6406-47d9-c0d6-d39b97d87322",
    "pycharm": {
     "name": "#%%\n"
    }
   },
   "outputs": [
    {
     "name": "stdout",
     "output_type": "stream",
     "text": [
      "elapsed_time:5.959993839263916 sec\n",
      "Betti numbers:  [25976, 62397, 32712]\n"
     ]
    },
    {
     "data": {
      "image/png": "[encoded data removed]",
      "text/plain": [
       "<Figure size 640x480 with 1 Axes>"
      ]
     },
     "metadata": {},
     "output_type": "display_data"
    }
   ],
   "source": [
    "# compute PH for the T-construction with the python wrapper (takes time)\n",
    "start = time.time()\n",
    "pdt = tcr.computePH(img)\n",
    "print (\"elapsed_time:{} sec\".format(time.time() - start))\n",
    "print(\"Betti numbers: \",[np.sum(pdt[:,0] == i) for i in range(3)])\n",
    "persim.plot_diagrams([p[:,1:3] for p in [pdt[pdt[:,0] == i] for i in range(3)]])"
   ]
  },
  {
   "cell_type": "code",
   "execution_count": null,
   "metadata": {
    "id": "yeSuRJoUnRVO",
    "outputId": "1ade0636-8c27-4a30-f267-c2c4afea96dc",
    "pycharm": {
     "name": "#%%\n"
    }
   },
   "outputs": [
    {
     "name": "stdout",
     "output_type": "stream",
     "text": [
      "reduced Betti numbers shold be up side down:  [25975, 62397, 32712] [32712, 62397, 25975]\n"
     ]
    }
   ],
   "source": [
    "# check Alexander duality\n",
    "pdt2 = cr.computePH(img,embedded=True)\n",
    "pdt2_reduced = pdt2[ np.abs(pdt2[:,1:3]).max(axis=1)<999999 ]\n",
    "pdt_reduced = pdt[ np.abs(pdt[:,1:3]).max(axis=1)<999999 ]\n",
    "print(\"reduced Betti numbers shold be up side down: \",[np.sum(pdt_reduced[:,0] == i) for i in range(3)],[np.sum(pdt2_reduced[:,0] == i) for i in range(3)])\n"
   ]
  },
  {
   "cell_type": "code",
   "execution_count": null,
   "metadata": {
    "id": "Y0rTyRNPSU08",
    "pycharm": {
     "name": "#%%\n"
    }
   },
   "outputs": [],
   "source": [
    "# load computed PH\n",
    "print(\"#0-cycle {}, #1-cycle {}, #2-cycle {}\".format(len(pds[0]),len(pds[1]),len(pds[2])))\n",
    "# each line contains (dim,birth,death,x,y,z)\n",
    "print(pds[0][:5])\n",
    "print(pds[1][:5])\n",
    "print(pds[2][:5])"
   ]
  },
  {
   "cell_type": "code",
   "execution_count": null,
   "metadata": {
    "id": "MDW8YG44SU1A",
    "pycharm": {
     "name": "#%%\n"
    }
   },
   "outputs": [],
   "source": [
    "## compute the heatmap of cycles with specified birth-death properties\n",
    "# the heatmap image reveals what kind of image features are captured by PH\n",
    "def heat_map(img,pd,h=3,min_life = 10,max_life =255,min_birth = 0,max_birth = 255,dimension = 0,life_weighted=True):\n",
    "  if len(img.shape)==2:\n",
    "    mx,my=img.shape\n",
    "    mz = 1\n",
    "  else:\n",
    "    mx,my,mz=img.shape\n",
    "\n",
    "  selected_cycle = np.zeros((mx,my,mz))\n",
    "  ppd = pd[pd[:,0] == dimension]\n",
    "  ppd = ppd[min_life < ppd[:,2]-ppd[:,1]]\n",
    "  ppd = ppd[ppd[:,2]-ppd[:,1] < max_life]\n",
    "  ppd = ppd[min_birth < ppd[:,1]]\n",
    "  ppd = ppd[ppd[:,1] < max_birth]\n",
    "  w = 1\n",
    "  for c in ppd:\n",
    "      x,y,z=int(c[3]),int(c[4]),int(c[5])\n",
    "      if life_weighted:\n",
    "        w = c[2]-c[1]\n",
    "      selected_cycle[max(0,x-h):min(mx,x+h),max(0,y-h):min(my,y+h),max(0,z-h):min(mz,z+h)] += w\n",
    "#  print(np.min(selected_cycle),np.max(selected_cycle),np.sum(selected_cycle))\n",
    "  return(np.squeeze(selected_cycle))"
   ]
  },
  {
   "cell_type": "code",
   "execution_count": null,
   "metadata": {
    "id": "Nb-MMJV4SU1D",
    "pycharm": {
     "name": "#%%\n"
    }
   },
   "outputs": [],
   "source": [
    "# Visualise the result heatmap (visualisation works only with local jupyter-notebook)\n",
    "%matplotlib notebook\n",
    "vol = heat_map(img,pd,dimension=2)\n",
    "fig = plt.figure()\n",
    "fig.subplots_adjust(left=0.25, bottom=0.25)\n",
    "ax = plt.subplot(121)\n",
    "ind = vol.shape[2]//2\n",
    "l = ax.imshow(vol[:,:,ind])\n",
    "ax = plt.subplot(122)\n",
    "l2 = ax.imshow(img[:,:,ind])\n",
    "def update(val):\n",
    "    ind = int(slider.val)\n",
    "    l.set_data(vol[:,:,ind])\n",
    "    l2.set_data(img[:,:,ind])\n",
    "    fig.canvas.draw()        \n",
    "ax = fig.add_axes([0.25, 0.1, 0.65, 0.03])\n",
    "slider = Slider(ax, 'index', 0, vol.shape[2] - 1, valinit=ind, valfmt='%i')\n",
    "slider.on_changed(update)\n",
    "plt.show()"
   ]
  },
  {
   "cell_type": "code",
   "execution_count": null,
   "metadata": {
    "id": "tfsZ9KOUSU1G",
    "pycharm": {
     "name": "#%%\n"
    }
   },
   "outputs": [],
   "source": [
    "## load image from disk\n",
    "img = np.array(Image.open(\"img.bmp\").convert('L'),dtype='f8')\n",
    "print(img.shape, img.dtype, np.min(img),np.max(img))\n",
    "start = time.time()\n",
    "pd = cr.computePH(img)\n",
    "print (\"elapsed_time:{} sec\".format(time.time() - start))\n",
    "print(pd.shape)\n",
    "pds = [pd[pd[:,0] == i] for i in range(3)]\n",
    "persim.plot_diagrams([p[:,1:3] for p in pds])"
   ]
  },
  {
   "cell_type": "code",
   "execution_count": null,
   "metadata": {
    "id": "YjEguXBDSU1J",
    "pycharm": {
     "name": "#%%\n"
    }
   },
   "outputs": [],
   "source": [
    "## 1D example (scalar timeseries)\n",
    "%matplotlib inline\n",
    "x = np.linspace(0,4*np.pi,100)\n",
    "img = np.sin(x)+0.1*x\n",
    "plt.plot(x,img)\n",
    "pd = cr.computePH(img)"
   ]
  },
  {
   "cell_type": "code",
   "execution_count": null,
   "metadata": {
    "id": "y7zjh_XqSU1M",
    "pycharm": {
     "name": "#%%\n"
    }
   },
   "outputs": [],
   "source": [
    "## plot persistence diagram\n",
    "persim.plot_diagrams(pd[:,1:3])"
   ]
  },
  {
   "cell_type": "code",
   "execution_count": null,
   "metadata": {
    "id": "_70PhZ_5SU1P",
    "pycharm": {
     "name": "#%%\n"
    }
   },
   "outputs": [],
   "source": [
    "## load numpy array from disk\n",
    "img = np.load(\"img.npy\")\n",
    "start = time.time()\n",
    "pd = cr.computePH(img)\n",
    "print (\"elapsed_time:{} sec\".format(time.time() - start))\n",
    "print(pd.shape)\n",
    "pds = [pd[pd[:,0] == i] for i in range(3)]\n",
    "persim.plot_diagrams([p[:,1:3] for p in pds])"
   ]
  },
  {
   "cell_type": "code",
   "execution_count": null,
   "metadata": {
    "id": "WqsKvHMySU1S",
    "pycharm": {
     "name": "#%%\n"
    }
   },
   "outputs": [],
   "source": [
    "# compute PH with the executable via shell (local jupyter-notebook only)\n",
    "np.save(volfile,img)\n",
    "start = time.time()\n",
    "result = subprocess.run(PH_PROG+' --output '+ph_out+' '+volfile, shell=True)\n",
    "print(result)\n",
    "print (\"elapsed_time:{} sec\".format(time.time() - start))\n",
    "pd_c = np.load(ph_out)"
   ]
  },
  {
   "cell_type": "code",
   "execution_count": null,
   "metadata": {
    "id": "wLb1dzVlSU1V",
    "pycharm": {
     "name": "#%%\n"
    }
   },
   "outputs": [],
   "source": [
    "# the both method (python and executable) should give the same results\n",
    "np.array_equal(pd,pd_c)"
   ]
  },
  {
   "cell_type": "code",
   "execution_count": null,
   "metadata": {
    "id": "qn108b6cU4r9",
    "pycharm": {
     "name": "#%%\n"
    }
   },
   "outputs": [],
   "source": [
    "!ls"
   ]
  },
  {
   "cell_type": "code",
   "execution_count": null,
   "metadata": {
    "id": "Mxu6dpVdVDbo",
    "outputId": "24ca53ad-b613-4d9e-a8f8-dad0d2052109",
    "pycharm": {
     "name": "#%%\n"
    }
   },
   "outputs": [
    {
     "name": "stdout",
     "output_type": "stream",
     "text": [
      "CompletedProcess(args='../mac/t-cubicalripser --output PH.npy img.npy', returncode=0)\n",
      "elapsed_time:20.344515800476074 sec\n",
      "Betti numbers:  [25976, 62397, 32712]\n",
      "CompletedProcess(args='../mac/cubicalripser --embedded --output PH.npy img.npy', returncode=0)\n",
      "elapsed_time:9.113570928573608 sec\n",
      "Betti numbers:  [32713, 62397, 25976]\n"
     ]
    }
   ],
   "source": [
    "# compute PH with the executable via shell (local jupyter-notebook only)\n",
    "# V-construction vs T-construction\n",
    "np.save(volfile,img)\n",
    "start = time.time()\n",
    "result = subprocess.run(PH_PROG_T+' --output '+ph_out+' '+volfile, shell=True)\n",
    "print(result)\n",
    "print (\"elapsed_time:{} sec\".format(time.time() - start))\n",
    "res = np.load(ph_out)\n",
    "print(\"Betti numbers: \", [res[res[:,0]==i].shape[0] for i in range(3)])\n",
    "\n",
    "# using Alexander duality\n",
    "start = time.time()\n",
    "result = subprocess.run(PH_PROG+' --embedded --output '+ph_out+' '+volfile, shell=True)\n",
    "print(result)\n",
    "print (\"elapsed_time:{} sec\".format(time.time() - start))\n",
    "res = np.load(ph_out)\n",
    "print(\"Betti numbers: \", [res[res[:,0]==i].shape[0] for i in range(3)])\n"
   ]
  },
  {
   "cell_type": "code",
   "execution_count": null,
   "metadata": {
    "id": "oPpgHInbnRVS",
    "pycharm": {
     "name": "#%%\n"
    }
   },
   "outputs": [],
   "source": []
  }
 ],
 "metadata": {
  "colab": {
   "name": "cubicalripser.ipynb",
   "provenance": []
  },
  "kernelspec": {
   "display_name": "Python 3 (ipykernel)",
   "language": "python",
   "name": "python3"
  },
  "language_info": {
   "codemirror_mode": {
    "name": "ipython",
    "version": 3
   },
   "file_extension": ".py",
   "mimetype": "text/x-python",
   "name": "python",
   "nbconvert_exporter": "python",
   "pygments_lexer": "ipython3",
   "version": "3.9.12"
  }
 },
 "nbformat": 4,
 "nbformat_minor": 1
}
