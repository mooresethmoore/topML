{
 "cells": [
  {
   "cell_type": "code",
   "execution_count": 1,
   "id": "a6477bed",
   "metadata": {},
   "outputs": [],
   "source": [
    "from jupyter_dash import JupyterDash\n",
    "import dash as dcc\n",
    "import dash as html\n",
    "from dash.dependencies import Input, Output\n",
    "\n",
    "import plotly\n",
    "from plotly.graph_objs import graph_objs as go"
   ]
  },
  {
   "cell_type": "code",
   "execution_count": 2,
   "id": "936a35c5",
   "metadata": {},
   "outputs": [],
   "source": [
    "import os\n",
    "import sys\n",
    "import numpy as np\n",
    "import pandas as pd\n",
    "import pickle\n",
    "from skimage.filters import threshold_otsu\n",
    "from scipy.ndimage import distance_transform_edt\n",
    "from scipy.spatial import distance\n",
    "from scipy.spatial import distance_matrix\n",
    "import gudhi, gudhi.hera, gudhi.wasserstein, persim\n",
    "import json"
   ]
  },
  {
   "cell_type": "code",
   "execution_count": 4,
   "id": "5fc5fcde",
   "metadata": {},
   "outputs": [],
   "source": [
    "import mdtraj\n",
    "from mdtraj import load"
   ]
  },
  {
   "cell_type": "code",
   "execution_count": null,
   "id": "3223ecd7",
   "metadata": {},
   "outputs": [],
   "source": [
    "app = JupyterDash(__name__)"
   ]
  },
  {
   "cell_type": "markdown",
   "id": "45af6c5d",
   "metadata": {},
   "source": [
    "## try to make this code look really similar to genAlphaSlider\n",
    "\n",
    "\n",
    "### Vanilla version in topTraj and topMOF_pointcloud\n",
    "\n",
    "### not putting it here because it's distracting and large\n",
    "\n"
   ]
  },
  {
   "cell_type": "code",
   "execution_count": 9,
   "id": "669a609a",
   "metadata": {},
   "outputs": [],
   "source": [
    "def pDistIndex(pdist,i: int, j: int,length: int):\n",
    "    if j<i:\n",
    "        i,j = j,i\n",
    "    if i==j:\n",
    "        return 0\n",
    "    \n",
    "    return length*i+j-((i+2)*(i+1)) //2\n",
    "\n",
    "\n",
    "class dashTopViz():\n",
    "    def __init__(self,dat,initial=0,step=.25,maximum=20,appName=None):\n",
    "        if appName:\n",
    "            self.app=JupyterDash(appName)\n",
    "        else:\n",
    "            self.app = JupyterDash(__name__)\n",
    "        nD=dat.shape[1]\n",
    "        \n",
    "        assert nD<=3 #for now just implement xyz cords for polymer and mof ptCld\n",
    "        ac=gudhi.AlphaComplex(dat)\n",
    "        if not maximum:\n",
    "            maximum=np.sum([(np.max(dat)-np.min(dat))**2 for i in range(nD)])\n",
    "            maximum = np.sqrt(maximum)\n",
    "        self.max=maximum\n",
    "        st = ac.create_simplex_tree()#max_alpha_square=self.max**2)\n",
    "        self.dgm=st.persistence()\n",
    "        \n",
    "        skel=list(st.get_skeleton(2))\n",
    "        skel.sort(key=lambda s: s[1])\n",
    "        points = np.array([ac.get_point(i) for i in range(st.num_vertices())]) # later change the mapping back to dat \n",
    "        \n",
    "        dm=distance.pdist(points)\n",
    "        skelD=[(i[0],dm[pDistIndex(dm,i[0][0],i[0][1],dat.shape[0])]) if len(i[0])==2 else (i[0],max({dm[pDistIndex(dm,i[0][k],i[0][j],dat.shape[0])] for k in range(len(i[0])) for j in range(k) })) for i in skel[len(points):]] # not true for 3simplices  \n",
    "        skelD.sort(key=lambda s: s[1])\n",
    "        \n",
    "        self.alpha=initial\n",
    "        \n",
    "        self.alphaRes=step\n",
    "        \n",
    "        #make bins\n",
    "        \n",
    "        resIndex=1\n",
    "        curdist=0\n",
    "        skelBins=[]\n",
    "        nextHigh=self.alphaRes\n",
    "        #binLow=0\n",
    "        while resIndex < len(skelD) and curdist<self.max:\n",
    "            curdist=skelD[resIndex][1]\n",
    "            if curdist > nextHigh:\n",
    "                skelBins.append(resIndex) # up to but not including resIndex\n",
    "                nextHigh+=self.alphaRes\n",
    "            resIndex+=1\n",
    "        if curdist<self.max:\n",
    "            skelBins.append(len(skelD))\n",
    "        print(len(skelD))\n",
    "        print(skelBins[-5:])\n",
    "        self.skel={k*self.alphaRes:[j[0] for j in skelD[:skelBins[k]]] for k in range(int(self.max//self.alphaRes))} \n",
    "        \n",
    "        \n",
    "\n",
    "\n",
    "def genAppFromXYZ(dat,initial=.05,step=.25,maximum=20):\n",
    "    app = JupyterDash(__name__)\n",
    "\n",
    "    app.layout = html.Div([\n",
    "        html.H4('Simplicial Complex Explorer'),\n",
    "        html.Div([\n",
    "        \"Filter points with persistence less than (enter number): \",\n",
    "        dcc.Input(id='filterPH', value=0, type='number')\n",
    "    ]),\n",
    "        dcc.Graph(id='graph-with-slider'),\n",
    "        \n",
    "    ])\n",
    "    \n",
    "    \n",
    "    \n",
    "    return app\n",
    "\n"
   ]
  },
  {
   "cell_type": "code",
   "execution_count": null,
   "id": "27890815",
   "metadata": {},
   "outputs": [],
   "source": [
    "skelD"
   ]
  },
  {
   "cell_type": "code",
   "execution_count": null,
   "id": "5afdf3ff",
   "metadata": {},
   "outputs": [],
   "source": []
  },
  {
   "cell_type": "code",
   "execution_count": 5,
   "id": "f122cb2c",
   "metadata": {},
   "outputs": [
    {
     "data": {
      "text/plain": [
       "['L64', 'P104', 'P123', 'P65', 'P84', 'P85']"
      ]
     },
     "execution_count": 5,
     "metadata": {},
     "output_type": "execute_result"
    }
   ],
   "source": [
    "os.chdir(r\"Z:\\data\\micelles\\Micelles_identification\")\n",
    "polyComp=os.listdir()\n",
    "polyComp=[i for i in polyComp if i.find(\".\")==-1 and i!=\"High_conc\"] #get rid of actionList if present -> do High_conc separately\n",
    "temps=[int(i)*10 for i in range(1,6)]\n",
    "polyComp"
   ]
  },
  {
   "cell_type": "code",
   "execution_count": 6,
   "id": "b781f3db",
   "metadata": {},
   "outputs": [],
   "source": [
    "#Load a testdat\n",
    "comp=\"P85\"\n",
    "temp=temps[0]\n",
    "temp=30\n",
    "\n",
    "groFile=mdtraj.load(f\"{comp}/{comp}_{temp}.gro\")\n",
    "\n",
    "p0Index=[a.index for a in groFile.topology.atoms if a.name.find('PO')!=-1]\n",
    "p0Gro=groFile.restrict_atoms(p0Index)\n",
    "\n",
    "\n",
    "dat=p0Gro.xyz[0,:]"
   ]
  },
  {
   "cell_type": "code",
   "execution_count": null,
   "id": "c4933180",
   "metadata": {},
   "outputs": [],
   "source": [
    "dashApp=dashTopViz(dat)"
   ]
  },
  {
   "cell_type": "code",
   "execution_count": 7,
   "id": "ed85177e",
   "metadata": {},
   "outputs": [],
   "source": [
    "ac=gudhi.AlphaComplex(dat)\n",
    "st = ac.create_simplex_tree()\n",
    "skel=list(st.get_skeleton(2))\n",
    "skel.sort(key=lambda s: s[1])\n",
    "points = np.array([ac.get_point(i) for i in range(st.num_vertices())])"
   ]
  },
  {
   "cell_type": "code",
   "execution_count": 10,
   "id": "9af1bb27",
   "metadata": {},
   "outputs": [],
   "source": [
    "dm=distance.pdist(points)\n",
    "skelD=[(i[0],dm[pDistIndex(dm,i[0][0],i[0][1],dat.shape[0])]) if len(i[0])==2 else (i[0],max({dm[pDistIndex(dm,i[0][k],i[0][j],dat.shape[0])] for k in range(len(i[0])) for j in range(k) })) for i in skel[len(points):]] # not true for 3simplices  \n",
    "skelD.sort(key=lambda s: s[1])"
   ]
  },
  {
   "cell_type": "code",
   "execution_count": null,
   "id": "f694140b",
   "metadata": {},
   "outputs": [],
   "source": [
    "skelD[-1000:]"
   ]
  },
  {
   "cell_type": "code",
   "execution_count": null,
   "id": "ff99e930",
   "metadata": {},
   "outputs": [],
   "source": [
    "len(skelD)"
   ]
  },
  {
   "cell_type": "code",
   "execution_count": null,
   "id": "869e63b4",
   "metadata": {},
   "outputs": [],
   "source": [
    "resIndex=1\n",
    "curdist=0\n",
    "skelBins=[0]\n",
    "alphaRes=.25\n",
    "maximum=20\n",
    "nextHigh=0\n",
    "#binLow=0\n",
    "print(len(skelD))\n",
    "while resIndex < len(skelD) and curdist<maximum:\n",
    "    curdist=skelD[resIndex][1]\n",
    "    if curdist > nextHigh:\n",
    "        skelBins.append(resIndex) # up to but not including resIndex\n",
    "        nextHigh+=alphaRes\n",
    "        print(skelD[resIndex][1],resIndex)\n",
    "    resIndex+=1\n",
    "if curdist<maximum:\n",
    "    skelBins.append(len(skelD))\n",
    "print(len(skelD))\n",
    "print(skelBins)\n",
    "newskel={k*alphaRes:[j[0] for j in skelD[skelBins[k-1]:skelBins[k]]] for k in range(1,int(maximum//alphaRes))} "
   ]
  },
  {
   "cell_type": "code",
   "execution_count": null,
   "id": "ca42d2b2",
   "metadata": {},
   "outputs": [],
   "source": [
    "newskel"
   ]
  },
  {
   "cell_type": "code",
   "execution_count": null,
   "id": "c46dc069",
   "metadata": {},
   "outputs": [],
   "source": [
    "skelD[49781]"
   ]
  },
  {
   "cell_type": "code",
   "execution_count": null,
   "id": "bb83f25b",
   "metadata": {},
   "outputs": [],
   "source": [
    "skel[len(points):len(points)+20]"
   ]
  },
  {
   "cell_type": "code",
   "execution_count": null,
   "id": "9cce6e94",
   "metadata": {},
   "outputs": [],
   "source": [
    "skelD[:20]"
   ]
  },
  {
   "cell_type": "code",
   "execution_count": null,
   "id": "3c929658",
   "metadata": {},
   "outputs": [],
   "source": [
    "dgm=st.persistence()"
   ]
  },
  {
   "cell_type": "code",
   "execution_count": null,
   "id": "b05f5d23",
   "metadata": {},
   "outputs": [],
   "source": [
    "[i for i in dgm if i[0]==0 and i[1][0]<.05]"
   ]
  },
  {
   "cell_type": "code",
   "execution_count": null,
   "id": "ce20a554",
   "metadata": {},
   "outputs": [],
   "source": []
  },
  {
   "cell_type": "code",
   "execution_count": null,
   "id": "9d9def1c",
   "metadata": {},
   "outputs": [],
   "source": []
  },
  {
   "cell_type": "code",
   "execution_count": null,
   "id": "59694b5d",
   "metadata": {},
   "outputs": [],
   "source": [
    "len(skelD)"
   ]
  },
  {
   "cell_type": "code",
   "execution_count": null,
   "id": "d247601d",
   "metadata": {},
   "outputs": [],
   "source": [
    "skelD[49797:49797]"
   ]
  },
  {
   "cell_type": "markdown",
   "id": "b6348d7a",
   "metadata": {},
   "source": [
    "# Run Server"
   ]
  },
  {
   "cell_type": "code",
   "execution_count": null,
   "id": "4861e342",
   "metadata": {},
   "outputs": [],
   "source": [
    "app.run_server(mode='inline',debug=True)"
   ]
  }
 ],
 "metadata": {
  "kernelspec": {
   "display_name": "Python 3 (ipykernel)",
   "language": "python",
   "name": "python3"
  },
  "language_info": {
   "codemirror_mode": {
    "name": "ipython",
    "version": 3
   },
   "file_extension": ".py",
   "mimetype": "text/x-python",
   "name": "python",
   "nbconvert_exporter": "python",
   "pygments_lexer": "ipython3",
   "version": "3.9.12"
  }
 },
 "nbformat": 4,
 "nbformat_minor": 5
}
