{
 "cells": [
  {
   "cell_type": "code",
   "execution_count": 1,
   "metadata": {
    "pycharm": {
     "name": "#%%\n"
    }
   },
   "outputs": [],
   "source": [
    "import os\n",
    "import sys"
   ]
  },
  {
   "cell_type": "code",
   "execution_count": 2,
   "metadata": {
    "pycharm": {
     "name": "#%%\n"
    }
   },
   "outputs": [],
   "source": [
    "import numpy as np\n",
    "import pandas as pd\n",
    "import matplotlib.pyplot as plt\n",
    "from mpl_toolkits.mplot3d import Axes3D\n",
    "\n",
    "from skimage.filters import threshold_otsu\n",
    "from scipy.ndimage import distance_transform_edt"
   ]
  },
  {
   "cell_type": "code",
   "execution_count": 3,
   "metadata": {
    "pycharm": {
     "name": "#%%\n"
    }
   },
   "outputs": [],
   "source": [
    "\n",
    "import gudhi, gudhi.hera, gudhi.wasserstein, persim"
   ]
  },
  {
   "cell_type": "code",
   "execution_count": 4,
   "metadata": {
    "pycharm": {
     "name": "#%%\n"
    }
   },
   "outputs": [],
   "source": [
    "import ripserplusplus as rpp_py"
   ]
  },
  {
   "cell_type": "code",
   "execution_count": 12,
   "metadata": {
    "pycharm": {
     "name": "#%%\n"
    }
   },
   "outputs": [
    {
     "name": "stdout",
     "output_type": "stream",
     "text": [
      "Requirement already satisfied: persim in c:\\users\\moore\\appdata\\local\\programs\\python\\python39\\lib\\site-packages (0.3.1)\n",
      "Requirement already satisfied: numpy in c:\\users\\moore\\appdata\\local\\programs\\python\\python39\\lib\\site-packages (from persim) (1.22.4)\n",
      "Requirement already satisfied: deprecated in c:\\users\\moore\\appdata\\local\\programs\\python\\python39\\lib\\site-packages (from persim) (1.2.13)\n",
      "Requirement already satisfied: joblib in c:\\users\\moore\\appdata\\local\\programs\\python\\python39\\lib\\site-packages (from persim) (1.1.0)\n",
      "Requirement already satisfied: hopcroftkarp in c:\\users\\moore\\appdata\\local\\programs\\python\\python39\\lib\\site-packages (from persim) (1.2.5)\n",
      "Requirement already satisfied: scipy in c:\\users\\moore\\appdata\\local\\programs\\python\\python39\\lib\\site-packages (from persim) (1.9.0)\n",
      "Requirement already satisfied: scikit-learn in c:\\users\\moore\\appdata\\local\\programs\\python\\python39\\lib\\site-packages (from persim) (1.1.2)\n",
      "Requirement already satisfied: matplotlib in c:\\users\\moore\\appdata\\local\\programs\\python\\python39\\lib\\site-packages (from persim) (3.5.2)\n",
      "Requirement already satisfied: wrapt<2,>=1.10 in c:\\users\\moore\\appdata\\local\\programs\\python\\python39\\lib\\site-packages (from deprecated->persim) (1.14.1)\n",
      "Requirement already satisfied: pillow>=6.2.0 in c:\\users\\moore\\appdata\\local\\programs\\python\\python39\\lib\\site-packages (from matplotlib->persim) (9.1.1)\n",
      "Requirement already satisfied: packaging>=20.0 in c:\\users\\moore\\appdata\\local\\programs\\python\\python39\\lib\\site-packages (from matplotlib->persim) (21.3)\n",
      "Requirement already satisfied: python-dateutil>=2.7 in c:\\users\\moore\\appdata\\local\\programs\\python\\python39\\lib\\site-packages (from matplotlib->persim) (2.8.2)\n",
      "Requirement already satisfied: fonttools>=4.22.0 in c:\\users\\moore\\appdata\\local\\programs\\python\\python39\\lib\\site-packages (from matplotlib->persim) (4.33.3)\n",
      "Requirement already satisfied: pyparsing>=2.2.1 in c:\\users\\moore\\appdata\\local\\programs\\python\\python39\\lib\\site-packages (from matplotlib->persim) (3.0.9)\n",
      "Requirement already satisfied: kiwisolver>=1.0.1 in c:\\users\\moore\\appdata\\local\\programs\\python\\python39\\lib\\site-packages (from matplotlib->persim) (1.4.3)\n",
      "Requirement already satisfied: cycler>=0.10 in c:\\users\\moore\\appdata\\local\\programs\\python\\python39\\lib\\site-packages (from matplotlib->persim) (0.11.0)\n",
      "Requirement already satisfied: threadpoolctl>=2.0.0 in c:\\users\\moore\\appdata\\local\\programs\\python\\python39\\lib\\site-packages (from scikit-learn->persim) (3.1.0)\n",
      "Requirement already satisfied: six>=1.5 in c:\\users\\moore\\appdata\\local\\programs\\python\\python39\\lib\\site-packages (from python-dateutil>=2.7->matplotlib->persim) (1.16.0)\n"
     ]
    }
   ],
   "source": []
  },
  {
   "cell_type": "markdown",
   "metadata": {
    "pycharm": {
     "name": "#%% md\n"
    }
   },
   "source": []
  },
  {
   "cell_type": "code",
   "execution_count": 5,
   "metadata": {
    "pycharm": {
     "name": "#%%\n"
    }
   },
   "outputs": [],
   "source": [
    "os.chdir(\"Z:/data/micelles/\")"
   ]
  },
  {
   "cell_type": "code",
   "execution_count": 6,
   "metadata": {
    "pycharm": {
     "name": "#%%\n"
    }
   },
   "outputs": [],
   "source": [
    "dat=np.load(open('toMac/Ptraj0.npy',\"rb\"))"
   ]
  },
  {
   "cell_type": "code",
   "execution_count": 7,
   "metadata": {
    "pycharm": {
     "name": "#%%\n"
    }
   },
   "outputs": [],
   "source": [
    "from scipy.spatial import distance\n",
    "dmat=distance.cdist(dat,dat)"
   ]
  },
  {
   "cell_type": "code",
   "execution_count": 8,
   "metadata": {
    "pycharm": {
     "name": "#%%\n"
    }
   },
   "outputs": [
    {
     "data": {
      "text/plain": [
       "array([[0.        , 0.34655276, 0.58864587, ..., 7.58976573, 7.28488858,\n",
       "        7.1486937 ],\n",
       "       [0.34655276, 0.        , 0.35477403, ..., 7.37432855, 7.0667286 ,\n",
       "        6.93538187],\n",
       "       [0.58864587, 0.35477403, 0.        , ..., 7.45941669, 7.1431738 ,\n",
       "        7.00768037],\n",
       "       ...,\n",
       "       [7.58976573, 7.37432855, 7.45941669, ..., 0.        , 0.37102708,\n",
       "        0.62150915],\n",
       "       [7.28488858, 7.0667286 , 7.1431738 , ..., 0.37102708, 0.        ,\n",
       "        0.29787269],\n",
       "       [7.1486937 , 6.93538187, 7.00768037, ..., 0.62150915, 0.29787269,\n",
       "        0.        ]])"
      ]
     },
     "execution_count": 8,
     "metadata": {},
     "output_type": "execute_result"
    }
   ],
   "source": [
    "dmat"
   ]
  },
  {
   "cell_type": "code",
   "execution_count": 9,
   "metadata": {
    "pycharm": {
     "name": "#%%\n"
    }
   },
   "outputs": [
    {
     "data": {
      "text/plain": [
       "(0.0, 21.834247980546866, 4.627237570423936)"
      ]
     },
     "execution_count": 9,
     "metadata": {},
     "output_type": "execute_result"
    }
   ],
   "source": [
    "(np.min(dmat),np.max(dmat),np.std(dmat))"
   ]
  },
  {
   "cell_type": "code",
   "execution_count": null,
   "metadata": {
    "pycharm": {
     "is_executing": true,
     "name": "#%%\n"
    }
   },
   "outputs": [],
   "source": [
    "riprun=rpp_py.run(\"--format distance --dim 3\",dmat)"
   ]
  },
  {
   "cell_type": "code",
   "execution_count": null,
   "metadata": {
    "pycharm": {
     "name": "#%%\n"
    }
   },
   "outputs": [],
   "source": [
    "riprun=rpp_py.run(\"--format distance --dim 3 --ratio 1.05 --threshold 22\",dmat)"
   ]
  },
  {
   "cell_type": "code",
   "execution_count": null,
   "metadata": {
    "pycharm": {
     "is_executing": true,
     "name": "#%%\n"
    }
   },
   "outputs": [],
   "source": [
    "#rips=ripser.ripser(points,maxdim=2)\n",
    "riprun2=rpp_py.run(\"--format point-cloud --dim 3\",points)"
   ]
  },
  {
   "cell_type": "code",
   "execution_count": null,
   "metadata": {
    "pycharm": {
     "name": "#%%\n"
    }
   },
   "outputs": [],
   "source": []
  },
  {
   "cell_type": "code",
   "execution_count": 8,
   "metadata": {
    "pycharm": {
     "name": "#%%\n"
    }
   },
   "outputs": [],
   "source": [
    "ac = gudhi.AlphaComplex(off_file = 'toMac/Ptraj0.npy')\n",
    "#st = ac.create_simplex_tree()"
   ]
  },
  {
   "cell_type": "code",
   "execution_count": 9,
   "metadata": {
    "pycharm": {
     "name": "#%%\n"
    }
   },
   "outputs": [],
   "source": [
    "st = ac.create_simplex_tree()"
   ]
  },
  {
   "cell_type": "code",
   "execution_count": null,
   "metadata": {
    "pycharm": {
     "name": "#%%\n"
    }
   },
   "outputs": [],
   "source": []
  },
  {
   "cell_type": "code",
   "execution_count": 17,
   "metadata": {
    "pycharm": {
     "name": "#%%\n"
    }
   },
   "outputs": [
    {
     "data": {
      "text/plain": [
       "array([[21.111, 12.05 , 18.995],\n",
       "       [21.107, 11.801, 18.754],\n",
       "       [21.349, 11.843, 18.498],\n",
       "       ...,\n",
       "       [15.267,  9.261, 15.036],\n",
       "       [15.583,  9.455, 15.023],\n",
       "       [15.659,  9.741, 14.989]], dtype=float32)"
      ]
     },
     "execution_count": 17,
     "metadata": {},
     "output_type": "execute_result"
    }
   ],
   "source": [
    "points"
   ]
  },
  {
   "cell_type": "code",
   "execution_count": 29,
   "metadata": {
    "pycharm": {
     "name": "#%%\n"
    }
   },
   "outputs": [
    {
     "name": "stdout",
     "output_type": "stream",
     "text": [
      "(11.75100040435791, 24.94300079345703)\n",
      "(5.0329999923706055, 20.68600082397461)\n",
      "(10.107999801635742, 30.42300033569336)\n"
     ]
    }
   ],
   "source": [
    "for i in range(3):\n",
    "    print((np.min(points[:,i]),np.max(points[:,i])))"
   ]
  },
  {
   "cell_type": "code",
   "execution_count": 8,
   "metadata": {
    "pycharm": {
     "name": "#%%\n"
    }
   },
   "outputs": [],
   "source": [
    "ac= gudhi.AlphaComplex(dat)"
   ]
  },
  {
   "cell_type": "code",
   "execution_count": 9,
   "metadata": {
    "pycharm": {
     "name": "#%%\n"
    }
   },
   "outputs": [],
   "source": [
    "st = ac.create_simplex_tree()"
   ]
  },
  {
   "cell_type": "code",
   "execution_count": 10,
   "metadata": {
    "pycharm": {
     "name": "#%%\n"
    }
   },
   "outputs": [],
   "source": [
    "points = np.array([ac.get_point(i) for i in range(st.num_vertices())])\n",
    "# We want to plot the alpha-complex with alpha=0.005 by default.\n",
    "# We are only going to plot the triangles\n",
    "triangles = np.array([s[0] for s in st.get_skeleton(2) if len(s[0]) == 3 and s[1] <= 0.05])"
   ]
  },
  {
   "cell_type": "code",
   "execution_count": 11,
   "metadata": {
    "pycharm": {
     "name": "#%%\n"
    }
   },
   "outputs": [
    {
     "data": {
      "text/plain": [
       "array([[   0,   45],\n",
       "       [   0,  374],\n",
       "       [   0,  377],\n",
       "       ...,\n",
       "       [2576, 2577],\n",
       "       [2577, 2578],\n",
       "       [2577, 2579]])"
      ]
     },
     "execution_count": 11,
     "metadata": {},
     "output_type": "execute_result"
    }
   ],
   "source": [
    "np.array([s[0] for s in st.get_skeleton(2)  if len(s[0]) == 2 and s[1] <= 0.05])"
   ]
  },
  {
   "cell_type": "code",
   "execution_count": 12,
   "metadata": {
    "pycharm": {
     "name": "#%%\n"
    }
   },
   "outputs": [
    {
     "data": {
      "text/plain": [
       "array([[  53,  505,  525],\n",
       "       [  89,  712,  724],\n",
       "       [ 149, 1234, 1242],\n",
       "       [ 204,  205, 1628],\n",
       "       [ 257,  258, 2071],\n",
       "       [ 262, 2091, 2138],\n",
       "       [ 325,  349,  350],\n",
       "       [ 765,  766,  777],\n",
       "       [ 896,  898,  900],\n",
       "       [1354, 1355, 1357],\n",
       "       [1438, 1439, 1440],\n",
       "       [2050, 2052, 2082],\n",
       "       [2152, 2156, 2198],\n",
       "       [2157, 2159, 2169],\n",
       "       [2222, 2223, 2224],\n",
       "       [2248, 2414, 2415],\n",
       "       [2328, 2330, 2332],\n",
       "       [2462, 2571, 2575]])"
      ]
     },
     "execution_count": 12,
     "metadata": {},
     "output_type": "execute_result"
    }
   ],
   "source": [
    "triangles"
   ]
  },
  {
   "cell_type": "code",
   "execution_count": 13,
   "metadata": {
    "pycharm": {
     "name": "#%%\n"
    }
   },
   "outputs": [
    {
     "data": {
      "text/html": [
       "        <script type=\"text/javascript\">\n",
       "        window.PlotlyConfig = {MathJaxConfig: 'local'};\n",
       "        if (window.MathJax && window.MathJax.Hub && window.MathJax.Hub.Config) {window.MathJax.Hub.Config({SVG: {font: \"STIX-Web\"}});}\n",
       "        if (typeof require !== 'undefined') {\n",
       "        require.undef(\"plotly\");\n",
       "        requirejs.config({\n",
       "            paths: {\n",
       "                'plotly': ['https://cdn.plot.ly/plotly-2.12.1.min']\n",
       "            }\n",
       "        });\n",
       "        require(['plotly'], function(Plotly) {\n",
       "            window._Plotly = Plotly;\n",
       "        });\n",
       "        }\n",
       "        </script>\n",
       "        "
      ]
     },
     "metadata": {},
     "output_type": "display_data"
    }
   ],
   "source": [
    "import plotly\n",
    "from plotly.graph_objs import graph_objs as go\n",
    "import ipywidgets as widgets\n",
    "\n",
    "plotly.offline.init_notebook_mode(connected=True)\n",
    "from plotly.offline import iplot"
   ]
  },
  {
   "cell_type": "code",
   "execution_count": 14,
   "metadata": {
    "pycharm": {
     "name": "#%%\n"
    }
   },
   "outputs": [],
   "source": [
    "import plotly.io as pio\n",
    "#pio.renderers.default = \"browser\""
   ]
  },
  {
   "cell_type": "code",
   "execution_count": 15,
   "metadata": {
    "pycharm": {
     "name": "#%%\n"
    }
   },
   "outputs": [],
   "source": [
    "from IPython.display import display"
   ]
  },
  {
   "cell_type": "code",
   "execution_count": 16,
   "metadata": {
    "pycharm": {
     "name": "#%%\n"
    }
   },
   "outputs": [
    {
     "data": {
      "application/vnd.jupyter.widget-view+json": {
       "model_id": "25e0e4a0fc0e4654bcb9c446c384c6f6",
       "version_major": 2,
       "version_minor": 0
      },
      "text/plain": [
       "interactive(children=(FloatSlider(value=0.05, description='Alpha:', max=0.5, readout_format='.4f', step=0.01),…"
      ]
     },
     "metadata": {},
     "output_type": "display_data"
    }
   ],
   "source": [
    "r=[5,35]\n",
    "alpha = widgets.FloatSlider(\n",
    "    value = 0.05,\n",
    "    min = 0.0,\n",
    "    max = 0.5,\n",
    "    step = 0.01,\n",
    "    description = 'Alpha:',\n",
    "    readout_format = '.4f'\n",
    ")\n",
    "\n",
    "mesh = go.Mesh3d(\n",
    "    x = points[:, 0],\n",
    "    y = points[:, 1],\n",
    "    z = points[:, 2],\n",
    "    i = triangles[:, 0],\n",
    "    j = triangles[:, 1],\n",
    "    k = triangles[:, 2]\n",
    ")\n",
    "\n",
    "\n",
    "\n",
    "fig = go.FigureWidget(\n",
    "    data = mesh,\n",
    "    layout = go.Layout(\n",
    "        title = dict(\n",
    "            text = 'Alpha Complex Representation of the 2-Torus'\n",
    "        ),\n",
    "        scene = dict(\n",
    "            xaxis = dict(nticks = 15, range = r),\n",
    "            yaxis = dict(nticks = 15, range = r),\n",
    "            zaxis = dict(nticks = 15, range = r)\n",
    "        )\n",
    "    )\n",
    ")\n",
    "\n",
    "def view_SC(alpha):\n",
    "    if alpha < 0.0015:\n",
    "        alpha = 0.0015\n",
    "    triangles = np.array([s[0] for s in st.get_skeleton(2) if len(s[0]) == 3 and s[1] <= alpha])\n",
    "    fig.data[0].i = triangles[:, 0]\n",
    "    fig.data[0].j = triangles[:, 1]\n",
    "    fig.data[0].k = triangles[:, 2]\n",
    "    iplot(fig)\n",
    "\n",
    "control=widgets.interact(view_SC, alpha = alpha)"
   ]
  },
  {
   "cell_type": "code",
   "execution_count": 17,
   "metadata": {
    "pycharm": {
     "name": "#%%\n"
    }
   },
   "outputs": [
    {
     "data": {
      "text/plain": [
       "<function __main__.view_SC(alpha)>"
      ]
     },
     "metadata": {},
     "output_type": "display_data"
    }
   ],
   "source": [
    "display(control)"
   ]
  },
  {
   "cell_type": "code",
   "execution_count": 47,
   "metadata": {
    "pycharm": {
     "name": "#%%\n"
    }
   },
   "outputs": [
    {
     "data": {
      "application/vnd.jupyter.widget-view+json": {
       "model_id": "81d67b5b4db2406aa6b49e6e4d72ee2c",
       "version_major": 2,
       "version_minor": 0
      },
      "text/plain": [
       "interactive(children=(FloatSlider(value=0.02, description='Alpha:', max=20.0, readout_format='.4f', step=0.05)…"
      ]
     },
     "metadata": {},
     "output_type": "display_data"
    }
   ],
   "source": [
    "lims=[[np.floor(np.min(points[:,i])),np.ceil(np.max(points[:,i]))] for i in range(3)]\n",
    "alpha = widgets.FloatSlider(\n",
    "    value = 0.02,\n",
    "    min = 0.0,\n",
    "    max = 20,\n",
    "    step = 0.05,\n",
    "    description = 'Alpha:',\n",
    "    readout_format = '.4f'\n",
    ")\n",
    "\n",
    "mesh = go.Mesh3d(\n",
    "    x = points[:, 0],\n",
    "    y = points[:, 1],\n",
    "    z = points[:, 2],\n",
    "    i = triangles[:, 0],\n",
    "    j = triangles[:, 1],\n",
    "    k = triangles[:, 2],\n",
    "    color=\"green\"\n",
    ")\n",
    "\n",
    "\n",
    "pts=go.Scatter3d(\n",
    "    x = points[:, 0],\n",
    "    y = points[:, 1],\n",
    "    z = points[:, 2],\n",
    "    mode='markers',\n",
    "    marker=dict(\n",
    "        size=1,\n",
    "        color=\"cornflowerblue\",                # set color to an array/list of desired values\n",
    "        #colorscale='Viridis',   # choose a colorscale\n",
    "        opacity=.9\n",
    "    )\n",
    ")\n",
    "\n",
    "fig = go.FigureWidget(\n",
    "    data = [mesh,pts],\n",
    "    layout = go.Layout(\n",
    "        title = dict(\n",
    "            text = f'Simplicial Complex Representation of the P0 distribution'\n",
    "        ),\n",
    "        scene = dict(\n",
    "            xaxis = dict(nticks = 15, range = lims[0]),\n",
    "            yaxis = dict(nticks = 15, range = lims[1]),\n",
    "            zaxis = dict(nticks = 15, range = lims[2])\n",
    "        )\n",
    "    )\n",
    ")\n",
    "\n",
    "def view_SC(alpha):\n",
    "    if alpha < 0.0015:\n",
    "        alpha = 0.0015\n",
    "    triangles = np.array([s[0] for s in st.get_skeleton(2) if len(s[0]) == 3 and s[1] <= alpha])\n",
    "    fig.data[0].i = triangles[:, 0]\n",
    "    fig.data[0].j = triangles[:, 1]\n",
    "    fig.data[0].k = triangles[:, 2]\n",
    "    #fig.update_layout(title_text=f'Simplicial Complex Representation of the P0 distribution (epsilon={alpha.value})')\n",
    "    iplot(fig)\n",
    "\n",
    "widgets.interact(view_SC, alpha = alpha);"
   ]
  },
  {
   "cell_type": "code",
   "execution_count": 49,
   "metadata": {
    "pycharm": {
     "name": "#%%\n"
    }
   },
   "outputs": [],
   "source": [
    "pts=go.Scatter3d(\n",
    "    x = points[:, 0],\n",
    "    y = points[:, 1],\n",
    "    z = points[:, 2],\n",
    "    mode='markers',\n",
    "    marker=dict(\n",
    "        size=1,\n",
    "        color=\"cornflowerblue\",                # set color to an array/list of desired values\n",
    "        #colorscale='Viridis',   # choose a colorscale\n",
    "        opacity=.9\n",
    "    )\n",
    ")\n",
    "\n",
    "fig = go.FigureWidget(\n",
    "    data = [pts],\n",
    "    layout = go.Layout(\n",
    "        title = dict(\n",
    "            text = f'P0 distribution'\n",
    "        ),\n",
    "        scene = dict(\n",
    "            xaxis = dict(nticks = 15, range = lims[0]),\n",
    "            yaxis = dict(nticks = 15, range = lims[1]),\n",
    "            zaxis = dict(nticks = 15, range = lims[2])\n",
    "        )\n",
    "    )\n",
    ")\n",
    "iplot(fig)"
   ]
  },
  {
   "cell_type": "code",
   "execution_count": null,
   "metadata": {
    "pycharm": {
     "name": "#%%\n"
    }
   },
   "outputs": [],
   "source": []
  },
  {
   "cell_type": "code",
   "execution_count": 38,
   "metadata": {
    "pycharm": {
     "name": "#%%\n"
    }
   },
   "outputs": [
    {
     "data": {
      "application/vnd.jupyter.widget-view+json": {
       "model_id": "2c52eee4cc5c490b85d561033016f093",
       "version_major": 2,
       "version_minor": 0
      },
      "text/plain": [
       "interactive(children=(FloatSlider(value=0.02, description='Alpha:', max=20.0, readout_format='.4f', step=0.05)…"
      ]
     },
     "metadata": {},
     "output_type": "display_data"
    }
   ],
   "source": [
    "lims=[[np.floor(np.min(points[:,i])),np.ceil(np.max(points[:,i]))] for i in range(3)]\n",
    "alpha = widgets.FloatSlider(\n",
    "    value = 0.02,\n",
    "    min = 0.0,\n",
    "    max = 20,\n",
    "    step = 0.05,\n",
    "    description = 'Alpha:',\n",
    "    readout_format = '.4f'\n",
    ")\n",
    "\n",
    "mesh = go.Mesh3d(\n",
    "    x = points[:, 0],\n",
    "    y = points[:, 1],\n",
    "    z = points[:, 2],\n",
    "    i = triangles[:, 0],\n",
    "    j = triangles[:, 1],\n",
    "    k = triangles[:, 2],\n",
    "    color=\"green\"\n",
    ")\n",
    "\n",
    "\n",
    "pts=go.Scatter3d(\n",
    "    x = points[:, 0],\n",
    "    y = points[:, 1],\n",
    "    z = points[:, 2],\n",
    "    mode='markers',\n",
    "    marker=dict(\n",
    "        size=1,\n",
    "        color=\"cornflowerblue\",                # set color to an array/list of desired values\n",
    "        #colorscale='Viridis',   # choose a colorscale\n",
    "        opacity=.9\n",
    "    )\n",
    ")\n",
    "\n",
    "b1s=[np.array([s[0] for s in st.get_skeleton(2) if len(s[0]) == 2 and s[1] <= alpha.value])]\n",
    "linepts={0:[],1:[],2:[]}\n",
    "for i in b1s:\n",
    "    linepts[0].append(points[i[0],0])\n",
    "    linepts[1].append(points[i[0],1])\n",
    "    linepts[2].append(points[i[0],2])\n",
    "    linepts[0].append(points[i[1],0])\n",
    "    linepts[1].append(points[i[1],1])\n",
    "    linepts[2].append(points[i[1],2])\n",
    "for i in range(3):\n",
    "    linepts[i]=np.array(linepts[i])\n",
    "\n",
    "lin=go.Scatter3d(\n",
    "    x = linepts[0],\n",
    "    y = linepts[1],\n",
    "    z = linepts[2],\n",
    "    mode='lines',\n",
    "    marker=dict(\n",
    "        size=1,\n",
    "        color=\"orange\",                # set color to an array/list of desired values\n",
    "        #colorscale='Viridis',   # choose a colorscale\n",
    "        opacity=.7\n",
    "    )\n",
    ")\n",
    "\n",
    "fig = go.FigureWidget(\n",
    "    data = [mesh,lin,pts],\n",
    "    layout = go.Layout(\n",
    "        title = dict(\n",
    "            text = f'Simplicial Complex Representation of the P0 distribution (epsilon ={alpha}'\n",
    "        ),\n",
    "        scene = dict(\n",
    "            xaxis = dict(nticks = 15, range = lims[0]),\n",
    "            yaxis = dict(nticks = 15, range = lims[1]),\n",
    "            zaxis = dict(nticks = 15, range = lims[2])\n",
    "        )\n",
    "    )\n",
    ")\n",
    "\n",
    "def view_SC(alpha):\n",
    "    if alpha < 0.0015:\n",
    "        alpha = 0.0015\n",
    "    triangles = np.array([s[0] for s in st.get_skeleton(2) if len(s[0]) == 3 and s[1] <= alpha.value])\n",
    "    fig.data[0].i = triangles[:, 0]\n",
    "    fig.data[0].j = triangles[:, 1]\n",
    "    fig.data[0].k = triangles[:, 2]\n",
    "\n",
    "    b1s=[np.array([s[0] for s in st.get_skeleton(2) if len(s[0]) == 2 and s[1] <= alpha.value])]\n",
    "    linepts={0:[],1:[],2:[]}\n",
    "    for i in b1s:\n",
    "        linepts[0].append(points[i[0],0])\n",
    "        linepts[1].append(points[i[0],1])\n",
    "        linepts[2].append(points[i[0],2])\n",
    "        linepts[0].append(points[i[1],0])\n",
    "        linepts[1].append(points[i[1],1])\n",
    "        linepts[2].append(points[i[1],2])\n",
    "    for i in range(3):\n",
    "        linepts[i]=np.array(linepts[i])\n",
    "    fig.data[1].x = linepts[0]\n",
    "    fig.data[1].y = linepts[1]\n",
    "    fig.data[1].z = linepts[2]\n",
    "    iplot(fig)\n",
    "\n",
    "widgets.interact(view_SC, alpha = alpha);"
   ]
  },
  {
   "cell_type": "code",
   "execution_count": null,
   "metadata": {
    "pycharm": {
     "name": "#%%\n"
    }
   },
   "outputs": [],
   "source": [
    "gudhi.per"
   ]
  }
 ],
 "metadata": {
  "kernelspec": {
   "display_name": "Python 3 (ipykernel)",
   "language": "python",
   "name": "python3"
  },
  "language_info": {
   "codemirror_mode": {
    "name": "ipython",
    "version": 3
   },
   "file_extension": ".py",
   "mimetype": "text/x-python",
   "name": "python",
   "nbconvert_exporter": "python",
   "pygments_lexer": "ipython3",
   "version": "3.9.12"
  }
 },
 "nbformat": 4,
 "nbformat_minor": 1
}
