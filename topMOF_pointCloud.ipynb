{
 "cells": [
  {
   "cell_type": "code",
   "execution_count": 25,
   "metadata": {},
   "outputs": [],
   "source": [
    "import os\n",
    "import sys"
   ]
  },
  {
   "cell_type": "code",
   "execution_count": 68,
   "metadata": {},
   "outputs": [],
   "source": [
    "#%matplotlib inline\n",
    "import numpy as np\n",
    "import pandas as pd\n",
    "import matplotlib.pyplot as plt\n",
    "from mpl_toolkits.mplot3d import Axes3D\n",
    "from skimage.filters import threshold_otsu\n",
    "from scipy.ndimage.morphology import distance_transform_edt\n",
    "\n",
    "from pymatgen.core import Structure\n"
   ]
  },
  {
   "cell_type": "code",
   "execution_count": 27,
   "metadata": {},
   "outputs": [],
   "source": [
    "import gudhi,gudhi.hera,gudhi.wasserstein,persim\n",
    "import ripserplusplus as rpp"
   ]
  },
  {
   "cell_type": "markdown",
   "metadata": {},
   "source": []
  },
  {
   "cell_type": "code",
   "execution_count": null,
   "metadata": {},
   "outputs": [],
   "source": []
  },
  {
   "cell_type": "code",
   "execution_count": 28,
   "metadata": {},
   "outputs": [],
   "source": [
    "inDir=\"Z:/data/diverse_metals\"\n",
    "os.chdir(inDir)"
   ]
  },
  {
   "cell_type": "code",
   "execution_count": null,
   "metadata": {},
   "outputs": [],
   "source": []
  },
  {
   "cell_type": "code",
   "execution_count": 29,
   "metadata": {},
   "outputs": [],
   "source": [
    "def dropUnnamed(df):\n",
    "    return df.loc[:,~df.columns.str.match(\"Unnamed\")]"
   ]
  },
  {
   "cell_type": "code",
   "execution_count": 30,
   "metadata": {},
   "outputs": [],
   "source": [
    "postR=pd.read_csv(\"post_comb_vsa-CO2-repeat.csv\",index_col=0)\n",
    "\n",
    "postR.index=[i[:i.find(\"_repeat\")] for i in postR.index]\n",
    "\n",
    "overall=pd.read_csv(\"overall_process.csv\",index_col=1)\n",
    "overall=dropUnnamed(overall)\n",
    "\n",
    "overall.index=[i[:i.find(\"_repeat\")] for i in overall.index]"
   ]
  },
  {
   "cell_type": "code",
   "execution_count": null,
   "metadata": {},
   "outputs": [],
   "source": []
  },
  {
   "cell_type": "code",
   "execution_count": null,
   "metadata": {},
   "outputs": [],
   "source": [
    "#False in {i.find(\"_repeat\")!=-1 for i in overall.index} # every name contains repeat"
   ]
  },
  {
   "cell_type": "code",
   "execution_count": null,
   "metadata": {},
   "outputs": [],
   "source": [
    "overall.head()"
   ]
  },
  {
   "cell_type": "code",
   "execution_count": null,
   "metadata": {},
   "outputs": [],
   "source": [
    "overall.columns"
   ]
  },
  {
   "cell_type": "code",
   "execution_count": 31,
   "metadata": {},
   "outputs": [],
   "source": [
    "datG=pd.read_csv(\"post-combustion-vsa-2-clean.csv\",index_col=0)"
   ]
  },
  {
   "cell_type": "code",
   "execution_count": 32,
   "metadata": {},
   "outputs": [
    {
     "data": {
      "text/plain": "569"
     },
     "execution_count": 32,
     "metadata": {},
     "output_type": "execute_result"
    }
   ],
   "source": [
    "datGIndex=datG.index\n",
    "\n",
    "len(set(datGIndex) & {i[:i.find(\"_repeat\")] for i in postR.index})"
   ]
  },
  {
   "cell_type": "code",
   "execution_count": 33,
   "metadata": {},
   "outputs": [
    {
     "data": {
      "text/plain": "{'DB1-Cu2O8-AZO_A-fum_A_No201',\n 'DB1-Cu2O8-irmof10_A-irmof20_A_No380',\n 'DB1-Cu2O8-irmof7_A-pcn6_B_No18',\n 'DB1-Cu2O8N2-AZO_A-DABCO_A_No15',\n 'DB1-Cu2O8N2-BDC_A-irmof20_A_No306',\n 'DB1-Cu2O8N2-fum_A-irmof10_A_No45',\n 'DB1-Cu2O8N2-fum_A-pmof1_A_No7',\n 'DB1-Cu2O8N2-irmof6_A-irmof7_A_No276',\n 'DB1-Cu2O8N2-irmof6_A_No10',\n 'DB1-ZIFZn-BDC_A-irmof6_A_No215',\n 'DB1-ZIFZn-BDC_A-irmof6_A_No303',\n 'DB1-ZIFZn-BDC_A-irmof6_A_No408',\n 'DB1-ZIFZn-BDC_A-irmof6_A_No457',\n 'DB1-Zn2O8-ADC_A-DPAC_A_No191',\n 'DB1-Zn2O8-BTC_B-DPAC_A_No26',\n 'DB1-Zn2O8-fum_A-irmof20_A_No142',\n 'DB1-Zn2O8N2-irmof8_A-TED_A_No11',\n 'DB1-Zn2O8N2-irmof8_A-TePM_No124',\n 'DB1-Zn2O8N2-irmof8_A-TePM_No175',\n 'DB1-Zn2O8N2-irmof8_A-TePM_No468',\n 'DB1-Zn2O8N2-irmof8_A-TePM_No469',\n 'DB10-lvtb_sym_5_mc_2_sym_5_mc_2_L_1',\n 'DB10-qtz_sym_4_mc_si__L_1',\n 'DB12-ABEXEM_clean',\n 'DB12-ADEGIA_clean',\n 'DB12-AHOKIR01_clean',\n 'DB12-ALATAK_clean',\n 'DB12-ALUJUN_clean',\n 'DB12-ALUKAU_clean',\n 'DB12-APAYUN_clean',\n 'DB12-APAZOI_clean',\n 'DB12-ARUYES_clean',\n 'DB12-ASEJOZ_clean',\n 'DB12-AWOFOI_clean',\n 'DB12-AXAWUT_clean',\n 'DB12-AXUPEO_clean',\n 'DB12-AZAVOO_clean',\n 'DB12-BEFLUV_clean',\n 'DB12-BEFMAC_freeONLY',\n 'DB12-BEFPAF_clean',\n 'DB12-BETGAK_clean',\n 'DB12-BEXSAA_clean',\n 'DB12-BUGSAY_clean',\n 'DB12-BUGSEC_clean',\n 'DB12-BUGSIG_clean',\n 'DB12-BUGSOM_clean',\n 'DB12-BUSQIQ_freeONLY',\n 'DB12-CAJLEH_clean',\n 'DB12-CAKXOD_clean',\n 'DB12-CAKXUJ_clean',\n 'DB12-CAKYAQ_clean',\n 'DB12-CAKYEU_clean',\n 'DB12-CAKYIY_clean',\n 'DB12-CAYKEU_clean',\n 'DB12-CEGWER_clean',\n 'DB12-CIGFEF_clean',\n 'DB12-CODGAE_freeONLY',\n 'DB12-COWROX_clean',\n 'DB12-COYTEQ_clean',\n 'DB12-COYTIU_clean',\n 'DB12-CUKYAJ_clean',\n 'DB12-CUNQOT_clean',\n 'DB12-CUQKOQ_clean',\n 'DB12-CUWZIF_clean',\n 'DB12-CUZBUW_clean',\n 'DB12-DALSUH_clean',\n 'DB12-DALTAO_clean',\n 'DB12-DANVEU_clean',\n 'DB12-DEFRIR_clean',\n 'DB12-DEJCEB_clean',\n 'DB12-DEPXAY_clean',\n 'DB12-DUQCAU01_clean',\n 'DB12-DUXMAL_clean',\n 'DB12-ECUDAI_clean',\n 'DB12-EDEPAG_clean',\n 'DB12-EGAFOJ_clean',\n 'DB12-EKOPEA_clean',\n 'DB12-EKOPOK_clean',\n 'DB12-ELIJOZ_clean',\n 'DB12-ELIJUF_clean',\n 'DB12-ELIKAM_clean',\n 'DB12-ELIKUG_clean',\n 'DB12-ELILER_clean',\n 'DB12-EPEXII_freeONLY',\n 'DB12-EVUQOC_clean',\n 'DB12-EVUQUI_clean',\n 'DB12-EVURAP_clean',\n 'DB12-EZULAO_clean',\n 'DB12-FALVOF_clean',\n 'DB12-FAQGIP_clean',\n 'DB12-FATKAO_clean',\n 'DB12-FEYQIK_clean',\n 'DB12-FIJDUY_clean',\n 'DB12-FIPJAR_clean',\n 'DB12-FIPWOS_freeONLY',\n 'DB12-FITJAU_clean',\n 'DB12-FIVNAZ_clean',\n 'DB12-FOFHAK_clean',\n 'DB12-FOHCAH_clean',\n 'DB12-FOKYIP_clean',\n 'DB12-FORPIM_clean',\n 'DB12-FORQAF_clean',\n 'DB12-FUHMOM_clean',\n 'DB12-FUZKAN_freeONLY',\n 'DB12-GADDOH_clean',\n 'DB12-GAJYUN_clean',\n 'DB12-GAJZAU_clean',\n 'DB12-GAJZEY_clean',\n 'DB12-GAJZOI_clean',\n 'DB12-GAJZUO_clean',\n 'DB12-GAKBAX_clean',\n 'DB12-GAMTAQ_clean',\n 'DB12-GAMTEU_clean',\n 'DB12-GAMTIY_clean',\n 'DB12-GAPNOD_clean',\n 'DB12-GEDSOZ_clean',\n 'DB12-GEGGUW_clean',\n 'DB12-GIQZIQ_clean',\n 'DB12-GOJDOZ_clean',\n 'DB12-GOQTIR_clean',\n 'DB12-GOWHOR_clean',\n 'DB12-GUBKUL_clean',\n 'DB12-GUDJOG_clean',\n 'DB12-GUHNUU_clean',\n 'DB12-GUJVIR_clean',\n 'DB12-GUJVOX_clean',\n 'DB12-GUXZUV_clean',\n 'DB12-HADXIW_clean',\n 'DB12-HEKTUO01_clean',\n 'DB12-HEKTUO_clean',\n 'DB12-HISSIN_clean',\n 'DB12-HIZQEN_clean',\n 'DB12-HOFSUS_clean',\n 'DB12-HOPHUP_clean',\n 'DB12-HOTWUJ_clean',\n 'DB12-HOXSIY_clean',\n 'DB12-HUFLUR_clean',\n 'DB12-ICIZOL_clean',\n 'DB12-ICOWON_clean',\n 'DB12-IJASES_clean',\n 'DB12-IKETOI_clean',\n 'DB12-IKETUO_clean',\n 'DB12-IKEVAW_clean',\n 'DB12-IKUTOZ_clean',\n 'DB12-IPIJUM_clean',\n 'DB12-IQIPAZ_clean',\n 'DB12-IXECET_clean',\n 'DB12-JADBIC_clean',\n 'DB12-JILWOR_clean',\n 'DB12-JOVWOI_clean',\n 'DB12-JUGQIN_clean',\n 'DB12-KAPHAL_clean',\n 'DB12-KETHEY02_clean',\n 'DB12-KIDDIM_clean',\n 'DB12-KIDDOS_clean',\n 'DB12-KIVVOC_clean',\n 'DB12-KIYMAI_clean',\n 'DB12-KIYMEM01_clean',\n 'DB12-KOBPIB_clean',\n 'DB12-KONCIA_clean',\n 'DB12-KOVJAI01_clean',\n 'DB12-KUQXIE_clean',\n 'DB12-LAGNAK_clean',\n 'DB12-LAGNEO_clean',\n 'DB12-LAGNIS_clean',\n 'DB12-LAGNUE_clean',\n 'DB12-LAGQOB_clean',\n 'DB12-LAHYOL_clean',\n 'DB12-LEMMAS_freeONLY',\n 'DB12-LIWFUS_clean',\n 'DB12-LOGBEO_freeONLY',\n 'DB12-LOSBOM_clean',\n 'DB12-MAPFOY_clean',\n 'DB12-MIKDUH_clean',\n 'DB12-MIMKIE_clean',\n 'DB12-MITGOL_clean',\n 'DB12-MODJOG_clean',\n 'DB12-MOJNAC_clean',\n 'DB12-MONFAY_clean',\n 'DB12-MOTMAK_clean',\n 'DB12-MULXOH_clean',\n 'DB12-MUVJIX_clean',\n 'DB12-NAWHOL_clean',\n 'DB12-NAWKII_clean',\n 'DB12-NAWWUG_clean',\n 'DB12-NEYZAU_clean',\n 'DB12-NEYZAU_freeONLY',\n 'DB12-NOQNOY_clean',\n 'DB12-NOSHEK_clean',\n 'DB12-NOSHIO_clean',\n 'DB12-NURMUJ_clean',\n 'DB12-OCUGEZ_clean',\n 'DB12-OFUCAV_clean',\n 'DB12-OMAMEU_clean',\n 'DB12-OSAWEL_clean',\n 'DB12-OSUVIJ_clean',\n 'DB12-OTUXUX_freeONLY',\n 'DB12-OYOSAX_clean',\n 'DB12-PASMUT_clean',\n 'DB12-PASNAA01_clean',\n 'DB12-PASNAA_clean',\n 'DB12-PEQRUZ_clean',\n 'DB12-PEWFII_clean',\n 'DB12-PEXFAA_clean',\n 'DB12-PIZPIX02_clean',\n 'DB12-POKGEC_clean',\n 'DB12-POLBOH_clean',\n 'DB12-PUGFII_clean',\n 'DB12-PUGFOO_clean',\n 'DB12-PUGHUW_clean',\n 'DB12-PURSOK_clean',\n 'DB12-PUWCOZ_clean',\n 'DB12-PUZKUS_clean',\n 'DB12-QADKAH_clean',\n 'DB12-QALNEW_clean',\n 'DB12-QIXNES_clean',\n 'DB12-QIYQAR_clean',\n 'DB12-QUSRIH_clean',\n 'DB12-QUZZES_freeONLY',\n 'DB12-RAJFAL_clean',\n 'DB12-RANPAA_clean',\n 'DB12-RASKON_clean',\n 'DB12-RESSAK_clean',\n 'DB12-RESWUI01_clean',\n 'DB12-RIPTAM_clean',\n 'DB12-RORRIB_clean',\n 'DB12-RUFMUA01_clean',\n 'DB12-RUFMUA_clean',\n 'DB12-RUGGUX_clean',\n 'DB12-RUGNUE_clean',\n 'DB12-RUSWIN_clean',\n 'DB12-RUSWOT_clean',\n 'DB12-RUSXAG_clean',\n 'DB12-RUVKOJ_clean',\n 'DB12-SAJKUM_clean',\n 'DB12-SAJLOH_clean',\n 'DB12-SAKDEQ_clean',\n 'DB12-SAKFAO_clean',\n 'DB12-SETFUT_clean',\n 'DB12-SEYDUW_clean',\n 'DB12-SEYFAE_clean',\n 'DB12-SEYFEI_clean',\n 'DB12-SIPWUK_clean',\n 'DB12-SIWTOJ_clean',\n 'DB12-SODXUG_clean',\n 'DB12-SOXDAM_clean',\n 'DB12-SOZGIZ_clean',\n 'DB12-SOZRUW_clean',\n 'DB12-SOZSEH_clean',\n 'DB12-SUKREX_clean',\n 'DB12-SUNJIV_clean',\n 'DB12-SUNJOB_clean',\n 'DB12-TADCAE_clean',\n 'DB12-TEJGEW_clean',\n 'DB12-TIKMUW_clean',\n 'DB12-TIXVON_clean',\n 'DB12-TONLOZ_clean',\n 'DB12-TOXNIF_clean',\n 'DB12-TUMDAI_clean',\n 'DB12-TUMGOX_clean',\n 'DB12-TUMQID_clean',\n 'DB12-TUMQOJ_clean',\n 'DB12-TUMRAW_clean',\n 'DB12-TUMREA_clean',\n 'DB12-TUMRUQ_clean',\n 'DB12-UGUHAG_clean',\n 'DB12-USUPUV_clean',\n 'DB12-UYOJOI_clean',\n 'DB12-UZATAR_clean',\n 'DB12-VEFLUP_clean',\n 'DB12-VEHNED_clean',\n 'DB12-VIFBOD_clean',\n 'DB12-VIPYOK_clean',\n 'DB12-VIQQUJ_clean',\n 'DB12-VIWKIX_clean',\n 'DB12-VIWKOD_clean',\n 'DB12-VOBQEK_clean',\n 'DB12-VOTKEW_clean',\n 'DB12-WACLEU_clean',\n 'DB12-WECSAZ_clean',\n 'DB12-WEMBUN_freeONLY',\n 'DB12-WEMCAU_freeONLY',\n 'DB12-WEMDID_freeONLY',\n 'DB12-WEMDUP_freeONLY',\n 'DB12-WEMFAX_freeONLY',\n 'DB12-WEMFEB_freeONLY',\n 'DB12-WEMFOL_freeONLY',\n 'DB12-WIYZOU_clean',\n 'DB12-WOBCAT_clean',\n 'DB12-WOHZAU01_clean_h',\n 'DB12-WOHZAU_clean',\n 'DB12-WOJZOM_clean',\n 'DB12-XANDAU_clean',\n 'DB12-XEDLUN01_clean',\n 'DB12-XEHFUL_clean',\n 'DB12-XESKAJ_clean',\n 'DB12-XIHXAP_clean',\n 'DB12-XIHXET_clean',\n 'DB12-XINZEB_clean',\n 'DB12-XOFPEP01_clean',\n 'DB12-XOFPEP_clean',\n 'DB12-XOVPIH_clean',\n 'DB12-XOVPON_clean',\n 'DB12-XUCSAR01_clean',\n 'DB12-XUCSAR_clean',\n 'DB12-XUKLAS_clean',\n 'DB12-XUWTAK_clean',\n 'DB12-XUZXUN_clean',\n 'DB12-YABPAU_clean',\n 'DB12-YAJXIT_clean',\n 'DB12-YAVSOG_clean',\n 'DB12-YAVVID_clean',\n 'DB12-YAVVUP_clean',\n 'DB12-YAWKOX_clean',\n 'DB12-YEGHIC_clean',\n 'DB12-YOMVIG01_clean',\n 'DB12-YUDFIO_clean',\n 'DB12-YUFLIW_clean',\n 'DB12-YULBAJ_clean',\n 'DB12-YUTDUO_clean',\n 'DB12-YUZSUH01_clean',\n 'DB12-ZARPUF_clean',\n 'DB12-ZAVPUJ_clean',\n 'DB12-ZAVQAQ_clean',\n 'DB12-ZEDQEG_clean',\n 'DB12-ZEZPAX01_clean',\n 'DB12-ZEZQEC_clean',\n 'DB12-ZIMJOW_clean',\n 'DB12-ZOXNEH_clean',\n 'DB12-ZOZCIC_clean',\n 'DB12-ic200463k_si_002_clean',\n 'DB15-pcu_N139_E162_opt',\n 'DB15-pcu_N65_E165_opt',\n 'DB15-pcu_N65_E173_opt',\n 'DB15-pcu_N65_E182_opt',\n 'DB15-pcu_N65_E212_opt',\n 'DB15-pcu_N65_E217_opt',\n 'DB15-pcu_N65_E50_opt',\n 'DB15-pcu_N65_E79_opt',\n 'DB15-qtz-x_N139_E166_opt',\n 'DB15-qtz-x_N65_E158_opt',\n 'DB15-qtz-x_N65_E162_opt',\n 'DB15-rob_N123_E18_unopt',\n 'DB15-sxc_N139_E132_opt',\n 'DB15-sxc_N139_E166_opt',\n 'DB15-sxc_N65_E162_opt',\n 'DB15-sxc_N65_E173_opt',\n 'DB15-sxc_N65_E212_opt',\n 'DB15-sxc_N65_E51_opt',\n 'DB15-sxc_N77_E119_unopt',\n 'DB5-hypotheticalMOF_30613_0_0_2_1_26_12',\n 'DB5-hypotheticalMOF_35855_0_0_2_14_1_5',\n 'DB5-hypotheticalMOF_36707_0_0_2_16_1_14',\n 'DB5-hypotheticalMOF_5041985_0_0_1_8_5_5',\n 'DB5-hypotheticalMOF_5076650_0_0_2_27_1_12',\n 'DB5-hypotheticalMOF_5081767_0_0_2_29_1_14'}"
     },
     "execution_count": 33,
     "metadata": {},
     "output_type": "execute_result"
    }
   ],
   "source": [
    "overlapCO2=set([i[:i.find(\"_repeat\")] for i in os.listdir(f\"{inDir}/for_seth/most_probable_sites\")]) &set(datGIndex) \n",
    "overlapCO2"
   ]
  },
  {
   "cell_type": "code",
   "execution_count": 53,
   "metadata": {},
   "outputs": [
    {
     "data": {
      "text/plain": "{'DB12-BUSQIQ_freeONLY', 'DB12-WACLEU_clean'}"
     },
     "execution_count": 53,
     "metadata": {},
     "output_type": "execute_result"
    }
   ],
   "source": [
    "set(overlapCO2) &  {\"DB12-BUSQIQ_freeONLY\",\"DB12-WACLEU_clean\",\"DB1-Al2O6-ADC_B-fum_B_No58\",\"DB0-m3_o152_o156_f0_fsc.sym.78\"}"
   ]
  },
  {
   "cell_type": "code",
   "execution_count": 43,
   "metadata": {},
   "outputs": [],
   "source": [
    "johnCO2=set([i[:i.find(\"_repeat\")] for i in os.listdir(f\"{inDir}/jjlow4/most_probable_sites\")])"
   ]
  },
  {
   "cell_type": "code",
   "execution_count": 45,
   "outputs": [
    {
     "data": {
      "text/plain": "1012"
     },
     "execution_count": 45,
     "metadata": {},
     "output_type": "execute_result"
    }
   ],
   "source": [
    "len(set([i[:i.find(\"_repeat\")] for i in os.listdir(f\"{inDir}/for_seth/most_probable_sites\")]))"
   ],
   "metadata": {
    "collapsed": false
   }
  },
  {
   "cell_type": "code",
   "execution_count": 69,
   "metadata": {},
   "outputs": [],
   "source": [
    "fName=\"DB0-m1_o2_o5_f0_pcu.cif\"\n",
    "#viz_mof_cif_v2(f\"{inDir}/cifs/{fName}\")"
   ]
  },
  {
   "cell_type": "code",
   "execution_count": 70,
   "metadata": {},
   "outputs": [
    {
     "name": "stderr",
     "output_type": "stream",
     "text": [
      "C:\\Users\\moore\\anaconda3\\lib\\site-packages\\pymatgen\\io\\cif.py:1167: UserWarning:\n",
      "\n",
      "Issues encountered while parsing CIF: Some fractional coordinates rounded to ideal values to avoid issues with finite precision.\n",
      "\n"
     ]
    }
   ],
   "source": [
    "#struct=CifFile.from_file(f\"{inDir}/cifs/{fName}\")\n",
    "struct=Structure.from_file(f\"{inDir}/cifs/{fName}\")"
   ]
  },
  {
   "cell_type": "code",
   "execution_count": null,
   "metadata": {},
   "outputs": [],
   "source": [
    "struct.distance_matrix"
   ]
  },
  {
   "cell_type": "code",
   "execution_count": 11,
   "metadata": {},
   "outputs": [
    {
     "data": {
      "text/plain": [
       "array([[1.62607859e+00, 1.22260289e+01, 6.81531400e+00],\n",
       "       [2.28665954e+01, 1.22284781e+01, 1.59243576e+01],\n",
       "       [1.22909861e+01, 2.29232439e+01, 6.83550624e+00],\n",
       "       [1.21951241e+01, 1.61634820e+00, 1.59608310e+01],\n",
       "       [2.29237844e+01, 1.22302170e+01, 6.78691297e+00],\n",
       "       [1.56869363e+00, 1.22349195e+01, 1.59525313e+01],\n",
       "       [1.22955171e+01, 1.61629922e+00, 6.77661220e+00],\n",
       "       [1.22005123e+01, 2.29230970e+01, 1.59031649e+01],\n",
       "       [1.38086872e+01, 2.44732188e+01, 1.81620583e+01],\n",
       "       [1.06818315e+01, 2.44741495e+01, 4.57722672e+00],\n",
       "       [2.44407753e+01, 1.06744375e+01, 1.82001007e+01],\n",
       "       [4.53103595e-02, 1.38662568e+01, 4.59876057e+00],\n",
       "       [1.06235159e+01, 2.44789500e+01, 1.81884583e+01],\n",
       "       [1.38671008e+01, 2.44772110e+01, 4.54889391e+00],\n",
       "       [2.44473637e+01, 1.38683876e+01, 1.81418206e+01],\n",
       "       [5.11884602e-02, 1.06720373e+01, 4.53863862e+00],\n",
       "       [4.79797519e+00, 6.08177492e+00, 3.75521143e+00],\n",
       "       [2.03086419e+01, 1.90396242e+01, 1.79755757e+01],\n",
       "       [6.14844434e+00, 1.96979686e+01, 3.83329720e+00],\n",
       "       [1.90209215e+01, 4.10882350e+00, 1.80510010e+01],\n",
       "       [2.04118026e+01, 1.90657326e+01, 4.75309024e+00],\n",
       "       [4.04266375e+00, 5.42000163e+00, 1.80860191e+01],\n",
       "       [1.84842019e+01, 4.71634705e+00, 3.74584296e+00],\n",
       "       [6.04998615e+00, 1.97307144e+01, 1.89249977e+01],\n",
       "       [1.96937681e+01, 6.08197086e+00, 1.89829367e+01],\n",
       "       [4.18689764e+00, 1.90377383e+01, 4.76671091e+00],\n",
       "       [1.83435439e+01, 1.96976747e+01, 1.89071021e+01],\n",
       "       [5.47226682e+00, 4.11110125e+00, 4.68437295e+00],\n",
       "       [4.07957332e+00, 1.90685737e+01, 1.79929483e+01],\n",
       "       [2.04508430e+01, 5.41373168e+00, 4.65333420e+00],\n",
       "       [6.00702703e+00, 4.71960449e+00, 1.89927372e+01],\n",
       "       [1.84434961e+01, 1.97278488e+01, 3.81890340e+00],\n",
       "       [1.69295423e+01, 1.83006032e+01, 1.51118018e+01],\n",
       "       [8.17393986e+00, 6.81839570e+00, 6.61355074e+00],\n",
       "       [1.82873346e+01, 7.47916482e+00, 1.51858855e+01],\n",
       "       [6.87573684e+00, 1.63279865e+01, 6.70991868e+00],\n",
       "       [7.41478316e+00, 6.14778081e+00, 1.52065780e+01],\n",
       "       [1.70384831e+01, 1.83327611e+01, 7.61747813e+00],\n",
       "       [6.77568666e+00, 1.63647081e+01, 1.60500134e+01],\n",
       "       [1.77451532e+01, 8.09766079e+00, 6.61084480e+00],\n",
       "       [7.56920576e+00, 1.82961701e+01, 7.62457270e+00],\n",
       "       [1.63181953e+01, 6.81790587e+00, 1.61258708e+01],\n",
       "       [6.20435977e+00, 7.47963017e+00, 7.55258099e+00],\n",
       "       [1.76221050e+01, 1.63321338e+01, 1.60240000e+01],\n",
       "       [1.70817851e+01, 6.13663696e+00, 7.53759598e+00],\n",
       "       [7.45139883e+00, 1.83345246e+01, 1.51250814e+01],\n",
       "       [1.77137054e+01, 1.63602016e+01, 6.69006752e+00],\n",
       "       [6.75072923e+00, 8.10696774e+00, 1.61353302e+01],\n",
       "       [3.06295581e+00, 7.76540259e+00, 3.78620470e+00],\n",
       "       [2.20026616e+01, 1.73185483e+01, 1.80163922e+01],\n",
       "       [7.82348260e+00, 2.14373645e+01, 3.85621812e+00],\n",
       "       [1.72909720e+01, 2.41966064e+00, 1.80864966e+01],\n",
       "       [2.21034955e+01, 1.73405176e+01, 4.71411558e+00],\n",
       "       [2.35956758e+00, 7.15648299e+00, 1.81221741e+01],\n",
       "       [1.67967952e+01, 2.98424976e+00, 3.78070186e+00],\n",
       "       [7.73178423e+00, 2.14653343e+01, 1.89001667e+01],\n",
       "       [2.14267302e+01, 7.76826815e+00, 1.89536943e+01],\n",
       "       [2.49175137e+00, 1.73181564e+01, 4.72723599e+00],\n",
       "       [1.66645624e+01, 2.14336662e+01, 1.88860458e+01],\n",
       "       [7.20238779e+00, 2.42282011e+00, 4.64623962e+00],\n",
       "       [2.38763552e+00, 1.73429668e+01, 1.80303312e+01],\n",
       "       [2.21326411e+01, 7.15219690e+00, 4.61322258e+00],\n",
       "       [7.69088245e+00, 2.98388238e+00, 1.89544220e+01],\n",
       "       [1.67630696e+01, 2.14638403e+01, 3.84191528e+00],\n",
       "       [1.51941555e+01, 1.99852350e+01, 1.51477067e+01],\n",
       "       [9.86575521e+00, 5.09291124e+00, 6.65086546e+00],\n",
       "       [1.99681530e+01, 9.21545025e+00, 1.52091930e+01],\n",
       "       [5.13890503e+00, 1.46433873e+01, 6.74607371e+00],\n",
       "       [9.15036586e+00, 4.46878212e+00, 1.52261790e+01],\n",
       "       [1.53045169e+01, 2.00180788e+01, 7.58678046e+00],\n",
       "       [5.04443906e+00, 1.46779700e+01, 1.60110387e+01],\n",
       "       [1.94644732e+01, 9.79272621e+00, 6.64870526e+00],\n",
       "       [9.29976759e+00, 1.99856514e+01, 7.59091896e+00],\n",
       "       [1.46258167e+01, 5.09332761e+00, 1.60892155e+01],\n",
       "       [4.52324746e+00, 9.21532779e+00, 7.52877324e+00],\n",
       "       [1.93583735e+01, 1.46484326e+01, 1.59884362e+01],\n",
       "       [1.53425531e+01, 4.46148351e+00, 7.51353811e+00],\n",
       "       [9.18813266e+00, 2.00163153e+01, 1.51558700e+01],\n",
       "       [1.94441448e+01, 1.46714551e+01, 6.72483547e+00],\n",
       "       [5.02989076e+00, 9.80066161e+00, 1.60945591e+01],\n",
       "       [5.63918039e+00, 6.64445366e+00, 5.65282748e+00],\n",
       "       [1.88261605e+01, 1.78225932e+01, 1.70014592e+01],\n",
       "       [6.71952631e+00, 1.88602694e+01, 5.73073133e+00],\n",
       "       [1.78071672e+01, 5.60009116e+00, 1.70875945e+01],\n",
       "       [1.89251575e+01, 1.78500242e+01, 5.72140834e+00],\n",
       "       [5.53371746e+00, 6.62370896e+00, 1.71086054e+01],\n",
       "       [1.79200757e+01, 5.56646367e+00, 5.63977528e+00],\n",
       "       [6.61220199e+00, 1.88964440e+01, 1.70239026e+01],\n",
       "       [1.88531752e+01, 6.64391484e+00, 1.70851387e+01],\n",
       "       [5.67053026e+00, 1.78188949e+01, 5.73612048e+00],\n",
       "       [1.77765276e+01, 1.88632574e+01, 1.70071212e+01],\n",
       "       [6.68553129e+00, 5.60126677e+00, 5.64991688e+00],\n",
       "       [5.56533675e+00, 1.78536980e+01, 1.70216059e+01],\n",
       "       [1.89610629e+01, 6.61611644e+00, 5.63386314e+00],\n",
       "       [6.57428824e+00, 5.57366431e+00, 1.71018519e+01],\n",
       "       [1.78789045e+01, 1.88936765e+01, 5.71908896e+00],\n",
       "       [2.15530359e-03, 1.22144197e+01, 1.07673088e+01],\n",
       "       [2.44905922e+01, 1.22159872e+01, 1.19725674e+01],\n",
       "       [1.22521906e+01, 8.76323034e-02, 1.07669905e+01],\n",
       "       [1.22384506e+01, 8.77302713e-02, 1.19710894e+01],\n",
       "       [1.22415121e+01, 2.44704268e+01, 2.21365648e+01],\n",
       "       [1.22463615e+01, 2.44717493e+01, 6.01697002e-01],\n",
       "       [2.44866490e+01, 1.23355325e+01, 2.21366785e+01],\n",
       "       [1.08010100e-02, 1.23353856e+01, 6.02902169e-01],\n",
       "       [2.84353121e-02, 1.23155471e+01, 2.03814314e+00],\n",
       "       [2.44678880e+01, 1.23162084e+01, 2.07014830e+01],\n",
       "       [1.22554970e+01, 2.44737577e+01, 2.03514159e+00],\n",
       "       [1.22336011e+01, 2.44703778e+01, 2.07031202e+01],\n",
       "       [1.22222123e+01, 6.86755111e-02, 1.34043976e+01],\n",
       "       [1.22679635e+01, 6.83326234e-02, 9.33365960e+00],\n",
       "       [2.44828282e+01, 1.22205917e+01, 1.34078539e+01],\n",
       "       [1.01397237e-02, 1.22160851e+01, 9.33193143e+00],\n",
       "       [2.64979881e+00, 1.48261219e+01, 5.72713857e+00],\n",
       "       [2.18566887e+01, 9.65380770e+00, 1.70775894e+01],\n",
       "       [1.48746807e+01, 2.19026141e+01, 5.70901558e+00],\n",
       "       [9.59092951e+00, 2.57719306e+00, 1.70867077e+01],\n",
       "       [2.19526242e+01, 9.63783893e+00, 5.64063937e+00],\n",
       "       [2.55680235e+00, 1.48505404e+01, 1.70277455e+01],\n",
       "       [9.69315948e+00, 2.59678664e+00, 5.65803471e+00],\n",
       "       [1.47810965e+01, 2.18806693e+01, 1.70190592e+01],\n",
       "       [2.18438304e+01, 1.48281548e+01, 1.70133517e+01],\n",
       "       [2.63532398e+00, 9.65243615e+00, 5.66078613e+00],\n",
       "       [9.61681765e+00, 2.19037897e+01, 1.70307015e+01],\n",
       "       [1.49000790e+01, 2.57457241e+00, 5.65007606e+00],\n",
       "       [2.53955993e+00, 9.64249241e+00, 1.70976224e+01],\n",
       "       [2.19342797e+01, 1.48463523e+01, 5.71251738e+00],\n",
       "       [1.47976041e+01, 2.59646824e+00, 1.70807501e+01],\n",
       "       [9.71074480e+00, 2.18812816e+01, 5.72024865e+00],\n",
       "       [4.73471214e+00, 6.74114800e+00, 4.60796987e+00],\n",
       "       [2.00682031e+01, 1.80714807e+01, 1.75622942e+01],\n",
       "       [6.81046543e+00, 1.97629703e+01, 4.68382721e+00],\n",
       "       [1.80518187e+01, 4.35467399e+00, 1.76429722e+01],\n",
       "       [2.01689146e+01, 1.80970748e+01, 5.16368859e+00],\n",
       "       [4.29027874e+00, 6.38608777e+00, 1.76723282e+01],\n",
       "       [1.78243851e+01, 4.65717443e+00, 4.59841948e+00],\n",
       "       [6.70906819e+00, 1.97966713e+01, 1.80722620e+01],\n",
       "       [1.97570802e+01, 6.74156436e+00, 1.81303602e+01],\n",
       "       [4.42760587e+00, 1.80688601e+01, 5.17799142e+00],\n",
       "       [1.76824780e+01, 1.97634356e+01, 1.80558899e+01],\n",
       "       [6.44110027e+00, 4.35655987e+00, 5.09312943e+00],\n",
       "       [4.32194701e+00, 1.81005037e+01, 1.75804172e+01],\n",
       "       [2.02036444e+01, 6.37959740e+00, 5.06782091e+00],\n",
       "       [6.66765207e+00, 4.66141154e+00, 1.81407292e+01],\n",
       "       [1.77836548e+01, 1.97943690e+01, 4.67100241e+00],\n",
       "       [1.68683366e+01, 1.89594374e+01, 1.59650377e+01],\n",
       "       [7.93036607e+00, 5.84915010e+00, 6.20463509e+00],\n",
       "       [1.89478126e+01, 7.54534215e+00, 1.60375979e+01],\n",
       "       [5.90896072e+00, 1.65747513e+01, 6.29766038e+00],\n",
       "       [7.47770333e+00, 5.48350934e+00, 1.60554253e+01],\n",
       "       [1.69749506e+01, 1.89916444e+01, 6.76437861e+00],\n",
       "       [5.80785738e+00, 1.66102157e+01, 1.64610893e+01],\n",
       "       [1.87125417e+01, 7.85776185e+00, 6.19572139e+00],\n",
       "       [7.62825618e+00, 1.89565719e+01, 6.77238274e+00],\n",
       "       [1.65618916e+01, 5.84839085e+00, 1.65340360e+01],\n",
       "       [5.54412660e+00, 7.54548911e+00, 6.70064116e+00],\n",
       "       [1.85882198e+01, 1.65792334e+01, 1.64380319e+01],\n",
       "       [1.70173464e+01, 5.47498613e+00, 6.68679310e+00],\n",
       "       [7.51593548e+00, 1.89931384e+01, 1.59783173e+01],\n",
       "       [1.86818041e+01, 1.66055377e+01, 6.27946918e+00],\n",
       "       [5.78265503e+00, 7.86608912e+00, 1.65483843e+01],\n",
       "       [3.75177124e+00, 7.70975681e+00, 4.61683808e+00],\n",
       "       [2.10420330e+01, 1.70945446e+01, 1.75751872e+01],\n",
       "       [7.77484132e+00, 2.07492133e+01, 4.68787476e+00],\n",
       "       [1.70699799e+01, 3.38462015e+00, 1.76534321e+01],\n",
       "       [2.11410055e+01, 1.71179834e+01, 5.15186430e+00],\n",
       "       [3.32330668e+00, 7.37125316e+00, 1.76833339e+01],\n",
       "       [1.68544251e+01, 3.67504605e+00, 4.60956160e+00],\n",
       "       [7.67672602e+00, 2.07799997e+01, 1.80666682e+01],\n",
       "       [2.07392863e+01, 7.71120184e+00, 1.81219922e+01],\n",
       "       [3.45309025e+00, 1.70926342e+01, 5.16607618e+00],\n",
       "       [1.67161917e+01, 2.07478908e+01, 1.80526155e+01],\n",
       "       [7.42271860e+00, 3.38660400e+00, 5.08219197e+00],\n",
       "       [3.34980712e+00, 1.71214123e+01, 1.75913319e+01],\n",
       "       [2.11698327e+01, 7.36569348e+00, 5.05492789e+00],\n",
       "       [7.63606916e+00, 3.67766669e+00, 1.81278361e+01],\n",
       "       [1.68165603e+01, 2.07783833e+01, 4.67548199e+00],\n",
       "       [1.58849793e+01, 1.99282667e+01, 1.59765891e+01],\n",
       "       [8.90223654e+00, 4.86986278e+00, 6.21570898e+00],\n",
       "       [1.99150051e+01, 8.52945439e+00, 1.60423731e+01],\n",
       "       [4.92359510e+00, 1.56077100e+01, 6.30862059e+00],\n",
       "       [8.46208926e+00, 4.51712929e+00, 1.60577447e+01],\n",
       "       [1.59921567e+01, 1.99607920e+01, 6.75523753e+00],\n",
       "       [4.82562676e+00, 1.56410681e+01, 1.64493332e+01],\n",
       "       [1.96885758e+01, 8.83242018e+00, 6.20686351e+00],\n",
       "       [8.60931119e+00, 1.99276544e+01, 6.76180910e+00],\n",
       "       [1.55895068e+01, 4.86956888e+00, 1.65235533e+01],\n",
       "       [4.57688513e+00, 8.52933193e+00, 6.69563858e+00],\n",
       "       [1.95729976e+01, 1.56119716e+01, 1.64277084e+01],\n",
       "       [1.60312460e+01, 4.51046747e+00, 6.68235899e+00],\n",
       "       [8.49990504e+00, 1.99608165e+01, 1.59870264e+01],\n",
       "       [1.96637163e+01, 1.56356553e+01, 6.28933791e+00],\n",
       "       [4.80581266e+00, 8.84001269e+00, 1.65356732e+01],\n",
       "       [3.67160864e+00, 8.61395172e+00, 5.65689776e+00],\n",
       "       [2.08023534e+01, 1.58611530e+01, 1.70037103e+01],\n",
       "       [8.68295889e+00, 2.08345679e+01, 5.72375046e+00],\n",
       "       [1.58355053e+01, 3.63385054e+00, 1.70875263e+01],\n",
       "       [2.08965255e+01, 1.58836611e+01, 5.71956648e+00],\n",
       "       [3.57253815e+00, 8.60072605e+00, 1.71074684e+01],\n",
       "       [1.59470178e+01, 3.60181503e+00, 5.64705177e+00],\n",
       "       [8.58099834e+00, 2.08648890e+01, 1.70271997e+01],\n",
       "       [2.08203061e+01, 8.61478445e+00, 1.70812504e+01],\n",
       "       [3.69276980e+00, 1.58583364e+01, 5.73573392e+00],\n",
       "       [1.58094457e+01, 2.08341515e+01, 1.70154891e+01],\n",
       "       [8.65611557e+00, 3.63465877e+00, 5.65064453e+00],\n",
       "       [3.59382178e+00, 1.58881432e+01, 1.70212421e+01],\n",
       "       [2.09207237e+01, 8.59475001e+00, 5.63199854e+00],\n",
       "       [8.54477454e+00, 3.60588070e+00, 1.70911418e+01],\n",
       "       [1.59111858e+01, 2.08639093e+01, 5.71406364e+00],\n",
       "       [3.86974962e-02, 1.22482921e+01, 5.68484401e+00],\n",
       "       [2.44538541e+01, 1.22513781e+01, 1.70547367e+01],\n",
       "       [1.22840548e+01, 3.62481300e-03, 5.68457114e+00],\n",
       "       [1.22069537e+01, 3.50235310e-03, 1.70535315e+01],\n",
       "       [3.05171394e-02, 1.11654527e+01, 2.66994660e+00],\n",
       "       [2.44580912e+01, 1.34447498e+01, 2.00310460e+01],\n",
       "       [1.11220523e+01, 2.44793663e+01, 2.69525512e+00],\n",
       "       [1.33674867e+01, 2.44764763e+01, 2.00438935e+01],\n",
       "       [3.64442243e-02, 1.34437701e+01, 2.70912591e+00],\n",
       "       [2.44642877e+01, 1.11663834e+01, 2.00692020e+01],\n",
       "       [1.33986407e+01, 2.44692756e+01, 2.67692747e+00],\n",
       "       [1.10909718e+01, 2.44686144e+01, 2.00604475e+01],\n",
       "       [1.22104561e+01, 2.34118344e+01, 1.40363147e+01],\n",
       "       [1.22694086e+01, 1.19579642e+00, 8.66342721e+00],\n",
       "       [2.33390723e+01, 1.22286005e+01, 1.40506176e+01],\n",
       "       [1.15396913e+00, 1.22248533e+01, 8.68928147e+00],\n",
       "       [1.22213061e+01, 1.19626176e+00, 1.40742434e+01],\n",
       "       [1.22796462e+01, 2.34113936e+01, 8.70215175e+00],\n",
       "       [1.12550933e+00, 1.22189997e+01, 1.40678992e+01],\n",
       "       [2.33675321e+01, 1.22145177e+01, 8.67170421e+00],\n",
       "       [1.60619101e+00, 1.49583541e+01, 4.94271086e+00],\n",
       "       [2.28669138e+01, 9.57981743e+00, 1.79120429e+01],\n",
       "       [1.49599867e+01, 2.29100182e+01, 4.87160597e+00],\n",
       "       [9.50630935e+00, 1.54519900e+00, 1.78936470e+01],\n",
       "       [2.30007386e+01, 9.53771572e+00, 4.85627988e+00],\n",
       "       [1.50315281e+00, 1.49804459e+01, 1.77985752e+01],\n",
       "       [9.56109815e+00, 1.52925472e+00, 4.90553258e+00],\n",
       "       [1.48868288e+01, 2.28979437e+01, 1.78410062e+01],\n",
       "       [2.28871198e+01, 1.49601421e+01, 1.77980522e+01],\n",
       "       [1.62473152e+00, 9.57788257e+00, 4.82690108e+00],\n",
       "       [9.53016465e+00, 2.29128348e+01, 1.78658827e+01],\n",
       "       [1.49853360e+01, 1.54206403e+00, 4.84397807e+00],\n",
       "       [1.49073532e+00, 9.54087518e+00, 1.78808450e+01],\n",
       "       [2.29883701e+01, 1.49775069e+01, 4.94230156e+00],\n",
       "       [1.49287348e+01, 1.52942616e+00, 1.78343892e+01],\n",
       "       [9.60442465e+00, 2.28989234e+01, 4.89880183e+00],\n",
       "       [1.37381745e+01, 2.73330493e+00, 1.63175152e+01],\n",
       "       [1.07361060e+01, 2.18030542e+01, 6.53616988e+00],\n",
       "       [2.66571866e+00, 1.06797277e+01, 1.63039400e+01],\n",
       "       [2.18092721e+01, 1.37844046e+01, 6.47311460e+00],\n",
       "       [1.06318677e+01, 2.18240684e+01, 1.62018873e+01],\n",
       "       [1.38748158e+01, 2.68904793e+00, 6.46085828e+00],\n",
       "       [2.17364081e+01, 1.37738240e+01, 1.62383834e+01],\n",
       "       [2.71600091e+00, 1.06563624e+01, 6.50172028e+00],\n",
       "       [1.07531770e+01, 2.73396622e+00, 6.42015544e+00],\n",
       "       [1.37563231e+01, 2.18032012e+01, 1.62022056e+01],\n",
       "       [2.18269798e+01, 1.06742415e+01, 6.43559523e+00],\n",
       "       [2.68229980e+00, 1.37892785e+01, 1.62663979e+01],\n",
       "       [1.38602675e+01, 2.18243378e+01, 6.53878487e+00],\n",
       "       [1.06156539e+01, 2.69044397e+00, 1.62750614e+01],\n",
       "       [2.75680473e+00, 1.37716198e+01, 6.50192493e+00],\n",
       "       [2.17764772e+01, 1.06578564e+01, 1.62366325e+01]])"
      ]
     },
     "execution_count": 11,
     "metadata": {},
     "output_type": "execute_result"
    }
   ],
   "source": [
    "struct.cart_coords"
   ]
  },
  {
   "cell_type": "code",
   "execution_count": null,
   "metadata": {},
   "outputs": [],
   "source": [
    "rppdgm=rpp.run(\"--format distance --dim 2\",struct.distance_matrix)\n",
    "rppdgm"
   ]
  },
  {
   "cell_type": "code",
   "execution_count": null,
   "metadata": {},
   "outputs": [],
   "source": [
    "npdgm=[np.array([[float(rppdgm[b][k][0]),float(rppdgm[b][k][1])] for k in range(len(rppdgm[b]))])for b in rppdgm.keys()]\n",
    "persim.plot_diagrams(npdgm)"
   ]
  },
  {
   "cell_type": "code",
   "execution_count": null,
   "metadata": {},
   "outputs": [],
   "source": [
    "mg.io.cif"
   ]
  },
  {
   "cell_type": "code",
   "execution_count": null,
   "metadata": {},
   "outputs": [],
   "source": [
    "mg.__version__"
   ]
  },
  {
   "cell_type": "markdown",
   "metadata": {},
   "source": [
    "## Forking portions from Xiaoli's plotlyMOF.py"
   ]
  },
  {
   "cell_type": "code",
   "execution_count": null,
   "metadata": {},
   "outputs": [],
   "source": [
    "def viz_mof_cif_v2(cif_name, fract_disp=np.array([0, 0, 0]), showbackground=False, tol=0.01, bond_dist_sqr_threshold=6):\n",
    "    table_dict = {}\n",
    "    # https://github.com/Bowserinator/Periodic-Table-JSON\n",
    "    with io.open(\"PeriodicTableJSON.json\", \"rb\") as f:\n",
    "        table_dict = json.load(f)\n",
    "    element_df = pd.DataFrame(table_dict[\"elements\"])\n",
    "    element_df[\"cpk-hex\"] = element_df[\"cpk-hex\"].fillna(\"0000ff\")\n",
    "    symbol2color = dict(zip(element_df[\"symbol\"], element_df[\"cpk-hex\"]))\n",
    "    symbol2color[\"X\"] = \"0000ff\"\n",
    "    idx2symbol = dict(zip(element_df[\"number\"], element_df[\"symbol\"]))\n",
    "    idx2symbol[0] = \"X\"\n",
    "\n",
    "    _cif_name = cif_name\n",
    "    #cif_str = None\n",
    "    with io.open(cif_name, \"r\", newline=\"\\n\") as cif:\n",
    "        cif_str = cif.read().replace(\"(\", \"\").replace(\")\", \"\")\n",
    "    cif_list = cif_str.split(\"loop_\")\n",
    "    for cif_section in cif_list:\n",
    "        if \"_symmetry_equiv_pos_as_xyz\" in cif_section:\n",
    "            if len(cif_section.split(\"_cell_\")[0].split(\"_symmetry_equiv_pos_as_xyz\")[1].strip().split(\"\\n\")) > 1:\n",
    "                cif_name = cif_name.replace(\".cif\", \"_P1.cif\")\n",
    "                CifWriter(mg.Structure.from_str(cif_str, fmt=\"cif\"), refine_struct=False).write_file(cif_name)\n",
    "\n",
    "\n",
    "    M = lat_param2vec(read_cif_lattice_param(cif_name))\n",
    "    A, B, C = M\n",
    "    atom_df = read_cif_xyz(cif_name)\n",
    "    bond_df = read_cif_bond(cif_name)\n",
    "\n",
    "    #bond_df = None\n",
    "    Natoms = len(atom_df)\n",
    "    atom_df.loc[:, [\"_atom_site_fract_x\",\n",
    "                    \"_atom_site_fract_y\",\n",
    "                    \"_atom_site_fract_z\"]] = (atom_df.loc[:, [\"_atom_site_fract_x\",\n",
    "                                                              \"_atom_site_fract_y\",\n",
    "                                                              \"_atom_site_fract_z\"]].values + fract_disp) % 1# - np.array([0.5, 0.5, 0.5])) % 1\n",
    "    atom_df[\"x\"] = None\n",
    "    atom_df[\"y\"] = None\n",
    "    atom_df[\"z\"] = None\n",
    "    atom_df[\"_atom_site_label_prefix\"] = atom_df[\"_atom_site_label\"].apply(lambda x: re.findall(r\"[A-Z]*[a-z]*\", x)[0])\n",
    "    atom_df[\"_atom_site_label_postfix\"] = atom_df[\"_atom_site_label\"].apply(lambda x: re.findall(r\"[0-9]+\", x)[0])\n",
    "\n",
    "\n",
    "    error_atom_index = atom_df[atom_df[\"_atom_site_label_prefix\"]!=atom_df[\"_atom_site_type_symbol\"]].index\n",
    "    atom_df.loc[error_atom_index, \"_atom_site_label\"] = atom_df.loc[error_atom_index, \"_atom_site_type_symbol\"].astype(str) + \\\n",
    "                                                        atom_df.loc[error_atom_index, \"_atom_site_label_postfix\"].astype(str)\n",
    "\n",
    "    unique_elements = sorted(atom_df[\"_atom_site_type_symbol\"].unique().tolist())\n",
    "    natoms_per_element = {}\n",
    "    atom_idx_offset = np.zeros(Natoms, dtype=int)\n",
    "    atom_df.loc[:, \"_atom_site_label_save\"] = atom_df.loc[:, \"_atom_site_label\"]\n",
    "    for element in unique_elements:\n",
    "        selected_index = atom_df[atom_df[\"_atom_site_type_symbol\"]==element].index\n",
    "        natoms_per_element[element] = len(selected_index)\n",
    "        atom_idx_offset[selected_index] = natoms_per_element[element]\n",
    "\n",
    "        atom_df.loc[selected_index, \"_atom_site_label_postfix\"] = [x for x in range(1, len(selected_index)+1)]\n",
    "        atom_df.loc[selected_index, \"_atom_site_label\"] = element + atom_df.loc[selected_index, \"_atom_site_label_postfix\"].astype(str)\n",
    "    # label_map_dict = dict(zip(atom_df[\"_atom_site_label_save\"].to_list() + atom_df[\"_atom_site_label\"].to_list(),\n",
    "    #                           atom_df[\"_atom_site_label\"].to_list() + atom_df[\"_atom_site_label\"].to_list()))\n",
    "    label_map_dict = dict(zip(atom_df[\"_atom_site_label_save\"].to_list(),\n",
    "                          atom_df[\"_atom_site_label\"].to_list()))\n",
    "    for old_label_idx in range(0, len(atom_df[\"_atom_site_label\"])):\n",
    "        if atom_df.at[old_label_idx, \"_atom_site_label\"] not in label_map_dict:\n",
    "            label_map_dict[atom_df.at[old_label_idx, \"_atom_site_label\"]] = atom_df.at[old_label_idx, \"_atom_site_label\"]\n",
    "    if type(bond_df) != type(None):\n",
    "        bond_df[\"_geom_bond_atom_site_label_1_save\"] = bond_df[\"_geom_bond_atom_site_label_1\"]\n",
    "        bond_df[\"_geom_bond_atom_site_label_1\"] = bond_df[\"_geom_bond_atom_site_label_1\"].map(label_map_dict)\n",
    "        bond_df[\"_geom_bond_atom_site_label_2_save\"] = bond_df[\"_geom_bond_atom_site_label_2\"]\n",
    "        bond_df[\"_geom_bond_atom_site_label_2\"] = bond_df[\"_geom_bond_atom_site_label_2\"].map(label_map_dict)\n",
    "        bond_df[\"_geom_bond_atom_site_label_1_prefix\"] = bond_df[\"_geom_bond_atom_site_label_1\"].apply(lambda x: re.findall(r\"[A-Z]*[a-z]*\", x)[0])\n",
    "        bond_df[\"_geom_bond_atom_site_label_1_postfix\"] = bond_df[\"_geom_bond_atom_site_label_1\"].apply(lambda x: re.findall(r\"[0-9]+\", x)[0])\n",
    "        bond_df[\"_geom_bond_atom_site_label_2_prefix\"] = bond_df[\"_geom_bond_atom_site_label_2\"].apply(lambda x: re.findall(r\"[A-Z]*[a-z]*\", x)[0])\n",
    "        bond_df[\"_geom_bond_atom_site_label_2_postfix\"] = bond_df[\"_geom_bond_atom_site_label_2\"].apply(lambda x: re.findall(r\"[0-9]+\", x)[0])\n",
    "        bond_df_atom_idx_offset1 = np.zeros(len(bond_df), dtype=int)\n",
    "        bond_df_atom_idx_offset2 = np.zeros(len(bond_df), dtype=int)\n",
    "        for element in unique_elements:\n",
    "            bond_df_selected_index = bond_df[bond_df[\"_geom_bond_atom_site_label_1_prefix\"]==element].index\n",
    "            bond_df_atom_idx_offset1[bond_df_selected_index] = natoms_per_element[element]\n",
    "            bond_df_selected_index = bond_df[bond_df[\"_geom_bond_atom_site_label_2_prefix\"]==element].index\n",
    "            bond_df_atom_idx_offset2[bond_df_selected_index] = natoms_per_element[element]\n",
    "        bond_df_list = [bond_df.copy(deep=True)]\n",
    "\n",
    "    atom_df[\"original_label\"] = atom_df[\"_atom_site_label\"].to_list()\n",
    "    atom_df[\"periodic_image\"] = \"[0, 0, 0]\"\n",
    "    atom_df_list = [atom_df.copy(deep=True)]\n",
    "\n",
    "    displacement_vectors = [[0,0,1], [0,0,-1],\n",
    "                            [0,1,0], [0,-1,0],\n",
    "                            [1,0,0], [-1,0,0],\n",
    "                            [-1,-1,0], [-1,1,0], [1,-1,0], [1,1,0],\n",
    "                            [-1,0,-1], [-1,0,1], [1,0,-1], [1,0,1],\n",
    "                            [0,-1,-1], [0,-1,1], [0,1,-1], [0,1,1],\n",
    "                            [-1,-1,-1], [-1,-1,1], [-1,1,-1], [1,-1,-1],\n",
    "                            [-1,1,1], [1,-1,1], [1,1,-1], [1,1,1]]\n",
    "\n",
    "    for disp_i in range(0, len(displacement_vectors)):\n",
    "        disp = displacement_vectors[disp_i]\n",
    "        if type(bond_df) != type(None):\n",
    "            _bond_df = bond_df.copy(deep=True)\n",
    "            _bond_df[\"_geom_bond_atom_site_label_1_postfix\"] = ((disp_i + 1) * bond_df_atom_idx_offset1 + \\\n",
    "                                                                _bond_df[\"_geom_bond_atom_site_label_1_postfix\"].astype(int)).astype(str)\n",
    "            _bond_df[\"_geom_bond_atom_site_label_1\"] = _bond_df[\"_geom_bond_atom_site_label_1_prefix\"] + _bond_df[\"_geom_bond_atom_site_label_1_postfix\"]\n",
    "            _bond_df[\"_geom_bond_atom_site_label_2_postfix\"] = ((disp_i + 1) * bond_df_atom_idx_offset2 + \\\n",
    "                                                                _bond_df[\"_geom_bond_atom_site_label_2_postfix\"].astype(int)).astype(str)\n",
    "            _bond_df[\"_geom_bond_atom_site_label_2\"] = _bond_df[\"_geom_bond_atom_site_label_2_prefix\"] + _bond_df[\"_geom_bond_atom_site_label_2_postfix\"]\n",
    "            bond_df_list.append(_bond_df)\n",
    "\n",
    "        _atom_df = atom_df.copy(deep=True)\n",
    "        _atom_df.loc[:, \"periodic_image\"] = str(disp)\n",
    "        _atom_df.loc[:, [\"_atom_site_fract_x\",\n",
    "                         \"_atom_site_fract_y\",\n",
    "                         \"_atom_site_fract_z\"]] = _atom_df.loc[:, [\"_atom_site_fract_x\",\n",
    "                                                                   \"_atom_site_fract_y\",\n",
    "                                                                   \"_atom_site_fract_z\"]].values + np.array(disp)\n",
    "        _atom_df[\"_atom_site_label_postfix\"] = ((disp_i + 1) * atom_idx_offset + _atom_df[\"_atom_site_label_postfix\"].astype(int)).astype(str)\n",
    "        _atom_df[\"original_label\"] = _atom_df[\"_atom_site_label\"].to_list()\n",
    "        _atom_df[\"_atom_site_label\"] = _atom_df[\"_atom_site_type_symbol\"] + _atom_df[\"_atom_site_label_postfix\"]\n",
    "\n",
    "        atom_df_list.append(_atom_df)\n",
    "\n",
    "    atom_df = pd.concat(atom_df_list, axis=0).reset_index(drop=True)\n",
    "    if type(bond_df) != type(None):\n",
    "        bond_df = pd.concat(bond_df_list, axis=0).reset_index(drop=True)\n",
    "\n",
    "    atom_df.loc[:, [\"x\", \"y\", \"z\"]] = atom_df.loc[:, [\"_atom_site_fract_x\",\n",
    "                                                      \"_atom_site_fract_y\",\n",
    "                                                      \"_atom_site_fract_z\"]].values @ M\n",
    "    unit_cell_expansion_offset = 2 # Angstrom\n",
    "    critical_points = [np.array([-1, -1, -1])*unit_cell_expansion_offset,\n",
    "                       np.array([1, -1, -1])*unit_cell_expansion_offset + A,\n",
    "                       np.array([-1, 1, -1])*unit_cell_expansion_offset + B,\n",
    "                       np.array([-1, -1, 1])*unit_cell_expansion_offset + C,\n",
    "                       np.array([1, 1, -1])*unit_cell_expansion_offset + A + B,\n",
    "                       np.array([-1, 1, 1])*unit_cell_expansion_offset + B + C,\n",
    "                       np.array([1, -1, 1])*unit_cell_expansion_offset + A + C,\n",
    "                       np.array([1, 1, 1])*unit_cell_expansion_offset + A + B + C]\n",
    "    hull = Delaunay(critical_points)\n",
    "    #tol=0.01\n",
    "\n",
    "    isInHull = hull.find_simplex(atom_df.loc[:, [\"x\", \"y\", \"z\"]].values)>=-tol\n",
    "    atom_df = atom_df[isInHull].copy(deep=True)\n",
    "    atom_df.loc[:, [\"x\", \"y\", \"z\"]] = atom_df.loc[:, [\"_atom_site_fract_x\",\n",
    "                                                      \"_atom_site_fract_y\",\n",
    "                                                      \"_atom_site_fract_z\"]].values @ M\n",
    "\n",
    "    bond_scatter = []\n",
    "\n",
    "    if type(bond_df) != type(None):\n",
    "        bond_df[\"atom1\"] = None\n",
    "        bond_df[\"atom2\"] = None\n",
    "        bond_df[\"atom1\"] = bond_df[\"_geom_bond_atom_site_label_1\"].map(dict(zip(atom_df[\"_atom_site_label\"], atom_df.index)))\n",
    "        bond_df[\"atom2\"] = bond_df[\"_geom_bond_atom_site_label_2\"].map(dict(zip(atom_df[\"_atom_site_label\"], atom_df.index)))\n",
    "        bond_df = bond_df.dropna()\n",
    "        bond_df[\"atom1\"] = bond_df[\"atom1\"].astype(int)\n",
    "        bond_df[\"atom2\"] = bond_df[\"atom2\"].astype(int)\n",
    "        bond_df[\"dist_sqr\"] = [np.sum((atom_df.loc[bond_df.at[i, \"atom1\"].astype(int), [\"x\", \"y\", \"z\"]].values - \\\n",
    "                                       atom_df.loc[bond_df.at[i, \"atom2\"].astype(int), [\"x\", \"y\", \"z\"]].values) ** 2) for i in bond_df.index]\n",
    "\n",
    "        for i in bond_df.index:\n",
    "            orig_label1 = atom_df.at[bond_df.at[i, \"atom1\"], \"original_label\"]\n",
    "            affiliated_atoms1 = atom_df[atom_df[\"original_label\"]==orig_label1].copy(deep=True).reset_index(drop=True)\n",
    "            orig_label2 = atom_df.at[bond_df.at[i, \"atom2\"], \"original_label\"]\n",
    "            affiliated_atoms2 = atom_df[atom_df[\"original_label\"]==orig_label2].copy(deep=True).reset_index(drop=True)\n",
    "            possible_bonds = pd.concat([pd.DataFrame(np.repeat(affiliated_atoms1.values, len(affiliated_atoms2), axis=0), columns=affiliated_atoms1.columns + \"_1\"),\n",
    "                                        pd.DataFrame(np.tile(affiliated_atoms2.values, (len(affiliated_atoms1), 1)), columns=affiliated_atoms2.columns + \"_2\")], axis=1)\n",
    "            possible_bonds[\"dist_sqr\"] = np.sum((possible_bonds.loc[:, [\"x_1\", \"y_1\", \"z_1\"]].values - possible_bonds.loc[:, [\"x_2\", \"y_2\", \"z_2\"]].values) ** 2, axis=1)\n",
    "            possible_bonds = possible_bonds[possible_bonds[\"dist_sqr\"]<bond_dist_sqr_threshold]\n",
    "            for bond_idx in possible_bonds.index:\n",
    "                bond_scatter.append(\n",
    "                    go.Scatter3d(\n",
    "                        x=[possible_bonds.at[bond_idx, \"x_1\"], possible_bonds.at[bond_idx, \"x_2\"]],\n",
    "                        y=[possible_bonds.at[bond_idx, \"y_1\"], possible_bonds.at[bond_idx, \"y_2\"]],\n",
    "                        z=[possible_bonds.at[bond_idx, \"z_1\"], possible_bonds.at[bond_idx, \"z_2\"]],\n",
    "                        mode=\"lines\",\n",
    "                        line=dict(\n",
    "                            color='rgba(100, 100, 255, 0.5)',\n",
    "                            width=5,\n",
    "                        ),\n",
    "                        showlegend=False,\n",
    "                        hoverinfo='skip')\n",
    "                )\n",
    "\n",
    "    unit_cell = [[np.array([0, 0, 0]), A], [np.array([0, 0, 0]), B], [np.array([0, 0, 0]), C],\n",
    "                 [A, A+B], [A, A+C], [B, B+A],\n",
    "                 [B, B+C], [C, C+A], [C, C+B],\n",
    "                 [A+B, A+B+C], [B+C, A+B+C], [A+C, A+B+C]]\n",
    "    unit_cell_color = [\"rgba(255, 255, 0, 1)\", \"rgba(255, 255, 0, 1)\", \"rgba(255, 255, 0, 1)\",\n",
    "                       \"rgba(255, 255, 0, 1)\", \"rgba(255, 255, 0, 1)\", \"rgba(255, 255, 0, 1)\",\n",
    "                       \"rgba(255, 255, 0, 1)\", \"rgba(255, 255, 0, 1)\", \"rgba(255, 255, 0, 1)\",\n",
    "                       \"rgba(255, 255, 0, 1)\", \"rgba(255, 255, 0, 1)\", \"rgba(255, 255, 0, 1)\"]\n",
    "\n",
    "    # XYZ arrows\n",
    "    axis_length = 0.5\n",
    "    V_diag = 0.25 * (A + B + C)\n",
    "    x_start = -V_diag[0]\n",
    "    y_start = -V_diag[1]\n",
    "    z_start = -V_diag[2]\n",
    "    x_end1 = (axis_length * A - V_diag)[0]\n",
    "    y_end1 = (axis_length * A - V_diag)[1]\n",
    "    z_end1 = (axis_length * A - V_diag)[2]\n",
    "    x_end2 = (axis_length * B - V_diag)[0]\n",
    "    y_end2 = (axis_length * B - V_diag)[1]\n",
    "    z_end2 = (axis_length * B - V_diag)[2]\n",
    "    x_end3 = (axis_length * C - V_diag)[0]\n",
    "    y_end3 = (axis_length * C - V_diag)[1]\n",
    "    z_end3 = (axis_length * C - V_diag)[2]\n",
    "    arrows = [\n",
    "        go.Scatter3d(x=[x_start, x_end1],\n",
    "                     y=[y_start, y_end1],\n",
    "                     z=[z_start, z_end1],\n",
    "                     mode=\"lines+text\",\n",
    "                     text=[\"\", \"A\"],\n",
    "                     line=dict(\n",
    "                         color='rgba(255, 0, 0, 1)',\n",
    "                         width=5,\n",
    "                     ),\n",
    "                     textfont=dict(\n",
    "                         color='rgba(255, 0, 0, 1)',\n",
    "                         size=20,\n",
    "                     ),\n",
    "                     showlegend=False,\n",
    "                     hoverinfo='skip',\n",
    "        ),\n",
    "        go.Scatter3d(x=[x_start, x_end2],\n",
    "                     y=[y_start, y_end2],\n",
    "                     z=[z_start, z_end2],\n",
    "                     mode=\"lines+text\",\n",
    "                     text=[\"\", \"B\"],\n",
    "                     line=dict(\n",
    "                         color='rgba(0, 255, 0, 1)',\n",
    "                         width=5,\n",
    "                     ),\n",
    "                     textfont=dict(\n",
    "                         color='rgba(0, 255, 0, 1)',\n",
    "                         size=20,\n",
    "                     ),\n",
    "                     showlegend=False,\n",
    "                     hoverinfo='skip',\n",
    "        ),\n",
    "        go.Scatter3d(x=[x_start, x_end3],\n",
    "                     y=[y_start, y_end3],\n",
    "                     z=[z_start, z_end3],\n",
    "                     mode=\"lines+text\",\n",
    "                     text=[\"\", \"C\"],\n",
    "                     line=dict(\n",
    "                         color='rgba(0, 0, 255, 1)',\n",
    "                         width=5,\n",
    "                     ),\n",
    "                     textfont=dict(\n",
    "                         color='rgba(0, 0, 255, 1)',\n",
    "                         size=20,\n",
    "                     ),\n",
    "                     showlegend=False,\n",
    "                     hoverinfo='skip',\n",
    "        ),\n",
    "    ]\n",
    "    atom_df[\"color\"] = \"#\" + atom_df[\"_atom_site_type_symbol\"].map(symbol2color)\n",
    "    data=[go.Scatter3d(x=atom_df[atom_df[\"_atom_site_type_symbol\"]==k].loc[:, \"x\"],\n",
    "                       y=atom_df[atom_df[\"_atom_site_type_symbol\"]==k].loc[:, \"y\"],\n",
    "                       z=atom_df[atom_df[\"_atom_site_type_symbol\"]==k].loc[:, \"z\"],\n",
    "                       text=atom_df[atom_df[\"_atom_site_type_symbol\"]==k].loc[:, \"_atom_site_type_symbol\"] + \"<br>\" + \\\n",
    "                            atom_df[atom_df[\"_atom_site_type_symbol\"]==k].loc[:, \"_atom_site_label\"] + \"<br>\" + \\\n",
    "                            atom_df[atom_df[\"_atom_site_type_symbol\"]==k].loc[:, \"periodic_image\"] + \"<br>was \" + \\\n",
    "                            atom_df[atom_df[\"_atom_site_type_symbol\"]==k].loc[:, \"original_label\"],\n",
    "                       mode='markers',\n",
    "                       showlegend=True,\n",
    "                       name=k,\n",
    "                       marker=dict(\n",
    "                           color=atom_df[atom_df[\"_atom_site_type_symbol\"]==k].loc[:, \"color\"],\n",
    "                           size=10,\n",
    "                           opacity=1.0,\n",
    "                       )) for k in unique_elements] + \\\n",
    "                       bond_scatter + [go.Scatter3d(x=np.array(unit_cell[i]).T[0],\n",
    "                                                    y=np.array(unit_cell[i]).T[1],\n",
    "                                                    z=np.array(unit_cell[i]).T[2],\n",
    "                                                    mode=\"lines\",\n",
    "                                                    line=dict(\n",
    "                                                        color=unit_cell_color[i],\n",
    "                                                        width=2,\n",
    "                                                    ),\n",
    "                                                    showlegend=False,\n",
    "                                                    hoverinfo='skip') for i in range(0, len(unit_cell))] + arrows\n",
    "\n",
    "    xyzmin = min([atom_df[\"x\"].min(), atom_df[\"y\"].min(), atom_df[\"z\"].min(), np.array(unit_cell).min(), (0-V_diag).min()])\n",
    "    xyzmax = max([atom_df[\"x\"].max(), atom_df[\"y\"].max(), atom_df[\"z\"].max(), np.array(unit_cell).max(), (0-V_diag).max()])\n",
    "    DeltaX = xyzmax - xyzmin\n",
    "    padding_xyz = DeltaX * 0.05\n",
    "    fig = go.Figure(data=data)\n",
    "    annotation_list = []\n",
    "    fig.update_layout(\n",
    "        scene = dict(\n",
    "            annotations=annotation_list,\n",
    "            xaxis = dict(nticks=10, range=[xyzmin-padding_xyz,xyzmax+padding_xyz],\n",
    "                         backgroundcolor=\"rgba(80, 70, 70, 0.5)\",\n",
    "                         gridcolor=\"white\",\n",
    "                         showbackground=showbackground,\n",
    "                         showgrid=False,\n",
    "                         zeroline=False,\n",
    "                         showticklabels=False,\n",
    "                         visible=False,\n",
    "                         #zerolinecolor=\"white\",\n",
    "                        ),\n",
    "            yaxis = dict(nticks=10, range=[xyzmin-padding_xyz, xyzmax+padding_xyz],\n",
    "                         backgroundcolor=\"rgba(70, 80, 70, 0.5)\",\n",
    "                         gridcolor=\"white\",\n",
    "                         showbackground=showbackground,\n",
    "                         showgrid=False,\n",
    "                         zeroline=False,\n",
    "                         showticklabels=False,\n",
    "                         visible=False,\n",
    "                         #zerolinecolor=\"white\",\n",
    "                        ),\n",
    "            zaxis = dict(nticks=10, range=[xyzmin-padding_xyz, xyzmax+padding_xyz],\n",
    "                         backgroundcolor=\"rgba(70, 70, 80, 0.5)\",\n",
    "                         gridcolor=\"white\",\n",
    "                         showbackground=showbackground,\n",
    "                         showgrid=False,\n",
    "                         zeroline=False,\n",
    "                         showticklabels=False,\n",
    "                         visible=False,\n",
    "                         #zerolinecolor=\"white\",\n",
    "                        ),\n",
    "        ),\n",
    "        width=1200,\n",
    "        height=1200,\n",
    "        margin=dict(r=10, l=10, b=10, t=10),\n",
    "        showlegend=True)\n",
    "    fig.update_layout(scene_aspectmode='cube',\n",
    "                      paper_bgcolor='rgba(0,0,0,0)',\n",
    "                      plot_bgcolor='rgba(0,0,0,0)')\n",
    "    fig.update_layout(\n",
    "        font_color=\"rgba(150,150,150,1)\",\n",
    "        title_font_color=\"rgba(150,150,150,1)\",\n",
    "        legend_title_font_color=\"rgba(150,150,150,1)\",\n",
    "    )\n",
    "\n",
    "    if _cif_name != cif_name:\n",
    "        os.remove(cif_name)\n",
    "\n",
    "    return fig\n",
    "\n"
   ]
  },
  {
   "cell_type": "code",
   "execution_count": null,
   "metadata": {},
   "outputs": [],
   "source": [
    "with io.open(\"PeriodicTableJSON.json\", \"rb\") as f:\n",
    "    table_dict = json.load(f)\n",
    "element_df = pd.DataFrame(table_dict[\"elements\"])\n",
    "element_df[\"cpk-hex\"] = element_df[\"cpk-hex\"].fillna(\"0000ff\")\n",
    "symbol2color = dict(zip(element_df[\"symbol\"], element_df[\"cpk-hex\"]))\n",
    "symbol2color[\"X\"] = \"0000ff\"\n",
    "idx2symbol = dict(zip(element_df[\"number\"], element_df[\"symbol\"]))\n",
    "idx2symbol[0] = \"X\"\n"
   ]
  },
  {
   "cell_type": "code",
   "execution_count": null,
   "metadata": {},
   "outputs": [],
   "source": [
    "cif_name=f\"{inDir}/cifs/{fName}\"\n",
    "atom_df = read_cif_xyz(cif_name+\".cif\")"
   ]
  },
  {
   "cell_type": "code",
   "execution_count": null,
   "metadata": {},
   "outputs": [],
   "source": [
    "atom_df"
   ]
  },
  {
   "cell_type": "code",
   "execution_count": null,
   "metadata": {},
   "outputs": [],
   "source": []
  },
  {
   "cell_type": "code",
   "execution_count": null,
   "metadata": {},
   "outputs": [],
   "source": [
    "fract_disp=np.array([0, 0, 0])\n",
    "\n",
    "showbackground=False\n",
    "tol=0.01\n",
    "bond_dist_sqr_threshold=6\n",
    "\n",
    "def grabAtomDF(cif_name, fract_disp=np.array([0, 0, 0]), showbackground=False, tol=0.01, bond_dist_sqr_threshold=6):\n",
    "\n",
    "\n",
    "\n",
    "    with io.open(\"PeriodicTableJSON.json\", \"rb\") as f:\n",
    "        table_dict = json.load(f)\n",
    "    element_df = pd.DataFrame(table_dict[\"elements\"])\n",
    "    element_df[\"cpk-hex\"] = element_df[\"cpk-hex\"].fillna(\"0000ff\")\n",
    "    symbol2color = dict(zip(element_df[\"symbol\"], element_df[\"cpk-hex\"]))\n",
    "    symbol2color[\"X\"] = \"0000ff\"\n",
    "    idx2symbol = dict(zip(element_df[\"number\"], element_df[\"symbol\"]))\n",
    "    idx2symbol[0] = \"X\"\n",
    "\n",
    "    _cif_name = cif_name\n",
    "    #cif_str = None\n",
    "    with io.open(cif_name, \"r\", newline=\"\\n\") as cif:\n",
    "        cif_str = cif.read().replace(\"(\", \"\").replace(\")\", \"\")\n",
    "    cif_list = cif_str.split(\"loop_\")\n",
    "    for cif_section in cif_list:\n",
    "        if \"_symmetry_equiv_pos_as_xyz\" in cif_section:\n",
    "            if len(cif_section.split(\"_cell_\")[0].split(\"_symmetry_equiv_pos_as_xyz\")[1].strip().split(\"\\n\")) > 1:\n",
    "                cif_name = cif_name.replace(\".cif\", \"_P1.cif\")\n",
    "                CifWriter(mg.Structure.from_str(cif_str, fmt=\"cif\"), refine_struct=False).write_file(cif_name)\n",
    "\n",
    "\n",
    "    M = lat_param2vec(read_cif_lattice_param(cif_name))\n",
    "    A, B, C = M\n",
    "    atom_df = read_cif_xyz(cif_name)\n",
    "    bond_df = read_cif_bond(cif_name)\n",
    "\n",
    "    #bond_df = None\n",
    "    Natoms = len(atom_df)\n",
    "    atom_df.loc[:, [\"_atom_site_fract_x\",\n",
    "                    \"_atom_site_fract_y\",\n",
    "                    \"_atom_site_fract_z\"]] = (atom_df.loc[:, [\"_atom_site_fract_x\",\n",
    "                                                              \"_atom_site_fract_y\",\n",
    "                                                              \"_atom_site_fract_z\"]].values + fract_disp) % 1# - np.array([0.5, 0.5, 0.5])) % 1\n",
    "    atom_df[\"x\"] = None\n",
    "    atom_df[\"y\"] = None\n",
    "    atom_df[\"z\"] = None\n",
    "    atom_df[\"_atom_site_label_prefix\"] = atom_df[\"_atom_site_label\"].apply(lambda x: re.findall(r\"[A-Z]*[a-z]*\", x)[0])\n",
    "    atom_df[\"_atom_site_label_postfix\"] = atom_df[\"_atom_site_label\"].apply(lambda x: re.findall(r\"[0-9]+\", x)[0])\n",
    "\n",
    "\n",
    "    error_atom_index = atom_df[atom_df[\"_atom_site_label_prefix\"]!=atom_df[\"_atom_site_type_symbol\"]].index\n",
    "    atom_df.loc[error_atom_index, \"_atom_site_label\"] = atom_df.loc[error_atom_index, \"_atom_site_type_symbol\"].astype(str) + \\\n",
    "                                                        atom_df.loc[error_atom_index, \"_atom_site_label_postfix\"].astype(str)\n",
    "\n",
    "    unique_elements = sorted(atom_df[\"_atom_site_type_symbol\"].unique().tolist())\n",
    "    natoms_per_element = {}\n",
    "    atom_idx_offset = np.zeros(Natoms, dtype=int)\n",
    "    atom_df.loc[:, \"_atom_site_label_save\"] = atom_df.loc[:, \"_atom_site_label\"]\n",
    "    for element in unique_elements:\n",
    "        selected_index = atom_df[atom_df[\"_atom_site_type_symbol\"]==element].index\n",
    "        natoms_per_element[element] = len(selected_index)\n",
    "        atom_idx_offset[selected_index] = natoms_per_element[element]\n",
    "\n",
    "        atom_df.loc[selected_index, \"_atom_site_label_postfix\"] = [x for x in range(1, len(selected_index)+1)]\n",
    "        atom_df.loc[selected_index, \"_atom_site_label\"] = element + atom_df.loc[selected_index, \"_atom_site_label_postfix\"].astype(str)\n",
    "    # label_map_dict = dict(zip(atom_df[\"_atom_site_label_save\"].to_list() + atom_df[\"_atom_site_label\"].to_list(),\n",
    "    #                           atom_df[\"_atom_site_label\"].to_list() + atom_df[\"_atom_site_label\"].to_list()))\n",
    "    label_map_dict = dict(zip(atom_df[\"_atom_site_label_save\"].to_list(),\n",
    "                          atom_df[\"_atom_site_label\"].to_list()))\n",
    "    for old_label_idx in range(0, len(atom_df[\"_atom_site_label\"])):\n",
    "        if atom_df.at[old_label_idx, \"_atom_site_label\"] not in label_map_dict:\n",
    "            label_map_dict[atom_df.at[old_label_idx, \"_atom_site_label\"]] = atom_df.at[old_label_idx, \"_atom_site_label\"]\n",
    "    if type(bond_df) != type(None):\n",
    "        bond_df[\"_geom_bond_atom_site_label_1_save\"] = bond_df[\"_geom_bond_atom_site_label_1\"]\n",
    "        bond_df[\"_geom_bond_atom_site_label_1\"] = bond_df[\"_geom_bond_atom_site_label_1\"].map(label_map_dict)\n",
    "        bond_df[\"_geom_bond_atom_site_label_2_save\"] = bond_df[\"_geom_bond_atom_site_label_2\"]\n",
    "        bond_df[\"_geom_bond_atom_site_label_2\"] = bond_df[\"_geom_bond_atom_site_label_2\"].map(label_map_dict)\n",
    "        bond_df[\"_geom_bond_atom_site_label_1_prefix\"] = bond_df[\"_geom_bond_atom_site_label_1\"].apply(lambda x: re.findall(r\"[A-Z]*[a-z]*\", x)[0])\n",
    "        bond_df[\"_geom_bond_atom_site_label_1_postfix\"] = bond_df[\"_geom_bond_atom_site_label_1\"].apply(lambda x: re.findall(r\"[0-9]+\", x)[0])\n",
    "        bond_df[\"_geom_bond_atom_site_label_2_prefix\"] = bond_df[\"_geom_bond_atom_site_label_2\"].apply(lambda x: re.findall(r\"[A-Z]*[a-z]*\", x)[0])\n",
    "        bond_df[\"_geom_bond_atom_site_label_2_postfix\"] = bond_df[\"_geom_bond_atom_site_label_2\"].apply(lambda x: re.findall(r\"[0-9]+\", x)[0])\n",
    "        bond_df_atom_idx_offset1 = np.zeros(len(bond_df), dtype=int)\n",
    "        bond_df_atom_idx_offset2 = np.zeros(len(bond_df), dtype=int)\n",
    "        for element in unique_elements:\n",
    "            bond_df_selected_index = bond_df[bond_df[\"_geom_bond_atom_site_label_1_prefix\"]==element].index\n",
    "            bond_df_atom_idx_offset1[bond_df_selected_index] = natoms_per_element[element]\n",
    "            bond_df_selected_index = bond_df[bond_df[\"_geom_bond_atom_site_label_2_prefix\"]==element].index\n",
    "            bond_df_atom_idx_offset2[bond_df_selected_index] = natoms_per_element[element]\n",
    "        bond_df_list = [bond_df.copy(deep=True)]\n",
    "\n",
    "    atom_df[\"original_label\"] = atom_df[\"_atom_site_label\"].to_list()\n",
    "    atom_df[\"periodic_image\"] = \"[0, 0, 0]\"\n",
    "    atom_df_list = [atom_df.copy(deep=True)]\n",
    "\n",
    "    displacement_vectors = [[0,0,1], [0,0,-1],\n",
    "                            [0,1,0], [0,-1,0],\n",
    "                            [1,0,0], [-1,0,0],\n",
    "                            [-1,-1,0], [-1,1,0], [1,-1,0], [1,1,0],\n",
    "                            [-1,0,-1], [-1,0,1], [1,0,-1], [1,0,1],\n",
    "                            [0,-1,-1], [0,-1,1], [0,1,-1], [0,1,1],\n",
    "                            [-1,-1,-1], [-1,-1,1], [-1,1,-1], [1,-1,-1],\n",
    "                            [-1,1,1], [1,-1,1], [1,1,-1], [1,1,1]]\n",
    "\n",
    "    for disp_i in range(0, len(displacement_vectors)):\n",
    "        disp = displacement_vectors[disp_i]\n",
    "        if type(bond_df) != type(None):\n",
    "            _bond_df = bond_df.copy(deep=True)\n",
    "            _bond_df[\"_geom_bond_atom_site_label_1_postfix\"] = ((disp_i + 1) * bond_df_atom_idx_offset1 + \\\n",
    "                                                                _bond_df[\"_geom_bond_atom_site_label_1_postfix\"].astype(int)).astype(str)\n",
    "            _bond_df[\"_geom_bond_atom_site_label_1\"] = _bond_df[\"_geom_bond_atom_site_label_1_prefix\"] + _bond_df[\"_geom_bond_atom_site_label_1_postfix\"]\n",
    "            _bond_df[\"_geom_bond_atom_site_label_2_postfix\"] = ((disp_i + 1) * bond_df_atom_idx_offset2 + \\\n",
    "                                                                _bond_df[\"_geom_bond_atom_site_label_2_postfix\"].astype(int)).astype(str)\n",
    "            _bond_df[\"_geom_bond_atom_site_label_2\"] = _bond_df[\"_geom_bond_atom_site_label_2_prefix\"] + _bond_df[\"_geom_bond_atom_site_label_2_postfix\"]\n",
    "            bond_df_list.append(_bond_df)\n",
    "\n",
    "        _atom_df = atom_df.copy(deep=True)\n",
    "        _atom_df.loc[:, \"periodic_image\"] = str(disp)\n",
    "        _atom_df.loc[:, [\"_atom_site_fract_x\",\n",
    "                         \"_atom_site_fract_y\",\n",
    "                         \"_atom_site_fract_z\"]] = _atom_df.loc[:, [\"_atom_site_fract_x\",\n",
    "                                                                   \"_atom_site_fract_y\",\n",
    "                                                                   \"_atom_site_fract_z\"]].values + np.array(disp)\n",
    "        _atom_df[\"_atom_site_label_postfix\"] = ((disp_i + 1) * atom_idx_offset + _atom_df[\"_atom_site_label_postfix\"].astype(int)).astype(str)\n",
    "        _atom_df[\"original_label\"] = _atom_df[\"_atom_site_label\"].to_list()\n",
    "        _atom_df[\"_atom_site_label\"] = _atom_df[\"_atom_site_type_symbol\"] + _atom_df[\"_atom_site_label_postfix\"]\n",
    "\n",
    "        atom_df_list.append(_atom_df)\n",
    "\n",
    "    atom_df = pd.concat(atom_df_list, axis=0).reset_index(drop=True)\n",
    "    if type(bond_df) != type(None):\n",
    "        bond_df = pd.concat(bond_df_list, axis=0).reset_index(drop=True)\n",
    "\n",
    "    atom_df.loc[:, [\"x\", \"y\", \"z\"]] = atom_df.loc[:, [\"_atom_site_fract_x\",\n",
    "                                                      \"_atom_site_fract_y\",\n",
    "                                                      \"_atom_site_fract_z\"]].values @ M\n",
    "    unit_cell_expansion_offset = 2 # Angstrom\n",
    "    critical_points = [np.array([-1, -1, -1])*unit_cell_expansion_offset,\n",
    "                       np.array([1, -1, -1])*unit_cell_expansion_offset + A,\n",
    "                       np.array([-1, 1, -1])*unit_cell_expansion_offset + B,\n",
    "                       np.array([-1, -1, 1])*unit_cell_expansion_offset + C,\n",
    "                       np.array([1, 1, -1])*unit_cell_expansion_offset + A + B,\n",
    "                       np.array([-1, 1, 1])*unit_cell_expansion_offset + B + C,\n",
    "                       np.array([1, -1, 1])*unit_cell_expansion_offset + A + C,\n",
    "                       np.array([1, 1, 1])*unit_cell_expansion_offset + A + B + C]\n",
    "    hull = Delaunay(critical_points)\n",
    "    #tol=0.01\n",
    "\n",
    "    isInHull = hull.find_simplex(atom_df.loc[:, [\"x\", \"y\", \"z\"]].values)>=-tol\n",
    "    atom_df = atom_df[isInHull].copy(deep=True)\n",
    "    atom_df.loc[:, [\"x\", \"y\", \"z\"]] = atom_df.loc[:, [\"_atom_site_fract_x\",\n",
    "                                                      \"_atom_site_fract_y\",\n",
    "                                                      \"_atom_site_fract_z\"]].values @ M\n",
    "    return atom_df"
   ]
  },
  {
   "cell_type": "code",
   "execution_count": null,
   "metadata": {},
   "outputs": [],
   "source": [
    "atom_df.loc[:, [\"x\", \"y\", \"z\"]].to_csv()"
   ]
  },
  {
   "cell_type": "code",
   "execution_count": 71,
   "metadata": {},
   "outputs": [],
   "source": [
    "df=pd.read_csv(f\"{inDir}/post-combustion-vsa-2-clean.csv\",index_col=0)\n",
    "\n",
    "\n",
    "# grab 4 bins for each, trP% of samples within regions\n",
    "##\n",
    "## workingCap: [0-1,1-2,2-4,4-]\n",
    "## selectivity: [0-50,50-200,200-400,400-]\n",
    "trP=.70\n",
    "totalLen=len(df['selectivity'])\n",
    "regVars=['selectivity','mmol/g_working_capacity']\n",
    "bounds={\"selectivity\":[(0,50),(50,200),(200,400),(400,)],\"mmol/g_working_capacity\":[(0,1),(1,2),(2,4),(4,)]}\n",
    "\n",
    "indexBounds={k:[] for k in bounds.keys()} #upper index for\n",
    "\n",
    "for k in regVars:\n",
    "    j=0\n",
    "    bj=0\n",
    "    for index,row in df.sort_values(by=[k]).iterrows():\n",
    "        if bj>=len(bounds[k])-1:\n",
    "            break\n",
    "        elif row[k]>bounds[k][bj][1]:\n",
    "            indexBounds[k].append(j)\n",
    "            bj+=1\n",
    "        j+=1"
   ]
  },
  {
   "cell_type": "code",
   "execution_count": 72,
   "metadata": {},
   "outputs": [
    {
     "data": {
      "text/plain": "[7197, 11351, 12150]"
     },
     "execution_count": 72,
     "metadata": {},
     "output_type": "execute_result"
    }
   ],
   "source": [
    "indexBounds['selectivity']"
   ]
  },
  {
   "cell_type": "code",
   "execution_count": null,
   "metadata": {},
   "outputs": [],
   "source": [
    "indexBounds['sel']"
   ]
  },
  {
   "cell_type": "code",
   "execution_count": 36,
   "metadata": {},
   "outputs": [],
   "source": [
    "#seed, then random indices up to\n",
    "\n",
    "np.random.seed(42)\n",
    "testBins={k:[] for k in bounds.keys()}\n",
    "for k in bounds.keys():\n",
    "    j=0\n",
    "    testBins[k].append(list(np.random.choice(df.sort_values(by=[k]).index[:indexBounds[k][j]],size=round((1-trP)*indexBounds[k][j]),replace=False)))\n",
    "    for j in range(1,len(indexBounds[k])):\n",
    "        testBins[k].append(list(np.random.choice(df.sort_values(by=[k]).index[indexBounds[k][j-1]:indexBounds[k][j]],size=round((1-trP)*(indexBounds[k][j]-indexBounds[k][j-1])),replace=False)))\n",
    "    testBins[k].append(list(np.random.choice(df.sort_values(by=[k]).index[indexBounds[k][-1]:],size=round((1-trP)*(totalLen-indexBounds[k][-1])),replace=False)))\n",
    "\n",
    "\n",
    "\n",
    "trainBins={k:[] for k in bounds.keys()}\n",
    "for k in bounds.keys():\n",
    "    j=0\n",
    "    trainBins[k].append(list(set(df.sort_values(by=[k]).index[:indexBounds[k][j]])-set(testBins[k][j])))\n",
    "    for j in range(1,len(indexBounds[k])):\n",
    "        trainBins[k].append(list(set(df.sort_values(by=[k]).index[indexBounds[k][j-1]:indexBounds[k][j]])-set(testBins[k][j])))\n",
    "    trainBins[k].append(list(set(df.sort_values(by=[k]).index[indexBounds[k][-1]:])-set(testBins[k][-1])))\n",
    "\n",
    "\n",
    "#  testBins[\"selectivity\"] -> list of sampled bins along selectivity bounds\n",
    "#testBins['selectivity'][0] selects lowest selective MOFS sample <-> 4 bins, {k:{\"low\":[MOFIDs for low selectivity],\"med\"...,\"high\",\"superHigh\"}"
   ]
  },
  {
   "cell_type": "markdown",
   "metadata": {},
   "source": [
    "# Best and worst performers available in data"
   ]
  },
  {
   "cell_type": "code",
   "execution_count": 76,
   "metadata": {},
   "outputs": [
    {
     "data": {
      "text/plain": "{'DB12-NEYZAU_clean'}"
     },
     "execution_count": 76,
     "metadata": {},
     "output_type": "execute_result"
    }
   ],
   "source": [
    "overlapCO2 & set(testBins[\"mmol/g_working_capacity\"][3]) & set(testBins[\"selectivity\"][3])"
   ]
  },
  {
   "cell_type": "code",
   "execution_count": 79,
   "metadata": {},
   "outputs": [
    {
     "data": {
      "text/plain": "['DB12-SEHZUB_clean',\n 'DB12-QIWDOR_freeONLY',\n 'DB12-FIPWOS_freeONLY',\n 'DB12-LOKPEG_freeONLY',\n 'DB12-KIDDOS_clean',\n 'DB12-ETEMIB_clean',\n 'DB12-EKIGOW_freeONLY',\n 'DB12-OTOVAW_clean',\n 'DB12-CODGAE_freeONLY',\n 'DB12-VEHNED_clean',\n 'DB12-HIZQEN_clean',\n 'DB12-DEFRIR_clean',\n 'DB12-MUVJIX_clean',\n 'DB12-WEMFOL_freeONLY',\n 'DB12-NEYZAU_clean']"
     },
     "execution_count": 79,
     "metadata": {},
     "output_type": "execute_result"
    }
   ],
   "source": [
    "testBins[\"selectivity\"][3] # good mof sample"
   ]
  },
  {
   "cell_type": "code",
   "execution_count": 77,
   "metadata": {},
   "outputs": [
    {
     "data": {
      "text/plain": "{'DB1-Cu2O8-AZO_A-fum_A_No201',\n 'DB1-Zn2O8-fum_A-irmof20_A_No142',\n 'DB1-Zn2O8N2-irmof8_A-TED_A_No11',\n 'DB12-NEYZAU_clean',\n 'DB12-XESKAJ_clean'}"
     },
     "execution_count": 77,
     "metadata": {},
     "output_type": "execute_result"
    }
   ],
   "source": [
    "overlapCO2 & set(testBins[\"mmol/g_working_capacity\"][3])"
   ]
  },
  {
   "cell_type": "code",
   "execution_count": 78,
   "metadata": {},
   "outputs": [
    {
     "data": {
      "text/plain": "{'DB12-CODGAE_freeONLY',\n 'DB12-DEFRIR_clean',\n 'DB12-FIPWOS_freeONLY',\n 'DB12-HIZQEN_clean',\n 'DB12-KIDDOS_clean',\n 'DB12-MUVJIX_clean',\n 'DB12-NEYZAU_clean',\n 'DB12-VEHNED_clean',\n 'DB12-WEMFOL_freeONLY'}"
     },
     "execution_count": 78,
     "metadata": {},
     "output_type": "execute_result"
    }
   ],
   "source": [
    "overlapCO2 & set(testBins[\"selectivity\"][3])"
   ]
  },
  {
   "cell_type": "code",
   "execution_count": 75,
   "metadata": {},
   "outputs": [],
   "source": [
    "bestMOF=\"DB12-NEYZAU_clean\"\n",
    "worstMOF=\"DB12-CAKXUJ_clean\""
   ]
  },
  {
   "cell_type": "markdown",
   "metadata": {},
   "source": [
    "## worst mofs we have available below"
   ]
  },
  {
   "cell_type": "code",
   "execution_count": 37,
   "metadata": {},
   "outputs": [
    {
     "data": {
      "text/plain": "{'DB12-ADEGIA_clean', 'DB12-CAKXUJ_clean'}"
     },
     "execution_count": 37,
     "metadata": {},
     "output_type": "execute_result"
    }
   ],
   "source": [
    "overlapCO2 & set(testBins[\"mmol/g_working_capacity\"][0]) & set(testBins[\"selectivity\"][0])"
   ]
  },
  {
   "cell_type": "code",
   "execution_count": null,
   "metadata": {},
   "outputs": [],
   "source": []
  },
  {
   "cell_type": "code",
   "execution_count": null,
   "metadata": {},
   "outputs": [],
   "source": [
    "overlapCO2 & set(testBins[\"selectivity\"][0])"
   ]
  },
  {
   "cell_type": "code",
   "execution_count": null,
   "metadata": {
    "scrolled": true
   },
   "outputs": [],
   "source": [
    "[j for j in testBins[\"mmol/g_working_capacity\"][3] if j not in testBins[\"selectivity\"][3]]"
   ]
  },
  {
   "cell_type": "code",
   "execution_count": null,
   "metadata": {},
   "outputs": [],
   "source": [
    "list(testBins.keys())"
   ]
  },
  {
   "cell_type": "markdown",
   "metadata": {},
   "source": [
    "# CIF2XYZ CSV"
   ]
  },
  {
   "cell_type": "code",
   "execution_count": null,
   "metadata": {},
   "outputs": [],
   "source": [
    "exploredAtoms=set(os.listdir(f\"{inDir}/cifPointClouds\"))-{\"total\"}\n",
    "for fName in [bestMOF,worstMOF]:\n",
    "    fName+=\".cif\"\n",
    "    cif_name=f\"{inDir}/cifs/{fName}\"\n",
    "    atom_df = grabAtomDF(cif_name)\n",
    "\n",
    "    atom_df.loc[:, [\"x\", \"y\", \"z\"]].to_csv(f\"{inDir}/cifPointClouds/total/{fName[:-3]}csv\",index=False)\n",
    "\n",
    "    for a in set(atom_df['_atom_site_label_prefix']):\n",
    "        if a not in exploredAtoms:\n",
    "            exploredAtoms.add(a)\n",
    "            try:\n",
    "                os.mkdir(f\"{inDir}/cifPointClouds/{a}\")\n",
    "            except:\n",
    "                pass\n",
    "        try:\n",
    "            subXYZ=atom_df[atom_df['_atom_site_label_prefix'] == a]\n",
    "            subXYZ.loc[:, [\"x\", \"y\", \"z\"]].to_csv(f\"{inDir}/cifPointClouds/{a}/{fName[:-3]}csv\",index=False)\n",
    "        except:\n",
    "            print(f\"error with atom lab {a} in {fName} !!\")"
   ]
  },
  {
   "cell_type": "code",
   "execution_count": null,
   "metadata": {},
   "outputs": [],
   "source": [
    "#testBins[\"selectivity\"][3]  # good mof sample\n",
    "\n",
    "for fName in [bestMOF,worstMOF]:#testBins[\"mmol/g_working_capacity\"][3]:\n",
    "    fName += \".cif\"\n",
    "    cif_name = f\"{inDir}/cifs/{fName}\"\n",
    "    atom_df = grabAtomDF(cif_name)\n",
    "\n",
    "    atom_df.loc[:, [\"x\", \"y\", \"z\"]].to_csv(f\"{inDir}/cifPointClouds/total/{fName[:-3]}csv\", index=False)\n",
    "\n",
    "    for a in set(atom_df['_atom_site_label_prefix']):\n",
    "        if a not in exploredAtoms:\n",
    "            exploredAtoms.add(a)\n",
    "            try:\n",
    "                os.mkdir(f\"{inDir}/cifPointClouds/{a}\")\n",
    "            except:\n",
    "                pass\n",
    "        try:\n",
    "            subXYZ = atom_df[atom_df['_atom_site_label_prefix'] == a]\n",
    "            subXYZ.loc[:, [\"x\", \"y\", \"z\"]].to_csv(f\"{inDir}/cifPointClouds/{a}/{fName[:-3]}csv\", index=False)\n",
    "        except:\n",
    "            print(f\"error with atom lab {a} in {fName} !!\")"
   ]
  },
  {
   "cell_type": "code",
   "execution_count": null,
   "metadata": {},
   "outputs": [],
   "source": []
  },
  {
   "cell_type": "code",
   "execution_count": null,
   "metadata": {},
   "outputs": [],
   "source": []
  },
  {
   "cell_type": "code",
   "execution_count": null,
   "metadata": {},
   "outputs": [],
   "source": []
  },
  {
   "cell_type": "code",
   "execution_count": null,
   "metadata": {
    "scrolled": true
   },
   "outputs": [],
   "source": [
    "df"
   ]
  },
  {
   "cell_type": "code",
   "execution_count": null,
   "metadata": {},
   "outputs": [],
   "source": []
  },
  {
   "cell_type": "markdown",
   "metadata": {},
   "source": [
    "# Store atomic PDhash for xyz cords\n",
    "- unbound (all)\n",
    "- OverlapCO2\n",
    "    - bound vs unbound\n",
    "## TO-DO: John's predictions as well\n",
    "\n"
   ]
  },
  {
   "cell_type": "markdown",
   "metadata": {},
   "source": [
    "# Way later on, this data will also be useful for building a transformer model that tries to predict DFT topology from point cloud"
   ]
  },
  {
   "cell_type": "code",
   "execution_count": 38,
   "metadata": {},
   "outputs": [],
   "source": [
    "class PDhash():\n",
    "    def __init__(self,res=1,diags=None, maxHdim=2,persistThresh=0):\n",
    "        \"\"\"upper bound resolution.\n",
    "        In the case of sparce PD spaces, it may be useful to project a hash map of your dataset to the diagram space\"\"\"\n",
    "        self.res=res\n",
    "        self.maxD=maxHdim\n",
    "        self.thresh=persistThresh\n",
    "        self.bounds=[[np.inf,-np.inf] for b in range(maxHdim+1)]\n",
    "        self.img={b:dict() for b in range(maxHdim+1)} # While this does impose extra time compared to np, it is ideal for map-reduce type parallelization\n",
    "\n",
    "\n",
    "\n",
    "\n",
    "    def addDiagRpp(self,diag,index): ## note the index can be just an index number, or a numerical value\n",
    "                                    ###although the numerical values (duplicate index) won't stack in the set\n",
    "        \"\"\"diag is {0:[(b,d),...],1: \"\"\"\n",
    "        for i in range(np.min([self.maxD+1,len(diag)])):\n",
    "            for k in diag[i]:\n",
    "                if k[1]-k[0] >self.thresh:\n",
    "                    pt=(round(k[0]/self.res)*self.res,round(k[1]/self.res)*self.res)\n",
    "                    if pt[0]<self.bounds[i][0]:\n",
    "                        self.bounds[i][0]=pt[0]\n",
    "                    if pt[1]>self.bounds[i][1]:\n",
    "                        self.bounds[i][1]=pt[1]\n",
    "                    if pt in self.img[i]:\n",
    "                        if index in self.img[i][pt]:\n",
    "                            self.img[i][pt][index]+=1\n",
    "                        else:\n",
    "                            self.img[i][pt][index]=1\n",
    "\n",
    "                    else:\n",
    "                        self.img[i][pt]={index:1}\n",
    "\n",
    "    def addDiagCubeRips(self,crispy,index):\n",
    "        \"\"\"diag is [[bi,b,d,bx,by,bz,dx,dy,dz],..] \"\"\"\n",
    "        pass\n",
    "\n",
    "    def __getitem__(self, item):\n",
    "        if type(item)==int:\n",
    "            return self.img[item]\n",
    "        else:\n",
    "            #return {b:self.img[b][pt] for b in range(self.maxD) for pt in self.img[b].keys()}\n",
    "            return {b:self.img[b][tuple(item)] for b in range(self.maxD) if tuple(item) in self.img[b]}\n",
    "\n"
   ]
  },
  {
   "cell_type": "code",
   "execution_count": 39,
   "metadata": {},
   "outputs": [],
   "source": [
    "mofNames=list(df.index)\n",
    "mof2Index={i:mofNames.index(i) for i in mofNames}"
   ]
  },
  {
   "cell_type": "code",
   "execution_count": 41,
   "outputs": [
    {
     "data": {
      "text/plain": "744"
     },
     "execution_count": 41,
     "metadata": {},
     "output_type": "execute_result"
    }
   ],
   "source": [],
   "metadata": {
    "collapsed": false
   }
  },
  {
   "cell_type": "code",
   "execution_count": null,
   "metadata": {},
   "outputs": [],
   "source": [
    "### all\n",
    "saveDir='diverseTopPDhash'\n",
    "failMOFs=set()\n",
    "pdStack=PDhash(res=.25,diags=None, maxHdim=2,persistThresh=0)\n",
    "for i in range(len(mofNames)):\n",
    "    fName=mofNames[i]\n",
    "    cif_name = f\"{inDir}/cifs/{fName}.cif\"\n",
    "    try:\n",
    "        struct=Structure.from_file(cif_name)\n",
    "        rppdgm=rpp.run(\"--format distance --dim 2\",struct.distance_matrix)\n",
    "        npdgm=[np.array([[float(rppdgm[b][k][0]),float(rppdgm[b][k][1])] for k in range(len(rppdgm[b]))])for b in rppdgm.keys()]\n",
    "        pdStack.addDiagRpp(npdgm,i)\n",
    "    except:\n",
    "        failMOFs.add(fName)\n",
    "\n",
    "## next do same thing for the boundCO2 files and store them seperately\n",
    "### then filter out the unbound from this"
   ]
  },
  {
   "cell_type": "code",
   "execution_count": null,
   "metadata": {},
   "outputs": [],
   "source": [
    "import pickle\n",
    "topType=\"rppCords0_freq_QuartRes\"\n",
    "with open(f\"{inDir}/diverseTopPDhash/pdStack_{topType}.pkl\",\"wb\") as f:\n",
    "    pickle.dump(pdStackRpp,f)"
   ]
  },
  {
   "cell_type": "code",
   "execution_count": null,
   "metadata": {},
   "outputs": [],
   "source": [
    "len(failMOFs)"
   ]
  },
  {
   "cell_type": "code",
   "execution_count": 15,
   "metadata": {},
   "outputs": [],
   "source": [
    "def dm(X,Y):\n",
    "    x2 = np.sum(X**2, axis=1)\n",
    "    y2 = np.sum(Y**2, axis=1)\n",
    "    xy=np.matmul(X,Y.T)\n",
    "    return np.round(x2.reshape(-1,1) - 2*xy + y2,8)\n"
   ]
  },
  {
   "cell_type": "code",
   "execution_count": null,
   "metadata": {},
   "outputs": [],
   "source": [
    "X=atom_df.loc[:, [\"x\", \"y\", \"z\"]].to_numpy()\n",
    "X\n",
    "dm(X,X).shape"
   ]
  },
  {
   "cell_type": "code",
   "execution_count": null,
   "outputs": [],
   "source": [],
   "metadata": {
    "collapsed": false
   }
  },
  {
   "cell_type": "code",
   "execution_count": 42,
   "metadata": {},
   "outputs": [
    {
     "data": {
      "text/plain": "356"
     },
     "execution_count": 42,
     "metadata": {},
     "output_type": "execute_result"
    }
   ],
   "source": [
    "len(overlapCO2)"
   ]
  },
  {
   "cell_type": "markdown",
   "metadata": {},
   "source": [
    "#Do CO2 bound and compare results \n",
    "- john version and ottawa"
   ]
  },
  {
   "cell_type": "code",
   "execution_count": 54,
   "outputs": [
    {
     "name": "stderr",
     "output_type": "stream",
     "text": [
      "C:\\Users\\moore\\anaconda3\\lib\\site-packages\\pymatgen\\io\\cif.py:1167: UserWarning:\n",
      "\n",
      "Issues encountered while parsing CIF: Some fractional coordinates rounded to ideal values to avoid issues with finite precision.\n",
      "\n"
     ]
    }
   ],
   "source": [
    "saveDir='diverseTopPDhash'\n",
    "failMOFs=set()\n",
    "pdStack=PDhash(res=.25,diags=None, maxHdim=2,persistThresh=0)\n",
    "for fName in overlapCO2:\n",
    "    #fName=mofNames[i]\n",
    "    cif_name = f\"{inDir}/for_seth/most_probable_sites/{fName}_repeat_CO2_bs_0.cif\"\n",
    "    try:\n",
    "        struct=Structure.from_file(cif_name)\n",
    "        rppdgm=rpp.run(\"--format distance --dim 2\",struct.distance_matrix)\n",
    "        npdgm=[np.array([[float(rppdgm[b][k][0]),float(rppdgm[b][k][1])] for k in range(len(rppdgm[b]))])for b in rppdgm.keys()]\n",
    "        pdStack.addDiagRpp(npdgm,mof2Index[fName])\n",
    "    except:\n",
    "        failMOFs.add(fName)\n"
   ],
   "metadata": {
    "collapsed": false
   }
  },
  {
   "cell_type": "code",
   "execution_count": 55,
   "outputs": [],
   "source": [
    "import pickle\n",
    "topType=\"rppCords0_freq_QuartRes_CO2Ott\"\n",
    "with open(f\"{inDir}/diverseTopPDhash/pdStack_{topType}.pkl\",\"wb\") as f:\n",
    "    pickle.dump(pdStack,f)"
   ],
   "metadata": {
    "collapsed": false
   }
  },
  {
   "cell_type": "code",
   "execution_count": 56,
   "outputs": [
    {
     "data": {
      "text/plain": "0"
     },
     "execution_count": 56,
     "metadata": {},
     "output_type": "execute_result"
    }
   ],
   "source": [
    "len(failMOFs)"
   ],
   "metadata": {
    "collapsed": false
   }
  },
  {
   "cell_type": "code",
   "execution_count": 67,
   "outputs": [
    {
     "data": {
      "text/plain": "[[0.0, 3.25], [1.0, 14.75], [1.75, 16.0]]"
     },
     "execution_count": 67,
     "metadata": {},
     "output_type": "execute_result"
    }
   ],
   "source": [
    "pdStack.bounds"
   ],
   "metadata": {
    "collapsed": false
   }
  },
  {
   "cell_type": "code",
   "execution_count": 61,
   "outputs": [
    {
     "data": {
      "text/plain": "(array([107.,  76.,  50.,  53.,  28.,  21.,  10.,   3.,   5.,   3.]),\n array([  5.281355 ,  81.6593715, 158.037388 , 234.4154045, 310.793421 ,\n        387.1714375, 463.549454 , 539.9274705, 616.305487 , 692.6835035,\n        769.06152  ]),\n <BarContainer object of 10 artists>)"
     },
     "execution_count": 61,
     "metadata": {},
     "output_type": "execute_result"
    },
    {
     "data": {
      "text/plain": "<Figure size 640x480 with 1 Axes>",
      "image/png": "[encoded data removed]"
     },
     "metadata": {},
     "output_type": "display_data"
    }
   ],
   "source": [
    "plt.hist(df.loc[list(overlapCO2)]['selectivity'])"
   ],
   "metadata": {
    "collapsed": false
   }
  },
  {
   "cell_type": "code",
   "execution_count": 62,
   "outputs": [
    {
     "data": {
      "text/plain": "(array([111.,  81.,  80.,  33.,  20.,  17.,   7.,   3.,   2.,   2.]),\n array([0.008861 , 0.8008007, 1.5927404, 2.3846801, 3.1766198, 3.9685595,\n        4.7604992, 5.5524389, 6.3443786, 7.1363183, 7.928258 ]),\n <BarContainer object of 10 artists>)"
     },
     "execution_count": 62,
     "metadata": {},
     "output_type": "execute_result"
    },
    {
     "data": {
      "text/plain": "<Figure size 640x480 with 1 Axes>",
      "image/png": "[encoded data removed]"
     },
     "metadata": {},
     "output_type": "display_data"
    }
   ],
   "source": [
    "plt.hist(df.loc[list(overlapCO2)]['mmol/g_working_capacity'])"
   ],
   "metadata": {
    "collapsed": false
   }
  },
  {
   "cell_type": "code",
   "execution_count": null,
   "metadata": {},
   "outputs": [],
   "source": [
    "struct=Structure.from_file(cif_name)"
   ]
  },
  {
   "cell_type": "code",
   "execution_count": 63,
   "metadata": {},
   "outputs": [
    {
     "data": {
      "text/plain": "{'DB12-BEFPAF_clean',\n 'DB12-DUXMAL_clean',\n 'DB12-EZULAO_clean',\n 'DB12-HEKTUO01_clean',\n 'DB12-HEKTUO_clean',\n 'DB12-LOGBEO_freeONLY',\n 'DB12-NAWWUG_clean',\n 'DB12-NEYZAU_freeONLY',\n 'DB12-RASKON_clean',\n 'DB12-RESSAK_clean',\n 'DB12-SIWTOJ_clean',\n 'DB12-SOXDAM_clean',\n 'DB12-TOXNIF_clean',\n 'DB12-WEMBUN_freeONLY',\n 'DB12-WEMCAU_freeONLY',\n 'DB12-WEMDID_freeONLY',\n 'DB12-WEMDUP_freeONLY',\n 'DB12-WEMFAX_freeONLY',\n 'DB12-WEMFEB_freeONLY',\n 'DB12-XESKAJ_clean',\n 'DB12-XINZEB_clean',\n 'DB12-XUKLAS_clean',\n 'DB12-YUTDUO_clean',\n 'DB12-ZOXNEH_clean'}"
     },
     "execution_count": 63,
     "metadata": {},
     "output_type": "execute_result"
    }
   ],
   "source": [
    "overlapCO2 & set(trainBins['selectivity'][-1])"
   ]
  },
  {
   "cell_type": "code",
   "execution_count": 65,
   "outputs": [
    {
     "data": {
      "text/plain": "{'DB1-Cu2O8-irmof10_A-irmof20_A_No380',\n 'DB1-Cu2O8N2-AZO_A-DABCO_A_No15',\n 'DB1-Cu2O8N2-BDC_A-irmof20_A_No306',\n 'DB1-Cu2O8N2-fum_A-pmof1_A_No7',\n 'DB1-Cu2O8N2-irmof6_A-irmof7_A_No276',\n 'DB1-Cu2O8N2-irmof6_A_No10',\n 'DB1-Zn2O8-BTC_B-DPAC_A_No26',\n 'DB1-Zn2O8N2-irmof8_A-TePM_No124',\n 'DB1-Zn2O8N2-irmof8_A-TePM_No468',\n 'DB1-Zn2O8N2-irmof8_A-TePM_No469',\n 'DB12-DEPXAY_clean',\n 'DB12-HUFLUR_clean',\n 'DB12-LOSBOM_clean',\n 'DB12-NURMUJ_clean',\n 'DB12-PEXFAA_clean',\n 'DB12-TIXVON_clean',\n 'DB12-TOXNIF_clean',\n 'DB12-YEGHIC_clean',\n 'DB12-YUFLIW_clean',\n 'DB15-pcu_N65_E182_opt',\n 'DB15-qtz-x_N139_E166_opt',\n 'DB15-sxc_N139_E132_opt',\n 'DB15-sxc_N139_E166_opt',\n 'DB15-sxc_N77_E119_unopt',\n 'DB5-hypotheticalMOF_5081767_0_0_2_29_1_14'}"
     },
     "execution_count": 65,
     "metadata": {},
     "output_type": "execute_result"
    }
   ],
   "source": [
    "overlapCO2 & set(trainBins['mmol/g_working_capacity'][-1])"
   ],
   "metadata": {
    "collapsed": false
   }
  },
  {
   "cell_type": "code",
   "execution_count": null,
   "metadata": {},
   "outputs": [],
   "source": [
    "saveDir='diverseTopPDhash'\n",
    "failMOFs=set()\n",
    "pdStack2=PDhash(res=.25,diags=None, maxHdim=2,persistThresh=0)\n",
    "for i in range(100):#len(mofNames)):\n",
    "    fName=mofNames[i]\n",
    "    cif_name = f\"{inDir}/cifs/{fName}.cif\"\n",
    "    \n",
    "    try:\n",
    "        atom_df = grabAtomDF(cif_name)\n",
    "        X=atom_df.loc[:, [\"x\", \"y\", \"z\"]].to_numpy()\n",
    "        rppdgm=rpp.run(\"--format distance --dim 2\",dm(X,X))\n",
    "        npdgm=[np.array([[float(rppdgm[b][k][0]),float(rppdgm[b][k][1])] for k in range(len(rppdgm[b]))])for b in rppdgm.keys()]\n",
    "        pdStack2.addDiagRpp(npdgm,i)\n",
    "    except:\n",
    "        failMOFs.add(fName)"
   ]
  },
  {
   "cell_type": "code",
   "execution_count": null,
   "metadata": {},
   "outputs": [],
   "source": [
    "len(failMOFs)"
   ]
  },
  {
   "cell_type": "code",
   "execution_count": null,
   "metadata": {},
   "outputs": [],
   "source": [
    "npdgm=[np.array([[float(rppdgm[b][k][0]),float(rppdgm[b][k][1])] for k in range(len(rppdgm[b]))])for b in rppdgm.keys()]\n",
    "persim.plot_diagrams(npdgm)"
   ]
  },
  {
   "cell_type": "code",
   "execution_count": null,
   "metadata": {},
   "outputs": [],
   "source": [
    "pdStack=PDhash(res=1,diags=None, maxHdim=2,persistThresh=0)\n",
    "pdStack.addDiagRpp(npdgm,0)"
   ]
  },
  {
   "cell_type": "code",
   "execution_count": null,
   "metadata": {},
   "outputs": [],
   "source": [
    "dat=np.genfromtxt(f\"{inDir}/cifPointClouds/total/{fName[:-3]}csv\", dtype=float, delimiter=',', names=True)"
   ]
  },
  {
   "cell_type": "code",
   "execution_count": 12,
   "metadata": {},
   "outputs": [],
   "source": [
    "dat=struct.cart_coords"
   ]
  },
  {
   "cell_type": "code",
   "execution_count": 13,
   "metadata": {},
   "outputs": [],
   "source": [
    "ac = gudhi.AlphaComplex(dat)\n",
    "st=ac.create_simplex_tree()\n",
    "dgm=st.persistence()"
   ]
  },
  {
   "cell_type": "code",
   "execution_count": 21,
   "metadata": {},
   "outputs": [
    {
     "data": {
      "image/png": "[encoded data removed]",
      "text/plain": [
       "<Figure size 640x480 with 1 Axes>"
      ]
     },
     "metadata": {},
     "output_type": "display_data"
    }
   ],
   "source": [
    "npdgm=[np.array([list(i[1]) for i in dgm if i[0]==b]) for b in range(3)]\n",
    "persim.plot_diagrams(npdgm)"
   ]
  },
  {
   "cell_type": "code",
   "execution_count": 23,
   "metadata": {},
   "outputs": [
    {
     "data": {
      "image/png": "[encoded data removed]",
      "text/plain": [
       "<Figure size 640x480 with 1 Axes>"
      ]
     },
     "metadata": {},
     "output_type": "display_data"
    }
   ],
   "source": [
    "X=struct.cart_coords\n",
    "rppdgm=rpp.run(\"--format distance --dim 2\",np.round(dm(X,X),8))\n",
    "npdgm=[np.array([[float(rppdgm[b][k][0]),float(rppdgm[b][k][1])] for k in range(len(rppdgm[b]))])for b in rppdgm.keys()]\n",
    "persim.plot_diagrams(npdgm)"
   ]
  },
  {
   "cell_type": "code",
   "execution_count": 66,
   "metadata": {},
   "outputs": [
    {
     "data": {
      "text/plain": "<Figure size 640x480 with 1 Axes>",
      "image/png": "[encoded data removed]"
     },
     "metadata": {},
     "output_type": "display_data"
    }
   ],
   "source": [
    "X=struct.cart_coords\n",
    "rppdgm=rpp.run(\"--format distance --dim 2\",struct.distance_matrix)\n",
    "npdgm=[np.array([[float(rppdgm[b][k][0]),float(rppdgm[b][k][1])] for k in range(len(rppdgm[b]))])for b in rppdgm.keys()]\n",
    "persim.plot_diagrams(npdgm)"
   ]
  },
  {
   "cell_type": "code",
   "execution_count": 19,
   "metadata": {},
   "outputs": [
    {
     "data": {
      "text/plain": [
       "array([[ 0.00000000e+00,  5.34134237e+02,  2.28171069e+02, ...,\n",
       "         2.61226665e+02,  3.76560546e+00,  4.97258970e+02],\n",
       "       [ 5.34134237e+02,  0.00000000e+00,  3.08828749e+02, ...,\n",
       "         2.41182656e+02,  4.95567206e+02,  3.75272586e+00],\n",
       "       [ 2.28171069e+02,  3.08828749e+02, -2.27373675e-13, ...,\n",
       "         5.01278133e+02,  1.74764115e+02,  3.28795446e+02],\n",
       "       ...,\n",
       "       [ 2.61226665e+02,  2.41182656e+02,  5.01278133e+02, ...,\n",
       "         0.00000000e+00,  2.80068164e+02,  1.88045113e+02],\n",
       "       [ 3.76560546e+00,  4.95567206e+02,  1.74764115e+02, ...,\n",
       "         2.80068164e+02,  0.00000000e+00,  4.66207993e+02],\n",
       "       [ 4.97258970e+02,  3.75272586e+00,  3.28795446e+02, ...,\n",
       "         1.88045113e+02,  4.66207993e+02,  2.27373675e-13]])"
      ]
     },
     "metadata": {},
     "output_type": "display_data"
    }
   ],
   "source": [
    "display(dm(X,X))"
   ]
  },
  {
   "cell_type": "code",
   "execution_count": 73,
   "metadata": {},
   "outputs": [],
   "source": [
    "def genAlphaSlider(dat,initial=1,step=1,maximum=10,titlePrefix=\"\"): #assume 3D for now\n",
    "    ac = gudhi.AlphaComplex(dat)\n",
    "    st = ac.create_simplex_tree()\n",
    "    skel=list(st.get_skeleton(2))\n",
    "    skel.sort(key=lambda s: s[1])\n",
    "    points = np.array([ac.get_point(i) for i in range(st.num_vertices())])\n",
    "    #lims=[[np.floor(np.min(dat[:,i])),np.ceil(np.max(dat[:,i]))] for i in range(3)]\n",
    "    alpha = widgets.FloatSlider(\n",
    "        value = initial,\n",
    "        min = 0.0,\n",
    "        max = maximum,\n",
    "        step = step,\n",
    "        description = 'Alpha:',\n",
    "        readout_format = '.4f'\n",
    "    )\n",
    "\n",
    "\n",
    "\n",
    "    b1s=np.array([s[0] for s in skel if len(s[0]) == 2 and s[1] <= alpha.value])\n",
    "    triangles = np.array([s[0] for s in skel if len(s[0]) == 3 and s[1] <= alpha.value])\n",
    "\n",
    "\n",
    "    pts=go.Scatter3d(\n",
    "        x = points[:, 0],\n",
    "        y = points[:, 1],\n",
    "        z = points[:, 2],\n",
    "        mode='markers',\n",
    "        marker=dict(\n",
    "            size=2,\n",
    "            color=\"cornflowerblue\",                # set color to an array/list of desired values\n",
    "            #colorscale='Viridis',   # choose a colorscale\n",
    "            opacity=.9\n",
    "        ),\n",
    "        name='H0'\n",
    "\n",
    "    )\n",
    "\n",
    "    sfig=[pts]\n",
    "\n",
    "    linepts={0:[],1:[],2:[]}\n",
    "    for i in b1s:\n",
    "        linepts[0].append(points[i[0],0])\n",
    "        linepts[1].append(points[i[0],1])\n",
    "        linepts[2].append(points[i[0],2])\n",
    "        linepts[0].append(points[i[1],0])\n",
    "        linepts[1].append(points[i[1],1])\n",
    "        linepts[2].append(points[i[1],2])\n",
    "\n",
    "        linepts[0].append(None)\n",
    "        linepts[1].append(None)\n",
    "        linepts[2].append(None)\n",
    "\n",
    "    if len(linepts[0])>0:\n",
    "        lins=go.Scatter3d(\n",
    "            x=linepts[0],\n",
    "            y=linepts[1],\n",
    "            z=linepts[2],\n",
    "            mode='lines',\n",
    "            name='H1',\n",
    "            marker=dict(\n",
    "                size=3,\n",
    "                color=\"#d55e00\",                # set color to an array/list of desired values\n",
    "                #colorscale='Viridis',   # choose a colorscale\n",
    "                opacity=.9\n",
    "            )\n",
    "        )\n",
    "        sfig.append(lins)\n",
    "        if len(triangles)>0:\n",
    "            mesh = go.Mesh3d(\n",
    "                x = points[:, 0],\n",
    "                y = points[:, 1],\n",
    "                z = points[:, 2],\n",
    "                i = triangles[:, 0],\n",
    "                j = triangles[:, 1],\n",
    "                k = triangles[:, 2],\n",
    "                color=\"#009e73\",\n",
    "                opacity=.75,\n",
    "                name='H2'\n",
    "            )\n",
    "\n",
    "\n",
    "            sfig.append(mesh)\n",
    "    fig=go.Figure(sfig)\n",
    "    fig.update_layout(width=800,height=800)\n",
    "    #fig.show()\n",
    "\n",
    "\n",
    "\n",
    "\n",
    "    def view_SC(alpha):\n",
    "        if alpha==0:\n",
    "            fig=go.Figure(sfig[0])\n",
    "            fig.show()\n",
    "        else:\n",
    "            b1s=np.array([s[0] for s in skel if len(s[0]) == 2 and s[1] <= alpha])\n",
    "\n",
    "            linepts={0:[],1:[],2:[]}\n",
    "            for i in b1s:\n",
    "                linepts[0].append(points[i[0],0])\n",
    "                linepts[1].append(points[i[0],1])\n",
    "                linepts[2].append(points[i[0],2])\n",
    "                linepts[0].append(points[i[1],0])\n",
    "                linepts[1].append(points[i[1],1])\n",
    "                linepts[2].append(points[i[1],2])\n",
    "\n",
    "                linepts[0].append(None)\n",
    "                linepts[1].append(None)\n",
    "                linepts[2].append(None)\n",
    "\n",
    "            if len(linepts[0])>0:\n",
    "                lins=go.Scatter3d(\n",
    "                    x=linepts[0],\n",
    "                    y=linepts[1],\n",
    "                    z=linepts[2],\n",
    "                    mode='lines',\n",
    "                    name='H1',\n",
    "                    marker=dict(\n",
    "                        size=3,\n",
    "                        color=\"#d55e00\",                # set color to an array/list of desired values\n",
    "                        #colorscale='Viridis',   # choose a colorscale\n",
    "                        opacity=.85\n",
    "                    )\n",
    "                )\n",
    "                if len(sfig)>1:\n",
    "                    sfig[1]=lins\n",
    "                else:\n",
    "                    sfig.append(lins)\n",
    "                triangles = np.array([s[0] for s in skel if len(s[0]) == 3 and s[1] <= alpha])\n",
    "                if len(triangles)>0:\n",
    "                    mesh = go.Mesh3d(\n",
    "                        x = points[:, 0],\n",
    "                        y = points[:, 1],\n",
    "                        z = points[:, 2],\n",
    "                        i = triangles[:, 0],\n",
    "                        j = triangles[:, 1],\n",
    "                        k = triangles[:, 2],\n",
    "                        color=\"#009e73\",\n",
    "                        opacity=.5,\n",
    "                        name='H2'\n",
    "                    )\n",
    "\n",
    "                    if len(sfig)>2:\n",
    "                        sfig[2]=mesh\n",
    "                    else:\n",
    "                        sfig.append(mesh)\n",
    "\n",
    "\n",
    "            fig=go.Figure(data=sfig,layout=go.Layout(width=800,height=800,\n",
    "                                                     title=f\"{titlePrefix}:\\nSimplicial complex with radius <= {round(float(alpha),5)}\",\n",
    "                                                    ))\n",
    "\n",
    "            #fig.show()\n",
    "            iplot(fig)\n",
    "\n",
    "\n",
    "    widgets.interact(view_SC, alpha = alpha);\n",
    "    return st"
   ]
  },
  {
   "cell_type": "code",
   "execution_count": null,
   "metadata": {},
   "outputs": [],
   "source": []
  },
  {
   "cell_type": "code",
   "execution_count": 80,
   "metadata": {},
   "outputs": [
    {
     "data": {
      "text/plain": "interactive(children=(FloatSlider(value=1.0, description='Alpha:', max=10.0, readout_format='.4f', step=0.5), …",
      "application/vnd.jupyter.widget-view+json": {
       "version_major": 2,
       "version_minor": 0,
       "model_id": "5f60525c3fbb4cb6bb38e8d880bb21f9"
      }
     },
     "metadata": {},
     "output_type": "display_data"
    }
   ],
   "source": [
    "fName=bestMOF+\".cif\"\n",
    "tittxt=f\"{fName[:-4]} AllAtoms \"\n",
    "dat=np.genfromtxt(f\"{inDir}/cifPointClouds/total/{fName[:-3]}csv\", dtype=float, delimiter=',', names=True)\n",
    "st=genAlphaSlider(dat,titlePrefix=tittxt,step=.5)\n",
    "dgm=st.persistence()"
   ]
  },
  {
   "cell_type": "code",
   "execution_count": 81,
   "metadata": {},
   "outputs": [
    {
     "name": "stderr",
     "output_type": "stream",
     "text": [
      "usetex mode requires TeX.\n"
     ]
    },
    {
     "data": {
      "text/plain": "Text(0.5, 1.0, 'DB12-NEYZAU_clean AllAtoms ')"
     },
     "execution_count": 81,
     "metadata": {},
     "output_type": "execute_result"
    },
    {
     "data": {
      "text/plain": "<Figure size 640x480 with 1 Axes>",
      "image/png": "[encoded data removed]"
     },
     "metadata": {},
     "output_type": "display_data"
    }
   ],
   "source": [
    "gudhi.plot_persistence_diagram(dgm, legend = True)\n",
    "plt.title(tittxt)"
   ]
  },
  {
   "cell_type": "code",
   "execution_count": null,
   "metadata": {},
   "outputs": [],
   "source": []
  },
  {
   "cell_type": "code",
   "execution_count": null,
   "metadata": {},
   "outputs": [],
   "source": [
    "fName=worstMOF+\".cif\"\n",
    "tittxt=f\"{fName[:-4]} AllAtoms \"\n",
    "dat=np.genfromtxt(f\"{inDir}/cifPointClouds/total/{fName[:-3]}csv\", dtype=float, delimiter=',', names=True)\n",
    "st=genAlphaSlider(dat,titlePrefix=tittxt,step=.5)\n",
    "dgm=st.persistence()"
   ]
  },
  {
   "cell_type": "code",
   "execution_count": null,
   "metadata": {},
   "outputs": [],
   "source": [
    "gudhi.plot_persistence_diagram(dgm, legend = True)\n",
    "plt.title(tittxt)"
   ]
  },
  {
   "cell_type": "code",
   "execution_count": null,
   "metadata": {},
   "outputs": [],
   "source": []
  },
  {
   "cell_type": "code",
   "execution_count": null,
   "metadata": {},
   "outputs": [],
   "source": []
  },
  {
   "cell_type": "code",
   "execution_count": null,
   "metadata": {},
   "outputs": [],
   "source": []
  },
  {
   "cell_type": "code",
   "execution_count": null,
   "metadata": {},
   "outputs": [],
   "source": [
    "fName=\"DB12-VEHNED_clean.cif\"\n",
    "tittxt=f\"{fName[:-4]} AllAtoms \"\n",
    "dat=np.genfromtxt(f\"{inDir}/cifPointClouds/total/{fName[:-3]}csv\", dtype=float, delimiter=',', names=True)\n",
    "st=genAlphaSlider(dat,titlePrefix=tittxt,step=.5)\n",
    "dgm=st.persistence()"
   ]
  },
  {
   "cell_type": "code",
   "execution_count": null,
   "metadata": {},
   "outputs": [],
   "source": [
    "\n",
    "gudhi.plot_persistence_diagram(dgm, legend = True)\n",
    "plt.title(tittxt)"
   ]
  },
  {
   "cell_type": "code",
   "execution_count": null,
   "metadata": {
    "scrolled": false
   },
   "outputs": [],
   "source": [
    "fName=\"DB1-Zn2O8-fum_A-irmof20_A_No142.cif\"\n",
    "tittxt=f\"{fName[:-4]} AllAtoms \"\n",
    "dat=np.genfromtxt(f\"{inDir}/cifPointClouds/total/{fName[:-3]}csv\", dtype=float, delimiter=',', names=True)\n",
    "st=genAlphaSlider(dat,titlePrefix=tittxt,step=.5)\n",
    "dgm=st.persistence()"
   ]
  },
  {
   "cell_type": "code",
   "execution_count": null,
   "metadata": {},
   "outputs": [],
   "source": [
    "\n",
    "gudhi.plot_persistence_diagram(dgm, legend = True)\n",
    "plt.title(tittxt)"
   ]
  },
  {
   "cell_type": "code",
   "execution_count": null,
   "metadata": {},
   "outputs": [],
   "source": [
    "fName=\"DB12-CUVGIK_clean.cif\"\n",
    "tittxt=f\"{fName[:-4]} Nitrogen Topology \"\n",
    "dat=np.genfromtxt(f\"{inDir}/cifPointClouds/N/{fName[:-3]}csv\", dtype=float, delimiter=',', names=True)\n",
    "st=genAlphaSlider(dat,titlePrefix=tittxt,step=.5)\n",
    "dgm=st.persistence()"
   ]
  },
  {
   "cell_type": "code",
   "execution_count": null,
   "metadata": {},
   "outputs": [],
   "source": [
    "gudhi.plot_persistence_diagram(dgm, legend = True)\n",
    "plt.title(tittxt)"
   ]
  },
  {
   "cell_type": "code",
   "execution_count": null,
   "metadata": {},
   "outputs": [],
   "source": [
    "fName=\"DB12-CUVGIK_clean.cif\"\n",
    "tittxt=f\"{fName[:-4]} Carbon Topology \"\n",
    "dat=np.genfromtxt(f\"{inDir}/cifPointClouds/C/{fName[:-3]}csv\", dtype=float, delimiter=',', names=True)\n",
    "st=genAlphaSlider(dat,titlePrefix=tittxt,step=.5)\n",
    "dgm=st.persistence()"
   ]
  },
  {
   "cell_type": "code",
   "execution_count": null,
   "metadata": {},
   "outputs": [],
   "source": [
    "gudhi.plot_persistence_diagram(dgm, legend = True)\n",
    "plt.title(tittxt)"
   ]
  },
  {
   "cell_type": "code",
   "execution_count": null,
   "metadata": {},
   "outputs": [],
   "source": [
    "fName=\"DB0-m2_o13_o27_f0_pcu.sym.114.cif\"\n",
    "tittxt=f\"bad MOF: {fName[:-4]} All Atoms Topology \"\n",
    "dat=np.genfromtxt(f\"{inDir}/cifPointClouds/total/{fName[:-3]}csv\", dtype=float, delimiter=',', names=True)\n",
    "st=genAlphaSlider(dat,titlePrefix=tittxt,step=.5)\n",
    "dgm=st.persistence()"
   ]
  },
  {
   "cell_type": "code",
   "execution_count": null,
   "metadata": {},
   "outputs": [],
   "source": [
    "gudhi.plot_persistence_diagram(dgm, legend = True)\n",
    "plt.title(tittxt)"
   ]
  },
  {
   "cell_type": "code",
   "execution_count": null,
   "metadata": {},
   "outputs": [],
   "source": [
    "fName=\"DB12-VEHNED_clean.cif\"\n",
    "tittxt=f\"bad MOF: {fName[:-4]} All Atoms Topology \"\n",
    "dat=np.genfromtxt(f\"{inDir}/cifPointClouds/total/{fName[:-3]}csv\", dtype=float, delimiter=',', names=True)\n",
    "st=genAlphaSlider(dat,titlePrefix=tittxt,step=.5)\n",
    "dgm=st.persistence()"
   ]
  },
  {
   "cell_type": "code",
   "execution_count": null,
   "metadata": {},
   "outputs": [],
   "source": [
    "gudhi.plot_persistence_diagram(dgm, legend = True)\n",
    "plt.title(tittxt)"
   ]
  },
  {
   "cell_type": "code",
   "execution_count": null,
   "metadata": {},
   "outputs": [],
   "source": [
    "fName=\"DB0-m2_o13_o27_f0_pcu.sym.114.cif\"\n",
    "tittxt=f\"bad MOF: {fName[:-4]} Carbon Topology \"\n",
    "dat=np.genfromtxt(f\"{inDir}/cifPointClouds/C/{fName[:-3]}csv\", dtype=float, delimiter=',', names=True)\n",
    "st=genAlphaSlider(dat,titlePrefix=tittxt,step=.5)\n",
    "dgm=st.persistence()"
   ]
  },
  {
   "cell_type": "code",
   "execution_count": null,
   "metadata": {},
   "outputs": [],
   "source": [
    "gudhi.plot_persistence_diagram(dgm, legend = True)\n",
    "plt.title(tittxt)"
   ]
  },
  {
   "cell_type": "code",
   "execution_count": null,
   "metadata": {},
   "outputs": [],
   "source": []
  },
  {
   "cell_type": "code",
   "execution_count": null,
   "metadata": {},
   "outputs": [],
   "source": [
    "fName=\"DB12-BEXSEE_clean.cif\"\n",
    "tittxt=f\"highCap MOF: {fName[:-4]} AllAtoms Topology \"\n",
    "dat=np.genfromtxt(f\"{inDir}/cifPointClouds/total/{fName[:-3]}csv\", dtype=float, delimiter=',', names=True)\n",
    "st=genAlphaSlider(dat,titlePrefix=tittxt,step=.5)\n",
    "dgm=st.persistence()"
   ]
  },
  {
   "cell_type": "code",
   "execution_count": null,
   "metadata": {},
   "outputs": [],
   "source": [
    "gudhi.plot_persistence_diagram(dgm, legend = True)\n",
    "plt.title(tittxt)"
   ]
  },
  {
   "cell_type": "code",
   "execution_count": null,
   "metadata": {},
   "outputs": [],
   "source": []
  },
  {
   "cell_type": "code",
   "execution_count": null,
   "metadata": {},
   "outputs": [],
   "source": []
  },
  {
   "cell_type": "code",
   "execution_count": null,
   "metadata": {},
   "outputs": [],
   "source": [
    "def plot_diagrams(\n",
    "    diagrams,\n",
    "    plot_only=None,\n",
    "    title=None,\n",
    "    xy_range=None,\n",
    "    labels=None,\n",
    "    colormap=\"default\",\n",
    "    size=20,\n",
    "    ax_color=np.array([0.0, 0.0, 0.0]),\n",
    "    diagonal=True,\n",
    "    lifetime=False,\n",
    "    legend=True,\n",
    "    show=False,\n",
    "    ax=None,\n",
    "    saveLoc=None\n",
    "):\n",
    "    \"\"\"A helper function to plot persistence diagrams.\n",
    "\n",
    "    Parameters\n",
    "    ----------\n",
    "    diagrams: ndarray (n_pairs, 2) or list of diagrams\n",
    "        A diagram or list of diagrams. If diagram is a list of diagrams,\n",
    "        then plot all on the same plot using different colors.\n",
    "    plot_only: list of numeric\n",
    "        If specified, an array of only the diagrams that should be plotted.\n",
    "    title: string, default is None\n",
    "        If title is defined, add it as title of the plot.\n",
    "    xy_range: list of numeric [xmin, xmax, ymin, ymax]\n",
    "        User provided range of axes. This is useful for comparing\n",
    "        multiple persistence diagrams.\n",
    "    labels: string or list of strings\n",
    "        Legend labels for each diagram.\n",
    "        If none are specified, we use H_0, H_1, H_2,... by default.\n",
    "    colormap: string, default is 'default'\n",
    "        Any of matplotlib color palettes.\n",
    "        Some options are 'default', 'seaborn', 'sequential'.\n",
    "        See all available styles with\n",
    "\n",
    "        .. code:: python\n",
    "\n",
    "            import matplotlib as mpl\n",
    "            print(mpl.styles.available)\n",
    "\n",
    "    size: numeric, default is 20\n",
    "        Pixel size of each point plotted.\n",
    "    ax_color: any valid matplotlib color type.\n",
    "        See [https://matplotlib.org/api/colors_api.html](https://matplotlib.org/api/colors_api.html) for complete API.\n",
    "    diagonal: bool, default is True\n",
    "        Plot the diagonal x=y line.\n",
    "    lifetime: bool, default is False. If True, diagonal is turned to False.\n",
    "        Plot life time of each point instead of birth and death.\n",
    "        Essentially, visualize (x, y-x).\n",
    "    legend: bool, default is True\n",
    "        If true, show the legend.\n",
    "    show: bool, default is False\n",
    "        Call plt.show() after plotting. If you are using self.plot() as part\n",
    "        of a subplot, set show=False and call plt.show() only once at the end.\n",
    "    \"\"\"\n",
    "\n",
    "    ax = ax or plt.gca()\n",
    "    plt.style.use(colormap)\n",
    "\n",
    "    xlabel, ylabel = \"Birth\", \"Death\"\n",
    "\n",
    "    if not isinstance(diagrams, list):\n",
    "        # Must have diagrams as a list for processing downstream\n",
    "        diagrams = [diagrams]\n",
    "\n",
    "    if labels is None:\n",
    "        # Provide default labels for diagrams if using self.dgm_\n",
    "        labels = [\"$H_{{{}}}$\".format(i) for i , _ in enumerate(diagrams)]\n",
    "\n",
    "    if plot_only:\n",
    "        diagrams = [diagrams[i] for i in plot_only]\n",
    "        labels = [labels[i] for i in plot_only]\n",
    "\n",
    "    if not isinstance(labels, list):\n",
    "        labels = [labels] * len(diagrams)\n",
    "\n",
    "    # Construct copy with proper type of each diagram\n",
    "    # so we can freely edit them.\n",
    "    diagrams = [dgm.astype(np.float32, copy=True) for dgm in diagrams]\n",
    "\n",
    "    # find min and max of all visible diagrams\n",
    "    concat_dgms = np.concatenate(diagrams).flatten()\n",
    "    has_inf = np.any(np.isinf(concat_dgms))\n",
    "    finite_dgms = concat_dgms[np.isfinite(concat_dgms)]\n",
    "\n",
    "    # clever bounding boxes of the diagram\n",
    "    if not xy_range:\n",
    "        # define bounds of diagram\n",
    "        ax_min, ax_max = np.min(finite_dgms), np.max(finite_dgms)\n",
    "        x_r = ax_max - ax_min\n",
    "\n",
    "        # Give plot a nice buffer on all sides.\n",
    "        # ax_range=0 when only one point,\n",
    "        buffer = 1 if xy_range == 0 else x_r / 5\n",
    "\n",
    "        x_down = ax_min - buffer / 2\n",
    "        x_up = ax_max + buffer\n",
    "\n",
    "        y_down, y_up = x_down, x_up\n",
    "    else:\n",
    "        x_down, x_up, y_down, y_up = xy_range\n",
    "\n",
    "    yr = y_up - y_down\n",
    "\n",
    "    if lifetime:\n",
    "\n",
    "        # Don't plot landscape and diagonal at the same time.\n",
    "        diagonal = False\n",
    "\n",
    "        # reset y axis so it doesn't go much below zero\n",
    "        y_down = -yr * 0.05\n",
    "        y_up = y_down + yr\n",
    "\n",
    "        # set custom ylabel\n",
    "        ylabel = \"Lifetime\"\n",
    "\n",
    "        # set diagrams to be (x, y-x)\n",
    "        for dgm in diagrams:\n",
    "            dgm[:, 1] -= dgm[:, 0]\n",
    "\n",
    "        # plot horizon line\n",
    "        ax.plot([x_down, x_up], [0, 0], c=ax_color)\n",
    "\n",
    "    # Plot diagonal\n",
    "    if diagonal:\n",
    "        ax.plot([x_down, x_up], [x_down, x_up], \"--\", c=ax_color)\n",
    "\n",
    "    # Plot inf line\n",
    "    if has_inf:\n",
    "        # put inf line slightly below top\n",
    "        b_inf = y_down + yr * 0.95\n",
    "        ax.plot([x_down, x_up], [b_inf, b_inf], \"--\", c=\"k\", label=r\"$\\infty$\")\n",
    "\n",
    "        # convert each inf in each diagram with b_inf\n",
    "        for dgm in diagrams:\n",
    "            dgm[np.isinf(dgm)] = b_inf\n",
    "\n",
    "    # Plot each diagram\n",
    "    for dgm, label in zip(diagrams, labels):\n",
    "\n",
    "        # plot persistence pairs\n",
    "        ax.scatter(dgm[:, 0], dgm[:, 1], size, label=label, edgecolor=\"none\")\n",
    "\n",
    "        ax.set_xlabel(xlabel)\n",
    "        ax.set_ylabel(ylabel)\n",
    "\n",
    "    ax.set_xlim([x_down, x_up])\n",
    "    ax.set_ylim([y_down, y_up])\n",
    "    ax.set_aspect('equal', 'box')\n",
    "\n",
    "    if title is not None:\n",
    "        ax.set_title(title)\n",
    "\n",
    "    if legend is True:\n",
    "        ax.legend(loc=\"lower right\")\n",
    "\n",
    "    if saveLoc and type(saveLoc)==str:\n",
    "        #ax.set_title(saveLoc[len(saveLoc)-saveLoc[::-1].find(\"\\\\\")::saveLoc.find(\".\")] + ' espDist')\n",
    "        plt.savefig(f'{saveLoc}',dpi=300,bbox_inches='tight')\n",
    "\n",
    "    if show is True:\n",
    "        plt.show()\n"
   ]
  },
  {
   "cell_type": "code",
   "execution_count": null,
   "metadata": {},
   "outputs": [],
   "source": []
  },
  {
   "cell_type": "code",
   "execution_count": null,
   "metadata": {},
   "outputs": [],
   "source": []
  }
 ],
 "metadata": {
  "kernelspec": {
   "display_name": "Python 3 (ipykernel)",
   "language": "python",
   "name": "python3"
  },
  "language_info": {
   "codemirror_mode": {
    "name": "ipython",
    "version": 3
   },
   "file_extension": ".py",
   "mimetype": "text/x-python",
   "name": "python",
   "nbconvert_exporter": "python",
   "pygments_lexer": "ipython3",
   "version": "3.9.12"
  }
 },
 "nbformat": 4,
 "nbformat_minor": 1
}
